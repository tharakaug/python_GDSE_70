{
 "cells": [
  {
   "cell_type": "code",
   "execution_count": null,
   "metadata": {},
   "outputs": [
    {
     "name": "stdout",
     "output_type": "stream",
     "text": [
      "30\n"
     ]
    }
   ],
   "source": [
    "a = 10\n",
    "b = 20\n",
    "\n",
    "print(a+b)"
   ]
  },
  {
   "cell_type": "code",
   "execution_count": null,
   "metadata": {},
   "outputs": [
    {
     "name": "stdout",
     "output_type": "stream",
     "text": [
      "69\n"
     ]
    }
   ],
   "source": [
    "a = 2\n",
    "b = 67\n",
    "\n",
    "print (a+b)"
   ]
  },
  {
   "cell_type": "code",
   "execution_count": null,
   "metadata": {},
   "outputs": [
    {
     "name": "stdout",
     "output_type": "stream",
     "text": [
      "25\n",
      "<class 'int'>\n"
     ]
    }
   ],
   "source": [
    "num = 25\n",
    "print(num)\n",
    "print(type(num))"
   ]
  },
  {
   "cell_type": "code",
   "execution_count": null,
   "metadata": {},
   "outputs": [
    {
     "name": "stdout",
     "output_type": "stream",
     "text": [
      "<class 'float'>\n"
     ]
    }
   ],
   "source": [
    "num_2 = 20.5\n",
    "print(type(num_2))"
   ]
  },
  {
   "cell_type": "code",
   "execution_count": null,
   "metadata": {},
   "outputs": [
    {
     "name": "stdout",
     "output_type": "stream",
     "text": [
      "2500000000000.0\n",
      "<class 'float'>\n"
     ]
    }
   ],
   "source": [
    "num_1 = 2.5e12\n",
    "print(num_1)\n",
    "print(type(num_1))"
   ]
  },
  {
   "cell_type": "code",
   "execution_count": null,
   "metadata": {},
   "outputs": [
    {
     "name": "stdout",
     "output_type": "stream",
     "text": [
      "7 <class 'int'>\n",
      "7.0 <class 'float'>\n"
     ]
    }
   ],
   "source": [
    "x = 7\n",
    "a = float(x)\n",
    "\n",
    "print (x , type(x))\n",
    "print (a , type(a))"
   ]
  },
  {
   "cell_type": "code",
   "execution_count": null,
   "metadata": {},
   "outputs": [
    {
     "name": "stdout",
     "output_type": "stream",
     "text": [
      "20.8 <class 'float'>\n",
      "20 <class 'int'>\n"
     ]
    }
   ],
   "source": [
    "y = 20.8\n",
    "b = int(y)\n",
    "\n",
    "print ( y ,type(y))\n",
    "print ( b , type(b))"
   ]
  },
  {
   "cell_type": "code",
   "execution_count": null,
   "metadata": {},
   "outputs": [
    {
     "name": "stdout",
     "output_type": "stream",
     "text": [
      "[10, 'kavindu', 5.7, True, 40]\n",
      "<class 'list'>\n",
      "5.7\n",
      "40\n",
      "['kavindu', 5.7, True]\n",
      "[10, 'kavindu', 5.7, True]\n",
      "[5.7, True, 40]\n",
      "[10, 'gamage', 5.7, True, 40]\n"
     ]
    }
   ],
   "source": [
    "my_list = [10 , \"kavindu\" , 5.7 , True , 40]\n",
    "\n",
    "print(my_list)\n",
    "print(type(my_list))\n",
    "print(my_list[2])\n",
    "print(my_list[-1])\n",
    "print(my_list[1:4])\n",
    "print(my_list[:4])\n",
    "print(my_list[2:])\n",
    "\n",
    "my_list[1] = \"gamage\"\n",
    "\n",
    "print(my_list)"
   ]
  },
  {
   "cell_type": "code",
   "execution_count": null,
   "metadata": {},
   "outputs": [
    {
     "name": "stdout",
     "output_type": "stream",
     "text": [
      "[50, 'tharaka', 1.2, False, 50]\n"
     ]
    }
   ],
   "source": [
    "my_list_2 = [50 , \"tharaka\" , 1.2 , False , 50]\n",
    "\n",
    "print(my_list_2)\n"
   ]
  },
  {
   "cell_type": "code",
   "execution_count": null,
   "metadata": {},
   "outputs": [
    {
     "name": "stdout",
     "output_type": "stream",
     "text": [
      "[10, 5, 'gamage', 4.2, True, 50]\n",
      "[10, 5, 'gamage', 4.2, True, 50, 'dog']\n",
      "[10, 5, 'nimal', 'gamage', 4.2, True, 50, 'dog']\n",
      "[10, 5, 'gamage', 4.2, True, 50, 'dog']\n"
     ]
    }
   ],
   "source": [
    "my_list_3 = [10 , 5 , \"tharaka\" , 1.2 , False , 50]\n",
    "\n",
    "my_list_3[2:5] = [\"gamage\" , 4.2 , True]\n",
    "print(my_list_3)\n",
    "\n",
    "my_list_3.append(\"dog\")\n",
    "print(my_list_3)\n",
    "\n",
    "my_list_3.insert(2 , \"nimal\")\n",
    "print(my_list_3)\n",
    "\n",
    "my_list_3.remove (\"nimal\")\n",
    "print(my_list_3)\n"
   ]
  },
  {
   "cell_type": "code",
   "execution_count": null,
   "metadata": {},
   "outputs": [
    {
     "name": "stdout",
     "output_type": "stream",
     "text": [
      "[1, 2, 3, 4, 5, 10, 11, 12, 13]\n",
      "[2, 3, 4, 5, 10, 11, 12, 13]\n",
      "[2, 4, 5, 10, 11, 12, 13]\n",
      "7\n",
      "[2, 4, 5, 11, 12, 13]\n"
     ]
    }
   ],
   "source": [
    "my_list_4 = [1,2,3,4,5]\n",
    "my_list_5 = [10,11,12,13]\n",
    "\n",
    "my_list_4.extend (my_list_5)\n",
    "print(my_list_4)\n",
    "\n",
    "my_list_4.remove (1)\n",
    "print(my_list_4)\n",
    "\n",
    "my_list_4.pop (1)\n",
    "print(my_list_4)\n",
    "\n",
    "print(len(my_list_4))\n",
    "\n",
    "del my_list_4[3]\n",
    "print(my_list_4)\n",
    "\n",
    "\n"
   ]
  },
  {
   "cell_type": "code",
   "execution_count": null,
   "metadata": {},
   "outputs": [
    {
     "name": "stdout",
     "output_type": "stream",
     "text": [
      "['Amal', 'Binu', 'Chamara', 'Dilum']\n",
      "['Amal', 'Binu', 'Ishan', 'Chamara', 'Dilum']\n",
      "['Binu', 'Ishan', 'Chamara', 'Dilum']\n",
      "['farha', 'Binu', 'Ishan', 'Chamara', 'Dilum']\n"
     ]
    }
   ],
   "source": [
    "students = [\"Amal\" , \"Binu\" , \"Chamara\"]\n",
    "\n",
    "students.append(\"Dilum\")\n",
    "print(students)\n",
    "\n",
    "students.insert(2,\"Ishan\")\n",
    "print(students)\n",
    "\n",
    "students.remove(\"Amal\")\n",
    "print(students)\n",
    "\n",
    "students.insert(0, \"farha\")\n",
    "print(students)\n"
   ]
  },
  {
   "cell_type": "code",
   "execution_count": null,
   "metadata": {},
   "outputs": [
    {
     "name": "stdout",
     "output_type": "stream",
     "text": [
      "[]\n"
     ]
    }
   ],
   "source": [
    "my_list_6 = [1,2,3,4,5,6,7,8]\n",
    "\n",
    "my_list_6.clear()\n",
    "print(my_list_6)"
   ]
  },
  {
   "cell_type": "code",
   "execution_count": null,
   "metadata": {},
   "outputs": [
    {
     "name": "stdout",
     "output_type": "stream",
     "text": [
      "['apple', 'banana', 'bird', 'cat', 'mango']\n",
      "['Dog', 'apple', 'banana', 'bird', 'cat', 'mango']\n"
     ]
    }
   ],
   "source": [
    "my_list_7 = [\"banana\" , \"apple\" , \"mango\" , \"cat\" , \"bird\"]\n",
    "my_list_7.sort()\n",
    "print(my_list_7)\n",
    "\n",
    "my_list_7 = [\"banana\" , \"apple\" , \"mango\" , \"cat\" , \"bird\" , \"Dog\"]\n",
    "my_list_7.sort()\n",
    "print(my_list_7)"
   ]
  },
  {
   "cell_type": "code",
   "execution_count": null,
   "metadata": {},
   "outputs": [
    {
     "name": "stdout",
     "output_type": "stream",
     "text": [
      "[80, 58, 31, 15, 10, 8, 7, 5]\n"
     ]
    }
   ],
   "source": [
    "num_list = [10,8,5,31,15,7,80,58]\n",
    "num_list.sort(reverse=True)\n",
    "print(num_list)"
   ]
  },
  {
   "cell_type": "code",
   "execution_count": null,
   "metadata": {},
   "outputs": [
    {
     "name": "stdout",
     "output_type": "stream",
     "text": [
      "[0, 5, 7, 11, 6, 9]\n",
      "[0, 5, 7, 11, 6, 9]\n",
      "[0, 15, 7, 11, 6, 9]\n",
      "[0, 5, 7, 11, 6, 9]\n",
      "[9, 6, 11, 7, 15, 0]\n",
      "[9, 6, 11, 7, 15, 0, 0, 5, 7, 11, 6, 9]\n"
     ]
    }
   ],
   "source": [
    "my_list_8 = [0,5,7,11,6,9]\n",
    "\n",
    "my_list_9 = my_list_8.copy()\n",
    "\n",
    "print(my_list_8)\n",
    "print(my_list_9)\n",
    "\n",
    "my_list_8 [1] = 15 \n",
    "\n",
    "print(my_list_8)\n",
    "print(my_list_9)\n",
    "\n",
    "my_list_8.reverse()\n",
    "print(my_list_8)\n",
    "\n",
    "new_list = my_list_8 + my_list_9\n",
    "print(new_list)"
   ]
  },
  {
   "cell_type": "code",
   "execution_count": null,
   "metadata": {},
   "outputs": [
    {
     "name": "stdout",
     "output_type": "stream",
     "text": [
      "('tennis', 'cricket', 'football')\n",
      "<class 'tuple'>\n",
      "3\n",
      "cricket\n"
     ]
    }
   ],
   "source": [
    "sports = (\"tennis\" , \"cricket\" , \"football\")\n",
    "\n",
    "print(sports)\n",
    "print(type(sports))\n",
    "print(len(sports))\n",
    "print(sports[1])"
   ]
  },
  {
   "cell_type": "code",
   "execution_count": null,
   "metadata": {},
   "outputs": [
    {
     "name": "stdout",
     "output_type": "stream",
     "text": [
      "('monday',)\n",
      "<class 'tuple'>\n"
     ]
    }
   ],
   "source": [
    "days = (\"monday\" ,)\n",
    "\n",
    "print(days)\n",
    "print(type(days))"
   ]
  },
  {
   "cell_type": "code",
   "execution_count": null,
   "metadata": {},
   "outputs": [
    {
     "name": "stdout",
     "output_type": "stream",
     "text": [
      "<class 'list'>\n",
      "['apple', 'grates', 'orange']\n",
      "('apple', 'grates', 'orange') <class 'tuple'>\n"
     ]
    }
   ],
   "source": [
    "fruits = (\"apple\" , \"banana\" , \"orange\")\n",
    "\n",
    "x = list(fruits)\n",
    "\n",
    "print(type(x))\n",
    "\n",
    "x[1] = \"grates\"\n",
    "\n",
    "print(x)\n",
    "\n",
    "fruits = tuple(x)\n",
    "print(fruits , type(fruits))"
   ]
  },
  {
   "cell_type": "code",
   "execution_count": null,
   "metadata": {},
   "outputs": [
    {
     "name": "stdout",
     "output_type": "stream",
     "text": [
      "b\n",
      "True\n"
     ]
    }
   ],
   "source": [
    "nested_tuple = (1 , 2 , 3) , (\"a\" , \"b\" , \"c\") , (True , False)\n",
    "\n",
    "print(nested_tuple[1][1])\n",
    "print(nested_tuple[2][0])"
   ]
  },
  {
   "cell_type": "code",
   "execution_count": null,
   "metadata": {},
   "outputs": [
    {
     "name": "stdout",
     "output_type": "stream",
     "text": [
      "{'tennis', 'cricket', 'football'}\n",
      "<class 'set'>\n",
      "{'tennis', 'cricket', 'football', 'vollyball'}\n"
     ]
    }
   ],
   "source": [
    "sports = {\"tennis\" , \"cricket\" , \"football\"}\n",
    "\n",
    "print(sports)\n",
    "print(type(sports))\n",
    "\n",
    "sports.add(\"vollyball\")\n",
    "\n",
    "print(sports)\n"
   ]
  },
  {
   "cell_type": "code",
   "execution_count": null,
   "metadata": {},
   "outputs": [
    {
     "name": "stdout",
     "output_type": "stream",
     "text": [
      "{'tennis', 'cricket', 'apple', 'football', 'banana'}\n"
     ]
    }
   ],
   "source": [
    "set_1 = {\"tennis\" , \"cricket\" , \"football\"}\n",
    "set_2 = {\"apple\" , \"banana\"}\n",
    "\n",
    "set_1.update(set_2)\n",
    "\n",
    "print(set_1)\n"
   ]
  },
  {
   "cell_type": "code",
   "execution_count": null,
   "metadata": {},
   "outputs": [
    {
     "name": "stdout",
     "output_type": "stream",
     "text": [
      "{'tennis', 'cricket', 'c', 'a', 'b', 'football'}\n"
     ]
    }
   ],
   "source": [
    "set_1 = {\"tennis\" , \"cricket\" , \"football\"}\n",
    "\n",
    "list_1 = [\"a\" , \"b\" , \"c\"]\n",
    "\n",
    "set_1.update(list_1)\n",
    "\n",
    "print(set_1)\n"
   ]
  },
  {
   "cell_type": "code",
   "execution_count": null,
   "metadata": {},
   "outputs": [
    {
     "name": "stdout",
     "output_type": "stream",
     "text": [
      "{40, 50, 25, 60, 30}\n",
      "[25, 30, 40, 50, 60]\n"
     ]
    }
   ],
   "source": [
    "list_1 = [50,60,30,40,50,25,60,30,40]\n",
    "\n",
    "set_1 = set(list_1)\n",
    "\n",
    "print(set_1)\n",
    "\n",
    "list_1 = list(set_1)\n",
    "\n",
    "list_1.sort()\n",
    "\n",
    "print(list_1)"
   ]
  },
  {
   "cell_type": "code",
   "execution_count": null,
   "metadata": {},
   "outputs": [
    {
     "name": "stdout",
     "output_type": "stream",
     "text": [
      "range(1, 7)\n",
      "range(1, 12, 2)\n",
      "<class 'range'>\n",
      "3\n"
     ]
    }
   ],
   "source": [
    "x = range(1,7,1)\n",
    "\n",
    "y = range(1,12,2)\n",
    "\n",
    "z = range(3,24,4)\n",
    "\n",
    "print(x)\n",
    "print(y)\n",
    "print(type(x))\n",
    "\n",
    "print(x[2])\n",
    "\n",
    "\n",
    "\n"
   ]
  },
  {
   "cell_type": "code",
   "execution_count": null,
   "metadata": {},
   "outputs": [
    {
     "name": "stdout",
     "output_type": "stream",
     "text": [
      "{'name': 'sugar', 'weight': '1Kg', 'price': 130.35}\n",
      "<class 'dict'>\n",
      "1Kg\n",
      "1Kg\n",
      "3\n",
      "{'name': 'sugar', 'weight': '1Kg', 'price': 140.0}\n",
      "{'name': 'sugar', 'weight': '1Kg', 'price': 140.0, 'color': 'brown'}\n",
      "{'name': 'sugar', 'weight': '1Kg', 'price': '200.50', 'color': 'brown', 'exp': 'jan 2026'}\n",
      "{'name': 'sugar', 'weight': '1Kg', 'color': 'brown', 'exp': 'jan 2026'}\n",
      "{'name': 'sugar', 'weight': '1Kg', 'color': 'brown'}\n",
      "{'name': 'sugar', 'weight': '1Kg'}\n",
      "{}\n"
     ]
    }
   ],
   "source": [
    "this_dict = {\n",
    "    \"name\" : \"sugar\",\n",
    "    \"weight\" : \"1Kg\",\n",
    "    \"price\" : 130.35\n",
    "}\n",
    "\n",
    "print(this_dict)\n",
    "print(type(this_dict))\n",
    "\n",
    "print(this_dict[\"weight\"])\n",
    "\n",
    "print(this_dict.get(\"weight\"))\n",
    "\n",
    "print(len(this_dict))\n",
    "\n",
    "this_dict[\"price\"] = 140.00\n",
    "print(this_dict)\n",
    "\n",
    "this_dict[\"color\"] = \"brown\"\n",
    "print(this_dict)\n",
    "\n",
    "this_dict.update({\"exp\" : \"jan 2026\" , \"price\" : \"200.50\"})\n",
    "print(this_dict)\n",
    "\n",
    "this_dict.pop(\"price\")\n",
    "print(this_dict)\n",
    "\n",
    "this_dict.popitem()\n",
    "print(this_dict)\n",
    "\n",
    "del this_dict[\"color\"]\n",
    "print(this_dict)\n",
    "\n",
    "this_dict.clear()\n",
    "print(this_dict)"
   ]
  },
  {
   "cell_type": "code",
   "execution_count": null,
   "metadata": {},
   "outputs": [
    {
     "name": "stdout",
     "output_type": "stream",
     "text": [
      "{'name': 'sugar', 'weight': '1Kg', 'price': 130.35}\n",
      "{'name': 'sugar', 'weight': '1Kg', 'price': 130.35}\n",
      "{'name': 'sugar', 'weight': '1Kg', 'price': '200.50', 'exp': 'jan 2026'}\n",
      "{'name': 'sugar', 'weight': '1Kg', 'price': 130.35}\n"
     ]
    }
   ],
   "source": [
    "this_dict = {\n",
    "    \"name\" : \"sugar\",\n",
    "    \"weight\" : \"1Kg\",\n",
    "    \"price\" : 130.35\n",
    "}\n",
    "\n",
    "print(this_dict)\n",
    "\n",
    "copy = this_dict.copy()\n",
    "print(copy)\n",
    "\n",
    "this_dict.update({\"exp\" : \"jan 2026\" , \"price\" : \"200.50\"})\n",
    "print(this_dict)\n",
    "print(copy)\n"
   ]
  },
  {
   "cell_type": "code",
   "execution_count": null,
   "metadata": {},
   "outputs": [],
   "source": [
    "#assignment operators\n",
    "\n",
    "x = 5 # assignment\n",
    "x += 3 # add and assign\n",
    "x -= 3 #subtract assign\n",
    "x *= 3 # multiply amd assign\n",
    "x /= 3 # devison amd assign"
   ]
  },
  {
   "cell_type": "code",
   "execution_count": null,
   "metadata": {},
   "outputs": [
    {
     "name": "stdout",
     "output_type": "stream",
     "text": [
      "False\n",
      "True\n",
      "False\n",
      "True\n",
      "False\n",
      "True\n"
     ]
    }
   ],
   "source": [
    "#comparison operatorss\n",
    "x,y = 5,8\n",
    "\n",
    "print(x == y)\n",
    "print(x < y)\n",
    "print(x > y)\n",
    "print(x <= y)\n",
    "print(x >= y)\n",
    "print(x != y)"
   ]
  },
  {
   "cell_type": "code",
   "execution_count": null,
   "metadata": {},
   "outputs": [],
   "source": [
    "#logical operators\n",
    "\n",
    "# And , Or , Not"
   ]
  },
  {
   "cell_type": "code",
   "execution_count": null,
   "metadata": {},
   "outputs": [
    {
     "name": "stdout",
     "output_type": "stream",
     "text": [
      "False\n",
      "True\n",
      "True\n"
     ]
    }
   ],
   "source": [
    "x , y = 5, 6\n",
    "\n",
    "print(x is y)\n",
    "\n",
    "x = 5\n",
    "y = x\n",
    "\n",
    "print(x is y)\n",
    "\n",
    "x = 5\n",
    "y = 5\n",
    "\n",
    "print(x is y)\n"
   ]
  },
  {
   "cell_type": "code",
   "execution_count": null,
   "metadata": {},
   "outputs": [
    {
     "name": "stdout",
     "output_type": "stream",
     "text": [
      "0\n"
     ]
    }
   ],
   "source": [
    "x , y = 5, 10\n",
    "\n",
    "x = x & y\n",
    "\n",
    "print(x)"
   ]
  },
  {
   "cell_type": "code",
   "execution_count": null,
   "metadata": {},
   "outputs": [
    {
     "name": "stdout",
     "output_type": "stream",
     "text": [
      "n is odd\n"
     ]
    }
   ],
   "source": [
    "n = 15\n",
    "\n",
    "if n % 2 == 0:\n",
    "    print(\"n is even\")\n",
    "else:\n",
    "    print(\"n is odd\")"
   ]
  },
  {
   "cell_type": "code",
   "execution_count": null,
   "metadata": {},
   "outputs": [
    {
     "name": "stdout",
     "output_type": "stream",
     "text": [
      "non empty list\n"
     ]
    }
   ],
   "source": [
    "list = [1,2,3,4,5,6,7]\n",
    "\n",
    "# x = len(list)\n",
    "\n",
    "# if x == 0:\n",
    "#     print(\"empty list\")\n",
    "# else:\n",
    "#     print(\"non empty list\")\n",
    "\n",
    "if list:\n",
    "    print(\"non empty list\")\n",
    "else:\n",
    "    print(\"empty list\")"
   ]
  },
  {
   "cell_type": "code",
   "execution_count": null,
   "metadata": {},
   "outputs": [
    {
     "name": "stdout",
     "output_type": "stream",
     "text": [
      "43.96\n"
     ]
    }
   ],
   "source": [
    "r = 7\n",
    "P = 3.14\n",
    "\n",
    "if r <= 0 :\n",
    "    print(\"r is not valid\")\n",
    "else:\n",
    "    circumference = 2 * P * r\n",
    "    print(circumference)"
   ]
  },
  {
   "cell_type": "code",
   "execution_count": null,
   "metadata": {},
   "outputs": [
    {
     "name": "stdout",
     "output_type": "stream",
     "text": [
      "5.0\n"
     ]
    }
   ],
   "source": [
    "a = 3\n",
    "b = 4\n",
    "\n",
    "if a <= 0 or b <=0 :\n",
    "    print(\" give positive value \")\n",
    "else:\n",
    "    c = (a ** 2 + b ** 2) ** 0.5\n",
    "    print(c)"
   ]
  },
  {
   "cell_type": "code",
   "execution_count": null,
   "metadata": {},
   "outputs": [
    {
     "name": "stdout",
     "output_type": "stream",
     "text": [
      "largest : 4\n"
     ]
    }
   ],
   "source": [
    "num_1 = 1\n",
    "num_2 = 3\n",
    "num_3 = 4\n",
    "\n",
    "if num_1 > num_2 and num_1 > num_3 :\n",
    "    print (\"largest :\",num_1)\n",
    "elif num_2 > num_1 and num_2 > num_3 :\n",
    "    print (\"largest :\",num_2)\n",
    "\n",
    "else :\n",
    "    print(\"largest :\",num_3)\n",
    "\n"
   ]
  },
  {
   "cell_type": "code",
   "execution_count": null,
   "metadata": {},
   "outputs": [
    {
     "name": "stdout",
     "output_type": "stream",
     "text": [
      "num_2,num_3,num_1\n"
     ]
    }
   ],
   "source": [
    "#slide change the to about program to display number in dicending order\n",
    "\n",
    "num_1 = 1\n",
    "num_2 = 8\n",
    "num_3 = 4\n",
    "\n",
    "if num_1 > num_2 and num_1 > num_3 :\n",
    "    if num_2 > num_3 :\n",
    "        print(\"num_1,num_2,num_3\")\n",
    "    else:\n",
    "        print(\"num_1,num_3,num_2\")\n",
    "elif num_2 > num_1 and num_2 > num_3 :\n",
    "    if num_1 > num_3 :\n",
    "        print(\"num_2,num_1,num_3\")\n",
    "    else:\n",
    "        print(\"num_2,num_3,num_1\")\n",
    "\n",
    "else :\n",
    "    if num_1 > num_2 :\n",
    "        print(\"num_3,num_1,num_2\")\n",
    "    else:\n",
    "        print(\"num_3,num_2,num_1\")"
   ]
  },
  {
   "cell_type": "code",
   "execution_count": null,
   "metadata": {},
   "outputs": [
    {
     "name": "stdout",
     "output_type": "stream",
     "text": [
      "odd\n"
     ]
    }
   ],
   "source": [
    "a = 11\n",
    "\n",
    "r = \"even\" if a % 2 == 0 else \"odd\"\n",
    "\n",
    "print(r)"
   ]
  },
  {
   "cell_type": "code",
   "execution_count": null,
   "metadata": {},
   "outputs": [
    {
     "name": "stdout",
     "output_type": "stream",
     "text": [
      "28\n"
     ]
    }
   ],
   "source": [
    "#given any intiger n ,print the abslute value using a ternary operator (without using abs() function)\n",
    "\n",
    "n = -28\n",
    "\n",
    "r = n if n >= 0 else -n\n",
    "\n",
    "print(r)"
   ]
  },
  {
   "cell_type": "code",
   "execution_count": null,
   "metadata": {},
   "outputs": [
    {
     "name": "stdout",
     "output_type": "stream",
     "text": [
      "default value\n"
     ]
    }
   ],
   "source": [
    "v = 12\n",
    "\n",
    "match v:\n",
    "    case 10:\n",
    "        print(\"value is 10\")\n",
    "    case 11:\n",
    "        print(\"value is 11\")\n",
    "    case _:\n",
    "        print(\"default value\") "
   ]
  },
  {
   "cell_type": "code",
   "execution_count": null,
   "metadata": {},
   "outputs": [],
   "source": [
    "#write a python program that take integer input from the user represent the week day numbers (1-7) and print the horresponding weekdays name using match case statement\n",
    "\n",
    "num_1 = int(input(\"enter the number :\"))\n",
    "\n",
    "match num_1:\n",
    "    case 1:\n",
    "        print(\"moday\")\n",
    "    case 2:\n",
    "        print(\"tuesday\")\n",
    "    case 3:\n",
    "        print(\"wednesday\")\n",
    "    case 4:\n",
    "        print(\"thursday\")\n",
    "    case 5:\n",
    "        print(\"friday\")\n",
    "    case 6:\n",
    "        print(\"saturday\")\n",
    "    case 7:\n",
    "        print(\"sunday\")\n",
    "    case _:\n",
    "        print(\"inavalid number enter number between 1 to 7\")"
   ]
  },
  {
   "cell_type": "code",
   "execution_count": null,
   "metadata": {},
   "outputs": [],
   "source": [
    "#write a python program that takes and input string representing a traffic light colors\n",
    "#red , yellow , green or blinking\n",
    "#use structurel patten matching to print the following \n",
    "# print stop if color is red or blinking\n",
    "# print slow down if color is yellow\n",
    "# print go if color is green\n",
    "# print invalid color any other input\n",
    "\n",
    "color = input(\"enter color\")\n",
    "\n",
    "match color:\n",
    "    case \"red\" | \"blinking\":\n",
    "        print(\"stop\")\n",
    "    case \"yellow\":\n",
    "        print(\"slow down\")\n",
    "    case \"green\":\n",
    "        print(\"go\")\n",
    "    case _:\n",
    "        print(\"invalid color\")"
   ]
  },
  {
   "cell_type": "code",
   "execution_count": null,
   "metadata": {},
   "outputs": [
    {
     "name": "stdout",
     "output_type": "stream",
     "text": [
      "12\n"
     ]
    }
   ],
   "source": [
    "numbers = [4,3]\n",
    "\n",
    "match numbers:\n",
    "    case (x,y):\n",
    "        print(x*y)\n",
    "    case (x,y,z):\n",
    "        print(x*y*z)\n",
    "    case _ :\n",
    "        print(\"invalid\")"
   ]
  },
  {
   "cell_type": "code",
   "execution_count": null,
   "metadata": {},
   "outputs": [],
   "source": [
    "#write a python programe that read a list of tempresure readings :\n",
    "#if the list has excatly two elments,print there averrage\n",
    "#if the list has excatly four elements, clculate and print the diffrent between the sum of the frist two reading and sum the last two reading\n",
    "#for any other list length , print unsupported number of reading\n",
    "\n",
    "num = [7,8,3,6]\n",
    "\n",
    "match num:\n",
    "    case (x,y):\n",
    "        print((x+y)/2)\n",
    "    case(x,y,z,r):\n",
    "        print((x+y) - (z+r))\n",
    "    case _:\n",
    "        print(\"unsupported number\")"
   ]
  },
  {
   "cell_type": "code",
   "execution_count": null,
   "metadata": {},
   "outputs": [],
   "source": [
    "my_list = [11,8,6,9,18]\n",
    "\n",
    "for item in my_list:\n",
    "\n",
    "    if item%2 == 0:\n",
    "        print (item)"
   ]
  },
  {
   "cell_type": "code",
   "execution_count": null,
   "metadata": {},
   "outputs": [],
   "source": [
    "#write a python programm to display squre value of firt ten intiger\n",
    "\n",
    "num = range(1,11)\n",
    "\n",
    "for item in num:\n",
    "    print(item**2)\n",
    "\n",
    "# ================\n",
    "\n",
    "# for item in range(1,11):\n",
    "#     print(item**2)\n"
   ]
  },
  {
   "cell_type": "code",
   "execution_count": null,
   "metadata": {},
   "outputs": [],
   "source": [
    "#get a positive intiger as a user input. then display all squre numbers witch are bellow than the input number\n",
    "\n",
    "num = int(input (\"enter the number\"))\n",
    "\n",
    "for item in range(1,num):\n",
    "    if item**2 < num:\n",
    "        print(item**2)\n",
    "    else:\n",
    "        break\n"
   ]
  },
  {
   "cell_type": "code",
   "execution_count": null,
   "metadata": {},
   "outputs": [],
   "source": [
    "#write a python code to demostrate the lenear search\n",
    "\n",
    "list = [1,2,3,4,5,6,7,8,9,10]\n",
    "\n",
    "found = False\n",
    "\n",
    "num = int(input(\"enter the number\"))\n",
    "\n",
    "for item in list:\n",
    "    if item == num:\n",
    "        print(\"number found\")\n",
    "        found = True\n",
    "if not found:\n",
    "        print(\"number not found\")\n",
    "\n",
    "# ======================================\n",
    "\n",
    "# list = [1,2,3,4,5,6,7,8,9,10]\n",
    "# num = int(input(\"enter the number\"))\n",
    "# for item in list:\n",
    "#     if item == num:\n",
    "#         print(\"number found\")\n",
    "#         break\n",
    "# else:\n",
    "#       print(\"number not found\")\n",
    "    "
   ]
  },
  {
   "cell_type": "code",
   "execution_count": null,
   "metadata": {},
   "outputs": [],
   "source": [
    "list = [10,0,30,40,50]\n",
    "\n",
    "num = list[0]\n",
    "\n",
    "for item in list:\n",
    "    if item > num:\n",
    "       num = item\n",
    "print(num)"
   ]
  },
  {
   "cell_type": "code",
   "execution_count": null,
   "metadata": {},
   "outputs": [],
   "source": [
    "my_list = [5,10,4,6,9,7,2]\n",
    "\n",
    "result = [item ** 2 for item in my_list]\n",
    "\n",
    "print(result)"
   ]
  },
  {
   "cell_type": "code",
   "execution_count": null,
   "metadata": {},
   "outputs": [],
   "source": [
    "#create the list with the squers of even numbers between 1 to 10 (include) using list combination\n",
    "\n",
    "result = [item ** 2 for item in range(1,11) if item % 2 == 0]\n",
    "\n",
    "print(result)"
   ]
  },
  {
   "cell_type": "code",
   "execution_count": null,
   "metadata": {},
   "outputs": [],
   "source": [
    "#write a python program using a while loop to display all positive integers which are bellow than the user input n (you check the input validity)\n",
    "\n",
    "num = int(input(\"enter the number\"))\n",
    "\n",
    "if num <= 0:\n",
    "    print(\"Enter positive number\")\n",
    "\n",
    "count = 1\n",
    "\n",
    "while num != count:\n",
    "        print(count)\n",
    "        count += 1\n",
    "\n",
    "\n",
    "#in both for loop and while loop if you need \"continue\" key word it will exit from the current iteration\n"
   ]
  },
  {
   "cell_type": "code",
   "execution_count": null,
   "metadata": {},
   "outputs": [],
   "source": [
    "# write a python programme to reverse the digits of and given integer using a while loop\n",
    "\n",
    "# ex : input = 9725\n",
    "#      output = 5279\n",
    "\n",
    "num = int(input(\"input number\"))\n",
    "rev = 0 \n",
    "\n",
    "while num > 0:\n",
    "    digits = num % 10\n",
    "    rev = rev * 10 + digits\n",
    "    num = num // 10\n",
    "\n",
    "print(rev)"
   ]
  },
  {
   "cell_type": "code",
   "execution_count": null,
   "metadata": {},
   "outputs": [],
   "source": [
    "def max_value(list):\n",
    "    list =[2,4,5,6,7,8,9,20]\n",
    "    max_value =list[0]\n",
    "    for num in list:\n",
    "        if num > max_value :\n",
    "            max_value= num\n",
    "            \n",
    "    return max_value\n",
    "print(\"maximum value of in the list:\",max_value(list))"
   ]
  },
  {
   "cell_type": "code",
   "execution_count": null,
   "metadata": {},
   "outputs": [],
   "source": [
    "def count(list):\n",
    "    list =[2,4,5,6,7,8,9,20]\n",
    "    count=0\n",
    "    for num in list:\n",
    "        if num % 2 == 0:\n",
    "            count += 1\n",
    "    return count\n",
    "print( \"even num count:\",count(list))"
   ]
  },
  {
   "cell_type": "code",
   "execution_count": null,
   "metadata": {},
   "outputs": [],
   "source": [
    "#write a function name \"remove_duplicate(list)\" that return a list with duplicate remove (reserving the original order)\n",
    "\n",
    "def remove_duplicate(list):\n",
    "\n",
    "    list = [1,5,6,5,3,1,4]\n",
    "    new_list = []\n",
    "\n",
    "    for item in list:\n",
    "        if item not in new_list:\n",
    "            new_list.append(item)\n",
    "\n",
    "    return new_list\n",
    "        \n",
    "print(remove_duplicate(list))"
   ]
  },
  {
   "cell_type": "code",
   "execution_count": null,
   "metadata": {},
   "outputs": [],
   "source": [
    "#write a function \"factorial(n)\" that returns the factorial of a given number n\n",
    "\n",
    "def factorial(n):\n",
    "    result = 1\n",
    "    if n == 0:\n",
    "        return result\n",
    "    \n",
    "    for item in range(1,n+1):\n",
    "        result *= item\n",
    "\n",
    "    return result\n",
    "\n",
    "print(factorial(5))"
   ]
  },
  {
   "cell_type": "code",
   "execution_count": null,
   "metadata": {},
   "outputs": [],
   "source": [
    "#default argument\n",
    "def add_num(a,b=2):\n",
    "    return a+b\n",
    "    \n",
    "print(add_num(9))"
   ]
  },
  {
   "cell_type": "code",
   "execution_count": null,
   "metadata": {},
   "outputs": [],
   "source": [
    "#write a function that calculate and  returns the value of a number race to a sertain power. the function should accept two arguments : the number and exponent. if the exponent is nt provided it should calculate squre of the number\n",
    "\n",
    "def number(num,exponent=2):\n",
    "    return num ** exponent\n",
    "\n",
    "print(number(2))\n",
    "print(number(2,3))"
   ]
  },
  {
   "cell_type": "code",
   "execution_count": null,
   "metadata": {},
   "outputs": [],
   "source": [
    "#keyword argument\n",
    "\n",
    "def number(a,b):\n",
    "    print(a)\n",
    "    print(b)\n",
    "\n",
    "number(b=2,a=5)\n",
    "number(a=3,b=9)"
   ]
  },
  {
   "cell_type": "code",
   "execution_count": null,
   "metadata": {},
   "outputs": [],
   "source": [
    "\n",
    "#write a function that calculate and employes next salary. the function should accept based sallry, bonus(default to 0), and tax rate(default to 10%). the next sallry is calculated by adding the bonus to the based sallry and subtraction the tax. demostarte difrent wayes of calling this function using possitional and keyword argument\n",
    "\n",
    "def sallry(based_sallry,bonus,tax_rate):\n",
    "    return (based_sallry+bonus) - (based_sallry+bonus) * tax_rate\n",
    "\n",
    "print(sallry(based_sallry=30000, bonus=5000, tax_rate=0.1))"
   ]
  },
  {
   "cell_type": "code",
   "execution_count": null,
   "metadata": {},
   "outputs": [],
   "source": [
    "#arbitrary position argument\n",
    "\n",
    "def arbitarrary_position(*args):\n",
    "    print(args)\n",
    "    print(type(args))\n",
    "\n",
    "    for arg in args:\n",
    "        print(arg)\n",
    "\n",
    "arbitarrary_position(1,2,3,4)"
   ]
  },
  {
   "cell_type": "code",
   "execution_count": null,
   "metadata": {},
   "outputs": [],
   "source": [
    "#write a function multifly all that accepts any number of numbers and returns therir products. if no numbers are provided return 1\n",
    "\n",
    "def multifly(*args):\n",
    "    count = 1\n",
    "    for arg in args:\n",
    "        count *= arg\n",
    "    return count\n",
    "\n",
    "print(multifly(1,2,3,4))"
   ]
  },
  {
   "cell_type": "code",
   "execution_count": null,
   "metadata": {},
   "outputs": [],
   "source": [
    "dict = {\n",
    "    \"name\" : \"Jone\",\n",
    "    \"age\" : 28,\n",
    "    \"city\" : \"colombo\"\n",
    "}\n",
    "\n",
    "for key in dict.keys():\n",
    " print(key)\n",
    "\n",
    "for value in dict.values():\n",
    " print(value)\n",
    "\n",
    "for key,value in dict.items():\n",
    " print(\"key :\",key,\",value :\",value)"
   ]
  },
  {
   "cell_type": "code",
   "execution_count": null,
   "metadata": {},
   "outputs": [],
   "source": [
    "def arbitrary_keyword_args(**kwargs):\n",
    "    print(kwargs)\n",
    "    print(type(kwargs))\n",
    "\n",
    "arbitrary_keyword_args(name=\"kavindu\",age=28,city=\"galle\")"
   ]
  },
  {
   "cell_type": "code",
   "execution_count": null,
   "metadata": {},
   "outputs": [],
   "source": [
    "def arbitrary_keyword_args(**kwargs):\n",
    "    print(kwargs)\n",
    "    print(type(kwargs))\n",
    "\n",
    "    for key,value in kwargs.items():\n",
    "        print(\"key :\",key,\",value :\",value)\n",
    "\n",
    "arbitrary_keyword_args(name=\"kavindu\",age=28,city=\"galle\")"
   ]
  },
  {
   "cell_type": "code",
   "execution_count": null,
   "metadata": {},
   "outputs": [],
   "source": [
    "#you are developing a student management system \n",
    "#   1.write a function add_student() with access any number of keyword argument where keys are student id's and values are student's name\n",
    "#   2.the function should store all student into a dictonary \n",
    "#   3.write another function display_student which acccept the dictonary and prints all students id's and names in a need format\n",
    "#   4.demostarte your function by adding at least 5 student using key word argument and disply them\n",
    "\n",
    "#======================\n",
    "def add_student(**kwargs):\n",
    "    students = {}\n",
    "\n",
    "    for s_id , s_name in kwargs.items():\n",
    "        students[s_id] = s_name\n",
    "        \n",
    "    return students\n",
    "\n",
    "#=====================\n",
    "def display_student(students):\n",
    "    for s_id , s_name in students.items():\n",
    "        print(\"student_id :\" , s_id,\", student_name :\", s_name)\n",
    "\n",
    "#=====================\n",
    "students = add_student(\n",
    "    S001=\"Kavindu Tharaka\",\n",
    "    S002=\"Kavindu Tharaka\",\n",
    "    S003=\"Kavindu Tharaka\",\n",
    "    S004=\"Kavindu Tharaka\",\n",
    "    S005=\"Kavindu Tharaka\"\n",
    ")\n",
    "\n",
    "#=====================\n",
    "display_student(students)"
   ]
  },
  {
   "cell_type": "code",
   "execution_count": null,
   "metadata": {},
   "outputs": [
    {
     "name": "stdout",
     "output_type": "stream",
     "text": [
      "<map object at 0x000002851B6D0CD0>\n",
      "[1, 4, 9, 16, 25]\n"
     ]
    }
   ],
   "source": [
    "#python built in function (https://docs.python.org/3/library/functions.html#func-range)\n",
    "\n",
    "#map(function,iterable)\n",
    "\n",
    "def find_squre(x):\n",
    "    return x**2\n",
    "\n",
    "my_list = [1,2,3,4,5]\n",
    "\n",
    "squre_value = map(find_squre,my_list)\n",
    "\n",
    "print(squre_value)\n",
    "print(list(squre_value))\n",
    "\n"
   ]
  },
  {
   "cell_type": "code",
   "execution_count": null,
   "metadata": {},
   "outputs": [
    {
     "name": "stdout",
     "output_type": "stream",
     "text": [
      "[32.0, 68.0, 98.6, 212.0, 14.0]\n",
      "[32.0, 68.0, 98.6, 212.0, 14.0]\n"
     ]
    }
   ],
   "source": [
    "#your are given a list of tempresures in celsius \n",
    "#celsius_value = [0,20,37,100,-10]\n",
    "#write a python function that convert dis list into fahrenheit using a formula \"f = c*9%5 +32\" \n",
    "#use the map function to perform the conversion \n",
    "#return the list of fehrenheit value\n",
    "\n",
    "# def convert_to_fahrenheit(celsius):\n",
    "#     return celsius * 9/5 + 32\n",
    "\n",
    "# celsius_value = [0,20,37,100,-10]\n",
    "\n",
    "# fahrenheit_value = map(convert_to_fahrenheit,celsius_value)\n",
    "\n",
    "# print(list(fahrenheit_value))\n",
    "\n",
    "def fahrenheit(celsius_value):\n",
    "    return map(convert_to_fahrenheit, celsius_value)\n",
    "\n",
    "def convert_to_fahrenheit(celsius):\n",
    "    return (celsius * 9 / 5) + 32\n",
    "\n",
    "celsius_value = [0, 20, 37, 100, -10]\n",
    "\n",
    "print(list(fahrenheit(celsius_value)))\n",
    "\n",
    "\n",
    "\n",
    "\n"
   ]
  },
  {
   "cell_type": "code",
   "execution_count": null,
   "metadata": {},
   "outputs": [
    {
     "name": "stdout",
     "output_type": "stream",
     "text": [
      "<filter object at 0x000001918DC23A90>\n",
      "[2, 4, 6, 8, 10]\n"
     ]
    }
   ],
   "source": [
    "#filter(function,iterable) return boolean value \n",
    "\n",
    "def is_even(x):\n",
    "    return x%2 == 0\n",
    "\n",
    "my_list = [1,2,3,4,5,6,7,8,9,10]\n",
    "\n",
    "even_value = filter(is_even,my_list)\n",
    "\n",
    "print(even_value)\n",
    "print(list(even_value))"
   ]
  },
  {
   "cell_type": "code",
   "execution_count": null,
   "metadata": {},
   "outputs": [
    {
     "name": "stdout",
     "output_type": "stream",
     "text": [
      "7\n"
     ]
    }
   ],
   "source": [
    "#lambda function\n",
    "\n",
    "add = lambda x,y : x+y\n",
    "print(add(4,3))"
   ]
  },
  {
   "cell_type": "code",
   "execution_count": null,
   "metadata": {},
   "outputs": [
    {
     "name": "stdout",
     "output_type": "stream",
     "text": [
      "11\n"
     ]
    }
   ],
   "source": [
    "print((lambda x,y : x+y)(5,6))"
   ]
  },
  {
   "cell_type": "code",
   "execution_count": null,
   "metadata": {},
   "outputs": [
    {
     "name": "stdout",
     "output_type": "stream",
     "text": [
      "[2, 4, 6, 8, 10, 12]\n"
     ]
    }
   ],
   "source": [
    "#given a list of integers, used map() with a lamda() to create a new list where each number id double\n",
    "\n",
    "my_list = [1,2,3,4,5,6]\n",
    "\n",
    "print(list((map(lambda number:number*2 , my_list))))"
   ]
  },
  {
   "cell_type": "code",
   "execution_count": null,
   "metadata": {},
   "outputs": [
    {
     "name": "stdout",
     "output_type": "stream",
     "text": [
      "[12, 18, 22, 16]\n"
     ]
    }
   ],
   "source": [
    "#you are given  the following list of integers \n",
    "#[12,18,17,15,22,23,16]\n",
    "#write a python program that use the filter function with a lamda function to remore all odd numbers from the list\n",
    "\n",
    "numbers = [12,18,17,15,22,23,16]\n",
    "\n",
    "even_value = filter(lambda x :x % 2 == 0 , numbers )\n",
    "\n",
    "print(list(even_value))"
   ]
  },
  {
   "cell_type": "code",
   "execution_count": null,
   "metadata": {},
   "outputs": [
    {
     "name": "stdout",
     "output_type": "stream",
     "text": [
      "10\n"
     ]
    }
   ],
   "source": [
    "#write a python program with a lmbda function to decide the largest between two numbers \n",
    "\n",
    "max = lambda x,y : x if x >y else y\n",
    "\n",
    "print(max(10,2))"
   ]
  },
  {
   "cell_type": "code",
   "execution_count": null,
   "metadata": {},
   "outputs": [
    {
     "name": "stdout",
     "output_type": "stream",
     "text": [
      "16\n",
      "26\n"
     ]
    }
   ],
   "source": [
    "my_list = [4,5,6,1]\n",
    "\n",
    "print(sum(my_list))\n",
    "print(sum(my_list,10))"
   ]
  },
  {
   "cell_type": "code",
   "execution_count": null,
   "metadata": {},
   "outputs": [
    {
     "name": "stdout",
     "output_type": "stream",
     "text": [
      "True\n",
      "True\n"
     ]
    }
   ],
   "source": [
    "#isinstance()   difine a class of object\n",
    "\n",
    "x = 10\n",
    "print(isinstance(x,int))\n",
    "\n",
    "x = 10.5\n",
    "print(isinstance(x,(int,float)))"
   ]
  },
  {
   "cell_type": "code",
   "execution_count": null,
   "metadata": {},
   "outputs": [
    {
     "name": "stdout",
     "output_type": "stream",
     "text": [
      "my name is kavindu and my age is 22\n"
     ]
    }
   ],
   "source": [
    "name = \"kavindu\"\n",
    "age = 22\n",
    "\n",
    "print(f\"my name is {name} and my age is {age}\")"
   ]
  },
  {
   "cell_type": "code",
   "execution_count": null,
   "metadata": {},
   "outputs": [
    {
     "name": "stdout",
     "output_type": "stream",
     "text": [
      "\n",
      "0\n"
     ]
    }
   ],
   "source": [
    "class Student:\n",
    "    name = \"\"\n",
    "    age = 0\n",
    "\n",
    "    student_1 = Student()\n",
    "    print(student_1.name)\n",
    "    print(student_1.age)"
   ]
  },
  {
   "cell_type": "code",
   "execution_count": null,
   "metadata": {},
   "outputs": [
    {
     "name": "stdout",
     "output_type": "stream",
     "text": [
      "car has 4 wheels\n",
      "car driving to colombo on 4 wheels\n"
     ]
    }
   ],
   "source": [
    "class Car:\n",
    "    wheels = 4\n",
    "\n",
    "    def display_info(self): #parameter ekk nthnm \"self\" danwa\n",
    "        print(f\"car has {self.wheels} wheels\")\n",
    "\n",
    "    def drive_to(self,location):\n",
    "        print(f\"car driving to {location} on {self.wheels} wheels\")\n",
    "\n",
    "car_1 = Car()\n",
    "car_1.display_info()\n",
    "car_1.drive_to(\"colombo\")"
   ]
  },
  {
   "cell_type": "code",
   "execution_count": null,
   "metadata": {},
   "outputs": [
    {
     "name": "stdout",
     "output_type": "stream",
     "text": [
      "Animal Speaking\n"
     ]
    }
   ],
   "source": [
    "# Inheritance in python\n",
    "\n",
    "class Animal:\n",
    "    def speak(self):\n",
    "        print(\"Animal Speaking\")\n",
    "\n",
    "class Parrot(Animal):  #Inheritance\n",
    "    def display_info(self):\n",
    "        print(\"somthing\")\n",
    "\n",
    "Parrot_1 = Parrot()\n",
    "Parrot_1.speak()"
   ]
  },
  {
   "cell_type": "code",
   "execution_count": null,
   "metadata": {},
   "outputs": [
    {
     "name": "stdout",
     "output_type": "stream",
     "text": [
      "Animal Speaking\n"
     ]
    }
   ],
   "source": [
    "class Animal:\n",
    "    def speak(self):\n",
    "        print(\"Animal Speaking\")\n",
    "\n",
    "class Parrot(Animal):\n",
    "    def speak(self):   #method overriding\n",
    "        print(\"parrot speaking\")\n",
    "\n",
    "Parrot_1 = Parrot()\n",
    "Parrot_1.speak()"
   ]
  },
  {
   "cell_type": "code",
   "execution_count": null,
   "metadata": {},
   "outputs": [
    {
     "name": "stdout",
     "output_type": "stream",
     "text": [
      "parrot speaking ('age', 'kavindu')\n"
     ]
    }
   ],
   "source": [
    "class Animal:\n",
    "    def speak(self):\n",
    "        print(\"Animal Speaking\")\n",
    "\n",
    "class Parrot(Animal):\n",
    "    def speak(self,*name):   #method overloading\n",
    "        print(\"parrot speaking\",name)\n",
    "\n",
    "Parrot_1 = Parrot()\n",
    "Parrot_1.speak(\"age\",\"kavindu\")\n",
    "\n",
    "# class Animal:\n",
    "#     def speak(self):\n",
    "#         print(\"Animal Speaking\")\n",
    "\n",
    "# class Parrot(Animal):\n",
    "#     def speak(self, *args):  # accepts variable number of arguments\n",
    "#         print(\"parrot speaking\", args)\n",
    "\n",
    "# Parrot_1 = Parrot()\n",
    "# Parrot_1.speak(\"age\", \"kavindu\")\n"
   ]
  },
  {
   "cell_type": "code",
   "execution_count": null,
   "metadata": {},
   "outputs": [
    {
     "name": "stdout",
     "output_type": "stream",
     "text": [
      "kavindu\n"
     ]
    }
   ],
   "source": [
    "class Animal:\n",
    "    def __init__(self,name):\n",
    "        self.name = name\n",
    "\n",
    "class Parrot(Animal):\n",
    "    def speak(self):\n",
    "        print(\"parrot speaking\")\n",
    "\n",
    "parrot_1 = Parrot(\"kavindu\")\n",
    "print(Parrot_1.name)"
   ]
  },
  {
   "cell_type": "code",
   "execution_count": null,
   "metadata": {},
   "outputs": [
    {
     "name": "stdout",
     "output_type": "stream",
     "text": [
      "kavindu\n",
      "red\n"
     ]
    }
   ],
   "source": [
    "# class Animal:\n",
    "#     def __init__(self,name):\n",
    "#         self.name = name\n",
    "\n",
    "# class Parrot(Animal):\n",
    "#     def speak(self,name,color):\n",
    "#         super().__init__(name)\n",
    "\n",
    "#         self.color = color\n",
    "        \n",
    "#     def speak(self):\n",
    "#         print(\"parrot speaking\")\n",
    "\n",
    "# parrot_1 = Parrot(\"kavindu\",\"red\")\n",
    "# print(parrot_1.name)\n",
    "# print(parrot_1.color)\n",
    "\n",
    "class Animal:\n",
    "    def __init__(self, name):\n",
    "        self.name = name\n",
    "\n",
    "class Parrot(Animal):\n",
    "    def __init__(self, name, color):  # Constructor with 2 arguments\n",
    "        super().__init__(name)        # Call Animal's constructor\n",
    "        self.color = color\n",
    "\n",
    "    def speak(self):\n",
    "        print(\"parrot speaking\")\n",
    "\n",
    "parrot_1 = Parrot(\"kavindu\", \"red\")\n",
    "print(parrot_1.name)   # Output: kavindu\n",
    "print(parrot_1.color)  # Output: red\n"
   ]
  },
  {
   "cell_type": "code",
   "execution_count": null,
   "metadata": {},
   "outputs": [],
   "source": [
    "#define a base class called employee that has attributes name and salary. it should have a method called display_info that prints the name and salary of the employee. then create a subclass called manager \n",
    "#that inherits from employee and adds an extra atributes called department. override the display_info method in the manager class to include the department information as well.final write a python program to\n",
    "#1. create and object of the manager class\n",
    "#2. call the display_info method using that object\n",
    "\n",
    "class Employee:\n",
    "    def __init__(self,name,sallary):\n",
    "        self.name = name\n",
    "        self.sallary = sallary\n",
    "\n",
    "    def display_info(self):\n",
    "        print(\"name :\",self.name)\n",
    "        print(\"sallary :\",self.sallary)\n",
    "\n",
    "class Manager(Employee):\n",
    "    def __init__(self,name,sallary,department):\n",
    "        super().__init__(name,sallary)\n",
    "        self.department = department\n",
    "\n",
    "    def display_info(self):\n",
    "        super().display_info()\n",
    "        print(\"department :\",self.department)\n",
    "\n",
    "manager = Manager(\"kavindu\" , 100000 , \"IT\")\n",
    "manager.display_info()\n",
    "        \n",
    "\n"
   ]
  },
  {
   "cell_type": "code",
   "execution_count": null,
   "metadata": {},
   "outputs": [],
   "source": [
    "#polymorphism in python"
   ]
  },
  {
   "cell_type": "code",
   "execution_count": null,
   "metadata": {},
   "outputs": [
    {
     "name": "stdout",
     "output_type": "stream",
     "text": [
      "gamage\n",
      "28\n",
      "kavindu\n",
      "tharaka\n"
     ]
    }
   ],
   "source": [
    "#encapsulation\n",
    "\n",
    "#public attributes\n",
    "class Person:\n",
    "    def __init__(self):\n",
    "        self.name = \"gamage\"\n",
    "        self.age = 28\n",
    "\n",
    "class Employee(Person):\n",
    "    def display(self):\n",
    "        print(self.name)\n",
    "        print(self.age)\n",
    "\n",
    "employee = Employee()\n",
    "print(employee.name)\n",
    "print(employee.age)\n",
    "\n",
    "#================================================================\n",
    "\n",
    "#protected attributes\n",
    "class Person:\n",
    "    def __init__(self):\n",
    "        self._name = \"kavindu\"\n",
    "\n",
    "class Employee(Person):\n",
    "    def display(self):\n",
    "        print(self._name)\n",
    "\n",
    "employee = Employee()\n",
    "print(employee._name)\n",
    "\n",
    "#================================================================\n",
    "\n",
    "#private attributes\n",
    "class Person:\n",
    "    def __init__(self):\n",
    "        self.__name = \"tharaka\"\n",
    "\n",
    "    def get_name(self):\n",
    "        return self.__name\n",
    "\n",
    "person  = Person()  \n",
    "print(person.get_name())"
   ]
  },
  {
   "cell_type": "code",
   "execution_count": null,
   "metadata": {},
   "outputs": [
    {
     "name": "stdout",
     "output_type": "stream",
     "text": [
      "Owner Name: Kavindu\n",
      "Balance: 0.0\n",
      "Owner Name: Kavindu\n",
      "Balance: 1000.0\n",
      "Owner Name: Kavindu\n",
      "Balance: 2000.0\n",
      "Owner Name: Kavindu\n",
      "Balance: 1500.0\n"
     ]
    }
   ],
   "source": [
    "#desine a python class called bank account that models a basic bank account using a consept of encapsulation \n",
    "# 1. use private attributes for acc_num , owner_name , balance(should start at 0.0 by default)\n",
    "# 2. provide a constructer that accept only acc_num and owner_name the  balance should start at 0.0 inside the constructer\n",
    "# 3. include the following public method \n",
    "#         *display account - prints the owners name and current balance (but not the account number)\n",
    "#         *deposite(amount) - adds money to the account only if the amount is valid \n",
    "#         *withdraw(amount) - deducts money only if there is enough balance\n",
    "#         *get_balance() - returns the current balance\n",
    "#\n",
    "# 4. implement a privet method call validate_amount (amount) that \n",
    "#         *returns true if the amount is a possitive number\n",
    "#         *is used internally by both deposite() and withdraw() to validate input\n",
    "\n",
    "class BankAccount:\n",
    "    def __init__(self, acc_num, owner_name):\n",
    "        self.__acc_num = acc_num\n",
    "        self.__owner_name = owner_name\n",
    "        self.__balance = 0.0\n",
    "\n",
    "    def display_account(self):\n",
    "        print(f\"Owner Name: {self.__owner_name}\")\n",
    "        print(f\"Balance: {self.__balance}\")\n",
    "\n",
    "    def validate_amount(self, amount):\n",
    "        if amount > 0 :\n",
    "            return True\n",
    "        else:\n",
    "            return False\n",
    "    \n",
    "    def deposite(self,amount):\n",
    "        if self.validate_amount(amount):\n",
    "            self.__balance += amount\n",
    "        else:\n",
    "            print(\"Invalid amount\")\n",
    "\n",
    "    def withdraw(self,amount):\n",
    "        if self.validate_amount(amount):\n",
    "            if self.__balance >= amount:\n",
    "                self.__balance -= amount\n",
    "            else:\n",
    "                print(\"Insufficient balance\")\n",
    "        else:\n",
    "            print(\"Invalid amount\")\n",
    "\n",
    "account = BankAccount(\"12345\", \"Kavindu\")\n",
    "account.display_account()\n",
    "account.deposite(1000)\n",
    "account.display_account()\n",
    "account.deposite(1000)\n",
    "account.display_account()\n",
    "account.withdraw(500)\n",
    "account.display_account()\n",
    "\n",
    "\n",
    "\n"
   ]
  },
  {
   "cell_type": "code",
   "execution_count": null,
   "metadata": {},
   "outputs": [
    {
     "name": "stdout",
     "output_type": "stream",
     "text": [
      "Hi Guys! Hope everthing is good. I'm fine too.\n",
      "This is much better.\n",
      "This is even better.\n",
      "I love AI.\n"
     ]
    },
    {
     "data": {
      "text/plain": [
       "<function TextIOWrapper.close()>"
      ]
     },
     "execution_count": 1,
     "metadata": {},
     "output_type": "execute_result"
    }
   ],
   "source": [
    "#open a file\n",
    "file_1 = open(\"my_file.txt\")\n",
    "\n",
    "#read a file\n",
    "file_1 = open(\"my_file.txt\", \"r\") \n",
    "read_content = file_1.read()\n",
    "print(read_content)\n",
    "\n",
    "#close a file\n",
    "file_1.close\n"
   ]
  },
  {
   "cell_type": "code",
   "execution_count": null,
   "metadata": {},
   "outputs": [
    {
     "name": "stdout",
     "output_type": "stream",
     "text": [
      "Hi Guys! Hope everthing is good. I'm fine too.\n",
      "\n",
      "This is much better.\n",
      "\n"
     ]
    },
    {
     "data": {
      "text/plain": [
       "<function TextIOWrapper.close()>"
      ]
     },
     "execution_count": 6,
     "metadata": {},
     "output_type": "execute_result"
    }
   ],
   "source": [
    "file_1 = open(\"my_file.txt\")\n",
    "\n",
    "line_1 = file_1.readline()\n",
    "print(line_1)\n",
    "\n",
    "line_2 = file_1.readline()\n",
    "print(line_2)\n",
    "\n",
    "file_1.close"
   ]
  },
  {
   "cell_type": "code",
   "execution_count": null,
   "metadata": {},
   "outputs": [
    {
     "name": "stdout",
     "output_type": "stream",
     "text": [
      "Hi Guys! Hope everthing is good. I'm fine too.\n",
      "This is much better.\n",
      "This is even better.\n",
      "I love AI.\n"
     ]
    },
    {
     "data": {
      "text/plain": [
       "<function TextIOWrapper.close()>"
      ]
     },
     "execution_count": 10,
     "metadata": {},
     "output_type": "execute_result"
    }
   ],
   "source": [
    "file_1 = open(\"my_file.txt\")\n",
    "\n",
    "while True:\n",
    "    line = file_1.readline()\n",
    "    if not line:\n",
    "        break\n",
    "    print(line.strip())\n",
    "\n",
    "file_1.close"
   ]
  },
  {
   "cell_type": "code",
   "execution_count": null,
   "metadata": {},
   "outputs": [
    {
     "name": "stdout",
     "output_type": "stream",
     "text": [
      "[\"Hi Guys! Hope everthing is good. I'm fine too.\\n\", 'This is much better.\\n', 'This is even better.\\n', 'I love AI.']\n",
      "<class 'list'>\n",
      "Hi Guys! Hope everthing is good. I'm fine too.\n",
      "\n",
      "Hi Guys! Hope everthing is good. I'm fine too.\n",
      "This is much better.\n",
      "This is even better.\n",
      "I love AI.\n"
     ]
    },
    {
     "data": {
      "text/plain": [
       "<function TextIOWrapper.close()>"
      ]
     },
     "execution_count": 19,
     "metadata": {},
     "output_type": "execute_result"
    }
   ],
   "source": [
    "file_1 = open(\"my_file.txt\")\n",
    "\n",
    "lines =  file_1.readlines()\n",
    "print(lines)\n",
    "print(type(lines))\n",
    "print(lines[0])\n",
    "\n",
    "for line in lines:\n",
    "    print(line.strip())\n",
    "\n",
    "file_1.close"
   ]
  },
  {
   "cell_type": "code",
   "execution_count": null,
   "metadata": {},
   "outputs": [
    {
     "name": "stdout",
     "output_type": "stream",
     "text": [
      "Hi Guys! Hope everthing is good. I'm fine too.\n",
      "This is much better.\n",
      "This is even better.\n",
      "I love AI.\n"
     ]
    }
   ],
   "source": [
    "with open (\"my_file.txt\",\"r\") as file_1:\n",
    "    lines = file_1.read()\n",
    "    print(lines)\n"
   ]
  },
  {
   "cell_type": "code",
   "execution_count": null,
   "metadata": {},
   "outputs": [],
   "source": [
    "with open(\"my_file_1.txt\", \"w\") as file_1:\n",
    "    file_1.write(\"Hello World.\\n\")\n",
    "    file_1.write(\"Programming is fun.\\n\")"
   ]
  },
  {
   "cell_type": "code",
   "execution_count": null,
   "metadata": {},
   "outputs": [],
   "source": [
    "with open(\"my_file_1.txt\", \"w\") as file_1:\n",
    "    file_1.write(\"My name is kavindu.\\n\")\n",
    "    "
   ]
  },
  {
   "cell_type": "code",
   "execution_count": null,
   "metadata": {},
   "outputs": [],
   "source": [
    "with open (\"my_file.txt\",\"w\") as file_1:\n",
    "    lines = [\"this is new line\\n\", \"this is another new line\\n\"]\n",
    "    file_1.writelines(lines)\n",
    "\n",
    "#append\n",
    "with open (\"my_file.txt\",\"a\") as file_1:\n",
    "    file_1.write(\"this is append line\")\n",
    "    "
   ]
  },
  {
   "cell_type": "code",
   "execution_count": null,
   "metadata": {},
   "outputs": [
    {
     "name": "stdout",
     "output_type": "stream",
     "text": [
      "<class 'dict'>\n",
      "{'name': 'John Doe', 'age': 30, 'isStudent': False, 'hobbies': ['reading', 'gardening', 'swimming']}\n"
     ]
    }
   ],
   "source": [
    "import json\n",
    "\n",
    "with open(\"test.json\", \"r\") as json_file:\n",
    "    data = json.load(json_file)\n",
    "    print(type(data))\n",
    "    print(data)\n",
    "    "
   ]
  },
  {
   "cell_type": "code",
   "execution_count": null,
   "metadata": {},
   "outputs": [],
   "source": [
    "import json\n",
    "\n",
    "data = {\n",
    "    \"name\": \"kavindu\",\n",
    "    \"age\": 22,\n",
    "    \"city\": \"galle\"\n",
    "}\n",
    "\n",
    "with open(\"my_json.json\", \"w\") as json_file:\n",
    "    json.dump(data, json_file, indent=4)"
   ]
  },
  {
   "cell_type": "code",
   "execution_count": null,
   "metadata": {},
   "outputs": [
    {
     "name": "stdout",
     "output_type": "stream",
     "text": [
      "<class '_csv.reader'>\n",
      "['Name', 'Age', 'Occupation']\n",
      "['John Doe', '30', 'Engineer']\n",
      "['Jane Smith', '25', 'Teacher']\n",
      "['Bob Johnson', '40', 'Doctor']\n",
      "['Alice Brown', '35', 'Artist']\n"
     ]
    }
   ],
   "source": [
    "import csv\n",
    "\n",
    "with open(\"test.csv\", \"r\",newline=\"\") as csv_file:\n",
    "    csv_reader = csv.reader(csv_file)\n",
    "    print(type(csv_reader))\n",
    "    for row in csv_reader:\n",
    "        print(row)"
   ]
  },
  {
   "cell_type": "code",
   "execution_count": null,
   "metadata": {},
   "outputs": [
    {
     "name": "stdout",
     "output_type": "stream",
     "text": [
      "<class 'csv.DictReader'>\n",
      "{'Name': 'John Doe', 'Age': '30', 'Occupation': 'Engineer'}\n",
      "{'Name': 'Jane Smith', 'Age': '25', 'Occupation': 'Teacher'}\n",
      "{'Name': 'Bob Johnson', 'Age': '40', 'Occupation': 'Doctor'}\n",
      "{'Name': 'Alice Brown', 'Age': '35', 'Occupation': 'Artist'}\n"
     ]
    }
   ],
   "source": [
    "import csv\n",
    "\n",
    "with open(\"test.csv\", \"r\",newline=\"\") as csv_file:\n",
    "    csv_reader = csv.DictReader(csv_file)\n",
    "    print(type(csv_reader))\n",
    "    for row in csv_reader:\n",
    "        print(row)"
   ]
  },
  {
   "cell_type": "code",
   "execution_count": null,
   "metadata": {},
   "outputs": [],
   "source": [
    "import csv\n",
    "\n",
    "data = [\n",
    "    {\"name\": \"kavindu\", \"age\": 22, \"city\": \"galle\"},\n",
    "    {\"name\": \"tharaka\", \"age\": 18, \"city\": \"matara\"},\n",
    "    {\"name\": \"gamagae\", \"age\": 28, \"city\": \"colombo\"},\n",
    "]\n",
    "\n",
    "with open(\"test.csv\", \"w\",newline=\"\") as csv_file:\n",
    "    fieldnames = [\"name\", \"age\", \"city\"]\n",
    "    csv_writer = csv.DictWriter(csv_file, fieldnames=fieldnames)\n",
    "    \n",
    "    csv_writer.writeheader()\n",
    "    csv_writer.writerows(data)\n"
   ]
  },
  {
   "cell_type": "code",
   "execution_count": null,
   "metadata": {},
   "outputs": [
    {
     "name": "stdout",
     "output_type": "stream",
     "text": [
      "[1 2 3 4 5]\n",
      "<class 'numpy.ndarray'>\n"
     ]
    }
   ],
   "source": [
    "#pip install numpy\n",
    "#numpy arrays\n",
    "\n",
    "import numpy as np\n",
    "\n",
    "arr = np.array([1,2,3,4,5])\n",
    "print(arr)\n",
    "print(type(arr))"
   ]
  },
  {
   "cell_type": "code",
   "execution_count": null,
   "metadata": {},
   "outputs": [
    {
     "name": "stdout",
     "output_type": "stream",
     "text": [
      "[2 4 6]\n",
      "[0 0 0]\n",
      "[1 4 9]\n",
      "[1. 1. 1.]\n"
     ]
    }
   ],
   "source": [
    "arr_1 = np.array([1,2,3])\n",
    "arr_2 = np.array([1,2,3])\n",
    "\n",
    "result_addition =  arr_1 + arr_2\n",
    "result_2 = arr_1 - arr_2\n",
    "result_3 = arr_1 * arr_2\n",
    "result_4 = arr_1 / arr_2\n",
    "\n",
    "print(result_addition)\n",
    "print(result_2)\n",
    "print(result_3)\n",
    "print(result_4)             "
   ]
  },
  {
   "cell_type": "code",
   "execution_count": null,
   "metadata": {},
   "outputs": [
    {
     "name": "stdout",
     "output_type": "stream",
     "text": [
      "[5.47722558 4.         3.74165739 4.69041576]\n",
      "82\n",
      "19.0\n",
      "6.224949798994366\n"
     ]
    }
   ],
   "source": [
    "arr_1 = np.array([30,16,14,22])\n",
    "\n",
    "print(np.sqrt(arr_1))\n",
    "print(np.sum(arr_1))\n",
    "   "
   ]
  },
  {
   "cell_type": "code",
   "execution_count": null,
   "metadata": {},
   "outputs": [
    {
     "name": "stdout",
     "output_type": "stream",
     "text": [
      "70\n",
      "20\n"
     ]
    }
   ],
   "source": [
    "#maximum and minimum value\n",
    "\n",
    "arr_1 = np.array([50,70,20,65])\n",
    "\n",
    "result_1 = np.max(arr_1)\n",
    "result_2 = np.min(arr_1)\n",
    "\n",
    "print(result_1)\n",
    "print(result_2)"
   ]
  },
  {
   "cell_type": "code",
   "execution_count": null,
   "metadata": {},
   "outputs": [
    {
     "name": "stdout",
     "output_type": "stream",
     "text": [
      "[[1 2 3]\n",
      " [4 5 6]]\n",
      "6\n",
      "2\n",
      "(2, 3)\n"
     ]
    }
   ],
   "source": [
    "#multidimensional arrays \n",
    "#2D arrays\n",
    "arr_1 = np.array([[1,2,3],[4,5,6]])\n",
    "print(arr_1)\n",
    "\n",
    "print(arr_1.size)\n",
    "print(arr_1.ndim)\n",
    "print(arr_1.shape)"
   ]
  },
  {
   "cell_type": "code",
   "execution_count": null,
   "metadata": {},
   "outputs": [
    {
     "name": "stdout",
     "output_type": "stream",
     "text": [
      "[[[ 1  2  3]\n",
      "  [ 4  5  6]]\n",
      "\n",
      " [[ 7  8  9]\n",
      "  [10 11 12]]]\n",
      "12\n",
      "3\n",
      "(2, 2, 3)\n"
     ]
    }
   ],
   "source": [
    "#3D arrays\n",
    "arr_2 = np.array([[[1,2,3],[4,5,6]],[[7,8,9],[10,11,12]]])\n",
    "print(arr_2)\n",
    "\n",
    "print(arr_2.size)\n",
    "print(arr_2.ndim)\n",
    "print(arr_2.shape)"
   ]
  },
  {
   "cell_type": "code",
   "execution_count": null,
   "metadata": {},
   "outputs": [
    {
     "name": "stdout",
     "output_type": "stream",
     "text": [
      "[1 2 3 1 5]\n",
      "int64\n"
     ]
    }
   ],
   "source": [
    "#dtype\n",
    "arr_1 = np.array([1,2,3,4,5])\n",
    "print(arr_1)\n",
    "print(arr_1.dtype)"
   ]
  },
  {
   "cell_type": "code",
   "execution_count": null,
   "metadata": {},
   "outputs": [
    {
     "name": "stdout",
     "output_type": "stream",
     "text": [
      "1\n",
      "5\n",
      "[2 3 4]\n",
      "[5 4 3 2 1]\n",
      "6\n",
      "[4 5 6]\n",
      "[3 6]\n",
      "2\n"
     ]
    }
   ],
   "source": [
    "#arry indexing \n",
    "arr_1 = np.array([1,2,3,4,5])\n",
    "print(arr_1[0])  # Accessing the first element\n",
    "print(arr_1[-1])  # Accessing the last element\n",
    "print(arr_1[1:4])  # Accessing elements from index 1 to 3 (not including 4)\n",
    "print(arr_1[::-1])  # Reversing the array\n",
    "\n",
    "#arry indexing in 2D arrays\n",
    "arr_2 = np.array([[1,2,3],[4,5,6]])\n",
    "print(arr_2[1,2])  # Accessing the element at row 0, column 1\n",
    "print(arr_2[1, :])  # Accessing the entire second row\n",
    "print(arr_2[:, 2])  # Accessing the third column    \n",
    "print(arr_2[-2, -2])\n"
   ]
  },
  {
   "cell_type": "code",
   "execution_count": null,
   "metadata": {},
   "outputs": [
    {
     "name": "stdout",
     "output_type": "stream",
     "text": [
      "[ True False  True  True False]\n",
      "[30 40 50]\n",
      "[30 40 50]\n",
      "[30 40]\n"
     ]
    }
   ],
   "source": [
    "#boolean indexing\n",
    "arr_1 = np.array([30,10,40,50,20])\n",
    "\n",
    "condition = arr_1 > 25\n",
    "\n",
    "print(condition)\n",
    "print(arr_1[condition])  # Accessing elements that satisfy the condition\n",
    "print(arr_1[arr_1 > 25])  # Another way to access elements that satisfy the condition\n",
    "print(arr_1[(arr_1 > 25) & (arr_1 < 45) ])  \n"
   ]
  },
  {
   "cell_type": "code",
   "execution_count": null,
   "metadata": {},
   "outputs": [
    {
     "name": "stdout",
     "output_type": "stream",
     "text": [
      "29.666666666666668\n",
      "[31 30 32 31 34 35 31 30]\n"
     ]
    }
   ],
   "source": [
    "#you are given the following array representing in body tempresure (celsius) of five patients or three times (moening,afternoon,evening)\n",
    "# 31  30  28\n",
    "# 29  29  32\n",
    "# 26  24  27\n",
    "# 31  34  35\n",
    "# 28  31  30  readings of the patients body temprsure\n",
    "#identify and extract all tempresure readings grater than the daily average temprsure using boolean  indexing\n",
    "\n",
    "\n",
    "tempresure = np.array([[31,30,28],[29,29,32],[26,24,27],[31,34,35],[28,31,30]])\n",
    "\n",
    "daily_average = np.mean(tempresure)\n",
    "\n",
    "print(daily_average)\n",
    "\n",
    "print(tempresure[tempresure > daily_average])"
   ]
  },
  {
   "cell_type": "code",
   "execution_count": null,
   "metadata": {},
   "outputs": [
    {
     "name": "stdout",
     "output_type": "stream",
     "text": [
      "[[0. 0. 0.]\n",
      " [0. 0. 0.]]\n",
      "[0. 0. 0. 0. 0.]\n"
     ]
    }
   ],
   "source": [
    "#numpy.zeros\n",
    "# np.zeros(shape , dtype=float)\n",
    "\n",
    "print(np.zeros((2,3)))  # 2D array with shape (2,3) filled with zeros\n",
    "\n",
    "print(np.zeros(5)) # 1D array with 5 elements filled with zeros"
   ]
  },
  {
   "cell_type": "code",
   "execution_count": null,
   "metadata": {},
   "outputs": [
    {
     "name": "stdout",
     "output_type": "stream",
     "text": [
      "[[7 7 7]\n",
      " [7 7 7]]\n",
      "[[1 2 3]\n",
      " [1 2 3]]\n"
     ]
    }
   ],
   "source": [
    "print(np.full((2,3), 7))\n",
    "print(np.full((2,3), (1, 2, 3)))  "
   ]
  },
  {
   "cell_type": "code",
   "execution_count": null,
   "metadata": {},
   "outputs": [
    {
     "name": "stdout",
     "output_type": "stream",
     "text": [
      "[[4.9e-324 9.9e-324 1.5e-323]\n",
      " [4.9e-324 9.9e-324 1.5e-323]]\n"
     ]
    }
   ],
   "source": [
    "#numpy.empty\n",
    "print(np.empty((2,3)))  # 2D array with shape (2,3) filled with uninitialized values"
   ]
  },
  {
   "cell_type": "code",
   "execution_count": null,
   "metadata": {},
   "outputs": [
    {
     "name": "stdout",
     "output_type": "stream",
     "text": [
      "      Name  Age\n",
      "0    Alice   25\n",
      "1      Bob   30\n",
      "2  Charlie   35\n",
      "3    David   23\n"
     ]
    }
   ],
   "source": [
    "#Pandas library\n",
    "\n",
    "import pandas as pd\n",
    "\n",
    "data = {\"Name\" : [\"Alice\", \"Bob\", \"Charlie\", \"David\"],\n",
    "        \"Age\" : [25, 30, 35,23],}\n",
    "\n",
    "df = pd.DataFrame(data)\n",
    "print(df)"
   ]
  },
  {
   "cell_type": "code",
   "execution_count": null,
   "metadata": {},
   "outputs": [
    {
     "name": "stdout",
     "output_type": "stream",
     "text": [
      "Alice\n",
      "35\n"
     ]
    }
   ],
   "source": [
    "#loc command\n",
    "print(df.loc[0,'Name']) # Accessing the first row and 'Name' column\n",
    "\n",
    "#iloc command\n",
    "print(df.iloc[2, 1])  # Accessing the first row and first column"
   ]
  },
  {
   "cell_type": "code",
   "execution_count": null,
   "metadata": {},
   "outputs": [
    {
     "name": "stdout",
     "output_type": "stream",
     "text": [
      "Name    Charlie\n",
      "Age          35\n",
      "Name: 2, dtype: object\n",
      "Name    Charlie\n",
      "Age          35\n",
      "Name: 2, dtype: object\n"
     ]
    }
   ],
   "source": [
    "#how to get rows by row name\n",
    "print(df.loc[2])  # Accessing the row with index 2\n",
    "\n",
    "print(df.iloc[2])  \n",
    "\n"
   ]
  },
  {
   "cell_type": "code",
   "execution_count": null,
   "metadata": {},
   "outputs": [
    {
     "name": "stdout",
     "output_type": "stream",
     "text": [
      "            Name  Age\n",
      "kavindu    Alice   25\n",
      "tharaka      Bob   30\n",
      "gamage   Charlie   35\n",
      "saman      David   23\n",
      "Name    Bob\n",
      "Age      30\n",
      "Name: tharaka, dtype: object\n",
      "Name    Charlie\n",
      "Age          35\n",
      "Name: gamage, dtype: object\n",
      "          Name  Age\n",
      "kavindu  Alice   25\n",
      "saman    David   23\n"
     ]
    }
   ],
   "source": [
    "df = pd.DataFrame(data,index=[\"kavindu\", \"tharaka\", \"gamage\", \"saman\"])\n",
    "print(df)\n",
    "\n",
    "print(df.iloc[1])  \n",
    "\n",
    "print(df.loc[\"gamage\"])  \n",
    "\n",
    "print(df.loc[[\"kavindu\", \"saman\"]])\n",
    "\n"
   ]
  },
  {
   "cell_type": "code",
   "execution_count": null,
   "metadata": {},
   "outputs": [
    {
     "name": "stdout",
     "output_type": "stream",
     "text": [
      "kavindu    25\n",
      "tharaka    30\n",
      "gamage     35\n",
      "saman      23\n",
      "Name: Age, dtype: int64\n",
      "Index(['Name', 'Age'], dtype='object')\n",
      "['Name', 'Age']\n"
     ]
    }
   ],
   "source": [
    "age_column = df[\"Age\"]\n",
    "print(age_column)\n",
    "\n",
    "print(df.columns)  # Accessing all column names\n",
    "print(list(df.columns))  # Converting column names to a list\n"
   ]
  },
  {
   "cell_type": "code",
   "execution_count": null,
   "metadata": {},
   "outputs": [
    {
     "name": "stdout",
     "output_type": "stream",
     "text": [
      "8\n",
      "(4, 2)\n",
      "4\n",
      "[['Alice' 25]\n",
      " ['Bob' 30]\n",
      " ['Charlie' 35]\n",
      " ['David' 23]]\n",
      "<class 'numpy.ndarray'>\n"
     ]
    }
   ],
   "source": [
    "print(df.size)  # Getting the number of elements in the DataFrame\n",
    "print(df.shape)  # Getting the shape of the DataFrame (rows, columns)\n",
    "print(len(df))  \n",
    "\n",
    "print(df.values)  # Getting the values of the DataFrame as a NumPy array\n",
    "print(type(df.values))  # Checking the type of the values"
   ]
  },
  {
   "cell_type": "code",
   "execution_count": null,
   "metadata": {},
   "outputs": [
    {
     "name": "stdout",
     "output_type": "stream",
     "text": [
      "28.25\n",
      "113\n"
     ]
    }
   ],
   "source": [
    "#DataFrame.mean()\n",
    "\n",
    "print(df['Age'].mean())\n",
    "print(df['Age'].sum())  "
   ]
  },
  {
   "cell_type": "code",
   "execution_count": null,
   "metadata": {},
   "outputs": [
    {
     "name": "stdout",
     "output_type": "stream",
     "text": [
      "            Name  Age     city  salary\n",
      "kavindu    Alice   25  colombo   50000\n",
      "tharaka      Bob   30    galle   60000\n",
      "gamage   Charlie   35   matara   70000\n",
      "saman      David   23    kandy   80000\n"
     ]
    }
   ],
   "source": [
    "df['city'] = [\"colombo\", \"galle\", \"matara\", \"kandy\"]\n",
    "\n",
    "df['salary'] = [50000, 60000, 70000, 80000]\n",
    "print(df)"
   ]
  },
  {
   "cell_type": "code",
   "execution_count": null,
   "metadata": {},
   "outputs": [
    {
     "name": "stdout",
     "output_type": "stream",
     "text": [
      "           Name  Age    city  salary\n",
      "gamage  Charlie   35  matara   70000\n"
     ]
    }
   ],
   "source": [
    "#Filtering rows in a DataFrame\n",
    "print(df[df['Age'] > 30])  # Filtering rows where 'Age' is"
   ]
  },
  {
   "cell_type": "code",
   "execution_count": null,
   "metadata": {},
   "outputs": [
    {
     "name": "stdout",
     "output_type": "stream",
     "text": [
      "        Name  Age   city  salary\n",
      "tharaka  Bob   30  galle   60000\n"
     ]
    }
   ],
   "source": [
    "print(df[(df['Age'] > 28) & (df['salary'] < 65000)])  "
   ]
  },
  {
   "cell_type": "code",
   "execution_count": null,
   "metadata": {},
   "outputs": [
    {
     "name": "stdout",
     "output_type": "stream",
     "text": [
      "   student_id      name  assignment_1  assignment_2  final_exam\n",
      "0        1001    ayesha            78            85          90\n",
      "1        1002     nimal            65            70          72\n",
      "2        1003  tharindu            88            90          95\n",
      "3        1004     kasun            50            45          60\n",
      "4        1005  shashini            80            75          85\n",
      "\n",
      "====================================================================================\n",
      "       name  final_exam\n",
      "0    ayesha          90\n",
      "2  tharindu          95\n",
      "4  shashini          85\n",
      "\n",
      "====================================================================================\n",
      "   student_id      name  assignment_1  assignment_2  final_exam    Average\n",
      "0        1001    ayesha            78            85          90  84.333333\n",
      "1        1002     nimal            65            70          72  69.000000\n",
      "2        1003  tharindu            88            90          95  91.000000\n",
      "3        1004     kasun            50            45          60  51.666667\n",
      "4        1005  shashini            80            75          85  80.000000\n",
      "\n",
      "====================================================================================\n",
      "       name  Average\n",
      "2  tharindu     91.0\n",
      "\n",
      "====================================================================================\n",
      "361\n"
     ]
    }
   ],
   "source": [
    "#you are given the following data set representing the exam records of students in a programming course the data includes marks for two assignment and the final exam \n",
    "#\n",
    "# s_id    name    ass_1  ass_2  fin_ex\n",
    "# 1001   ayesha     78     85     90\n",
    "# 1002   nimal      65     70     72\n",
    "# 1003   tharindu   88     90     95\n",
    "# 1004   kasun      50     45     60\n",
    "# 1005   shashini   80     75     85\n",
    "\n",
    "#write a python progarm using pandas to,\n",
    "# 1.create a data frame using the data given about\n",
    "# 2.display the name of all student who score more than 80 in the final exam\n",
    "# 3.computer average scope each students across all three assesments and add it as a new column call \"Average\"\n",
    "# 4.display the student(s) with the highest average score\n",
    "# 5.calculate and display the total marks scored by all students in assignment_1\n",
    "\n",
    "#Q 01\n",
    "student_data = {\n",
    "    \"student_id\" : [1001,1002,1003,1004,1005],\n",
    "    \"name\" : [\"ayesha\",\"nimal\",\"tharindu\",\"kasun\",\"shashini\"],\n",
    "    \"assignment_1\" : [78,65,88,50,80],\n",
    "    \"assignment_2\" : [85,70,90,45,75],\n",
    "    \"final_exam\" : [90,72,95,60,85]\n",
    "}\n",
    "\n",
    "s_df = pd.DataFrame(student_data)\n",
    "print(s_df)\n",
    "print()\n",
    "print(\"====================================================================================\")\n",
    "\n",
    "#Q 02\n",
    "# print(s_df[s_df[\"final_exam\"] > 80][\"name\"])\n",
    "\n",
    "high_marks = s_df[s_df[\"final_exam\"] > 80]\n",
    "print(high_marks[[\"name\" , \"final_exam\"]])\n",
    "print()\n",
    "print(\"====================================================================================\")\n",
    "\n",
    "#Q 03\n",
    "s_df[\"Average\"] = (s_df[\"assignment_1\"] + s_df[\"assignment_2\"] + s_df[\"final_exam\"]) / 3\n",
    "print(s_df)\n",
    "print()\n",
    "print(\"====================================================================================\")\n",
    "\n",
    "#Q 04\n",
    "print(s_df[s_df[\"Average\"] == s_df[\"Average\"].max()][[\"name\", \"Average\"]])\n",
    "print()\n",
    "\n",
    "print(\"====================================================================================\")\n",
    "\n",
    "#Q 05\n",
    "print(s_df['assignment_1'].sum()) \n",
    "\n",
    "\n"
   ]
  },
  {
   "cell_type": "code",
   "execution_count": null,
   "metadata": {},
   "outputs": [
    {
     "name": "stdout",
     "output_type": "stream",
     "text": [
      "      name  age     city\n",
      "0  kavindu   22    galle\n",
      "1  tharaka   18   matara\n",
      "2  gamagae   28  colombo\n",
      "<class 'pandas.core.frame.DataFrame'>\n"
     ]
    }
   ],
   "source": [
    "df = pd.read_csv(\"test.csv\")\n",
    "print(df)\n",
    "print(type(df))  # Checking the type of the DataFrame (df)"
   ]
  },
  {
   "cell_type": "code",
   "execution_count": null,
   "metadata": {},
   "outputs": [
    {
     "name": "stdout",
     "output_type": "stream",
     "text": [
      "<Response [200]>\n",
      "<class 'requests.models.Response'>\n",
      "200\n"
     ]
    }
   ],
   "source": [
    "import requests\n",
    "\n",
    "response = requests.get(\"https://api.github.com/events\")\n",
    "\n",
    "print(response) #output: <Response [200]>\n",
    "print(type(response))  # Checking the type of the response object\n",
    "print(response.status_code)  # Checking the status code of the response"
   ]
  },
  {
   "cell_type": "code",
   "execution_count": null,
   "metadata": {},
   "outputs": [
    {
     "name": "stdout",
     "output_type": "stream",
     "text": [
      "Success!\n",
      "https://api.github.com/events\n",
      "{'Date': 'Wed, 23 Jul 2025 04:00:19 GMT', 'Content-Type': 'application/json; charset=utf-8', 'Cache-Control': 'public, max-age=60, s-maxage=60', 'Vary': 'Accept,Accept-Encoding, Accept, X-Requested-With', 'ETag': 'W/\"4cd1f8d6c2f359465ea181a3bee0402bd7c5a97366bc022352d6876aa1a5b071\"', 'Last-Modified': 'Wed, 23 Jul 2025 03:55:19 GMT', 'X-Poll-Interval': '60', 'X-GitHub-Media-Type': 'github.v3; format=json', 'Link': '<https://api.github.com/events?page=2>; rel=\"next\", <https://api.github.com/events?page=10>; rel=\"last\"', 'x-github-api-version-selected': '2022-11-28', 'Access-Control-Expose-Headers': 'ETag, Link, Location, Retry-After, X-GitHub-OTP, X-RateLimit-Limit, X-RateLimit-Remaining, X-RateLimit-Used, X-RateLimit-Resource, X-RateLimit-Reset, X-OAuth-Scopes, X-Accepted-OAuth-Scopes, X-Poll-Interval, X-GitHub-Media-Type, X-GitHub-SSO, X-GitHub-Request-Id, Deprecation, Sunset', 'Access-Control-Allow-Origin': '*', 'Strict-Transport-Security': 'max-age=31536000; includeSubdomains; preload', 'X-Frame-Options': 'deny', 'X-Content-Type-Options': 'nosniff', 'X-XSS-Protection': '0', 'Referrer-Policy': 'origin-when-cross-origin, strict-origin-when-cross-origin', 'Content-Security-Policy': \"default-src 'none'\", 'Content-Encoding': 'gzip', 'Server': 'github.com', 'Accept-Ranges': 'bytes', 'X-RateLimit-Limit': '60', 'X-RateLimit-Remaining': '46', 'X-RateLimit-Reset': '1753245036', 'X-RateLimit-Resource': 'core', 'X-RateLimit-Used': '14', 'Transfer-Encoding': 'chunked', 'X-GitHub-Request-Id': 'E86F:2D873:497E6B:589385:68805E53'}\n",
      "<class 'requests.structures.CaseInsensitiveDict'>\n",
      "application/json; charset=utf-8\n",
      "[{\"id\":\"52423831464\",\"type\":\"PushEvent\",\"actor\":{\"id\":41898282,\"login\":\"github-actions[bot]\",\"display_login\":\"github-actions\",\"gravatar_id\":\"\",\"url\":\"https://api.github.com/users/github-actions[bot]\",\"avatar_url\":\"https://avatars.githubusercontent.com/u/41898282?\"},\"repo\":{\"id\":867623432,\"name\":\"xrwt/degisiklik-yapan-sistem\",\"url\":\"https://api.github.com/repos/xrwt/degisiklik-yapan-sistem\"},\"payload\":{\"repository_id\":867623432,\"push_id\":25665706303,\"size\":2,\"distinct_size\":2,\"ref\":\"refs/heads/main\",\"head\":\"ae7fad010cf73b41063c9d37b698317f2bad4c6b\",\"before\":\"23545f710b0f14b0dcf6496c4a3dd57754a7ca28\",\"commits\":[{\"sha\":\"a3cc8d83f30acefffb65c0a2beb55bdb04043d36\",\"author\":{\"email\":\"xrqu.live@gmail.com\",\"name\":\"xrwt\"},\"message\":\"[➕] Güncelleme (2. Ekleme, 801. Değişiklik)\",\"distinct\":true,\"url\":\"https://api.github.com/repos/xrwt/degisiklik-yapan-sistem/commits/a3cc8d83f30acefffb65c0a2beb55bdb04043d36\"},{\"sha\":\"ae7fad010cf73b41063c9d37b698317f2bad4c6b\",\"author\":{\"email\":\"xrqu.live@gmail.com\",\"name\":\"xrwt\"},\"message\":\"[➖] Güncelleme (2. Çıkarma, 801. Değişiklik)\",\"distinct\":true,\"url\":\"https://api.github.com/repos/xrwt/degisiklik-yapan-sistem/commits/ae7fad010cf73b41063c9d37b698317f2bad4c6b\"}]},\"public\":true,\"created_at\":\"2025-07-23T03:55:19Z\"},{\"id\":\"52423831403\",\"type\":\"PushEvent\",\"actor\":{\"id\":91687869,\"login\":\"ryanq47\",\"display_login\":\"ryanq47\",\"gravatar_id\":\"\",\"url\":\"https://api.github.com/users/ryanq47\",\"avatar_url\":\"https://avatars.githubusercontent.com/u/91687869?\"},\"repo\":{\"id\":1008531261,\"name\":\"ryanq47/CS-EXTC2-HUB\",\"url\":\"https://api.github.com/repos/ryanq47/CS-EXTC2-HUB\"},\"payload\":{\"repository_id\":1008531261,\"push_id\":25665706287,\"size\":1,\"distinct_size\":1,\"ref\":\"refs/heads/main\",\"head\":\"489aba699e9db37a5679a724717d85eef641be2d\",\"before\":\"bd3a3e46c13b1fa8b8494bd4b37621e1442a1953\",\"commits\":[{\"sha\":\"489aba699e9db37a5679a724717d85eef641be2d\",\"author\":{\"email\":\"ryankleffman47@gmail.com\",\"name\":\"Ryan Kleffman\"},\"message\":\"Added a quick guide on how to add your own payloads\",\"distinct\":true,\"url\":\"https://api.github.com/repos/ryanq47/CS-EXTC2-HUB/commits/489aba699e9db37a5679a724717d85eef641be2d\"}]},\"public\":true,\"created_at\":\"2025-07-23T03:55:19Z\"},{\"id\":\"52423831414\",\"type\":\"PushEvent\",\"actor\":{\"id\":34012681,\"login\":\"hunterchen7\",\"display_login\":\"hunterchen7\",\"gravatar_id\":\"\",\"url\":\"https://api.github.com/users/hunterchen7\",\"avatar_url\":\"https://avatars.githubusercontent.com/u/34012681?\"},\"repo\":{\"id\":346927010,\"name\":\"hackwestern/hackwestern\",\"url\":\"https://api.github.com/repos/hackwestern/hackwestern\"},\"payload\":{\"repository_id\":346927010,\"push_id\":25665706305,\"size\":1,\"distinct_size\":1,\"ref\":\"refs/heads/hunter/improve-canvas-performance\",\"head\":\"0cbfa6c4bd1b6334a396eedf7b6f467c5de2b784\",\"before\":\"8499c76705a26d49d1dd645a377577c690ee180b\",\"commits\":[{\"sha\":\"0cbfa6c4bd1b6334a396eedf7b6f467c5de2b784\",\"author\":{\"email\":\"prettify-hackwestern[bot]@users.noreply.github.com\",\"name\":\"prettify-hackwestern[bot]\"},\"message\":\"Prettify code\",\"distinct\":true,\"url\":\"https://api.github.com/repos/hackwestern/hackwestern/commits/0cbfa6c4bd1b6334a396eedf7b6f467c5de2b784\"}]},\"public\":true,\"created_at\":\"2025-07-23T03:55:19Z\",\"org\":{\"id\":10313591,\"login\":\"hackwestern\",\"gravatar_id\":\"\",\"url\":\"https://api.github.com/orgs/hackwestern\",\"avatar_url\":\"https://avatars.githubusercontent.com/u/10313591?\"}},{\"id\":\"52423831463\",\"type\":\"CreateEvent\",\"actor\":{\"id\":222342084,\"login\":\"brisa995\",\"display_login\":\"brisa995\",\"gravatar_id\":\"\",\"url\":\"https://api.github.com/users/brisa995\",\"avatar_url\":\"https://avatars.githubusercontent.com/u/222342084?\"},\"repo\":{\"id\":1024655160,\"name\":\"brisa995/mi-pagina\",\"url\":\"https://api.github.com/repos/brisa995/mi-pagina\"},\"payload\":{\"ref\":null,\"ref_type\":\"repository\",\"master_branch\":\"main\",\"description\":null,\"pusher_type\":\"user\"},\"public\":true,\"created_at\":\"2025-07-23T03:55:19Z\"},{\"id\":\"52423831280\",\"type\":\"PushEvent\",\"actor\":{\"id\":2982494,\"login\":\"mathomp4\",\"display_login\":\"mathomp4\",\"gravatar_id\":\"\",\"url\":\"https://api.github.com/users/mathomp4\",\"avatar_url\":\"https://avatars.githubusercontent.com/u/2982494?\"},\"repo\":{\"id\":979658854,\"name\":\"esmf-org/esmf-test-artifacts\",\"url\":\"https://api.github.com/repos/esmf-org/esmf-test-artifacts\"},\"payload\":{\"repository_id\":979658854,\"push_id\":25665706272,\"size\":1,\"distinct_size\":1,\"ref\":\"refs/heads/discover\",\"head\":\"7846990b31a4c1bf055fee35455132700d724507\",\"before\":\"b3a8d29e3dea238d6268b45bbc7038f9c4d038d1\",\"commits\":[{\"sha\":\"7846990b31a4c1bf055fee35455132700d724507\",\"author\":{\"email\":\"matthew.thompson@nasa.gov\",\"name\":\"Matthew Thompson\"},\"message\":\"action=collect dir=intel_2021.13.0-mvapich_mvapich_O_release_8.9.0 branch=release_8.9.0 hash=v8.9.0b14 phase=test\",\"distinct\":true,\"url\":\"https://api.github.com/repos/esmf-org/esmf-test-artifacts/commits/7846990b31a4c1bf055fee35455132700d724507\"}]},\"public\":true,\"created_at\":\"2025-07-23T03:55:19Z\",\"org\":{\"id\":60195040,\"login\":\"esmf-org\",\"gravatar_id\":\"\",\"url\":\"https://api.github.com/orgs/esmf-org\",\"avatar_url\":\"https://avatars.githubusercontent.com/u/60195040?\"}},{\"id\":\"52423831446\",\"type\":\"CreateEvent\",\"actor\":{\"id\":192453700,\"login\":\"Yahya-Riswan\",\"display_login\":\"Yahya-Riswan\",\"gravatar_id\":\"\",\"url\":\"https://api.github.com/users/Yahya-Riswan\",\"avatar_url\":\"https://avatars.githubusercontent.com/u/192453700?\"},\"repo\":{\"id\":1024647011,\"name\":\"Yahya-Riswan/React-Login-Register\",\"url\":\"https://api.github.com/repos/Yahya-Riswan/React-Login-Register\"},\"payload\":{\"ref\":\"main\",\"ref_type\":\"branch\",\"master_branch\":\"main\",\"description\":null,\"pusher_type\":\"user\"},\"public\":true,\"created_at\":\"2025-07-23T03:55:19Z\"},{\"id\":\"52423831345\",\"type\":\"PushEvent\",\"actor\":{\"id\":9161318,\"login\":\"ericpoynter\",\"display_login\":\"ericpoynter\",\"gravatar_id\":\"\",\"url\":\"https://api.github.com/users/ericpoynter\",\"avatar_url\":\"https://avatars.githubusercontent.com/u/9161318?\"},\"repo\":{\"id\":754315996,\"name\":\"ericpoynter/Voron2.4\",\"url\":\"https://api.github.com/repos/ericpoynter/Voron2.4\"},\"payload\":{\"repository_id\":754315996,\"push_id\":25665706291,\"size\":1,\"distinct_size\":1,\"ref\":\"refs/heads/main\",\"head\":\"04f4dc6d2bd6a004059aab8d26e763fc7286e9b6\",\"before\":\"074b1c04425ba967bca75b72537fc0aa1e4e27a4\",\"commits\":[{\"sha\":\"04f4dc6d2bd6a004059aab8d26e763fc7286e9b6\",\"author\":{\"email\":\"pi@voron24-aafa2c7\",\"name\":\"pi\"},\"message\":\"nevermore_air_filter.csv modified - 22/07/25 - 22:54:47 - No new changes pushed\",\"distinct\":true,\"url\":\"https://api.github.com/repos/ericpoynter/Voron2.4/commits/04f4dc6d2bd6a004059aab8d26e763fc7286e9b6\"}]},\"public\":true,\"created_at\":\"2025-07-23T03:55:19Z\"},{\"id\":\"52423831291\",\"type\":\"DeleteEvent\",\"actor\":{\"id\":70752650,\"login\":\"workflowsconnectortest\",\"display_login\":\"workflowsconnectortest\",\"gravatar_id\":\"\",\"url\":\"https://api.github.com/users/workflowsconnectortest\",\"avatar_url\":\"https://avatars.githubusercontent.com/u/70752650?\"},\"repo\":{\"id\":718819067,\"name\":\"workflowsconnectortest/createpullrequest\",\"url\":\"https://api.github.com/repos/workflowsconnectortest/createpullrequest\"},\"payload\":{\"ref\":\"z3vnp1czz\",\"ref_type\":\"branch\",\"pusher_type\":\"user\"},\"public\":true,\"created_at\":\"2025-07-23T03:55:19Z\"},{\"id\":\"52423831418\",\"type\":\"PushEvent\",\"actor\":{\"id\":20594569,\"login\":\"yoohyunseog\",\"display_login\":\"yoohyunseog\",\"gravatar_id\":\"\",\"url\":\"https://api.github.com/users/yoohyunseog\",\"avatar_url\":\"https://avatars.githubusercontent.com/u/20594569?\"},\"repo\":{\"id\":708217615,\"name\":\"yoohyunseog/todu7\",\"url\":\"https://api.github.com/repos/yoohyunseog/todu7\"},\"payload\":{\"repository_id\":708217615,\"push_id\":25665706312,\"size\":1,\"distinct_size\":1,\"ref\":\"refs/heads/main\",\"head\":\"9611ec869c224e7ab326ef0ea41567d731dca70c\",\"before\":\"2edfb6eede07b84d86a93461a578d3e0593a78c0\",\"commits\":[{\"sha\":\"9611ec869c224e7ab326ef0ea41567d731dca70c\",\"author\":{\"email\":\"dbghwns3@gmail.com\",\"name\":\"hyun seog yoo\"},\"message\":\"Add bing_grid_result_20250723_125515.png\",\"distinct\":true,\"url\":\"https://api.github.com/repos/yoohyunseog/todu7/commits/9611ec869c224e7ab326ef0ea41567d731dca70c\"}]},\"public\":true,\"created_at\":\"2025-07-23T03:55:19Z\"},{\"id\":\"52423831381\",\"type\":\"PushEvent\",\"actor\":{\"id\":194721343,\"login\":\"otjtme\",\"display_login\":\"otjtme\",\"gravatar_id\":\"\",\"url\":\"https://api.github.com/users/otjtme\",\"avatar_url\":\"https://avatars.githubusercontent.com/u/194721343?\"},\"repo\":{\"id\":917614658,\"name\":\"otjtme/wiki\",\"url\":\"https://api.github.com/repos/otjtme/wiki\"},\"payload\":{\"repository_id\":917614658,\"push_id\":25665706286,\"size\":1,\"distinct_size\":1,\"ref\":\"refs/heads/main\",\"head\":\"cf4889f3f32e089161d6c6516d02a70a1dbd36d5\",\"before\":\"3d9fd5c23bf36abbdee1e3b1c690d8ee105a286e\",\"commits\":[{\"sha\":\"cf4889f3f32e089161d6c6516d02a70a1dbd36d5\",\"author\":{\"email\":\"newjtme@gmail.com\",\"name\":\"OT JTME\"},\"message\":\"Updated Server Info\",\"distinct\":true,\"url\":\"https://api.github.com/repos/otjtme/wiki/commits/cf4889f3f32e089161d6c6516d02a70a1dbd36d5\"}]},\"public\":true,\"created_at\":\"2025-07-23T03:55:19Z\"},{\"id\":\"52423831370\",\"type\":\"PushEvent\",\"actor\":{\"id\":41898282,\"login\":\"github-actions[bot]\",\"display_login\":\"github-actions\",\"gravatar_id\":\"\",\"url\":\"https://api.github.com/users/github-actions[bot]\",\"avatar_url\":\"https://avatars.githubusercontent.com/u/41898282?\"},\"repo\":{\"id\":602001883,\"name\":\"DISIC/dashlord-observatoire\",\"url\":\"https://api.github.com/repos/DISIC/dashlord-observatoire\"},\"payload\":{\"repository_id\":602001883,\"push_id\":25665706298,\"size\":1,\"distinct_size\":1,\"ref\":\"refs/heads/main\",\"head\":\"ea21af379afb23fe28706907896bf234f86ee23a\",\"before\":\"8533b62330e09011fc2089b6e6e596afdbeb6bd1\",\"commits\":[{\"sha\":\"ea21af379afb23fe28706907896bf234f86ee23a\",\"author\":{\"email\":\"ClementNumericite@users.noreply.github.com\",\"name\":\"ClementNumericite\"},\"message\":\"update: https://candidat.francetravail.fr/\",\"distinct\":true,\"url\":\"https://api.github.com/repos/DISIC/dashlord-observatoire/commits/ea21af379afb23fe28706907896bf234f86ee23a\"}]},\"public\":true,\"created_at\":\"2025-07-23T03:55:19Z\",\"org\":{\"id\":12644724,\"login\":\"DISIC\",\"gravatar_id\":\"\",\"url\":\"https://api.github.com/orgs/DISIC\",\"avatar_url\":\"https://avatars.githubusercontent.com/u/12644724?\"}},{\"id\":\"52423831365\",\"type\":\"PushEvent\",\"actor\":{\"id\":41898282,\"login\":\"github-actions[bot]\",\"display_login\":\"github-actions\",\"gravatar_id\":\"\",\"url\":\"https://api.github.com/users/github-actions[bot]\",\"avatar_url\":\"https://avatars.githubusercontent.com/u/41898282?\"},\"repo\":{\"id\":795152999,\"name\":\"omegion1npm/repudiandae-eveniet-laboriosam\",\"url\":\"https://api.github.com/repos/omegion1npm/repudiandae-eveniet-laboriosam\"},\"payload\":{\"repository_id\":795152999,\"push_id\":25665706296,\"size\":1,\"distinct_size\":1,\"ref\":\"refs/heads/main\",\"head\":\"a433da076c5a25fbe458fbfd52d3be078a4c57bd\",\"before\":\"9581714f9feb70fbbd8def86982d43afb3bcd7e9\",\"commits\":[{\"sha\":\"a433da076c5a25fbe458fbfd52d3be078a4c57bd\",\"author\":{\"email\":\"30870651+omegion1@users.noreply.github.com\",\"name\":\"omegion1\"},\"message\":\"Ta nu poledi rexudojuf. Gehero boci cos commit change.\",\"distinct\":true,\"url\":\"https://api.github.com/repos/omegion1npm/repudiandae-eveniet-laboriosam/commits/a433da076c5a25fbe458fbfd52d3be078a4c57bd\"}]},\"public\":true,\"created_at\":\"2025-07-23T03:55:19Z\",\"org\":{\"id\":167519668,\"login\":\"omegion1npm\",\"gravatar_id\":\"\",\"url\":\"https://api.github.com/orgs/omegion1npm\",\"avatar_url\":\"https://avatars.githubusercontent.com/u/167519668?\"}},{\"id\":\"52423831323\",\"type\":\"PushEvent\",\"actor\":{\"id\":140982750,\"login\":\"qwe213312\",\"display_login\":\"qwe213312\",\"gravatar_id\":\"\",\"url\":\"https://api.github.com/users/qwe213312\",\"avatar_url\":\"https://avatars.githubusercontent.com/u/140982750?\"},\"repo\":{\"id\":672669787,\"name\":\"qwe213312/k25FCdfEOoEJ42S6\",\"url\":\"https://api.github.com/repos/qwe213312/k25FCdfEOoEJ42S6\"},\"payload\":{\"repository_id\":672669787,\"push_id\":25665706267,\"size\":1,\"distinct_size\":1,\"ref\":\"refs/heads/main\",\"head\":\"30a27ac1828ec4a2649b887d398b3083a8fa3b5d\",\"before\":\"c63ec8b8023b19a81793bf87a9ab9957b4552b50\",\"commits\":[{\"sha\":\"30a27ac1828ec4a2649b887d398b3083a8fa3b5d\",\"author\":{\"email\":\"^@^\",\"name\":\"1\"},\"message\":\"1\",\"distinct\":true,\"url\":\"https://api.github.com/repos/qwe213312/k25FCdfEOoEJ42S6/commits/30a27ac1828ec4a2649b887d398b3083a8fa3b5d\"}]},\"public\":true,\"created_at\":\"2025-07-23T03:55:19Z\"},{\"id\":\"52423831306\",\"type\":\"PushEvent\",\"actor\":{\"id\":41898282,\"login\":\"github-actions[bot]\",\"display_login\":\"github-actions\",\"gravatar_id\":\"\",\"url\":\"https://api.github.com/users/github-actions[bot]\",\"avatar_url\":\"https://avatars.githubusercontent.com/u/41898282?\"},\"repo\":{\"id\":741314444,\"name\":\"imnotandroid/weread2notion-pro\",\"url\":\"https://api.github.com/repos/imnotandroid/weread2notion-pro\"},\"payload\":{\"repository_id\":741314444,\"push_id\":25665706259,\"size\":1,\"distinct_size\":1,\"ref\":\"refs/heads/main\",\"head\":\"1994c0234271abd93804fcd654058f506acbb6a2\",\"before\":\"28b01a30f91d22e54cf0a5601fc06d650c704fa9\",\"commits\":[{\"sha\":\"1994c0234271abd93804fcd654058f506acbb6a2\",\"author\":{\"email\":\"action@github.com\",\"name\":\"GitHub Action\"},\"message\":\"add new heatmap\",\"distinct\":true,\"url\":\"https://api.github.com/repos/imnotandroid/weread2notion-pro/commits/1994c0234271abd93804fcd654058f506acbb6a2\"}]},\"public\":true,\"created_at\":\"2025-07-23T03:55:19Z\"},{\"id\":\"52423831247\",\"type\":\"PushEvent\",\"actor\":{\"id\":206540467,\"login\":\"donggeunchoi\",\"display_login\":\"donggeunchoi\",\"gravatar_id\":\"\",\"url\":\"https://api.github.com/users/donggeunchoi\",\"avatar_url\":\"https://avatars.githubusercontent.com/u/206540467?\"},\"repo\":{\"id\":1005306796,\"name\":\"donggeunchoi/Tower-Challenger\",\"url\":\"https://api.github.com/repos/donggeunchoi/Tower-Challenger\"},\"payload\":{\"repository_id\":1005306796,\"push_id\":25665706253,\"size\":5,\"distinct_size\":0,\"ref\":\"refs/heads/Dev4_DongGeun(SlimeJump)\",\"head\":\"2e54c235cf152f03ba3dfd07a02eef977712e819\",\"before\":\"f93905792758d6c2b919bc36a07cf703a92fc4f2\",\"commits\":[{\"sha\":\"2de6f5003b94592b86871d0f8c85f7855ba4fb09\",\"author\":{\"email\":\"206494390+Hae1385@users.noreply.github.com\",\"name\":\"Hae1385\"},\"message\":\"Fix : 넘어가는 씬 수정\",\"distinct\":false,\"url\":\"https://api.github.com/repos/donggeunchoi/Tower-Challenger/commits/2de6f5003b94592b86871d0f8c85f7855ba4fb09\"},{\"sha\":\"7911073c6b03069a11bc8431ee7b097ed891c959\",\"author\":{\"email\":\"206494390+Hae1385@users.noreply.github.com\",\"name\":\"Hae1385\"},\"message\":\"Fix : 플레이어 참조 방식으로 변경\",\"distinct\":false,\"url\":\"https://api.github.com/repos/donggeunchoi/Tower-Challenger/commits/7911073c6b03069a11bc8431ee7b097ed891c959\"},{\"sha\":\"a354412f28691bf717e2895387aed223bc9f96f5\",\"author\":{\"email\":\"206494390+Hae1385@users.noreply.github.com\",\"name\":\"Hae1385\"},\"message\":\"Add : 게임오버 사운드 추가 및 캐릭터 호출방식 변경\",\"distinct\":false,\"url\":\"https://api.github.com/repos/donggeunchoi/Tower-Challenger/commits/a354412f28691bf717e2895387aed223bc9f96f5\"},{\"sha\":\"a8f0a6f97fc8f971eae5dde72bc2d6e4a3efbedf\",\"author\":{\"email\":\"206494390+Hae1385@users.noreply.github.com\",\"name\":\"Hae1385\"},\"message\":\"Merge branch 'dev4' into GameManager_LHS\",\"distinct\":false,\"url\":\"https://api.github.com/repos/donggeunchoi/Tower-Challenger/commits/a8f0a6f97fc8f971eae5dde72bc2d6e4a3efbedf\"},{\"sha\":\"2e54c235cf152f03ba3dfd07a02eef977712e819\",\"author\":{\"email\":\"zx3248@naver.com\",\"name\":\"Hae1385\"},\"message\":\"Merge pull request #48 from donggeunchoi/GameManager_LHS\\n\\nMerge : 플레이어 참조 방식 변경 및 게임오버 사운드 추가\",\"distinct\":false,\"url\":\"https://api.github.com/repos/donggeunchoi/Tower-Challenger/commits/2e54c235cf152f03ba3dfd07a02eef977712e819\"}]},\"public\":true,\"created_at\":\"2025-07-23T03:55:19Z\"},{\"id\":\"52423831257\",\"type\":\"PushEvent\",\"actor\":{\"id\":150838094,\"login\":\"CarlosJChileS\",\"display_login\":\"CarlosJChileS\",\"gravatar_id\":\"\",\"url\":\"https://api.github.com/users/CarlosJChileS\",\"avatar_url\":\"https://avatars.githubusercontent.com/u/150838094?\"},\"repo\":{\"id\":1022703694,\"name\":\"CarlosJChileS/Arquitecturaproject\",\"url\":\"https://api.github.com/repos/CarlosJChileS/Arquitecturaproject\"},\"payload\":{\"repository_id\":1022703694,\"push_id\":25665706257,\"size\":1,\"distinct_size\":1,\"ref\":\"refs/heads/codex/implement-paypal-edge-function-and-updates\",\"head\":\"12a50711eee83eebf28b0449879d6f063bb07b08\",\"before\":\"713bca6c66a728298143a005462e3258c3b90aa1\",\"commits\":[{\"sha\":\"12a50711eee83eebf28b0449879d6f063bb07b08\",\"author\":{\"email\":\"150838094+CarlosJChileS@users.noreply.github.com\",\"name\":\"Carlos Chile\"},\"message\":\"Add PayPal edge function and integrate\",\"distinct\":true,\"url\":\"https://api.github.com/repos/CarlosJChileS/Arquitecturaproject/commits/12a50711eee83eebf28b0449879d6f063bb07b08\"}]},\"public\":true,\"created_at\":\"2025-07-23T03:55:19Z\"},{\"id\":\"52423831261\",\"type\":\"PushEvent\",\"actor\":{\"id\":61152623,\"login\":\"sinanLab\",\"display_login\":\"sinanLab\",\"gravatar_id\":\"\",\"url\":\"https://api.github.com/users/sinanLab\",\"avatar_url\":\"https://avatars.githubusercontent.com/u/61152623?\"},\"repo\":{\"id\":908708890,\"name\":\"sinanLab/sinanlab.github.io\",\"url\":\"https://api.github.com/repos/sinanLab/sinanlab.github.io\"},\"payload\":{\"repository_id\":908708890,\"push_id\":25665706252,\"size\":1,\"distinct_size\":1,\"ref\":\"refs/heads/main\",\"head\":\"9d52908b5630e59a92b15add551bcd3d1ba2010f\",\"before\":\"b5d4f216646be1d0bb46fd66d34a0618680c26cd\",\"commits\":[{\"sha\":\"9d52908b5630e59a92b15add551bcd3d1ba2010f\",\"author\":{\"email\":\"sinanmathematics@gmail.com\",\"name\":\"Muhammad Sinan\"},\"message\":\"contact form updated\",\"distinct\":true,\"url\":\"https://api.github.com/repos/sinanLab/sinanlab.github.io/commits/9d52908b5630e59a92b15add551bcd3d1ba2010f\"}]},\"public\":true,\"created_at\":\"2025-07-23T03:55:19Z\"},{\"id\":\"52423831246\",\"type\":\"PushEvent\",\"actor\":{\"id\":178983490,\"login\":\"clement-lo\",\"display_login\":\"clement-lo\",\"gravatar_id\":\"\",\"url\":\"https://api.github.com/users/clement-lo\",\"avatar_url\":\"https://avatars.githubusercontent.com/u/178983490?\"},\"repo\":{\"id\":845618907,\"name\":\"clement-lo/imagej-calcium-imaging-macro\",\"url\":\"https://api.github.com/repos/clement-lo/imagej-calcium-imaging-macro\"},\"payload\":{\"repository_id\":845618907,\"push_id\":25665706263,\"size\":1,\"distinct_size\":1,\"ref\":\"refs/heads/main\",\"head\":\"ebe0b3066d4e2e4030f0505fff8565b8cf69411e\",\"before\":\"33a82d9c153a75024a3cb4d65169e397126fd935\",\"commits\":[{\"sha\":\"ebe0b3066d4e2e4030f0505fff8565b8cf69411e\",\"author\":{\"email\":\"clement.clo@gmail.com\",\"name\":\"Electrophysiology, Neuroimmunology\"},\"message\":\"Update README.md\",\"distinct\":true,\"url\":\"https://api.github.com/repos/clement-lo/imagej-calcium-imaging-macro/commits/ebe0b3066d4e2e4030f0505fff8565b8cf69411e\"}]},\"public\":true,\"created_at\":\"2025-07-23T03:55:19Z\"},{\"id\":\"52423831245\",\"type\":\"PushEvent\",\"actor\":{\"id\":221431064,\"login\":\"ZiroxTKL\",\"display_login\":\"ZiroxTKL\",\"gravatar_id\":\"\",\"url\":\"https://api.github.com/users/ZiroxTKL\",\"avatar_url\":\"https://avatars.githubusercontent.com/u/221431064?\"},\"repo\":{\"id\":1021752178,\"name\":\"ZiroxTKL/MCServer\",\"url\":\"https://api.github.com/repos/ZiroxTKL/MCServer\"},\"payload\":{\"repository_id\":1021752178,\"push_id\":25665706247,\"size\":1,\"distinct_size\":1,\"ref\":\"refs/heads/main\",\"head\":\"08cb00daf0d6de68cf6dd08104ec9fc31d6b2e85\",\"before\":\"8724141d9168140e7f9c7dac9c9ddc55677ce981\",\"commits\":[{\"sha\":\"08cb00daf0d6de68cf6dd08104ec9fc31d6b2e85\",\"author\":{\"email\":\"l28018213@gmail.com\",\"name\":\"ZiroxTKL\"},\"message\":\"[🌙] Backup realizado! 2025-07-23\",\"distinct\":true,\"url\":\"https://api.github.com/repos/ZiroxTKL/MCServer/commits/08cb00daf0d6de68cf6dd08104ec9fc31d6b2e85\"}]},\"public\":true,\"created_at\":\"2025-07-23T03:55:19Z\"},{\"id\":\"52423831217\",\"type\":\"PullRequestEvent\",\"actor\":{\"id\":201420002,\"login\":\"cha-title-62035\",\"display_login\":\"cha-title-62035\",\"gravatar_id\":\"\",\"url\":\"https://api.github.com/users/cha-title-62035\",\"avatar_url\":\"https://avatars.githubusercontent.com/u/201420002?\"},\"repo\":{\"id\":978583245,\"name\":\"Supakon2543/TLS-BackEnd\",\"url\":\"https://api.github.com/repos/Supakon2543/TLS-BackEnd\"},\"payload\":{\"action\":\"closed\",\"number\":117,\"pull_request\":{\"url\":\"https://api.github.com/repos/Supakon2543/TLS-BackEnd/pulls/117\",\"id\":2687402563,\"node_id\":\"PR_kwDOOlP-zc6gLoJD\",\"html_url\":\"https://github.com/Supakon2543/TLS-BackEnd/pull/117\",\"diff_url\":\"https://github.com/Supakon2543/TLS-BackEnd/pull/117.diff\",\"patch_url\":\"https://github.com/Supakon2543/TLS-BackEnd/pull/117.patch\",\"issue_url\":\"https://api.github.com/repos/Supakon2543/TLS-BackEnd/issues/117\",\"number\":117,\"state\":\"closed\",\"locked\":false,\"title\":\"fix error function\",\"user\":{\"login\":\"cha-title-62035\",\"id\":201420002,\"node_id\":\"U_kgDODAFs4g\",\"avatar_url\":\"https://avatars.githubusercontent.com/u/201420002?v=4\",\"gravatar_id\":\"\",\"url\":\"https://api.github.com/users/cha-title-62035\",\"html_url\":\"https://github.com/cha-title-62035\",\"followers_url\":\"https://api.github.com/users/cha-title-62035/followers\",\"following_url\":\"https://api.github.com/users/cha-title-62035/following{/other_user}\",\"gists_url\":\"https://api.github.com/users/cha-title-62035/gists{/gist_id}\",\"starred_url\":\"https://api.github.com/users/cha-title-62035/starred{/owner}{/repo}\",\"subscriptions_url\":\"https://api.github.com/users/cha-title-62035/subscriptions\",\"organizations_url\":\"https://api.github.com/users/cha-title-62035/orgs\",\"repos_url\":\"https://api.github.com/users/cha-title-62035/repos\",\"events_url\":\"https://api.github.com/users/cha-title-62035/events{/privacy}\",\"received_events_url\":\"https://api.github.com/users/cha-title-62035/received_events\",\"type\":\"User\",\"user_view_type\":\"public\",\"site_admin\":false},\"body\":null,\"created_at\":\"2025-07-23T03:55:12Z\",\"updated_at\":\"2025-07-23T03:55:18Z\",\"closed_at\":\"2025-07-23T03:55:18Z\",\"merged_at\":\"2025-07-23T03:55:18Z\",\"merge_commit_sha\":\"7e964001bec2ad269395f3d3dd56d8ed8c0c8209\",\"assignee\":null,\"assignees\":[],\"requested_reviewers\":[],\"requested_teams\":[],\"labels\":[],\"milestone\":null,\"draft\":false,\"commits_url\":\"https://api.github.com/repos/Supakon2543/TLS-BackEnd/pulls/117/commits\",\"review_comments_url\":\"https://api.github.com/repos/Supakon2543/TLS-BackEnd/pulls/117/comments\",\"review_comment_url\":\"https://api.github.com/repos/Supakon2543/TLS-BackEnd/pulls/comments{/number}\",\"comments_url\":\"https://api.github.com/repos/Supakon2543/TLS-BackEnd/issues/117/comments\",\"statuses_url\":\"https://api.github.com/repos/Supakon2543/TLS-BackEnd/statuses/322c4a70adac80fc47ce85e95cc8ca82851c099e\",\"head\":{\"label\":\"Supakon2543:title-workspace\",\"ref\":\"title-workspace\",\"sha\":\"322c4a70adac80fc47ce85e95cc8ca82851c099e\",\"user\":{\"login\":\"Supakon2543\",\"id\":199206241,\"node_id\":\"U_kgDOC9-lYQ\",\"avatar_url\":\"https://avatars.githubusercontent.com/u/199206241?v=4\",\"gravatar_id\":\"\",\"url\":\"https://api.github.com/users/Supakon2543\",\"html_url\":\"https://github.com/Supakon2543\",\"followers_url\":\"https://api.github.com/users/Supakon2543/followers\",\"following_url\":\"https://api.github.com/users/Supakon2543/following{/other_user}\",\"gists_url\":\"https://api.github.com/users/Supakon2543/gists{/gist_id}\",\"starred_url\":\"https://api.github.com/users/Supakon2543/starred{/owner}{/repo}\",\"subscriptions_url\":\"https://api.github.com/users/Supakon2543/subscriptions\",\"organizations_url\":\"https://api.github.com/users/Supakon2543/orgs\",\"repos_url\":\"https://api.github.com/users/Supakon2543/repos\",\"events_url\":\"https://api.github.com/users/Supakon2543/events{/privacy}\",\"received_events_url\":\"https://api.github.com/users/Supakon2543/received_events\",\"type\":\"User\",\"user_view_type\":\"public\",\"site_admin\":false},\"repo\":{\"id\":978583245,\"node_id\":\"R_kgDOOlP-zQ\",\"name\":\"TLS-BackEnd\",\"full_name\":\"Supakon2543/TLS-BackEnd\",\"private\":false,\"owner\":{\"login\":\"Supakon2543\",\"id\":199206241,\"node_id\":\"U_kgDOC9-lYQ\",\"avatar_url\":\"https://avatars.githubusercontent.com/u/199206241?v=4\",\"gravatar_id\":\"\",\"url\":\"https://api.github.com/users/Supakon2543\",\"html_url\":\"https://github.com/Supakon2543\",\"followers_url\":\"https://api.github.com/users/Supakon2543/followers\",\"following_url\":\"https://api.github.com/users/Supakon2543/following{/other_user}\",\"gists_url\":\"https://api.github.com/users/Supakon2543/gists{/gist_id}\",\"starred_url\":\"https://api.github.com/users/Supakon2543/starred{/owner}{/repo}\",\"subscriptions_url\":\"https://api.github.com/users/Supakon2543/subscriptions\",\"organizations_url\":\"https://api.github.com/users/Supakon2543/orgs\",\"repos_url\":\"https://api.github.com/users/Supakon2543/repos\",\"events_url\":\"https://api.github.com/users/Supakon2543/events{/privacy}\",\"received_events_url\":\"https://api.github.com/users/Supakon2543/received_events\",\"type\":\"User\",\"user_view_type\":\"public\",\"site_admin\":false},\"html_url\":\"https://github.com/Supakon2543/TLS-BackEnd\",\"description\":\"BackEnd&Migration\",\"fork\":false,\"url\":\"https://api.github.com/repos/Supakon2543/TLS-BackEnd\",\"forks_url\":\"https://api.github.com/repos/Supakon2543/TLS-BackEnd/forks\",\"keys_url\":\"https://api.github.com/repos/Supakon2543/TLS-BackEnd/keys{/key_id}\",\"collaborators_url\":\"https://api.github.com/repos/Supakon2543/TLS-BackEnd/collaborators{/collaborator}\",\"teams_url\":\"https://api.github.com/repos/Supakon2543/TLS-BackEnd/teams\",\"hooks_url\":\"https://api.github.com/repos/Supakon2543/TLS-BackEnd/hooks\",\"issue_events_url\":\"https://api.github.com/repos/Supakon2543/TLS-BackEnd/issues/events{/number}\",\"events_url\":\"https://api.github.com/repos/Supakon2543/TLS-BackEnd/events\",\"assignees_url\":\"https://api.github.com/repos/Supakon2543/TLS-BackEnd/assignees{/user}\",\"branches_url\":\"https://api.github.com/repos/Supakon2543/TLS-BackEnd/branches{/branch}\",\"tags_url\":\"https://api.github.com/repos/Supakon2543/TLS-BackEnd/tags\",\"blobs_url\":\"https://api.github.com/repos/Supakon2543/TLS-BackEnd/git/blobs{/sha}\",\"git_tags_url\":\"https://api.github.com/repos/Supakon2543/TLS-BackEnd/git/tags{/sha}\",\"git_refs_url\":\"https://api.github.com/repos/Supakon2543/TLS-BackEnd/git/refs{/sha}\",\"trees_url\":\"https://api.github.com/repos/Supakon2543/TLS-BackEnd/git/trees{/sha}\",\"statuses_url\":\"https://api.github.com/repos/Supakon2543/TLS-BackEnd/statuses/{sha}\",\"languages_url\":\"https://api.github.com/repos/Supakon2543/TLS-BackEnd/languages\",\"stargazers_url\":\"https://api.github.com/repos/Supakon2543/TLS-BackEnd/stargazers\",\"contributors_url\":\"https://api.github.com/repos/Supakon2543/TLS-BackEnd/contributors\",\"subscribers_url\":\"https://api.github.com/repos/Supakon2543/TLS-BackEnd/subscribers\",\"subscription_url\":\"https://api.github.com/repos/Supakon2543/TLS-BackEnd/subscription\",\"commits_url\":\"https://api.github.com/repos/Supakon2543/TLS-BackEnd/commits{/sha}\",\"git_commits_url\":\"https://api.github.com/repos/Supakon2543/TLS-BackEnd/git/commits{/sha}\",\"comments_url\":\"https://api.github.com/repos/Supakon2543/TLS-BackEnd/comments{/number}\",\"issue_comment_url\":\"https://api.github.com/repos/Supakon2543/TLS-BackEnd/issues/comments{/number}\",\"contents_url\":\"https://api.github.com/repos/Supakon2543/TLS-BackEnd/contents/{+path}\",\"compare_url\":\"https://api.github.com/repos/Supakon2543/TLS-BackEnd/compare/{base}...{head}\",\"merges_url\":\"https://api.github.com/repos/Supakon2543/TLS-BackEnd/merges\",\"archive_url\":\"https://api.github.com/repos/Supakon2543/TLS-BackEnd/{archive_format}{/ref}\",\"downloads_url\":\"https://api.github.com/repos/Supakon2543/TLS-BackEnd/downloads\",\"issues_url\":\"https://api.github.com/repos/Supakon2543/TLS-BackEnd/issues{/number}\",\"pulls_url\":\"https://api.github.com/repos/Supakon2543/TLS-BackEnd/pulls{/number}\",\"milestones_url\":\"https://api.github.com/repos/Supakon2543/TLS-BackEnd/milestones{/number}\",\"notifications_url\":\"https://api.github.com/repos/Supakon2543/TLS-BackEnd/notifications{?since,all,participating}\",\"labels_url\":\"https://api.github.com/repos/Supakon2543/TLS-BackEnd/labels{/name}\",\"releases_url\":\"https://api.github.com/repos/Supakon2543/TLS-BackEnd/releases{/id}\",\"deployments_url\":\"https://api.github.com/repos/Supakon2543/TLS-BackEnd/deployments\",\"created_at\":\"2025-05-06T07:57:54Z\",\"updated_at\":\"2025-07-23T03:20:56Z\",\"pushed_at\":\"2025-07-23T03:54:59Z\",\"git_url\":\"git://github.com/Supakon2543/TLS-BackEnd.git\",\"ssh_url\":\"git@github.com:Supakon2543/TLS-BackEnd.git\",\"clone_url\":\"https://github.com/Supakon2543/TLS-BackEnd.git\",\"svn_url\":\"https://github.com/Supakon2543/TLS-BackEnd\",\"homepage\":null,\"size\":11273,\"stargazers_count\":0,\"watchers_count\":0,\"language\":\"TypeScript\",\"has_issues\":true,\"has_projects\":true,\"has_downloads\":true,\"has_wiki\":false,\"has_pages\":false,\"has_discussions\":false,\"forks_count\":0,\"mirror_url\":null,\"archived\":false,\"disabled\":false,\"open_issues_count\":0,\"license\":null,\"allow_forking\":true,\"is_template\":false,\"web_commit_signoff_required\":false,\"topics\":[],\"visibility\":\"public\",\"forks\":0,\"open_issues\":0,\"watchers\":0,\"default_branch\":\"master\"}},\"base\":{\"label\":\"Supakon2543:master\",\"ref\":\"master\",\"sha\":\"f2cc96bcdf263d804342d0a5e6085ff289cbae39\",\"user\":{\"login\":\"Supakon2543\",\"id\":199206241,\"node_id\":\"U_kgDOC9-lYQ\",\"avatar_url\":\"https://avatars.githubusercontent.com/u/199206241?v=4\",\"gravatar_id\":\"\",\"url\":\"https://api.github.com/users/Supakon2543\",\"html_url\":\"https://github.com/Supakon2543\",\"followers_url\":\"https://api.github.com/users/Supakon2543/followers\",\"following_url\":\"https://api.github.com/users/Supakon2543/following{/other_user}\",\"gists_url\":\"https://api.github.com/users/Supakon2543/gists{/gist_id}\",\"starred_url\":\"https://api.github.com/users/Supakon2543/starred{/owner}{/repo}\",\"subscriptions_url\":\"https://api.github.com/users/Supakon2543/subscriptions\",\"organizations_url\":\"https://api.github.com/users/Supakon2543/orgs\",\"repos_url\":\"https://api.github.com/users/Supakon2543/repos\",\"events_url\":\"https://api.github.com/users/Supakon2543/events{/privacy}\",\"received_events_url\":\"https://api.github.com/users/Supakon2543/received_events\",\"type\":\"User\",\"user_view_type\":\"public\",\"site_admin\":false},\"repo\":{\"id\":978583245,\"node_id\":\"R_kgDOOlP-zQ\",\"name\":\"TLS-BackEnd\",\"full_name\":\"Supakon2543/TLS-BackEnd\",\"private\":false,\"owner\":{\"login\":\"Supakon2543\",\"id\":199206241,\"node_id\":\"U_kgDOC9-lYQ\",\"avatar_url\":\"https://avatars.githubusercontent.com/u/199206241?v=4\",\"gravatar_id\":\"\",\"url\":\"https://api.github.com/users/Supakon2543\",\"html_url\":\"https://github.com/Supakon2543\",\"followers_url\":\"https://api.github.com/users/Supakon2543/followers\",\"following_url\":\"https://api.github.com/users/Supakon2543/following{/other_user}\",\"gists_url\":\"https://api.github.com/users/Supakon2543/gists{/gist_id}\",\"starred_url\":\"https://api.github.com/users/Supakon2543/starred{/owner}{/repo}\",\"subscriptions_url\":\"https://api.github.com/users/Supakon2543/subscriptions\",\"organizations_url\":\"https://api.github.com/users/Supakon2543/orgs\",\"repos_url\":\"https://api.github.com/users/Supakon2543/repos\",\"events_url\":\"https://api.github.com/users/Supakon2543/events{/privacy}\",\"received_events_url\":\"https://api.github.com/users/Supakon2543/received_events\",\"type\":\"User\",\"user_view_type\":\"public\",\"site_admin\":false},\"html_url\":\"https://github.com/Supakon2543/TLS-BackEnd\",\"description\":\"BackEnd&Migration\",\"fork\":false,\"url\":\"https://api.github.com/repos/Supakon2543/TLS-BackEnd\",\"forks_url\":\"https://api.github.com/repos/Supakon2543/TLS-BackEnd/forks\",\"keys_url\":\"https://api.github.com/repos/Supakon2543/TLS-BackEnd/keys{/key_id}\",\"collaborators_url\":\"https://api.github.com/repos/Supakon2543/TLS-BackEnd/collaborators{/collaborator}\",\"teams_url\":\"https://api.github.com/repos/Supakon2543/TLS-BackEnd/teams\",\"hooks_url\":\"https://api.github.com/repos/Supakon2543/TLS-BackEnd/hooks\",\"issue_events_url\":\"https://api.github.com/repos/Supakon2543/TLS-BackEnd/issues/events{/number}\",\"events_url\":\"https://api.github.com/repos/Supakon2543/TLS-BackEnd/events\",\"assignees_url\":\"https://api.github.com/repos/Supakon2543/TLS-BackEnd/assignees{/user}\",\"branches_url\":\"https://api.github.com/repos/Supakon2543/TLS-BackEnd/branches{/branch}\",\"tags_url\":\"https://api.github.com/repos/Supakon2543/TLS-BackEnd/tags\",\"blobs_url\":\"https://api.github.com/repos/Supakon2543/TLS-BackEnd/git/blobs{/sha}\",\"git_tags_url\":\"https://api.github.com/repos/Supakon2543/TLS-BackEnd/git/tags{/sha}\",\"git_refs_url\":\"https://api.github.com/repos/Supakon2543/TLS-BackEnd/git/refs{/sha}\",\"trees_url\":\"https://api.github.com/repos/Supakon2543/TLS-BackEnd/git/trees{/sha}\",\"statuses_url\":\"https://api.github.com/repos/Supakon2543/TLS-BackEnd/statuses/{sha}\",\"languages_url\":\"https://api.github.com/repos/Supakon2543/TLS-BackEnd/languages\",\"stargazers_url\":\"https://api.github.com/repos/Supakon2543/TLS-BackEnd/stargazers\",\"contributors_url\":\"https://api.github.com/repos/Supakon2543/TLS-BackEnd/contributors\",\"subscribers_url\":\"https://api.github.com/repos/Supakon2543/TLS-BackEnd/subscribers\",\"subscription_url\":\"https://api.github.com/repos/Supakon2543/TLS-BackEnd/subscription\",\"commits_url\":\"https://api.github.com/repos/Supakon2543/TLS-BackEnd/commits{/sha}\",\"git_commits_url\":\"https://api.github.com/repos/Supakon2543/TLS-BackEnd/git/commits{/sha}\",\"comments_url\":\"https://api.github.com/repos/Supakon2543/TLS-BackEnd/comments{/number}\",\"issue_comment_url\":\"https://api.github.com/repos/Supakon2543/TLS-BackEnd/issues/comments{/number}\",\"contents_url\":\"https://api.github.com/repos/Supakon2543/TLS-BackEnd/contents/{+path}\",\"compare_url\":\"https://api.github.com/repos/Supakon2543/TLS-BackEnd/compare/{base}...{head}\",\"merges_url\":\"https://api.github.com/repos/Supakon2543/TLS-BackEnd/merges\",\"archive_url\":\"https://api.github.com/repos/Supakon2543/TLS-BackEnd/{archive_format}{/ref}\",\"downloads_url\":\"https://api.github.com/repos/Supakon2543/TLS-BackEnd/downloads\",\"issues_url\":\"https://api.github.com/repos/Supakon2543/TLS-BackEnd/issues{/number}\",\"pulls_url\":\"https://api.github.com/repos/Supakon2543/TLS-BackEnd/pulls{/number}\",\"milestones_url\":\"https://api.github.com/repos/Supakon2543/TLS-BackEnd/milestones{/number}\",\"notifications_url\":\"https://api.github.com/repos/Supakon2543/TLS-BackEnd/notifications{?since,all,participating}\",\"labels_url\":\"https://api.github.com/repos/Supakon2543/TLS-BackEnd/labels{/name}\",\"releases_url\":\"https://api.github.com/repos/Supakon2543/TLS-BackEnd/releases{/id}\",\"deployments_url\":\"https://api.github.com/repos/Supakon2543/TLS-BackEnd/deployments\",\"created_at\":\"2025-05-06T07:57:54Z\",\"updated_at\":\"2025-07-23T03:20:56Z\",\"pushed_at\":\"2025-07-23T03:54:59Z\",\"git_url\":\"git://github.com/Supakon2543/TLS-BackEnd.git\",\"ssh_url\":\"git@github.com:Supakon2543/TLS-BackEnd.git\",\"clone_url\":\"https://github.com/Supakon2543/TLS-BackEnd.git\",\"svn_url\":\"https://github.com/Supakon2543/TLS-BackEnd\",\"homepage\":null,\"size\":11273,\"stargazers_count\":0,\"watchers_count\":0,\"language\":\"TypeScript\",\"has_issues\":true,\"has_projects\":true,\"has_downloads\":true,\"has_wiki\":false,\"has_pages\":false,\"has_discussions\":false,\"forks_count\":0,\"mirror_url\":null,\"archived\":false,\"disabled\":false,\"open_issues_count\":0,\"license\":null,\"allow_forking\":true,\"is_template\":false,\"web_commit_signoff_required\":false,\"topics\":[],\"visibility\":\"public\",\"forks\":0,\"open_issues\":0,\"watchers\":0,\"default_branch\":\"master\"}},\"_links\":{\"self\":{\"href\":\"https://api.github.com/repos/Supakon2543/TLS-BackEnd/pulls/117\"},\"html\":{\"href\":\"https://github.com/Supakon2543/TLS-BackEnd/pull/117\"},\"issue\":{\"href\":\"https://api.github.com/repos/Supakon2543/TLS-BackEnd/issues/117\"},\"comments\":{\"href\":\"https://api.github.com/repos/Supakon2543/TLS-BackEnd/issues/117/comments\"},\"review_comments\":{\"href\":\"https://api.github.com/repos/Supakon2543/TLS-BackEnd/pulls/117/comments\"},\"review_comment\":{\"href\":\"https://api.github.com/repos/Supakon2543/TLS-BackEnd/pulls/comments{/number}\"},\"commits\":{\"href\":\"https://api.github.com/repos/Supakon2543/TLS-BackEnd/pulls/117/commits\"},\"statuses\":{\"href\":\"https://api.github.com/repos/Supakon2543/TLS-BackEnd/statuses/322c4a70adac80fc47ce85e95cc8ca82851c099e\"}},\"author_association\":\"COLLABORATOR\",\"auto_merge\":null,\"active_lock_reason\":null,\"merged\":true,\"mergeable\":null,\"rebaseable\":null,\"mergeable_state\":\"unknown\",\"merged_by\":{\"login\":\"cha-title-62035\",\"id\":201420002,\"node_id\":\"U_kgDODAFs4g\",\"avatar_url\":\"https://avatars.githubusercontent.com/u/201420002?v=4\",\"gravatar_id\":\"\",\"url\":\"https://api.github.com/users/cha-title-62035\",\"html_url\":\"https://github.com/cha-title-62035\",\"followers_url\":\"https://api.github.com/users/cha-title-62035/followers\",\"following_url\":\"https://api.github.com/users/cha-title-62035/following{/other_user}\",\"gists_url\":\"https://api.github.com/users/cha-title-62035/gists{/gist_id}\",\"starred_url\":\"https://api.github.com/users/cha-title-62035/starred{/owner}{/repo}\",\"subscriptions_url\":\"https://api.github.com/users/cha-title-62035/subscriptions\",\"organizations_url\":\"https://api.github.com/users/cha-title-62035/orgs\",\"repos_url\":\"https://api.github.com/users/cha-title-62035/repos\",\"events_url\":\"https://api.github.com/users/cha-title-62035/events{/privacy}\",\"received_events_url\":\"https://api.github.com/users/cha-title-62035/received_events\",\"type\":\"User\",\"user_view_type\":\"public\",\"site_admin\":false},\"comments\":0,\"review_comments\":0,\"maintainer_can_modify\":false,\"commits\":1,\"additions\":2,\"deletions\":2,\"changed_files\":1}},\"public\":true,\"created_at\":\"2025-07-23T03:55:19Z\"},{\"id\":\"52423831100\",\"type\":\"DeleteEvent\",\"actor\":{\"id\":49699333,\"login\":\"dependabot[bot]\",\"display_login\":\"dependabot\",\"gravatar_id\":\"\",\"url\":\"https://api.github.com/users/dependabot[bot]\",\"avatar_url\":\"https://avatars.githubusercontent.com/u/49699333?\"},\"repo\":{\"id\":906394137,\"name\":\"isaaclvs/hospital-management\",\"url\":\"https://api.github.com/repos/isaaclvs/hospital-management\"},\"payload\":{\"ref\":\"dependabot/bundler/rspec-rails-8.0.1\",\"ref_type\":\"branch\",\"pusher_type\":\"user\"},\"public\":true,\"created_at\":\"2025-07-23T03:55:19Z\"},{\"id\":\"52423831069\",\"type\":\"PushEvent\",\"actor\":{\"id\":52497445,\"login\":\"secgeek\",\"display_login\":\"secgeek\",\"gravatar_id\":\"\",\"url\":\"https://api.github.com/users/secgeek\",\"avatar_url\":\"https://avatars.githubusercontent.com/u/52497445?\"},\"repo\":{\"id\":476135172,\"name\":\"secgeek/juice-shop\",\"url\":\"https://api.github.com/repos/secgeek/juice-shop\"},\"payload\":{\"repository_id\":476135172,\"push_id\":25665706233,\"size\":1,\"distinct_size\":1,\"ref\":\"refs/heads/snyk-fix-9c5411f94da58c276d2bdd83b9111b6a\",\"head\":\"b9c354020524e91bf3975e02ff9db6525c950ae5\",\"before\":\"0d22f2a61b0737b59d7e873af9e65e9ffb3e7aee\",\"commits\":[{\"sha\":\"b9c354020524e91bf3975e02ff9db6525c950ae5\",\"author\":{\"email\":\"snyk-bot@snyk.io\",\"name\":\"snyk-bot\"},\"message\":\"fix: frontend/package.json to reduce vulnerabilities\\n\\nThe following vulnerabilities are fixed with an upgrade:\\n- https://snyk.io/vuln/SNYK-JS-FORMDATA-10841150\",\"distinct\":true,\"url\":\"https://api.github.com/repos/secgeek/juice-shop/commits/b9c354020524e91bf3975e02ff9db6525c950ae5\"}]},\"public\":true,\"created_at\":\"2025-07-23T03:55:19Z\"},{\"id\":\"52423831062\",\"type\":\"PushEvent\",\"actor\":{\"id\":212785051,\"login\":\"pralinevillari\",\"display_login\":\"pralinevillari\",\"gravatar_id\":\"\",\"url\":\"https://api.github.com/users/pralinevillari\",\"avatar_url\":\"https://avatars.githubusercontent.com/u/212785051?\"},\"repo\":{\"id\":987939069,\"name\":\"pralinevillari/my_dakboard_data\",\"url\":\"https://api.github.com/repos/pralinevillari/my_dakboard_data\"},\"payload\":{\"repository_id\":987939069,\"push_id\":25665706227,\"size\":1,\"distinct_size\":1,\"ref\":\"refs/heads/main\",\"head\":\"5f4c0b2985fd8ca93a6439d7b0d98749ab9fd654\",\"before\":\"accbaf307dec486f5bdf1a77ca05c9ad248ef92c\",\"commits\":[{\"sha\":\"5f4c0b2985fd8ca93a6439d7b0d98749ab9fd654\",\"author\":{\"email\":\"praline.villari@gmail.com\",\"name\":\"pralinevillari\"},\"message\":\"Update chart image\",\"distinct\":true,\"url\":\"https://api.github.com/repos/pralinevillari/my_dakboard_data/commits/5f4c0b2985fd8ca93a6439d7b0d98749ab9fd654\"}]},\"public\":true,\"created_at\":\"2025-07-23T03:55:19Z\"},{\"id\":\"52423830971\",\"type\":\"PushEvent\",\"actor\":{\"id\":87141165,\"login\":\"trunk-staging-io[bot]\",\"display_login\":\"trunk-staging-io\",\"gravatar_id\":\"\",\"url\":\"https://api.github.com/users/trunk-staging-io[bot]\",\"avatar_url\":\"https://avatars.githubusercontent.com/u/87141165?\"},\"repo\":{\"id\":1021130530,\"name\":\"trunk-io/mergequeue-demo\",\"url\":\"https://api.github.com/repos/trunk-io/mergequeue-demo\"},\"payload\":{\"repository_id\":1021130530,\"push_id\":25665706212,\"size\":2,\"distinct_size\":1,\"ref\":\"refs/heads/trunk-temp/pr-19757/7f9cfd6b-c9bd-4d7f-9e84-c49dfda2b00f\",\"head\":\"a70317c2649551b05efc4b31f460714020af1fbe\",\"before\":\"5c33b7c6ce5f15d026bd85be7b9d7fee8f8baa65\",\"commits\":[{\"sha\":\"b46ca7661d216fc8e0634cdfaa8f70eb71e35e80\",\"author\":{\"email\":\"bot@trunk.io\",\"name\":\"trunk bot\"},\"message\":\"Moving words antihumanist\",\"distinct\":false,\"url\":\"https://api.github.com/repos/trunk-io/mergequeue-demo/commits/b46ca7661d216fc8e0634cdfaa8f70eb71e35e80\"},{\"sha\":\"a70317c2649551b05efc4b31f460714020af1fbe\",\"author\":{\"email\":\"87141165+trunk-staging-io[bot]@users.noreply.github.com\",\"name\":\"trunk-staging-io[bot]\"},\"message\":\"Merging b46ca7661d216fc8e0634cdfaa8f70eb71e35e80 into trunk-temp/pr-19757/7f9cfd6b-c9bd-4d7f-9e84-c49dfda2b00f\",\"distinct\":true,\"url\":\"https://api.github.com/repos/trunk-io/mergequeue-demo/commits/a70317c2649551b05efc4b31f460714020af1fbe\"}]},\"public\":true,\"created_at\":\"2025-07-23T03:55:18Z\",\"org\":{\"id\":74779146,\"login\":\"trunk-io\",\"gravatar_id\":\"\",\"url\":\"https://api.github.com/orgs/trunk-io\",\"avatar_url\":\"https://avatars.githubusercontent.com/u/74779146?\"}},{\"id\":\"52423831118\",\"type\":\"PushEvent\",\"actor\":{\"id\":41898282,\"login\":\"github-actions[bot]\",\"display_login\":\"github-actions\",\"gravatar_id\":\"\",\"url\":\"https://api.github.com/users/github-actions[bot]\",\"avatar_url\":\"https://avatars.githubusercontent.com/u/41898282?\"},\"repo\":{\"id\":777346399,\"name\":\"libtommy2024/architecto-eius-quos-error\",\"url\":\"https://api.github.com/repos/libtommy2024/architecto-eius-quos-error\"},\"payload\":{\"repository_id\":777346399,\"push_id\":25665706218,\"size\":1,\"distinct_size\":1,\"ref\":\"refs/heads/main\",\"head\":\"aee78ea04213a9b2acd57e4852c8e142e65428d7\",\"before\":\"fde331f09ffd5eb7a1805512deadcbd77e6fc934\",\"commits\":[{\"sha\":\"aee78ea04213a9b2acd57e4852c8e142e65428d7\",\"author\":{\"email\":\"105532954+OraliePham@users.noreply.github.com\",\"name\":\"OraliePham\"},\"message\":\"Util code binoma ponibe nuliqupe library gibec ge. Yucubura.\",\"distinct\":true,\"url\":\"https://api.github.com/repos/libtommy2024/architecto-eius-quos-error/commits/aee78ea04213a9b2acd57e4852c8e142e65428d7\"}]},\"public\":true,\"created_at\":\"2025-07-23T03:55:19Z\",\"org\":{\"id\":164900158,\"login\":\"libtommy2024\",\"gravatar_id\":\"\",\"url\":\"https://api.github.com/orgs/libtommy2024\",\"avatar_url\":\"https://avatars.githubusercontent.com/u/164900158?\"}},{\"id\":\"52423831052\",\"type\":\"PushEvent\",\"actor\":{\"id\":7395671,\"login\":\"manojdeshmukh\",\"display_login\":\"manojdeshmukh\",\"gravatar_id\":\"\",\"url\":\"https://api.github.com/users/manojdeshmukh\",\"avatar_url\":\"https://avatars.githubusercontent.com/u/7395671?\"},\"repo\":{\"id\":1024135619,\"name\":\"yogeshmuli/pudhekai\",\"url\":\"https://api.github.com/repos/yogeshmuli/pudhekai\"},\"payload\":{\"repository_id\":1024135619,\"push_id\":25665706220,\"size\":1,\"distinct_size\":1,\"ref\":\"refs/heads/main\",\"head\":\"ae9afdce37ca893e5d42178c7fe095d48196899c\",\"before\":\"cf1b826ef5b68e83875da7c33cf91d77baf0b679\",\"commits\":[{\"sha\":\"ae9afdce37ca893e5d42178c7fe095d48196899c\",\"author\":{\"email\":\"“manojDeshmukh@gmail.com”\",\"name\":\"“manojDeshmukh”\"},\"message\":\"added family quiz and scoring\",\"distinct\":true,\"url\":\"https://api.github.com/repos/yogeshmuli/pudhekai/commits/ae9afdce37ca893e5d42178c7fe095d48196899c\"}]},\"public\":true,\"created_at\":\"2025-07-23T03:55:19Z\"},{\"id\":\"52423831010\",\"type\":\"ForkEvent\",\"actor\":{\"id\":222350786,\"login\":\"Livechat-Assistance-Teams\",\"display_login\":\"Livechat-Assistance-Teams\",\"gravatar_id\":\"\",\"url\":\"https://api.github.com/users/Livechat-Assistance-Teams\",\"avatar_url\":\"https://avatars.githubusercontent.com/u/222350786?\"},\"repo\":{\"id\":1001879587,\"name\":\"Customer-Service-Assistance/Coinbase-Support-Team\",\"url\":\"https://api.github.com/repos/Customer-Service-Assistance/Coinbase-Support-Team\"},\"payload\":{\"forkee\":{\"id\":1024655159,\"node_id\":\"R_kgDOPRL_Nw\",\"name\":\"Coinbase-Support-Team\",\"full_name\":\"Livechat-Assistance-Teams/Coinbase-Support-Team\",\"private\":false,\"owner\":{\"login\":\"Livechat-Assistance-Teams\",\"id\":222350786,\"node_id\":\"U_kgDODUDNwg\",\"avatar_url\":\"https://avatars.githubusercontent.com/u/222350786?v=4\",\"gravatar_id\":\"\",\"url\":\"https://api.github.com/users/Livechat-Assistance-Teams\",\"html_url\":\"https://github.com/Livechat-Assistance-Teams\",\"followers_url\":\"https://api.github.com/users/Livechat-Assistance-Teams/followers\",\"following_url\":\"https://api.github.com/users/Livechat-Assistance-Teams/following{/other_user}\",\"gists_url\":\"https://api.github.com/users/Livechat-Assistance-Teams/gists{/gist_id}\",\"starred_url\":\"https://api.github.com/users/Livechat-Assistance-Teams/starred{/owner}{/repo}\",\"subscriptions_url\":\"https://api.github.com/users/Livechat-Assistance-Teams/subscriptions\",\"organizations_url\":\"https://api.github.com/users/Livechat-Assistance-Teams/orgs\",\"repos_url\":\"https://api.github.com/users/Livechat-Assistance-Teams/repos\",\"events_url\":\"https://api.github.com/users/Livechat-Assistance-Teams/events{/privacy}\",\"received_events_url\":\"https://api.github.com/users/Livechat-Assistance-Teams/received_events\",\"type\":\"User\",\"user_view_type\":\"public\",\"site_admin\":false},\"html_url\":\"https://github.com/Livechat-Assistance-Teams/Coinbase-Support-Team\",\"description\":null,\"fork\":true,\"url\":\"https://api.github.com/repos/Livechat-Assistance-Teams/Coinbase-Support-Team\",\"forks_url\":\"https://api.github.com/repos/Livechat-Assistance-Teams/Coinbase-Support-Team/forks\",\"keys_url\":\"https://api.github.com/repos/Livechat-Assistance-Teams/Coinbase-Support-Team/keys{/key_id}\",\"collaborators_url\":\"https://api.github.com/repos/Livechat-Assistance-Teams/Coinbase-Support-Team/collaborators{/collaborator}\",\"teams_url\":\"https://api.github.com/repos/Livechat-Assistance-Teams/Coinbase-Support-Team/teams\",\"hooks_url\":\"https://api.github.com/repos/Livechat-Assistance-Teams/Coinbase-Support-Team/hooks\",\"issue_events_url\":\"https://api.github.com/repos/Livechat-Assistance-Teams/Coinbase-Support-Team/issues/events{/number}\",\"events_url\":\"https://api.github.com/repos/Livechat-Assistance-Teams/Coinbase-Support-Team/events\",\"assignees_url\":\"https://api.github.com/repos/Livechat-Assistance-Teams/Coinbase-Support-Team/assignees{/user}\",\"branches_url\":\"https://api.github.com/repos/Livechat-Assistance-Teams/Coinbase-Support-Team/branches{/branch}\",\"tags_url\":\"https://api.github.com/repos/Livechat-Assistance-Teams/Coinbase-Support-Team/tags\",\"blobs_url\":\"https://api.github.com/repos/Livechat-Assistance-Teams/Coinbase-Support-Team/git/blobs{/sha}\",\"git_tags_url\":\"https://api.github.com/repos/Livechat-Assistance-Teams/Coinbase-Support-Team/git/tags{/sha}\",\"git_refs_url\":\"https://api.github.com/repos/Livechat-Assistance-Teams/Coinbase-Support-Team/git/refs{/sha}\",\"trees_url\":\"https://api.github.com/repos/Livechat-Assistance-Teams/Coinbase-Support-Team/git/trees{/sha}\",\"statuses_url\":\"https://api.github.com/repos/Livechat-Assistance-Teams/Coinbase-Support-Team/statuses/{sha}\",\"languages_url\":\"https://api.github.com/repos/Livechat-Assistance-Teams/Coinbase-Support-Team/languages\",\"stargazers_url\":\"https://api.github.com/repos/Livechat-Assistance-Teams/Coinbase-Support-Team/stargazers\",\"contributors_url\":\"https://api.github.com/repos/Livechat-Assistance-Teams/Coinbase-Support-Team/contributors\",\"subscribers_url\":\"https://api.github.com/repos/Livechat-Assistance-Teams/Coinbase-Support-Team/subscribers\",\"subscription_url\":\"https://api.github.com/repos/Livechat-Assistance-Teams/Coinbase-Support-Team/subscription\",\"commits_url\":\"https://api.github.com/repos/Livechat-Assistance-Teams/Coinbase-Support-Team/commits{/sha}\",\"git_commits_url\":\"https://api.github.com/repos/Livechat-Assistance-Teams/Coinbase-Support-Team/git/commits{/sha}\",\"comments_url\":\"https://api.github.com/repos/Livechat-Assistance-Teams/Coinbase-Support-Team/comments{/number}\",\"issue_comment_url\":\"https://api.github.com/repos/Livechat-Assistance-Teams/Coinbase-Support-Team/issues/comments{/number}\",\"contents_url\":\"https://api.github.com/repos/Livechat-Assistance-Teams/Coinbase-Support-Team/contents/{+path}\",\"compare_url\":\"https://api.github.com/repos/Livechat-Assistance-Teams/Coinbase-Support-Team/compare/{base}...{head}\",\"merges_url\":\"https://api.github.com/repos/Livechat-Assistance-Teams/Coinbase-Support-Team/merges\",\"archive_url\":\"https://api.github.com/repos/Livechat-Assistance-Teams/Coinbase-Support-Team/{archive_format}{/ref}\",\"downloads_url\":\"https://api.github.com/repos/Livechat-Assistance-Teams/Coinbase-Support-Team/downloads\",\"issues_url\":\"https://api.github.com/repos/Livechat-Assistance-Teams/Coinbase-Support-Team/issues{/number}\",\"pulls_url\":\"https://api.github.com/repos/Livechat-Assistance-Teams/Coinbase-Support-Team/pulls{/number}\",\"milestones_url\":\"https://api.github.com/repos/Livechat-Assistance-Teams/Coinbase-Support-Team/milestones{/number}\",\"notifications_url\":\"https://api.github.com/repos/Livechat-Assistance-Teams/Coinbase-Support-Team/notifications{?since,all,participating}\",\"labels_url\":\"https://api.github.com/repos/Livechat-Assistance-Teams/Coinbase-Support-Team/labels{/name}\",\"releases_url\":\"https://api.github.com/repos/Livechat-Assistance-Teams/Coinbase-Support-Team/releases{/id}\",\"deployments_url\":\"https://api.github.com/repos/Livechat-Assistance-Teams/Coinbase-Support-Team/deployments\",\"created_at\":\"2025-07-23T03:55:18Z\",\"updated_at\":\"2025-07-23T03:55:18Z\",\"pushed_at\":\"2025-06-14T08:26:22Z\",\"git_url\":\"git://github.com/Livechat-Assistance-Teams/Coinbase-Support-Team.git\",\"ssh_url\":\"git@github.com:Livechat-Assistance-Teams/Coinbase-Support-Team.git\",\"clone_url\":\"https://github.com/Livechat-Assistance-Teams/Coinbase-Support-Team.git\",\"svn_url\":\"https://github.com/Livechat-Assistance-Teams/Coinbase-Support-Team\",\"homepage\":null,\"size\":352,\"stargazers_count\":0,\"watchers_count\":0,\"language\":null,\"has_issues\":false,\"has_projects\":true,\"has_downloads\":true,\"has_wiki\":true,\"has_pages\":false,\"has_discussions\":false,\"forks_count\":0,\"mirror_url\":null,\"archived\":false,\"disabled\":false,\"open_issues_count\":0,\"license\":null,\"allow_forking\":true,\"is_template\":false,\"web_commit_signoff_required\":false,\"topics\":[],\"visibility\":\"public\",\"forks\":0,\"open_issues\":0,\"watchers\":0,\"default_branch\":\"main\",\"public\":true}},\"public\":true,\"created_at\":\"2025-07-23T03:55:19Z\"},{\"id\":\"52423830817\",\"type\":\"PushEvent\",\"actor\":{\"id\":41898282,\"login\":\"github-actions[bot]\",\"display_login\":\"github-actions\",\"gravatar_id\":\"\",\"url\":\"https://api.github.com/users/github-actions[bot]\",\"avatar_url\":\"https://avatars.githubusercontent.com/u/41898282?\"},\"repo\":{\"id\":1024251923,\"name\":\"xxx675702999/Cloud189Checkin\",\"url\":\"https://api.github.com/repos/xxx675702999/Cloud189Checkin\"},\"payload\":{\"repository_id\":1024251923,\"push_id\":25665706202,\"size\":1,\"distinct_size\":1,\"ref\":\"refs/heads/main\",\"head\":\"e21f8109a3c99be6ade12122a3fbbd46a0bdb942\",\"before\":\"27d440648f09c285bcfdd8283facf09e2bf10c62\",\"commits\":[{\"sha\":\"e21f8109a3c99be6ade12122a3fbbd46a0bdb942\",\"author\":{\"email\":\"46703897+xxx675702999@users.noreply.github.com\",\"name\":\"xxx675702999\"},\"message\":\"Keep Running...\",\"distinct\":true,\"url\":\"https://api.github.com/repos/xxx675702999/Cloud189Checkin/commits/e21f8109a3c99be6ade12122a3fbbd46a0bdb942\"}]},\"public\":true,\"created_at\":\"2025-07-23T03:55:18Z\"},{\"id\":\"52423830968\",\"type\":\"PullRequestReviewEvent\",\"actor\":{\"id\":1766085,\"login\":\"eghasemy\",\"display_login\":\"eghasemy\",\"gravatar_id\":\"\",\"url\":\"https://api.github.com/users/eghasemy\",\"avatar_url\":\"https://avatars.githubusercontent.com/u/1766085?\"},\"repo\":{\"id\":1020450182,\"name\":\"eghasemy/klipper\",\"url\":\"https://api.github.com/repos/eghasemy/klipper\"},\"payload\":{\"action\":\"created\",\"review\":{\"id\":3045468880,\"node_id\":\"PRR_kwDOPNLVhs61hirQ\",\"user\":{\"login\":\"eghasemy\",\"id\":1766085,\"node_id\":\"MDQ6VXNlcjE3NjYwODU=\",\"avatar_url\":\"https://avatars.githubusercontent.com/u/1766085?v=4\",\"gravatar_id\":\"\",\"url\":\"https://api.github.com/users/eghasemy\",\"html_url\":\"https://github.com/eghasemy\",\"followers_url\":\"https://api.github.com/users/eghasemy/followers\",\"following_url\":\"https://api.github.com/users/eghasemy/following{/other_user}\",\"gists_url\":\"https://api.github.com/users/eghasemy/gists{/gist_id}\",\"starred_url\":\"https://api.github.com/users/eghasemy/starred{/owner}{/repo}\",\"subscriptions_url\":\"https://api.github.com/users/eghasemy/subscriptions\",\"organizations_url\":\"https://api.github.com/users/eghasemy/orgs\",\"repos_url\":\"https://api.github.com/users/eghasemy/repos\",\"events_url\":\"https://api.github.com/users/eghasemy/events{/privacy}\",\"received_events_url\":\"https://api.github.com/users/eghasemy/received_events\",\"type\":\"User\",\"user_view_type\":\"public\",\"site_admin\":false},\"body\":\"@copilot \\r\\n\\r\\n3:34 pm\\r\\nAdaptive calibration complete. Results saved to /tmp/adaptive_calibration_*\\r\\n3:34 pm\\r\\nTesting linear pattern: speeds (40.0, 60.0), accels (4000.0, 6000.0)\\r\\n3:34 pm\\r\\nTesting linear pattern: speeds (40.0, 60.0), accels (2400.0, 3600.0)\\r\\n3:34 pm\\r\\nTesting linear pattern: speeds (40.0, 60.0), accels (800.0, 1200.0)\\r\\n3:34 pm\\r\\nTesting movement patterns (simplified for demo)\\r\\n3:34 pm\\r\\nTesting movement patterns...\\r\\n3:34 pm\\r\\nWarning: Failed to test z-axis at point 15: 'ResonanceTester' object has no attribute '_test_axis'\\r\\n3:34 pm\\r\\nWarning: Failed to test y-axis at point 15: 'ResonanceTester' object has no attribute '_test_axis'\\r\\n3:34 pm\\r\\nWarning: Failed to test x-axis at point 15: 'ResonanceTester' object has no attribute '_test_axis'\\r\\n3:34 pm\\r\\nCalibrating point 16/16: X=180.0 Y=180.0\\r\\n3:34 pm\\r\\nWarning: Failed to test z-axis at point 14: 'ResonanceTester' object has no attribute '_test_axis'\\r\\n3:34 pm\\r\\nWarning: Failed to test y-axis at point 14: 'ResonanceTester' object has no attribute '_test_axis'\\r\\n3:34 pm\\r\\nWarning: Failed to test x-axis at point 14: 'ResonanceTester' object has no attribute '_test_axis'\\r\\n3:34 pm\\r\\nCalibrating point 15/16: X=180.0 Y=126.7\\r\\n3:34 pm\\r\\nWarning: Failed to test z-axis at point 13: 'ResonanceTester' object has no attribute '_test_axis'\\r\\n3:34 pm\\r\\nWarning: Failed to test y-axis at point 13: 'ResonanceTester' object has no attribute '_test_axis'\\r\\n3:34 pm\\r\\nWarning: Failed to test x-axis at point 13: 'ResonanceTester' object has no attribute '_test_axis'\\r\\n3:34 pm\\r\\nCalibrating point 14/16: X=180.0 Y=73.3\\r\\n3:34 pm\\r\\nWarning: Failed to test z-axis at point 12: 'ResonanceTester' object has no attribute '_test_axis'\\r\\n3:34 pm\\r\\nWarning: Failed to test y-axis at point 12: 'ResonanceTester' object has no attribute '_test_axis'\\r\\n3:34 pm\\r\\nWarning: Failed to test x-axis at point 12: 'ResonanceTester' object has no attribute '_test_axis'\\r\\n3:34 pm\\r\\nCalibrating point 13/16: X=180.0 Y=20.0\\r\\n3:34 pm\\r\\nWarning: Failed to test z-axis at point 11: 'ResonanceTester' object has no attribute '_test_axis'\\r\\n3:34 pm\\r\\nWarning: Failed to test y-axis at point 11: 'ResonanceTester' object has no attribute '_test_axis'\\r\\n3:34 pm\\r\\nWarning: Failed to test x-axis at point 11: 'ResonanceTester' object has no attribute '_test_axis'\\r\\n3:34 pm\\r\\nCalibrating point 12/16: X=126.7 Y=180.0\\r\\n3:34 pm\\r\\nWarning: Failed to test z-axis at point 10: 'ResonanceTester' object has no attribute '_test_axis'\\r\\n3:34 pm\\r\\nWarning: Failed to test y-axis at point 10: 'ResonanceTester' object has no attribute '_test_axis'\\r\\n3:34 pm\\r\\nWarning: Failed to test x-axis at point 10: 'ResonanceTester' object has no attribute '_test_axis'\\r\\n3:34 pm\\r\\nCalibrating point 11/16: X=126.7 Y=126.7\\r\\n3:34 pm\\r\\nWarning: Failed to test z-axis at point 9: 'ResonanceTester' object has no attribute '_test_axis'\\r\\n3:34 pm\\r\\nWarning: Failed to test y-axis at point 9: 'ResonanceTester' object has no attribute '_test_axis'\\r\\n3:34 pm\\r\\nWarning: Failed to test x-axis at point 9: 'ResonanceTester' object has no attribute '_test_axis'\\r\\n3:34 pm\\r\\nCalibrating point 10/16: X=126.7 Y=73.3\\r\\n3:34 pm\\r\\nWarning: Failed to test z-axis at point 8: 'ResonanceTester' object has no attribute '_test_axis'\\r\\n3:34 pm\\r\\nWarning: Failed to test y-axis at point 8: 'ResonanceTester' object has no attribute '_test_axis'\\r\\n3:34 pm\\r\\nWarning: Failed to test x-axis at point 8: 'ResonanceTester' object has no attribute '_test_axis'\\r\\n3:34 pm\\r\\nCalibrating point 9/16: X=126.7 Y=20.0\\r\\n3:34 pm\\r\\nWarning: Failed to test z-axis at point 7: 'ResonanceTester' object has no attribute '_test_axis'\\r\\n3:34 pm\\r\\nWarning: Failed to test y-axis at point 7: 'ResonanceTester' object has no attribute '_test_axis'\\r\\n3:34 pm\\r\\nWarning: Failed to test x-axis at point 7: 'ResonanceTester' object has no attribute '_test_axis'\\r\\n3:34 pm\\r\\nCalibrating point 8/16: X=73.3 Y=180.0\\r\\n3:34 pm\\r\\nWarning: Failed to test z-axis at point 6: 'ResonanceTester' object has no attribute '_test_axis'\\r\\n3:34 pm\\r\\nWarning: Failed to test y-axis at point 6: 'ResonanceTester' object has no attribute '_test_axis'\\r\\n3:34 pm\\r\\nWarning: Failed to test x-axis at point 6: 'ResonanceTester' object has no attribute '_test_axis'\\r\\n3:34 pm\\r\\nCalibrating point 7/16: X=73.3 Y=126.7\\r\\n3:34 pm\\r\\nWarning: Failed to test z-axis at point 5: 'ResonanceTester' object has no attribute '_test_axis'\\r\\n3:34 pm\\r\\nWarning: Failed to test y-axis at point 5: 'ResonanceTester' object has no attribute '_test_axis'\\r\\n3:34 pm\\r\\nWarning: Failed to test x-axis at point 5: 'ResonanceTester' object has no attribute '_test_axis'\\r\\n3:34 pm\\r\\nCalibrating point 6/16: X=73.3 Y=73.3\\r\\n3:34 pm\\r\\nWarning: Failed to test z-axis at point 4: 'ResonanceTester' object has no attribute '_test_axis'\\r\\n3:34 pm\\r\\nWarning: Failed to test y-axis at point 4: 'ResonanceTester' object has no attribute '_test_axis'\\r\\n3:34 pm\\r\\nWarning: Failed to test x-axis at point 4: 'ResonanceTester' object has no attribute '_test_axis'\\r\\n3:34 pm\\r\\nCalibrating point 5/16: X=73.3 Y=20.0\\r\\n3:34 pm\\r\\nWarning: Failed to test z-axis at point 3: 'ResonanceTester' object has no attribute '_test_axis'\\r\\n3:34 pm\\r\\nWarning: Failed to test y-axis at point 3: 'ResonanceTester' object has no attribute '_test_axis'\\r\\n3:34 pm\\r\\nWarning: Failed to test x-axis at point 3: 'ResonanceTester' object has no attribute '_test_axis'\\r\\n3:34 pm\\r\\nCalibrating point 4/16: X=20.0 Y=180.0\\r\\n3:34 pm\\r\\nWarning: Failed to test z-axis at point 2: 'ResonanceTester' object has no attribute '_test_axis'\\r\\n3:34 pm\\r\\nWarning: Failed to test y-axis at point 2: 'ResonanceTester' object has no attribute '_test_axis'\\r\\n3:34 pm\\r\\nWarning: Failed to test x-axis at point 2: 'ResonanceTester' object has no attribute '_test_axis'\\r\\n3:34 pm\\r\\nCalibrating point 3/16: X=20.0 Y=126.7\\r\\n3:34 pm\\r\\nWarning: Failed to test z-axis at point 1: 'ResonanceTester' object has no attribute '_test_axis'\\r\\n3:34 pm\\r\\nWarning: Failed to test y-axis at point 1: 'ResonanceTester' object has no attribute '_test_axis'\\r\\n3:34 pm\\r\\nWarning: Failed to test x-axis at point 1: 'ResonanceTester' object has no attribute '_test_axis'\\r\\n3:34 pm\\r\\nCalibrating point 2/16: X=20.0 Y=73.3\\r\\n3:34 pm\\r\\nWarning: Failed to test z-axis at point 0: 'ResonanceTester' object has no attribute '_test_axis'\\r\\n3:34 pm\\r\\nWarning: Failed to test y-axis at point 0: 'ResonanceTester' object has no attribute '_test_axis'\\r\\n3:34 pm\\r\\nWarning: Failed to test x-axis at point 0: 'ResonanceTester' object has no attribute '_test_axis'\\r\\n3:34 pm\\r\\nCalibrating point 1/16: X=20.0 Y=20.0\\r\\n3:34 pm\\r\\nTesting 16 spatial points\\r\\n3:34 pm\\r\\nStarting adaptive resonance calibration...\\r\\n3:34 pm\\r\\nADAPTIVE_RESONANCE_CALIBRATE DENSITY=medium\",\"commit_id\":\"d7f5d0f6d579ee7ebe4c989b272a988dec6880b0\",\"submitted_at\":\"2025-07-23T03:35:08Z\",\"state\":\"changes_requested\",\"html_url\":\"https://github.com/eghasemy/klipper/pull/10#pullrequestreview-3045468880\",\"pull_request_url\":\"https://api.github.com/repos/eghasemy/klipper/pulls/10\",\"author_association\":\"OWNER\",\"_links\":{\"html\":{\"href\":\"https://github.com/eghasemy/klipper/pull/10#pullrequestreview-3045468880\"},\"pull_request\":{\"href\":\"https://api.github.com/repos/eghasemy/klipper/pulls/10\"}}},\"pull_request\":{\"url\":\"https://api.github.com/repos/eghasemy/klipper/pulls/10\",\"id\":2687297338,\"node_id\":\"PR_kwDOPNLVhs6gLOc6\",\"html_url\":\"https://github.com/eghasemy/klipper/pull/10\",\"diff_url\":\"https://github.com/eghasemy/klipper/pull/10.diff\",\"patch_url\":\"https://github.com/eghasemy/klipper/pull/10.patch\",\"issue_url\":\"https://api.github.com/repos/eghasemy/klipper/issues/10\",\"number\":10,\"state\":\"open\",\"locked\":false,\"title\":\"Fix ADAPTIVE_RESONANCE_CALIBRATE KeyError and numpy JSON encoding issues\",\"user\":{\"login\":\"Copilot\",\"id\":198982749,\"node_id\":\"BOT_kgDOC9w8XQ\",\"avatar_url\":\"https://avatars.githubusercontent.com/in/1143301?v=4\",\"gravatar_id\":\"\",\"url\":\"https://api.github.com/users/Copilot\",\"html_url\":\"https://github.com/apps/copilot-swe-agent\",\"followers_url\":\"https://api.github.com/users/Copilot/followers\",\"following_url\":\"https://api.github.com/users/Copilot/following{/other_user}\",\"gists_url\":\"https://api.github.com/users/Copilot/gists{/gist_id}\",\"starred_url\":\"https://api.github.com/users/Copilot/starred{/owner}{/repo}\",\"subscriptions_url\":\"https://api.github.com/users/Copilot/subscriptions\",\"organizations_url\":\"https://api.github.com/users/Copilot/orgs\",\"repos_url\":\"https://api.github.com/users/Copilot/repos\",\"events_url\":\"https://api.github.com/users/Copilot/events{/privacy}\",\"received_events_url\":\"https://api.github.com/users/Copilot/received_events\",\"type\":\"Bot\",\"user_view_type\":\"public\",\"site_admin\":false},\"body\":\"This PR fixes two critical issues in the `ADAPTIVE_RESONANCE_CALIBRATE` command that were causing internal errors and printer shutdowns:\\n\\n## Issues Fixed\\n\\n### 1. KeyError: 'x_peaks' when axis testing fails\\nThe `_save_calibration_results` method was assuming that `x_peaks` and `y_peaks` keys would always exist in the calibration results. However, when axis testing failed (due to hardware issues, configuration problems, or other exceptions), these keys wouldn't be created, leading to a `KeyError` during summary file generation.\\n\\n```python\\n# Before (would crash if x_peaks missing):\\nf.write(f\\\"  X peaks: {data['x_peaks']}\\\\n\\\")\\n\\n# After (safely handles missing keys):\\nx_peaks = data.get('x_peaks', [])\\nf.write(f\\\"  X peaks: {x_peaks}\\\\n\\\")\\n```\\n\\n### 2. JSON encoding error for numpy.float64 types\\nNumpy data types in the calibration results couldn't be serialized to JSON, causing `TypeError: Encoding objects of type numpy.float64 is unsupported`. This occurred when resonance analysis returned numpy arrays or scalars that weren't converted to Python native types.\\n\\n```python\\n# Added recursive conversion function:\\ndef convert_numpy_types(obj):\\n    if isinstance(obj, np.integer):\\n        return int(obj)\\n    elif isinstance(obj, np.floating):\\n        return float(obj)\\n    elif isinstance(obj, np.ndarray):\\n        return obj.tolist()\\n    # ... handles nested dicts and lists\\n```\\n\\n## Root Cause Analysis\\n\\nFrom the error log:\\n```\\nInternal error on command:\\\"ADAPTIVE_RESONANCE_CALIBRATE\\\"\\nTraceback (most recent call last):\\n  File \\\"/home/pi/klipper/klippy/extras/adaptive_input_shaper.py\\\", line 277, in _save_calibration_results\\n    f.write(f\\\"  X peaks: {data['x_peaks']}\\\\n\\\")\\n                         ~~~~^^^^^^^^^^^\\nKeyError: 'x_peaks'\\n```\\n\\nThis occurred because the calibration loop (lines 170-176) has exception handling that can skip axis testing when errors occur, but the summary generation assumed all axes were successfully tested.\\n\\n## Testing\\n\\nAdded comprehensive tests in `TestCalibrationResultsSaving` that verify:\\n- Missing peak data is handled gracefully with empty list fallbacks\\n- Numpy types are properly converted for JSON serialization\\n- Summary files are generated correctly in both scenarios\\n- No exceptions are raised during the save process\\n\\nThe fix has been validated with both unit tests and a standalone reproduction test that simulates the exact error scenario from the log file.\\n\\nFixes #9.\\n\\n<!-- START COPILOT CODING AGENT TIPS -->\\n---\\n\\n💬 Share your feedback on Copilot coding agent for the chance to win a $200 gift card! Click [here](https://survey.alchemer.com/s3/8343779/Copilot-Coding-agent) to start the survey.\",\"created_at\":\"2025-07-23T02:36:53Z\",\"updated_at\":\"2025-07-23T03:55:18Z\",\"closed_at\":null,\"merged_at\":null,\"merge_commit_sha\":\"169e2c500185d94e516ebe55d192677c96831b13\",\"assignee\":null,\"assignees\":[{\"login\":\"eghasemy\",\"id\":1766085,\"node_id\":\"MDQ6VXNlcjE3NjYwODU=\",\"avatar_url\":\"https://avatars.githubusercontent.com/u/1766085?v=4\",\"gravatar_id\":\"\",\"url\":\"https://api.github.com/users/eghasemy\",\"html_url\":\"https://github.com/eghasemy\",\"followers_url\":\"https://api.github.com/users/eghasemy/followers\",\"following_url\":\"https://api.github.com/users/eghasemy/following{/other_user}\",\"gists_url\":\"https://api.github.com/users/eghasemy/gists{/gist_id}\",\"starred_url\":\"https://api.github.com/users/eghasemy/starred{/owner}{/repo}\",\"subscriptions_url\":\"https://api.github.com/users/eghasemy/subscriptions\",\"organizations_url\":\"https://api.github.com/users/eghasemy/orgs\",\"repos_url\":\"https://api.github.com/users/eghasemy/repos\",\"events_url\":\"https://api.github.com/users/eghasemy/events{/privacy}\",\"received_events_url\":\"https://api.github.com/users/eghasemy/received_events\",\"type\":\"User\",\"user_view_type\":\"public\",\"site_admin\":false},{\"login\":\"Copilot\",\"id\":198982749,\"node_id\":\"BOT_kgDOC9w8XQ\",\"avatar_url\":\"https://avatars.githubusercontent.com/in/1143301?v=4\",\"gravatar_id\":\"\",\"url\":\"https://api.github.com/users/Copilot\",\"html_url\":\"https://github.com/apps/copilot-swe-agent\",\"followers_url\":\"https://api.github.com/users/Copilot/followers\",\"following_url\":\"https://api.github.com/users/Copilot/following{/other_user}\",\"gists_url\":\"https://api.github.com/users/Copilot/gists{/gist_id}\",\"starred_url\":\"https://api.github.com/users/Copilot/starred{/owner}{/repo}\",\"subscriptions_url\":\"https://api.github.com/users/Copilot/subscriptions\",\"organizations_url\":\"https://api.github.com/users/Copilot/orgs\",\"repos_url\":\"https://api.github.com/users/Copilot/repos\",\"events_url\":\"https://api.github.com/users/Copilot/events{/privacy}\",\"received_events_url\":\"https://api.github.com/users/Copilot/received_events\",\"type\":\"Bot\",\"user_view_type\":\"public\",\"site_admin\":false}],\"requested_reviewers\":[],\"requested_teams\":[],\"labels\":[],\"milestone\":null,\"draft\":true,\"commits_url\":\"https://api.github.com/repos/eghasemy/klipper/pulls/10/commits\",\"review_comments_url\":\"https://api.github.com/repos/eghasemy/klipper/pulls/10/comments\",\"review_comment_url\":\"https://api.github.com/repos/eghasemy/klipper/pulls/comments{/number}\",\"comments_url\":\"https://api.github.com/repos/eghasemy/klipper/issues/10/comments\",\"statuses_url\":\"https://api.github.com/repos/eghasemy/klipper/statuses/d7f5d0f6d579ee7ebe4c989b272a988dec6880b0\",\"head\":{\"label\":\"eghasemy:copilot/fix-9\",\"ref\":\"copilot/fix-9\",\"sha\":\"d7f5d0f6d579ee7ebe4c989b272a988dec6880b0\",\"user\":{\"login\":\"eghasemy\",\"id\":1766085,\"node_id\":\"MDQ6VXNlcjE3NjYwODU=\",\"avatar_url\":\"https://avatars.githubusercontent.com/u/1766085?v=4\",\"gravatar_id\":\"\",\"url\":\"https://api.github.com/users/eghasemy\",\"html_url\":\"https://github.com/eghasemy\",\"followers_url\":\"https://api.github.com/users/eghasemy/followers\",\"following_url\":\"https://api.github.com/users/eghasemy/following{/other_user}\",\"gists_url\":\"https://api.github.com/users/eghasemy/gists{/gist_id}\",\"starred_url\":\"https://api.github.com/users/eghasemy/starred{/owner}{/repo}\",\"subscriptions_url\":\"https://api.github.com/users/eghasemy/subscriptions\",\"organizations_url\":\"https://api.github.com/users/eghasemy/orgs\",\"repos_url\":\"https://api.github.com/users/eghasemy/repos\",\"events_url\":\"https://api.github.com/users/eghasemy/events{/privacy}\",\"received_events_url\":\"https://api.github.com/users/eghasemy/received_events\",\"type\":\"User\",\"user_view_type\":\"public\",\"site_admin\":false},\"repo\":{\"id\":1020450182,\"node_id\":\"R_kgDOPNLVhg\",\"name\":\"klipper\",\"full_name\":\"eghasemy/klipper\",\"private\":false,\"owner\":{\"login\":\"eghasemy\",\"id\":1766085,\"node_id\":\"MDQ6VXNlcjE3NjYwODU=\",\"avatar_url\":\"https://avatars.githubusercontent.com/u/1766085?v=4\",\"gravatar_id\":\"\",\"url\":\"https://api.github.com/users/eghasemy\",\"html_url\":\"https://github.com/eghasemy\",\"followers_url\":\"https://api.github.com/users/eghasemy/followers\",\"following_url\":\"https://api.github.com/users/eghasemy/following{/other_user}\",\"gists_url\":\"https://api.github.com/users/eghasemy/gists{/gist_id}\",\"starred_url\":\"https://api.github.com/users/eghasemy/starred{/owner}{/repo}\",\"subscriptions_url\":\"https://api.github.com/users/eghasemy/subscriptions\",\"organizations_url\":\"https://api.github.com/users/eghasemy/orgs\",\"repos_url\":\"https://api.github.com/users/eghasemy/repos\",\"events_url\":\"https://api.github.com/users/eghasemy/events{/privacy}\",\"received_events_url\":\"https://api.github.com/users/eghasemy/received_events\",\"type\":\"User\",\"user_view_type\":\"public\",\"site_admin\":false},\"html_url\":\"https://github.com/eghasemy/klipper\",\"description\":\"Klipper is a 3d-printer firmware\",\"fork\":false,\"url\":\"https://api.github.com/repos/eghasemy/klipper\",\"forks_url\":\"https://api.github.com/repos/eghasemy/klipper/forks\",\"keys_url\":\"https://api.github.com/repos/eghasemy/klipper/keys{/key_id}\",\"collaborators_url\":\"https://api.github.com/repos/eghasemy/klipper/collaborators{/collaborator}\",\"teams_url\":\"https://api.github.com/repos/eghasemy/klipper/teams\",\"hooks_url\":\"https://api.github.com/repos/eghasemy/klipper/hooks\",\"issue_events_url\":\"https://api.github.com/repos/eghasemy/klipper/issues/events{/number}\",\"events_url\":\"https://api.github.com/repos/eghasemy/klipper/events\",\"assignees_url\":\"https://api.github.com/repos/eghasemy/klipper/assignees{/user}\",\"branches_url\":\"https://api.github.com/repos/eghasemy/klipper/branches{/branch}\",\"tags_url\":\"https://api.github.com/repos/eghasemy/klipper/tags\",\"blobs_url\":\"https://api.github.com/repos/eghasemy/klipper/git/blobs{/sha}\",\"git_tags_url\":\"https://api.github.com/repos/eghasemy/klipper/git/tags{/sha}\",\"git_refs_url\":\"https://api.github.com/repos/eghasemy/klipper/git/refs{/sha}\",\"trees_url\":\"https://api.github.com/repos/eghasemy/klipper/git/trees{/sha}\",\"statuses_url\":\"https://api.github.com/repos/eghasemy/klipper/statuses/{sha}\",\"languages_url\":\"https://api.github.com/repos/eghasemy/klipper/languages\",\"stargazers_url\":\"https://api.github.com/repos/eghasemy/klipper/stargazers\",\"contributors_url\":\"https://api.github.com/repos/eghasemy/klipper/contributors\",\"subscribers_url\":\"https://api.github.com/repos/eghasemy/klipper/subscribers\",\"subscription_url\":\"https://api.github.com/repos/eghasemy/klipper/subscription\",\"commits_url\":\"https://api.github.com/repos/eghasemy/klipper/commits{/sha}\",\"git_commits_url\":\"https://api.github.com/repos/eghasemy/klipper/git/commits{/sha}\",\"comments_url\":\"https://api.github.com/repos/eghasemy/klipper/comments{/number}\",\"issue_comment_url\":\"https://api.github.com/repos/eghasemy/klipper/issues/comments{/number}\",\"contents_url\":\"https://api.github.com/repos/eghasemy/klipper/contents/{+path}\",\"compare_url\":\"https://api.github.com/repos/eghasemy/klipper/compare/{base}...{head}\",\"merges_url\":\"https://api.github.com/repos/eghasemy/klipper/merges\",\"archive_url\":\"https://api.github.com/repos/eghasemy/klipper/{archive_format}{/ref}\",\"downloads_url\":\"https://api.github.com/repos/eghasemy/klipper/downloads\",\"issues_url\":\"https://api.github.com/repos/eghasemy/klipper/issues{/number}\",\"pulls_url\":\"https://api.github.com/repos/eghasemy/klipper/pulls{/number}\",\"milestones_url\":\"https://api.github.com/repos/eghasemy/klipper/milestones{/number}\",\"notifications_url\":\"https://api.github.com/repos/eghasemy/klipper/notifications{?since,all,participating}\",\"labels_url\":\"https://api.github.com/repos/eghasemy/klipper/labels{/name}\",\"releases_url\":\"https://api.github.com/repos/eghasemy/klipper/releases{/id}\",\"deployments_url\":\"https://api.github.com/repos/eghasemy/klipper/deployments\",\"created_at\":\"2025-07-15T22:24:33Z\",\"updated_at\":\"2025-07-23T02:20:02Z\",\"pushed_at\":\"2025-07-23T03:31:15Z\",\"git_url\":\"git://github.com/eghasemy/klipper.git\",\"ssh_url\":\"git@github.com:eghasemy/klipper.git\",\"clone_url\":\"https://github.com/eghasemy/klipper.git\",\"svn_url\":\"https://github.com/eghasemy/klipper\",\"homepage\":null,\"size\":30243,\"stargazers_count\":0,\"watchers_count\":0,\"language\":\"C\",\"has_issues\":true,\"has_projects\":false,\"has_downloads\":true,\"has_wiki\":false,\"has_pages\":false,\"has_discussions\":false,\"forks_count\":0,\"mirror_url\":null,\"archived\":false,\"disabled\":false,\"open_issues_count\":5,\"license\":{\"key\":\"gpl-3.0\",\"name\":\"GNU General Public License v3.0\",\"spdx_id\":\"GPL-3.0\",\"url\":\"https://api.github.com/licenses/gpl-3.0\",\"node_id\":\"MDc6TGljZW5zZTk=\"},\"allow_forking\":true,\"is_template\":false,\"web_commit_signoff_required\":false,\"topics\":[],\"visibility\":\"public\",\"forks\":0,\"open_issues\":5,\"watchers\":0,\"default_branch\":\"master\"}},\"base\":{\"label\":\"eghasemy:master\",\"ref\":\"master\",\"sha\":\"85e6754125b50559e47815988ee2ffa4316f8204\",\"user\":{\"login\":\"eghasemy\",\"id\":1766085,\"node_id\":\"MDQ6VXNlcjE3NjYwODU=\",\"avatar_url\":\"https://avatars.githubusercontent.com/u/1766085?v=4\",\"gravatar_id\":\"\",\"url\":\"https://api.github.com/users/eghasemy\",\"html_url\":\"https://github.com/eghasemy\",\"followers_url\":\"https://api.github.com/users/eghasemy/followers\",\"following_url\":\"https://api.github.com/users/eghasemy/following{/other_user}\",\"gists_url\":\"https://api.github.com/users/eghasemy/gists{/gist_id}\",\"starred_url\":\"https://api.github.com/users/eghasemy/starred{/owner}{/repo}\",\"subscriptions_url\":\"https://api.github.com/users/eghasemy/subscriptions\",\"organizations_url\":\"https://api.github.com/users/eghasemy/orgs\",\"repos_url\":\"https://api.github.com/users/eghasemy/repos\",\"events_url\":\"https://api.github.com/users/eghasemy/events{/privacy}\",\"received_events_url\":\"https://api.github.com/users/eghasemy/received_events\",\"type\":\"User\",\"user_view_type\":\"public\",\"site_admin\":false},\"repo\":{\"id\":1020450182,\"node_id\":\"R_kgDOPNLVhg\",\"name\":\"klipper\",\"full_name\":\"eghasemy/klipper\",\"private\":false,\"owner\":{\"login\":\"eghasemy\",\"id\":1766085,\"node_id\":\"MDQ6VXNlcjE3NjYwODU=\",\"avatar_url\":\"https://avatars.githubusercontent.com/u/1766085?v=4\",\"gravatar_id\":\"\",\"url\":\"https://api.github.com/users/eghasemy\",\"html_url\":\"https://github.com/eghasemy\",\"followers_url\":\"https://api.github.com/users/eghasemy/followers\",\"following_url\":\"https://api.github.com/users/eghasemy/following{/other_user}\",\"gists_url\":\"https://api.github.com/users/eghasemy/gists{/gist_id}\",\"starred_url\":\"https://api.github.com/users/eghasemy/starred{/owner}{/repo}\",\"subscriptions_url\":\"https://api.github.com/users/eghasemy/subscriptions\",\"organizations_url\":\"https://api.github.com/users/eghasemy/orgs\",\"repos_url\":\"https://api.github.com/users/eghasemy/repos\",\"events_url\":\"https://api.github.com/users/eghasemy/events{/privacy}\",\"received_events_url\":\"https://api.github.com/users/eghasemy/received_events\",\"type\":\"User\",\"user_view_type\":\"public\",\"site_admin\":false},\"html_url\":\"https://github.com/eghasemy/klipper\",\"description\":\"Klipper is a 3d-printer firmware\",\"fork\":false,\"url\":\"https://api.github.com/repos/eghasemy/klipper\",\"forks_url\":\"https://api.github.com/repos/eghasemy/klipper/forks\",\"keys_url\":\"https://api.github.com/repos/eghasemy/klipper/keys{/key_id}\",\"collaborators_url\":\"https://api.github.com/repos/eghasemy/klipper/collaborators{/collaborator}\",\"teams_url\":\"https://api.github.com/repos/eghasemy/klipper/teams\",\"hooks_url\":\"https://api.github.com/repos/eghasemy/klipper/hooks\",\"issue_events_url\":\"https://api.github.com/repos/eghasemy/klipper/issues/events{/number}\",\"events_url\":\"https://api.github.com/repos/eghasemy/klipper/events\",\"assignees_url\":\"https://api.github.com/repos/eghasemy/klipper/assignees{/user}\",\"branches_url\":\"https://api.github.com/repos/eghasemy/klipper/branches{/branch}\",\"tags_url\":\"https://api.github.com/repos/eghasemy/klipper/tags\",\"blobs_url\":\"https://api.github.com/repos/eghasemy/klipper/git/blobs{/sha}\",\"git_tags_url\":\"https://api.github.com/repos/eghasemy/klipper/git/tags{/sha}\",\"git_refs_url\":\"https://api.github.com/repos/eghasemy/klipper/git/refs{/sha}\",\"trees_url\":\"https://api.github.com/repos/eghasemy/klipper/git/trees{/sha}\",\"statuses_url\":\"https://api.github.com/repos/eghasemy/klipper/statuses/{sha}\",\"languages_url\":\"https://api.github.com/repos/eghasemy/klipper/languages\",\"stargazers_url\":\"https://api.github.com/repos/eghasemy/klipper/stargazers\",\"contributors_url\":\"https://api.github.com/repos/eghasemy/klipper/contributors\",\"subscribers_url\":\"https://api.github.com/repos/eghasemy/klipper/subscribers\",\"subscription_url\":\"https://api.github.com/repos/eghasemy/klipper/subscription\",\"commits_url\":\"https://api.github.com/repos/eghasemy/klipper/commits{/sha}\",\"git_commits_url\":\"https://api.github.com/repos/eghasemy/klipper/git/commits{/sha}\",\"comments_url\":\"https://api.github.com/repos/eghasemy/klipper/comments{/number}\",\"issue_comment_url\":\"https://api.github.com/repos/eghasemy/klipper/issues/comments{/number}\",\"contents_url\":\"https://api.github.com/repos/eghasemy/klipper/contents/{+path}\",\"compare_url\":\"https://api.github.com/repos/eghasemy/klipper/compare/{base}...{head}\",\"merges_url\":\"https://api.github.com/repos/eghasemy/klipper/merges\",\"archive_url\":\"https://api.github.com/repos/eghasemy/klipper/{archive_format}{/ref}\",\"downloads_url\":\"https://api.github.com/repos/eghasemy/klipper/downloads\",\"issues_url\":\"https://api.github.com/repos/eghasemy/klipper/issues{/number}\",\"pulls_url\":\"https://api.github.com/repos/eghasemy/klipper/pulls{/number}\",\"milestones_url\":\"https://api.github.com/repos/eghasemy/klipper/milestones{/number}\",\"notifications_url\":\"https://api.github.com/repos/eghasemy/klipper/notifications{?since,all,participating}\",\"labels_url\":\"https://api.github.com/repos/eghasemy/klipper/labels{/name}\",\"releases_url\":\"https://api.github.com/repos/eghasemy/klipper/releases{/id}\",\"deployments_url\":\"https://api.github.com/repos/eghasemy/klipper/deployments\",\"created_at\":\"2025-07-15T22:24:33Z\",\"updated_at\":\"2025-07-23T02:20:02Z\",\"pushed_at\":\"2025-07-23T03:31:15Z\",\"git_url\":\"git://github.com/eghasemy/klipper.git\",\"ssh_url\":\"git@github.com:eghasemy/klipper.git\",\"clone_url\":\"https://github.com/eghasemy/klipper.git\",\"svn_url\":\"https://github.com/eghasemy/klipper\",\"homepage\":null,\"size\":30243,\"stargazers_count\":0,\"watchers_count\":0,\"language\":\"C\",\"has_issues\":true,\"has_projects\":false,\"has_downloads\":true,\"has_wiki\":false,\"has_pages\":false,\"has_discussions\":false,\"forks_count\":0,\"mirror_url\":null,\"archived\":false,\"disabled\":false,\"open_issues_count\":5,\"license\":{\"key\":\"gpl-3.0\",\"name\":\"GNU General Public License v3.0\",\"spdx_id\":\"GPL-3.0\",\"url\":\"https://api.github.com/licenses/gpl-3.0\",\"node_id\":\"MDc6TGljZW5zZTk=\"},\"allow_forking\":true,\"is_template\":false,\"web_commit_signoff_required\":false,\"topics\":[],\"visibility\":\"public\",\"forks\":0,\"open_issues\":5,\"watchers\":0,\"default_branch\":\"master\"}},\"_links\":{\"self\":{\"href\":\"https://api.github.com/repos/eghasemy/klipper/pulls/10\"},\"html\":{\"href\":\"https://github.com/eghasemy/klipper/pull/10\"},\"issue\":{\"href\":\"https://api.github.com/repos/eghasemy/klipper/issues/10\"},\"comments\":{\"href\":\"https://api.github.com/repos/eghasemy/klipper/issues/10/comments\"},\"review_comments\":{\"href\":\"https://api.github.com/repos/eghasemy/klipper/pulls/10/comments\"},\"review_comment\":{\"href\":\"https://api.github.com/repos/eghasemy/klipper/pulls/comments{/number}\"},\"commits\":{\"href\":\"https://api.github.com/repos/eghasemy/klipper/pulls/10/commits\"},\"statuses\":{\"href\":\"https://api.github.com/repos/eghasemy/klipper/statuses/d7f5d0f6d579ee7ebe4c989b272a988dec6880b0\"}},\"author_association\":\"CONTRIBUTOR\",\"auto_merge\":null,\"active_lock_reason\":null}},\"public\":true,\"created_at\":\"2025-07-23T03:55:18Z\"},{\"id\":\"52423830956\",\"type\":\"PushEvent\",\"actor\":{\"id\":193673455,\"login\":\"Supunfernando16\",\"display_login\":\"Supunfernando16\",\"gravatar_id\":\"\",\"url\":\"https://api.github.com/users/Supunfernando16\",\"avatar_url\":\"https://avatars.githubusercontent.com/u/193673455?\"},\"repo\":{\"id\":1003360294,\"name\":\"Supunfernando16/SUPUN-MD-BAILEYS\",\"url\":\"https://api.github.com/repos/Supunfernando16/SUPUN-MD-BAILEYS\"},\"payload\":{\"repository_id\":1003360294,\"push_id\":25665706209,\"size\":1,\"distinct_size\":1,\"ref\":\"refs/heads/main\",\"head\":\"ffa93618643ee9798383ce22521257b3a538806c\",\"before\":\"4095d85cf15845dc19dd041dc31701f2fdb8d92c\",\"commits\":[{\"sha\":\"ffa93618643ee9798383ce22521257b3a538806c\",\"author\":{\"email\":\"you@example.com\",\"name\":\"Hansa Dewmina\"},\"message\":\"Upload user-gq1s7qzx.json\",\"distinct\":true,\"url\":\"https://api.github.com/repos/Supunfernando16/SUPUN-MD-BAILEYS/commits/ffa93618643ee9798383ce22521257b3a538806c\"}]},\"public\":true,\"created_at\":\"2025-07-23T03:55:18Z\"}]\n"
     ]
    }
   ],
   "source": [
    "import requests\n",
    "\n",
    "response = requests.get(\"https://api.github.com/events\")\n",
    "\n",
    "if response.status_code == 200:\n",
    "    print(\"Success!\")\n",
    "    print(response.url)  # Printing the URL of the response\n",
    "    print(response.headers) \n",
    "    print(type(response.headers))\n",
    "\n",
    "    print(response.headers['Content-Type']) \n",
    "\n",
    "    print(response.text)\n",
    "\n",
    "else:\n",
    "    print(\"Error:\", response.status_code)\n",
    "\n"
   ]
  },
  {
   "cell_type": "code",
   "execution_count": null,
   "metadata": {},
   "outputs": [
    {
     "name": "stdout",
     "output_type": "stream",
     "text": [
      "[{'id': '52424042159', 'type': 'PushEvent', 'actor': {'id': 18281711, 'login': 'ahmadtara', 'display_login': 'ahmadtara', 'gravatar_id': '', 'url': 'https://api.github.com/users/ahmadtara', 'avatar_url': 'https://avatars.githubusercontent.com/u/18281711?'}, 'repo': {'id': 1024244835, 'name': 'ahmadtara/testingtara', 'url': 'https://api.github.com/repos/ahmadtara/testingtara'}, 'payload': {'repository_id': 1024244835, 'push_id': 25665820710, 'size': 1, 'distinct_size': 1, 'ref': 'refs/heads/main', 'head': '776bff62f05b4ced0ef2bf7870d08e9ee2f22c15', 'before': '2fc614cce77556fad45db1242cf3589fc2e9faed', 'commits': [{'sha': '776bff62f05b4ced0ef2bf7870d08e9ee2f22c15', 'author': {'email': 'ahmadtara.pratama@gmail.com', 'name': 'ahmadtara'}, 'message': 'Update requirements.txt', 'distinct': True, 'url': 'https://api.github.com/repos/ahmadtara/testingtara/commits/776bff62f05b4ced0ef2bf7870d08e9ee2f22c15'}]}, 'public': True, 'created_at': '2025-07-23T04:03:45Z'}, {'id': '52424042166', 'type': 'PushEvent', 'actor': {'id': 155748790, 'login': 'AleksandrRise', 'display_login': 'AleksandrRise', 'gravatar_id': '', 'url': 'https://api.github.com/users/AleksandrRise', 'avatar_url': 'https://avatars.githubusercontent.com/u/155748790?'}, 'repo': {'id': 1021782543, 'name': 'AleksandrRise/Astrell', 'url': 'https://api.github.com/repos/AleksandrRise/Astrell'}, 'payload': {'repository_id': 1021782543, 'push_id': 25665820685, 'size': 1, 'distinct_size': 1, 'ref': 'refs/heads/main', 'head': '02db6017c6a01bd0f999f062e85118e0ca0989f1', 'before': '10a355ccba7025ee2c17ae3d14039724e24a78bb', 'commits': [{'sha': '02db6017c6a01bd0f999f062e85118e0ca0989f1', 'author': {'email': 'aleks.usbuz@gmail.com', 'name': 'Aleksandr Ershov'}, 'message': 'Added a one-way animation to a hint button', 'distinct': True, 'url': 'https://api.github.com/repos/AleksandrRise/Astrell/commits/02db6017c6a01bd0f999f062e85118e0ca0989f1'}]}, 'public': True, 'created_at': '2025-07-23T04:03:45Z'}, {'id': '52424042163', 'type': 'PushEvent', 'actor': {'id': 65482918, 'login': 'briangodwinlim', 'display_login': 'briangodwinlim', 'gravatar_id': '', 'url': 'https://api.github.com/users/briangodwinlim', 'avatar_url': 'https://avatars.githubusercontent.com/u/65482918?'}, 'repo': {'id': 996495693, 'name': 'napi-naist/napi-naist.github.io', 'url': 'https://api.github.com/repos/napi-naist/napi-naist.github.io'}, 'payload': {'repository_id': 996495693, 'push_id': 25665820695, 'size': 1, 'distinct_size': 1, 'ref': 'refs/heads/main', 'head': 'b4998e1433c0b71aa301be65b722b2912e799f0a', 'before': '43e32bd123c9a0444fc44049fbb41c782fe0ac9f', 'commits': [{'sha': 'b4998e1433c0b71aa301be65b722b2912e799f0a', 'author': {'email': 'brian@brianlim.xyz', 'name': 'Brian Godwin Lim'}, 'message': 'Added info.yml\\n\\nFixed tomio story and labs', 'distinct': True, 'url': 'https://api.github.com/repos/napi-naist/napi-naist.github.io/commits/b4998e1433c0b71aa301be65b722b2912e799f0a'}]}, 'public': True, 'created_at': '2025-07-23T04:03:45Z', 'org': {'id': 214930277, 'login': 'napi-naist', 'gravatar_id': '', 'url': 'https://api.github.com/orgs/napi-naist', 'avatar_url': 'https://avatars.githubusercontent.com/u/214930277?'}}, {'id': '52424042027', 'type': 'PushEvent', 'actor': {'id': 87141165, 'login': 'trunk-staging-io[bot]', 'display_login': 'trunk-staging-io', 'gravatar_id': '', 'url': 'https://api.github.com/users/trunk-staging-io[bot]', 'avatar_url': 'https://avatars.githubusercontent.com/u/87141165?'}, 'repo': {'id': 1021130530, 'name': 'trunk-io/mergequeue-demo', 'url': 'https://api.github.com/repos/trunk-io/mergequeue-demo'}, 'payload': {'repository_id': 1021130530, 'push_id': 25665820606, 'size': 2, 'distinct_size': 1, 'ref': 'refs/heads/trunk-temp/pr-19764/2afa1aec-4bc7-4cc8-b4f1-1a31e486374c', 'head': '957a50ac67562786c28a6ada0e2f9554721fb34e', 'before': 'c537deaae7f7171e6c488f3c92c1b1e0b08dfbc2', 'commits': [{'sha': 'e99474d376c717e9f669bbf1118c88a9e0c0dac2', 'author': {'email': 'bot@trunk.io', 'name': 'trunk bot'}, 'message': 'Moving words affrontive', 'distinct': False, 'url': 'https://api.github.com/repos/trunk-io/mergequeue-demo/commits/e99474d376c717e9f669bbf1118c88a9e0c0dac2'}, {'sha': '957a50ac67562786c28a6ada0e2f9554721fb34e', 'author': {'email': '87141165+trunk-staging-io[bot]@users.noreply.github.com', 'name': 'trunk-staging-io[bot]'}, 'message': 'Merging e99474d376c717e9f669bbf1118c88a9e0c0dac2 into trunk-temp/pr-19764/2afa1aec-4bc7-4cc8-b4f1-1a31e486374c', 'distinct': True, 'url': 'https://api.github.com/repos/trunk-io/mergequeue-demo/commits/957a50ac67562786c28a6ada0e2f9554721fb34e'}]}, 'public': True, 'created_at': '2025-07-23T04:03:45Z', 'org': {'id': 74779146, 'login': 'trunk-io', 'gravatar_id': '', 'url': 'https://api.github.com/orgs/trunk-io', 'avatar_url': 'https://avatars.githubusercontent.com/u/74779146?'}}, {'id': '52424042146', 'type': 'PushEvent', 'actor': {'id': 123625528, 'login': 'Him7n', 'display_login': 'Him7n', 'gravatar_id': '', 'url': 'https://api.github.com/users/Him7n', 'avatar_url': 'https://avatars.githubusercontent.com/u/123625528?'}, 'repo': {'id': 1010991456, 'name': 'Him7n/k8_s', 'url': 'https://api.github.com/repos/Him7n/k8_s'}, 'payload': {'repository_id': 1010991456, 'push_id': 25665820679, 'size': 2, 'distinct_size': 2, 'ref': 'refs/heads/main', 'head': '4eb9531ca82c75966d5ead17df3ae0d54db0c4c4', 'before': '61e6c37a228a3bd204c29d181143ad889f5171c1', 'commits': [{'sha': 'efd5b870a170293fc0385fb529c8d875738e6b8a', 'author': {'email': 'support@harness.io', 'name': 'Harness.io'}, 'message': 'Updating Config files', 'distinct': True, 'url': 'https://api.github.com/repos/Him7n/k8_s/commits/efd5b870a170293fc0385fb529c8d875738e6b8a'}, {'sha': '4eb9531ca82c75966d5ead17df3ae0d54db0c4c4', 'author': {'email': '123625528+Him7n@users.noreply.github.com', 'name': 'Him7n'}, 'message': 'Merge pull request #6667 from Him7n/main_yXGYfbGmeKwP\\n\\nUpdated Releasae', 'distinct': True, 'url': 'https://api.github.com/repos/Him7n/k8_s/commits/4eb9531ca82c75966d5ead17df3ae0d54db0c4c4'}]}, 'public': True, 'created_at': '2025-07-23T04:03:45Z'}, {'id': '52424042136', 'type': 'PushEvent', 'actor': {'id': 208483709, 'login': 'shaehabultra', 'display_login': 'shaehabultra', 'gravatar_id': '', 'url': 'https://api.github.com/users/shaehabultra', 'avatar_url': 'https://avatars.githubusercontent.com/u/208483709?'}, 'repo': {'id': 970201570, 'name': 'shaehabultra/test', 'url': 'https://api.github.com/repos/shaehabultra/test'}, 'payload': {'repository_id': 970201570, 'push_id': 25665820680, 'size': 1, 'distinct_size': 1, 'ref': 'refs/heads/main', 'head': 'c2771dad87b8a229c475aed450f1a644a02722d9', 'before': '38eb6ce4d3047c690b28c9c61dfc0451fcb7efed', 'commits': [{'sha': 'c2771dad87b8a229c475aed450f1a644a02722d9', 'author': {'email': 'friedcamel2003@gmail.com', 'name': 'shaehabultra'}, 'message': 'Update users data by 「^3Evils RP ✦^0」 ^0- 「 سيرفر عرب ايفلز للحياة الواقعية」 - 「^3discord.gg/ae3^0」', 'distinct': True, 'url': 'https://api.github.com/repos/shaehabultra/test/commits/c2771dad87b8a229c475aed450f1a644a02722d9'}]}, 'public': True, 'created_at': '2025-07-23T04:03:45Z'}, {'id': '52424042139', 'type': 'PushEvent', 'actor': {'id': 191583443, 'login': 'DrXSolutions10', 'display_login': 'DrXSolutions10', 'gravatar_id': '', 'url': 'https://api.github.com/users/DrXSolutions10', 'avatar_url': 'https://avatars.githubusercontent.com/u/191583443?'}, 'repo': {'id': 902819523, 'name': 'DrXSolutions10/Image-Dr.X-Solution-10', 'url': 'https://api.github.com/repos/DrXSolutions10/Image-Dr.X-Solution-10'}, 'payload': {'repository_id': 902819523, 'push_id': 25665820664, 'size': 1, 'distinct_size': 1, 'ref': 'refs/heads/main', 'head': '8cc0cae94806b81f60cd7f627263d4373580dbf1', 'before': 'a28bb76616976a6b9ec4d3a96cd0e3db03e6267e', 'commits': [{'sha': '8cc0cae94806b81f60cd7f627263d4373580dbf1', 'author': {'email': 'drx.aesthetic@gmail.com', 'name': 'Dr.x Solution'}, 'message': 'upload 01983573-9021-746c-97f6-9f7bdf5f0c23', 'distinct': True, 'url': 'https://api.github.com/repos/DrXSolutions10/Image-Dr.X-Solution-10/commits/8cc0cae94806b81f60cd7f627263d4373580dbf1'}]}, 'public': True, 'created_at': '2025-07-23T04:03:45Z'}, {'id': '52424042135', 'type': 'PushEvent', 'actor': {'id': 41898282, 'login': 'github-actions[bot]', 'display_login': 'github-actions', 'gravatar_id': '', 'url': 'https://api.github.com/users/github-actions[bot]', 'avatar_url': 'https://avatars.githubusercontent.com/u/41898282?'}, 'repo': {'id': 745794657, 'name': 'teliredirz1123/teliredirz1123', 'url': 'https://api.github.com/repos/teliredirz1123/teliredirz1123'}, 'payload': {'repository_id': 745794657, 'push_id': 25665820689, 'size': 1, 'distinct_size': 1, 'ref': 'refs/heads/master', 'head': 'd74b91812d1312231b09650c47fc1a8afdf2474a', 'before': 'd4930b83b10c09d224963c346c9cee6b1b87af34', 'commits': [{'sha': 'd74b91812d1312231b09650c47fc1a8afdf2474a', 'author': {'email': 'teliredirza@mail.com', 'name': 'teliredirz1123'}, 'message': 'a commit a day keeps your girlfriend away', 'distinct': True, 'url': 'https://api.github.com/repos/teliredirz1123/teliredirz1123/commits/d74b91812d1312231b09650c47fc1a8afdf2474a'}]}, 'public': True, 'created_at': '2025-07-23T04:03:45Z'}, {'id': '52424042141', 'type': 'PushEvent', 'actor': {'id': 217876299, 'login': 'niallgull', 'display_login': 'niallgull', 'gravatar_id': '', 'url': 'https://api.github.com/users/niallgull', 'avatar_url': 'https://avatars.githubusercontent.com/u/217876299?'}, 'repo': {'id': 1024592447, 'name': 'niallgull/2025vibe', 'url': 'https://api.github.com/repos/niallgull/2025vibe'}, 'payload': {'repository_id': 1024592447, 'push_id': 25665820681, 'size': 1, 'distinct_size': 1, 'ref': 'refs/heads/main', 'head': '41f7642f70c234e4f1c58c1f22150ff720903f06', 'before': '5d4e5544eae4094ac4720b20a819a3b344b35659', 'commits': [{'sha': '41f7642f70c234e4f1c58c1f22150ff720903f06', 'author': {'email': 't36434632@gmail.com', 'name': 'niallgull'}, 'message': 'Update nomain.py', 'distinct': True, 'url': 'https://api.github.com/repos/niallgull/2025vibe/commits/41f7642f70c234e4f1c58c1f22150ff720903f06'}]}, 'public': True, 'created_at': '2025-07-23T04:03:45Z'}, {'id': '52424042114', 'type': 'PushEvent', 'actor': {'id': 222330338, 'login': 'inyoung130', 'display_login': 'inyoung130', 'gravatar_id': '', 'url': 'https://api.github.com/users/inyoung130', 'avatar_url': 'https://avatars.githubusercontent.com/u/222330338?'}, 'repo': {'id': 1024592425, 'name': 'inyoung130/2025vibe', 'url': 'https://api.github.com/repos/inyoung130/2025vibe'}, 'payload': {'repository_id': 1024592425, 'push_id': 25665820668, 'size': 1, 'distinct_size': 1, 'ref': 'refs/heads/main', 'head': '0325d58d6b85ed07632b7403c475db9b121306a6', 'before': '7cc5c5e8dd25636100c3a675fec8a3f3546266dc', 'commits': [{'sha': '0325d58d6b85ed07632b7403c475db9b121306a6', 'author': {'email': 'inzero09@naver.com', 'name': 'inyoung130'}, 'message': 'Update main.py', 'distinct': True, 'url': 'https://api.github.com/repos/inyoung130/2025vibe/commits/0325d58d6b85ed07632b7403c475db9b121306a6'}]}, 'public': True, 'created_at': '2025-07-23T04:03:45Z'}, {'id': '52424042132', 'type': 'PullRequestReviewEvent', 'actor': {'id': 42593027, 'login': 'JessalynWang', 'display_login': 'JessalynWang', 'gravatar_id': '', 'url': 'https://api.github.com/users/JessalynWang', 'avatar_url': 'https://avatars.githubusercontent.com/u/42593027?'}, 'repo': {'id': 964781172, 'name': 'amzn/app-platform', 'url': 'https://api.github.com/repos/amzn/app-platform'}, 'payload': {'action': 'created', 'review': {'id': 3045506127, 'node_id': 'PRR_kwDOOYFkdM61hrxP', 'user': {'login': 'JessalynWang', 'id': 42593027, 'node_id': 'MDQ6VXNlcjQyNTkzMDI3', 'avatar_url': 'https://avatars.githubusercontent.com/u/42593027?v=4', 'gravatar_id': '', 'url': 'https://api.github.com/users/JessalynWang', 'html_url': 'https://github.com/JessalynWang', 'followers_url': 'https://api.github.com/users/JessalynWang/followers', 'following_url': 'https://api.github.com/users/JessalynWang/following{/other_user}', 'gists_url': 'https://api.github.com/users/JessalynWang/gists{/gist_id}', 'starred_url': 'https://api.github.com/users/JessalynWang/starred{/owner}{/repo}', 'subscriptions_url': 'https://api.github.com/users/JessalynWang/subscriptions', 'organizations_url': 'https://api.github.com/users/JessalynWang/orgs', 'repos_url': 'https://api.github.com/users/JessalynWang/repos', 'events_url': 'https://api.github.com/users/JessalynWang/events{/privacy}', 'received_events_url': 'https://api.github.com/users/JessalynWang/received_events', 'type': 'User', 'user_view_type': 'public', 'site_admin': False}, 'body': None, 'commit_id': 'd98df4c3969bbbe98d7bee834021375fda3534da', 'submitted_at': '2025-07-23T04:03:44Z', 'state': 'approved', 'html_url': 'https://github.com/amzn/app-platform/pull/80#pullrequestreview-3045506127', 'pull_request_url': 'https://api.github.com/repos/amzn/app-platform/pulls/80', 'author_association': 'NONE', '_links': {'html': {'href': 'https://github.com/amzn/app-platform/pull/80#pullrequestreview-3045506127'}, 'pull_request': {'href': 'https://api.github.com/repos/amzn/app-platform/pulls/80'}}}, 'pull_request': {'url': 'https://api.github.com/repos/amzn/app-platform/pulls/80', 'id': 2686798720, 'node_id': 'PR_kwDOOYFkdM6gJUuA', 'html_url': 'https://github.com/amzn/app-platform/pull/80', 'diff_url': 'https://github.com/amzn/app-platform/pull/80.diff', 'patch_url': 'https://github.com/amzn/app-platform/pull/80.patch', 'issue_url': 'https://api.github.com/repos/amzn/app-platform/issues/80', 'number': 80, 'state': 'open', 'locked': False, 'title': 'Support Back gestures for presenters.', 'user': {'login': 'vRallev', 'id': 1558045, 'node_id': 'MDQ6VXNlcjE1NTgwNDU=', 'avatar_url': 'https://avatars.githubusercontent.com/u/1558045?v=4', 'gravatar_id': '', 'url': 'https://api.github.com/users/vRallev', 'html_url': 'https://github.com/vRallev', 'followers_url': 'https://api.github.com/users/vRallev/followers', 'following_url': 'https://api.github.com/users/vRallev/following{/other_user}', 'gists_url': 'https://api.github.com/users/vRallev/gists{/gist_id}', 'starred_url': 'https://api.github.com/users/vRallev/starred{/owner}{/repo}', 'subscriptions_url': 'https://api.github.com/users/vRallev/subscriptions', 'organizations_url': 'https://api.github.com/users/vRallev/orgs', 'repos_url': 'https://api.github.com/users/vRallev/repos', 'events_url': 'https://api.github.com/users/vRallev/events{/privacy}', 'received_events_url': 'https://api.github.com/users/vRallev/received_events', 'type': 'User', 'user_view_type': 'public', 'site_admin': False}, 'body': 'This change introduces `BackGestureDispatcherPresenter`, which functions as a bridge between presenters and the UI layer to forward back gestures to presenters.\\r\\n\\r\\nTwo new functions `BackHandlerPresenter {}` and `PredictiveBackHandlerPresenter {}` were introduced that mimic the APIs from Compose Multiplatform `BackHandler {}` and `PredictiveBackHandler` to consume back gestures. The \"Presenter\" suffix was chosen to avoid conflicts and confusions with the APIs from Compose Multiplatform or Android Compose UI.\\r\\n\\r\\nThe UI layer integration will be implemented in subsequent changes.\\r\\n\\r\\nSee #57\\r\\n', 'created_at': '2025-07-22T20:56:55Z', 'updated_at': '2025-07-23T04:03:44Z', 'closed_at': None, 'merged_at': None, 'merge_commit_sha': '7d29b06a84adac97d2bc96ae667f0b4acf375420', 'assignee': None, 'assignees': [], 'requested_reviewers': [], 'requested_teams': [], 'labels': [], 'milestone': None, 'draft': False, 'commits_url': 'https://api.github.com/repos/amzn/app-platform/pulls/80/commits', 'review_comments_url': 'https://api.github.com/repos/amzn/app-platform/pulls/80/comments', 'review_comment_url': 'https://api.github.com/repos/amzn/app-platform/pulls/comments{/number}', 'comments_url': 'https://api.github.com/repos/amzn/app-platform/issues/80/comments', 'statuses_url': 'https://api.github.com/repos/amzn/app-platform/statuses/d98df4c3969bbbe98d7bee834021375fda3534da', 'head': {'label': 'amzn:rwo/back-gesture', 'ref': 'rwo/back-gesture', 'sha': 'd98df4c3969bbbe98d7bee834021375fda3534da', 'user': {'login': 'amzn', 'id': 8594673, 'node_id': 'MDEyOk9yZ2FuaXphdGlvbjg1OTQ2NzM=', 'avatar_url': 'https://avatars.githubusercontent.com/u/8594673?v=4', 'gravatar_id': '', 'url': 'https://api.github.com/users/amzn', 'html_url': 'https://github.com/amzn', 'followers_url': 'https://api.github.com/users/amzn/followers', 'following_url': 'https://api.github.com/users/amzn/following{/other_user}', 'gists_url': 'https://api.github.com/users/amzn/gists{/gist_id}', 'starred_url': 'https://api.github.com/users/amzn/starred{/owner}{/repo}', 'subscriptions_url': 'https://api.github.com/users/amzn/subscriptions', 'organizations_url': 'https://api.github.com/users/amzn/orgs', 'repos_url': 'https://api.github.com/users/amzn/repos', 'events_url': 'https://api.github.com/users/amzn/events{/privacy}', 'received_events_url': 'https://api.github.com/users/amzn/received_events', 'type': 'Organization', 'user_view_type': 'public', 'site_admin': False}, 'repo': {'id': 964781172, 'node_id': 'R_kgDOOYFkdA', 'name': 'app-platform', 'full_name': 'amzn/app-platform', 'private': False, 'owner': {'login': 'amzn', 'id': 8594673, 'node_id': 'MDEyOk9yZ2FuaXphdGlvbjg1OTQ2NzM=', 'avatar_url': 'https://avatars.githubusercontent.com/u/8594673?v=4', 'gravatar_id': '', 'url': 'https://api.github.com/users/amzn', 'html_url': 'https://github.com/amzn', 'followers_url': 'https://api.github.com/users/amzn/followers', 'following_url': 'https://api.github.com/users/amzn/following{/other_user}', 'gists_url': 'https://api.github.com/users/amzn/gists{/gist_id}', 'starred_url': 'https://api.github.com/users/amzn/starred{/owner}{/repo}', 'subscriptions_url': 'https://api.github.com/users/amzn/subscriptions', 'organizations_url': 'https://api.github.com/users/amzn/orgs', 'repos_url': 'https://api.github.com/users/amzn/repos', 'events_url': 'https://api.github.com/users/amzn/events{/privacy}', 'received_events_url': 'https://api.github.com/users/amzn/received_events', 'type': 'Organization', 'user_view_type': 'public', 'site_admin': False}, 'html_url': 'https://github.com/amzn/app-platform', 'description': 'A lightweight application framework for state and memory management suitable for Kotlin Multiplatform projects.', 'fork': False, 'url': 'https://api.github.com/repos/amzn/app-platform', 'forks_url': 'https://api.github.com/repos/amzn/app-platform/forks', 'keys_url': 'https://api.github.com/repos/amzn/app-platform/keys{/key_id}', 'collaborators_url': 'https://api.github.com/repos/amzn/app-platform/collaborators{/collaborator}', 'teams_url': 'https://api.github.com/repos/amzn/app-platform/teams', 'hooks_url': 'https://api.github.com/repos/amzn/app-platform/hooks', 'issue_events_url': 'https://api.github.com/repos/amzn/app-platform/issues/events{/number}', 'events_url': 'https://api.github.com/repos/amzn/app-platform/events', 'assignees_url': 'https://api.github.com/repos/amzn/app-platform/assignees{/user}', 'branches_url': 'https://api.github.com/repos/amzn/app-platform/branches{/branch}', 'tags_url': 'https://api.github.com/repos/amzn/app-platform/tags', 'blobs_url': 'https://api.github.com/repos/amzn/app-platform/git/blobs{/sha}', 'git_tags_url': 'https://api.github.com/repos/amzn/app-platform/git/tags{/sha}', 'git_refs_url': 'https://api.github.com/repos/amzn/app-platform/git/refs{/sha}', 'trees_url': 'https://api.github.com/repos/amzn/app-platform/git/trees{/sha}', 'statuses_url': 'https://api.github.com/repos/amzn/app-platform/statuses/{sha}', 'languages_url': 'https://api.github.com/repos/amzn/app-platform/languages', 'stargazers_url': 'https://api.github.com/repos/amzn/app-platform/stargazers', 'contributors_url': 'https://api.github.com/repos/amzn/app-platform/contributors', 'subscribers_url': 'https://api.github.com/repos/amzn/app-platform/subscribers', 'subscription_url': 'https://api.github.com/repos/amzn/app-platform/subscription', 'commits_url': 'https://api.github.com/repos/amzn/app-platform/commits{/sha}', 'git_commits_url': 'https://api.github.com/repos/amzn/app-platform/git/commits{/sha}', 'comments_url': 'https://api.github.com/repos/amzn/app-platform/comments{/number}', 'issue_comment_url': 'https://api.github.com/repos/amzn/app-platform/issues/comments{/number}', 'contents_url': 'https://api.github.com/repos/amzn/app-platform/contents/{+path}', 'compare_url': 'https://api.github.com/repos/amzn/app-platform/compare/{base}...{head}', 'merges_url': 'https://api.github.com/repos/amzn/app-platform/merges', 'archive_url': 'https://api.github.com/repos/amzn/app-platform/{archive_format}{/ref}', 'downloads_url': 'https://api.github.com/repos/amzn/app-platform/downloads', 'issues_url': 'https://api.github.com/repos/amzn/app-platform/issues{/number}', 'pulls_url': 'https://api.github.com/repos/amzn/app-platform/pulls{/number}', 'milestones_url': 'https://api.github.com/repos/amzn/app-platform/milestones{/number}', 'notifications_url': 'https://api.github.com/repos/amzn/app-platform/notifications{?since,all,participating}', 'labels_url': 'https://api.github.com/repos/amzn/app-platform/labels{/name}', 'releases_url': 'https://api.github.com/repos/amzn/app-platform/releases{/id}', 'deployments_url': 'https://api.github.com/repos/amzn/app-platform/deployments', 'created_at': '2025-04-11T19:20:08Z', 'updated_at': '2025-07-22T23:34:17Z', 'pushed_at': '2025-07-22T23:40:14Z', 'git_url': 'git://github.com/amzn/app-platform.git', 'ssh_url': 'git@github.com:amzn/app-platform.git', 'clone_url': 'https://github.com/amzn/app-platform.git', 'svn_url': 'https://github.com/amzn/app-platform', 'homepage': 'https://amzn.github.io/app-platform/', 'size': 11105, 'stargazers_count': 251, 'watchers_count': 251, 'language': 'Kotlin', 'has_issues': True, 'has_projects': False, 'has_downloads': True, 'has_wiki': False, 'has_pages': True, 'has_discussions': False, 'forks_count': 14, 'mirror_url': None, 'archived': False, 'disabled': False, 'open_issues_count': 10, 'license': {'key': 'apache-2.0', 'name': 'Apache License 2.0', 'spdx_id': 'Apache-2.0', 'url': 'https://api.github.com/licenses/apache-2.0', 'node_id': 'MDc6TGljZW5zZTI='}, 'allow_forking': True, 'is_template': False, 'web_commit_signoff_required': False, 'topics': ['compose-multiplatform', 'compose-ui', 'kotlin', 'kotlin-multiplatform', 'unidirectional-data-flow'], 'visibility': 'public', 'forks': 14, 'open_issues': 10, 'watchers': 251, 'default_branch': 'main'}}, 'base': {'label': 'amzn:main', 'ref': 'main', 'sha': '1356fe0a0cf167956d5b521489a19a7853e16acb', 'user': {'login': 'amzn', 'id': 8594673, 'node_id': 'MDEyOk9yZ2FuaXphdGlvbjg1OTQ2NzM=', 'avatar_url': 'https://avatars.githubusercontent.com/u/8594673?v=4', 'gravatar_id': '', 'url': 'https://api.github.com/users/amzn', 'html_url': 'https://github.com/amzn', 'followers_url': 'https://api.github.com/users/amzn/followers', 'following_url': 'https://api.github.com/users/amzn/following{/other_user}', 'gists_url': 'https://api.github.com/users/amzn/gists{/gist_id}', 'starred_url': 'https://api.github.com/users/amzn/starred{/owner}{/repo}', 'subscriptions_url': 'https://api.github.com/users/amzn/subscriptions', 'organizations_url': 'https://api.github.com/users/amzn/orgs', 'repos_url': 'https://api.github.com/users/amzn/repos', 'events_url': 'https://api.github.com/users/amzn/events{/privacy}', 'received_events_url': 'https://api.github.com/users/amzn/received_events', 'type': 'Organization', 'user_view_type': 'public', 'site_admin': False}, 'repo': {'id': 964781172, 'node_id': 'R_kgDOOYFkdA', 'name': 'app-platform', 'full_name': 'amzn/app-platform', 'private': False, 'owner': {'login': 'amzn', 'id': 8594673, 'node_id': 'MDEyOk9yZ2FuaXphdGlvbjg1OTQ2NzM=', 'avatar_url': 'https://avatars.githubusercontent.com/u/8594673?v=4', 'gravatar_id': '', 'url': 'https://api.github.com/users/amzn', 'html_url': 'https://github.com/amzn', 'followers_url': 'https://api.github.com/users/amzn/followers', 'following_url': 'https://api.github.com/users/amzn/following{/other_user}', 'gists_url': 'https://api.github.com/users/amzn/gists{/gist_id}', 'starred_url': 'https://api.github.com/users/amzn/starred{/owner}{/repo}', 'subscriptions_url': 'https://api.github.com/users/amzn/subscriptions', 'organizations_url': 'https://api.github.com/users/amzn/orgs', 'repos_url': 'https://api.github.com/users/amzn/repos', 'events_url': 'https://api.github.com/users/amzn/events{/privacy}', 'received_events_url': 'https://api.github.com/users/amzn/received_events', 'type': 'Organization', 'user_view_type': 'public', 'site_admin': False}, 'html_url': 'https://github.com/amzn/app-platform', 'description': 'A lightweight application framework for state and memory management suitable for Kotlin Multiplatform projects.', 'fork': False, 'url': 'https://api.github.com/repos/amzn/app-platform', 'forks_url': 'https://api.github.com/repos/amzn/app-platform/forks', 'keys_url': 'https://api.github.com/repos/amzn/app-platform/keys{/key_id}', 'collaborators_url': 'https://api.github.com/repos/amzn/app-platform/collaborators{/collaborator}', 'teams_url': 'https://api.github.com/repos/amzn/app-platform/teams', 'hooks_url': 'https://api.github.com/repos/amzn/app-platform/hooks', 'issue_events_url': 'https://api.github.com/repos/amzn/app-platform/issues/events{/number}', 'events_url': 'https://api.github.com/repos/amzn/app-platform/events', 'assignees_url': 'https://api.github.com/repos/amzn/app-platform/assignees{/user}', 'branches_url': 'https://api.github.com/repos/amzn/app-platform/branches{/branch}', 'tags_url': 'https://api.github.com/repos/amzn/app-platform/tags', 'blobs_url': 'https://api.github.com/repos/amzn/app-platform/git/blobs{/sha}', 'git_tags_url': 'https://api.github.com/repos/amzn/app-platform/git/tags{/sha}', 'git_refs_url': 'https://api.github.com/repos/amzn/app-platform/git/refs{/sha}', 'trees_url': 'https://api.github.com/repos/amzn/app-platform/git/trees{/sha}', 'statuses_url': 'https://api.github.com/repos/amzn/app-platform/statuses/{sha}', 'languages_url': 'https://api.github.com/repos/amzn/app-platform/languages', 'stargazers_url': 'https://api.github.com/repos/amzn/app-platform/stargazers', 'contributors_url': 'https://api.github.com/repos/amzn/app-platform/contributors', 'subscribers_url': 'https://api.github.com/repos/amzn/app-platform/subscribers', 'subscription_url': 'https://api.github.com/repos/amzn/app-platform/subscription', 'commits_url': 'https://api.github.com/repos/amzn/app-platform/commits{/sha}', 'git_commits_url': 'https://api.github.com/repos/amzn/app-platform/git/commits{/sha}', 'comments_url': 'https://api.github.com/repos/amzn/app-platform/comments{/number}', 'issue_comment_url': 'https://api.github.com/repos/amzn/app-platform/issues/comments{/number}', 'contents_url': 'https://api.github.com/repos/amzn/app-platform/contents/{+path}', 'compare_url': 'https://api.github.com/repos/amzn/app-platform/compare/{base}...{head}', 'merges_url': 'https://api.github.com/repos/amzn/app-platform/merges', 'archive_url': 'https://api.github.com/repos/amzn/app-platform/{archive_format}{/ref}', 'downloads_url': 'https://api.github.com/repos/amzn/app-platform/downloads', 'issues_url': 'https://api.github.com/repos/amzn/app-platform/issues{/number}', 'pulls_url': 'https://api.github.com/repos/amzn/app-platform/pulls{/number}', 'milestones_url': 'https://api.github.com/repos/amzn/app-platform/milestones{/number}', 'notifications_url': 'https://api.github.com/repos/amzn/app-platform/notifications{?since,all,participating}', 'labels_url': 'https://api.github.com/repos/amzn/app-platform/labels{/name}', 'releases_url': 'https://api.github.com/repos/amzn/app-platform/releases{/id}', 'deployments_url': 'https://api.github.com/repos/amzn/app-platform/deployments', 'created_at': '2025-04-11T19:20:08Z', 'updated_at': '2025-07-22T23:34:17Z', 'pushed_at': '2025-07-22T23:40:14Z', 'git_url': 'git://github.com/amzn/app-platform.git', 'ssh_url': 'git@github.com:amzn/app-platform.git', 'clone_url': 'https://github.com/amzn/app-platform.git', 'svn_url': 'https://github.com/amzn/app-platform', 'homepage': 'https://amzn.github.io/app-platform/', 'size': 11105, 'stargazers_count': 251, 'watchers_count': 251, 'language': 'Kotlin', 'has_issues': True, 'has_projects': False, 'has_downloads': True, 'has_wiki': False, 'has_pages': True, 'has_discussions': False, 'forks_count': 14, 'mirror_url': None, 'archived': False, 'disabled': False, 'open_issues_count': 10, 'license': {'key': 'apache-2.0', 'name': 'Apache License 2.0', 'spdx_id': 'Apache-2.0', 'url': 'https://api.github.com/licenses/apache-2.0', 'node_id': 'MDc6TGljZW5zZTI='}, 'allow_forking': True, 'is_template': False, 'web_commit_signoff_required': False, 'topics': ['compose-multiplatform', 'compose-ui', 'kotlin', 'kotlin-multiplatform', 'unidirectional-data-flow'], 'visibility': 'public', 'forks': 14, 'open_issues': 10, 'watchers': 251, 'default_branch': 'main'}}, '_links': {'self': {'href': 'https://api.github.com/repos/amzn/app-platform/pulls/80'}, 'html': {'href': 'https://github.com/amzn/app-platform/pull/80'}, 'issue': {'href': 'https://api.github.com/repos/amzn/app-platform/issues/80'}, 'comments': {'href': 'https://api.github.com/repos/amzn/app-platform/issues/80/comments'}, 'review_comments': {'href': 'https://api.github.com/repos/amzn/app-platform/pulls/80/comments'}, 'review_comment': {'href': 'https://api.github.com/repos/amzn/app-platform/pulls/comments{/number}'}, 'commits': {'href': 'https://api.github.com/repos/amzn/app-platform/pulls/80/commits'}, 'statuses': {'href': 'https://api.github.com/repos/amzn/app-platform/statuses/d98df4c3969bbbe98d7bee834021375fda3534da'}}, 'author_association': 'CONTRIBUTOR', 'auto_merge': None, 'active_lock_reason': None}}, 'public': True, 'created_at': '2025-07-23T04:03:45Z', 'org': {'id': 8594673, 'login': 'amzn', 'gravatar_id': '', 'url': 'https://api.github.com/orgs/amzn', 'avatar_url': 'https://avatars.githubusercontent.com/u/8594673?'}}, {'id': '52424042121', 'type': 'PushEvent', 'actor': {'id': 32260834, 'login': 'MrTuoi', 'display_login': 'MrTuoi', 'gravatar_id': '', 'url': 'https://api.github.com/users/MrTuoi', 'avatar_url': 'https://avatars.githubusercontent.com/u/32260834?'}, 'repo': {'id': 901961463, 'name': 'MrTuoi/Image-Dr.X-Solutions', 'url': 'https://api.github.com/repos/MrTuoi/Image-Dr.X-Solutions'}, 'payload': {'repository_id': 901961463, 'push_id': 25665820654, 'size': 1, 'distinct_size': 1, 'ref': 'refs/heads/main', 'head': 'f769fd9dfd7ea5293d0b4203039d45c7b110ca3d', 'before': 'ec1d7b8c77e1af1835a9208c7a39a076fa4af540', 'commits': [{'sha': 'f769fd9dfd7ea5293d0b4203039d45c7b110ca3d', 'author': {'email': 'drx.aesthetic@gmail.com', 'name': 'Dr.x Solution'}, 'message': 'upload 01983573-9021-7423-8aa4-99f534f830ee', 'distinct': True, 'url': 'https://api.github.com/repos/MrTuoi/Image-Dr.X-Solutions/commits/f769fd9dfd7ea5293d0b4203039d45c7b110ca3d'}]}, 'public': True, 'created_at': '2025-07-23T04:03:45Z'}, {'id': '52424042111', 'type': 'PushEvent', 'actor': {'id': 221934662, 'login': 'dzhoemoey', 'display_login': 'dzhoemoey', 'gravatar_id': '', 'url': 'https://api.github.com/users/dzhoemoey', 'avatar_url': 'https://avatars.githubusercontent.com/u/221934662?'}, 'repo': {'id': 1023375525, 'name': 'dzhoemoey/Dzhoe', 'url': 'https://api.github.com/repos/dzhoemoey/Dzhoe'}, 'payload': {'repository_id': 1023375525, 'push_id': 25665820672, 'size': 1, 'distinct_size': 1, 'ref': 'refs/heads/master', 'head': 'c12aaf230e85f5560b546c51889dd07cece8f032', 'before': '5a8957ab8afebb7f4a418457aae5528eb2f600cf', 'commits': [{'sha': 'c12aaf230e85f5560b546c51889dd07cece8f032', 'author': {'email': 'konten1bot@gmail.com', 'name': 'dzhoemoey'}, 'message': 'Update index.html', 'distinct': True, 'url': 'https://api.github.com/repos/dzhoemoey/Dzhoe/commits/c12aaf230e85f5560b546c51889dd07cece8f032'}]}, 'public': True, 'created_at': '2025-07-23T04:03:45Z'}, {'id': '52424042075', 'type': 'ForkEvent', 'actor': {'id': 115565870, 'login': 'Vkm1324', 'display_login': 'Vkm1324', 'gravatar_id': '', 'url': 'https://api.github.com/users/Vkm1324', 'avatar_url': 'https://avatars.githubusercontent.com/u/115565870?'}, 'repo': {'id': 611913815, 'name': 'microsoft/lida', 'url': 'https://api.github.com/repos/microsoft/lida'}, 'payload': {'forkee': {'id': 1024658005, 'node_id': 'R_kgDOPRMKVQ', 'name': 'lida', 'full_name': 'Vkm1324/lida', 'private': False, 'owner': {'login': 'Vkm1324', 'id': 115565870, 'node_id': 'U_kgDOBuNlLg', 'avatar_url': 'https://avatars.githubusercontent.com/u/115565870?v=4', 'gravatar_id': '', 'url': 'https://api.github.com/users/Vkm1324', 'html_url': 'https://github.com/Vkm1324', 'followers_url': 'https://api.github.com/users/Vkm1324/followers', 'following_url': 'https://api.github.com/users/Vkm1324/following{/other_user}', 'gists_url': 'https://api.github.com/users/Vkm1324/gists{/gist_id}', 'starred_url': 'https://api.github.com/users/Vkm1324/starred{/owner}{/repo}', 'subscriptions_url': 'https://api.github.com/users/Vkm1324/subscriptions', 'organizations_url': 'https://api.github.com/users/Vkm1324/orgs', 'repos_url': 'https://api.github.com/users/Vkm1324/repos', 'events_url': 'https://api.github.com/users/Vkm1324/events{/privacy}', 'received_events_url': 'https://api.github.com/users/Vkm1324/received_events', 'type': 'User', 'user_view_type': 'public', 'site_admin': False}, 'html_url': 'https://github.com/Vkm1324/lida', 'description': 'Automatic Generation of Visualizations and Infographics using Large Language Models', 'fork': True, 'url': 'https://api.github.com/repos/Vkm1324/lida', 'forks_url': 'https://api.github.com/repos/Vkm1324/lida/forks', 'keys_url': 'https://api.github.com/repos/Vkm1324/lida/keys{/key_id}', 'collaborators_url': 'https://api.github.com/repos/Vkm1324/lida/collaborators{/collaborator}', 'teams_url': 'https://api.github.com/repos/Vkm1324/lida/teams', 'hooks_url': 'https://api.github.com/repos/Vkm1324/lida/hooks', 'issue_events_url': 'https://api.github.com/repos/Vkm1324/lida/issues/events{/number}', 'events_url': 'https://api.github.com/repos/Vkm1324/lida/events', 'assignees_url': 'https://api.github.com/repos/Vkm1324/lida/assignees{/user}', 'branches_url': 'https://api.github.com/repos/Vkm1324/lida/branches{/branch}', 'tags_url': 'https://api.github.com/repos/Vkm1324/lida/tags', 'blobs_url': 'https://api.github.com/repos/Vkm1324/lida/git/blobs{/sha}', 'git_tags_url': 'https://api.github.com/repos/Vkm1324/lida/git/tags{/sha}', 'git_refs_url': 'https://api.github.com/repos/Vkm1324/lida/git/refs{/sha}', 'trees_url': 'https://api.github.com/repos/Vkm1324/lida/git/trees{/sha}', 'statuses_url': 'https://api.github.com/repos/Vkm1324/lida/statuses/{sha}', 'languages_url': 'https://api.github.com/repos/Vkm1324/lida/languages', 'stargazers_url': 'https://api.github.com/repos/Vkm1324/lida/stargazers', 'contributors_url': 'https://api.github.com/repos/Vkm1324/lida/contributors', 'subscribers_url': 'https://api.github.com/repos/Vkm1324/lida/subscribers', 'subscription_url': 'https://api.github.com/repos/Vkm1324/lida/subscription', 'commits_url': 'https://api.github.com/repos/Vkm1324/lida/commits{/sha}', 'git_commits_url': 'https://api.github.com/repos/Vkm1324/lida/git/commits{/sha}', 'comments_url': 'https://api.github.com/repos/Vkm1324/lida/comments{/number}', 'issue_comment_url': 'https://api.github.com/repos/Vkm1324/lida/issues/comments{/number}', 'contents_url': 'https://api.github.com/repos/Vkm1324/lida/contents/{+path}', 'compare_url': 'https://api.github.com/repos/Vkm1324/lida/compare/{base}...{head}', 'merges_url': 'https://api.github.com/repos/Vkm1324/lida/merges', 'archive_url': 'https://api.github.com/repos/Vkm1324/lida/{archive_format}{/ref}', 'downloads_url': 'https://api.github.com/repos/Vkm1324/lida/downloads', 'issues_url': 'https://api.github.com/repos/Vkm1324/lida/issues{/number}', 'pulls_url': 'https://api.github.com/repos/Vkm1324/lida/pulls{/number}', 'milestones_url': 'https://api.github.com/repos/Vkm1324/lida/milestones{/number}', 'notifications_url': 'https://api.github.com/repos/Vkm1324/lida/notifications{?since,all,participating}', 'labels_url': 'https://api.github.com/repos/Vkm1324/lida/labels{/name}', 'releases_url': 'https://api.github.com/repos/Vkm1324/lida/releases{/id}', 'deployments_url': 'https://api.github.com/repos/Vkm1324/lida/deployments', 'created_at': '2025-07-23T04:03:44Z', 'updated_at': '2025-07-23T04:03:44Z', 'pushed_at': '2024-08-08T18:44:15Z', 'git_url': 'git://github.com/Vkm1324/lida.git', 'ssh_url': 'git@github.com:Vkm1324/lida.git', 'clone_url': 'https://github.com/Vkm1324/lida.git', 'svn_url': 'https://github.com/Vkm1324/lida', 'homepage': 'https://microsoft.github.io/lida/', 'size': 509932, 'stargazers_count': 0, 'watchers_count': 0, 'language': None, 'has_issues': False, 'has_projects': True, 'has_downloads': True, 'has_wiki': True, 'has_pages': False, 'has_discussions': False, 'forks_count': 0, 'mirror_url': None, 'archived': False, 'disabled': False, 'open_issues_count': 0, 'license': None, 'allow_forking': True, 'is_template': False, 'web_commit_signoff_required': False, 'topics': [], 'visibility': 'public', 'forks': 0, 'open_issues': 0, 'watchers': 0, 'default_branch': 'main', 'public': True}}, 'public': True, 'created_at': '2025-07-23T04:03:45Z', 'org': {'id': 6154722, 'login': 'microsoft', 'gravatar_id': '', 'url': 'https://api.github.com/orgs/microsoft', 'avatar_url': 'https://avatars.githubusercontent.com/u/6154722?'}}, {'id': '52424042088', 'type': 'PushEvent', 'actor': {'id': 191582513, 'login': 'DrXSolutions8', 'display_login': 'DrXSolutions8', 'gravatar_id': '', 'url': 'https://api.github.com/users/DrXSolutions8', 'avatar_url': 'https://avatars.githubusercontent.com/u/191582513?'}, 'repo': {'id': 902815128, 'name': 'DrXSolutions8/Image-Dr.X-Solution-8', 'url': 'https://api.github.com/repos/DrXSolutions8/Image-Dr.X-Solution-8'}, 'payload': {'repository_id': 902815128, 'push_id': 25665820684, 'size': 1, 'distinct_size': 1, 'ref': 'refs/heads/main', 'head': 'e8ca2ef02e60ad59ecdf05e4cea2a0f839df5acc', 'before': '4b3e4c69746afabf72d90d3155721cc5e9f03079', 'commits': [{'sha': 'e8ca2ef02e60ad59ecdf05e4cea2a0f839df5acc', 'author': {'email': 'drx.aesthetic@gmail.com', 'name': 'Dr.x Solution'}, 'message': 'upload 01983573-9021-7400-b495-82d30e642525', 'distinct': True, 'url': 'https://api.github.com/repos/DrXSolutions8/Image-Dr.X-Solution-8/commits/e8ca2ef02e60ad59ecdf05e4cea2a0f839df5acc'}]}, 'public': True, 'created_at': '2025-07-23T04:03:45Z'}, {'id': '52424042087', 'type': 'PushEvent', 'actor': {'id': 214044541, 'login': 'RebirthXS', 'display_login': 'RebirthXS', 'gravatar_id': '', 'url': 'https://api.github.com/users/RebirthXS', 'avatar_url': 'https://avatars.githubusercontent.com/u/214044541?'}, 'repo': {'id': 1015553380, 'name': 'RebirthXS/botnet-ddos', 'url': 'https://api.github.com/repos/RebirthXS/botnet-ddos'}, 'payload': {'repository_id': 1015553380, 'push_id': 25665820628, 'size': 1, 'distinct_size': 1, 'ref': 'refs/heads/main', 'head': 'fb9358589af365e191deb1180e52c6b1f240805f', 'before': '613f8ebb662f60c264aed047b9692f96123a36ae', 'commits': [{'sha': 'fb9358589af365e191deb1180e52c6b1f240805f', 'author': {'email': 'rebirthvsdflz@gmail.com', 'name': 'rebirthxs'}, 'message': 'https://rebirthstress.net', 'distinct': True, 'url': 'https://api.github.com/repos/RebirthXS/botnet-ddos/commits/fb9358589af365e191deb1180e52c6b1f240805f'}]}, 'public': True, 'created_at': '2025-07-23T04:03:45Z'}, {'id': '52424042059', 'type': 'PushEvent', 'actor': {'id': 36754304, 'login': 'lucasoribka', 'display_login': 'lucasoribka', 'gravatar_id': '', 'url': 'https://api.github.com/users/lucasoribka', 'avatar_url': 'https://avatars.githubusercontent.com/u/36754304?'}, 'repo': {'id': 964203145, 'name': 'lucasoribka/video', 'url': 'https://api.github.com/repos/lucasoribka/video'}, 'payload': {'repository_id': 964203145, 'push_id': 25665820666, 'size': 1, 'distinct_size': 1, 'ref': 'refs/heads/main', 'head': '0d6ebbe6cdcedbcb39dc40a177ae2853a02fa9ab', 'before': '0d4f1676349ecc6331db68575daac309a9c60616', 'commits': [{'sha': '0d6ebbe6cdcedbcb39dc40a177ae2853a02fa9ab', 'author': {'email': '36754304+lucasoribka@users.noreply.github.com', 'name': 'Lucas Manoel P. Oribka'}, 'message': 'Atualizando arquivo JSON de vídeos', 'distinct': True, 'url': 'https://api.github.com/repos/lucasoribka/video/commits/0d6ebbe6cdcedbcb39dc40a177ae2853a02fa9ab'}]}, 'public': True, 'created_at': '2025-07-23T04:03:45Z'}, {'id': '52424042078', 'type': 'PushEvent', 'actor': {'id': 83566191, 'login': 'anushkaDev9', 'display_login': 'anushkaDev9', 'gravatar_id': '', 'url': 'https://api.github.com/users/anushkaDev9', 'avatar_url': 'https://avatars.githubusercontent.com/u/83566191?'}, 'repo': {'id': 1024635796, 'name': 'anushkaDev9/portfolio', 'url': 'https://api.github.com/repos/anushkaDev9/portfolio'}, 'payload': {'repository_id': 1024635796, 'push_id': 25665820658, 'size': 1, 'distinct_size': 1, 'ref': 'refs/heads/main', 'head': '51dcdddd1c4d329076a71f8682c0de49344d989d', 'before': '33376d7a0313ab00815beb405de4a95b441eff72', 'commits': [{'sha': '51dcdddd1c4d329076a71f8682c0de49344d989d', 'author': {'email': '83566191+anushkaDev9@users.noreply.github.com', 'name': 'Anushka Rangari'}, 'message': 'a', 'distinct': True, 'url': 'https://api.github.com/repos/anushkaDev9/portfolio/commits/51dcdddd1c4d329076a71f8682c0de49344d989d'}]}, 'public': True, 'created_at': '2025-07-23T04:03:45Z'}, {'id': '52424042064', 'type': 'PushEvent', 'actor': {'id': 191577180, 'login': 'DrXSolutions', 'display_login': 'DrXSolutions', 'gravatar_id': '', 'url': 'https://api.github.com/users/DrXSolutions', 'avatar_url': 'https://avatars.githubusercontent.com/u/191577180?'}, 'repo': {'id': 902789502, 'name': 'DrXSolutions/Image-Dr.X-Solution-2', 'url': 'https://api.github.com/repos/DrXSolutions/Image-Dr.X-Solution-2'}, 'payload': {'repository_id': 902789502, 'push_id': 25665820649, 'size': 1, 'distinct_size': 1, 'ref': 'refs/heads/main', 'head': '2cb656052549cd8fb135e39dd6f8a48701fd042e', 'before': '979a88a7d531728aa6289897a3f2b27b4039fae8', 'commits': [{'sha': '2cb656052549cd8fb135e39dd6f8a48701fd042e', 'author': {'email': 'drx.aesthetic@gmail.com', 'name': 'Dr.x Solution'}, 'message': 'upload 01983573-9021-73c9-bb3d-10ce6190587b', 'distinct': True, 'url': 'https://api.github.com/repos/DrXSolutions/Image-Dr.X-Solution-2/commits/2cb656052549cd8fb135e39dd6f8a48701fd042e'}]}, 'public': True, 'created_at': '2025-07-23T04:03:45Z'}, {'id': '52424042081', 'type': 'PushEvent', 'actor': {'id': 48607329, 'login': 'JoeyFitzpatrick', 'display_login': 'JoeyFitzpatrick', 'gravatar_id': '', 'url': 'https://api.github.com/users/JoeyFitzpatrick', 'avatar_url': 'https://avatars.githubusercontent.com/u/48607329?'}, 'repo': {'id': 918034211, 'name': 'JoeyFitzpatrick/trunks.nvim', 'url': 'https://api.github.com/repos/JoeyFitzpatrick/trunks.nvim'}, 'payload': {'repository_id': 918034211, 'push_id': 25665820687, 'size': 1, 'distinct_size': 1, 'ref': 'refs/heads/main', 'head': 'ca2de786d81286d0de1d1bf56464e39d88ed313f', 'before': 'bfdfe6c091b0c4ae6fd02859a10f97c6c0b26abb', 'commits': [{'sha': 'ca2de786d81286d0de1d1bf56464e39d88ed313f', 'author': {'email': 'josephfitzpatrick333@yahoo.com', 'name': 'Joey Fitzpatrick'}, 'message': 'feat: time-machine mapping to diff against head', 'distinct': True, 'url': 'https://api.github.com/repos/JoeyFitzpatrick/trunks.nvim/commits/ca2de786d81286d0de1d1bf56464e39d88ed313f'}]}, 'public': True, 'created_at': '2025-07-23T04:03:45Z'}, {'id': '52424042065', 'type': 'PushEvent', 'actor': {'id': 191582157, 'login': 'DrXSolutions7', 'display_login': 'DrXSolutions7', 'gravatar_id': '', 'url': 'https://api.github.com/users/DrXSolutions7', 'avatar_url': 'https://avatars.githubusercontent.com/u/191582157?'}, 'repo': {'id': 902813552, 'name': 'DrXSolutions7/Image-Dr.X-Solution-7', 'url': 'https://api.github.com/repos/DrXSolutions7/Image-Dr.X-Solution-7'}, 'payload': {'repository_id': 902813552, 'push_id': 25665820676, 'size': 1, 'distinct_size': 1, 'ref': 'refs/heads/main', 'head': 'e3d14e9e524811a0a065abdb9d614c3acee9884c', 'before': '81a8eb84207f8160c55c67914fc21e355b2c656f', 'commits': [{'sha': 'e3d14e9e524811a0a065abdb9d614c3acee9884c', 'author': {'email': 'drx.aesthetic@gmail.com', 'name': 'Dr.x Solution'}, 'message': 'upload 01983573-9021-7419-8369-ef0cc3faeb65', 'distinct': True, 'url': 'https://api.github.com/repos/DrXSolutions7/Image-Dr.X-Solution-7/commits/e3d14e9e524811a0a065abdb9d614c3acee9884c'}]}, 'public': True, 'created_at': '2025-07-23T04:03:45Z'}, {'id': '52424042076', 'type': 'CreateEvent', 'actor': {'id': 29139614, 'login': 'renovate[bot]', 'display_login': 'renovate', 'gravatar_id': '', 'url': 'https://api.github.com/users/renovate[bot]', 'avatar_url': 'https://avatars.githubusercontent.com/u/29139614?'}, 'repo': {'id': 505247358, 'name': 'ollytheninja/gringotts', 'url': 'https://api.github.com/repos/ollytheninja/gringotts'}, 'payload': {'ref': 'renovate/devops-infra-action-pull-request-0.x', 'ref_type': 'branch', 'master_branch': 'main', 'description': None, 'pusher_type': 'user'}, 'public': True, 'created_at': '2025-07-23T04:03:45Z'}, {'id': '52424042080', 'type': 'CreateEvent', 'actor': {'id': 199214051, 'login': 'nagasrimaturi', 'display_login': 'nagasrimaturi', 'gravatar_id': '', 'url': 'https://api.github.com/users/nagasrimaturi', 'avatar_url': 'https://avatars.githubusercontent.com/u/199214051?'}, 'repo': {'id': 1024658003, 'name': 'nagasrimaturi/Employee_salary_prediction_Nagasri', 'url': 'https://api.github.com/repos/nagasrimaturi/Employee_salary_prediction_Nagasri'}, 'payload': {'ref': None, 'ref_type': 'repository', 'master_branch': 'main', 'description': None, 'pusher_type': 'user'}, 'public': True, 'created_at': '2025-07-23T04:03:45Z'}, {'id': '52424042055', 'type': 'IssueCommentEvent', 'actor': {'id': 49699333, 'login': 'dependabot[bot]', 'display_login': 'dependabot', 'gravatar_id': '', 'url': 'https://api.github.com/users/dependabot[bot]', 'avatar_url': 'https://avatars.githubusercontent.com/u/49699333?'}, 'repo': {'id': 301335740, 'name': 'terrestris/shogun-admin', 'url': 'https://api.github.com/repos/terrestris/shogun-admin'}, 'payload': {'action': 'created', 'issue': {'url': 'https://api.github.com/repos/terrestris/shogun-admin/issues/1276', 'repository_url': 'https://api.github.com/repos/terrestris/shogun-admin', 'labels_url': 'https://api.github.com/repos/terrestris/shogun-admin/issues/1276/labels{/name}', 'comments_url': 'https://api.github.com/repos/terrestris/shogun-admin/issues/1276/comments', 'events_url': 'https://api.github.com/repos/terrestris/shogun-admin/issues/1276/events', 'html_url': 'https://github.com/terrestris/shogun-admin/pull/1276', 'id': 3251009692, 'node_id': 'PR_kwDOEfYEvM6f-2v1', 'number': 1276, 'title': 'chore(deps-dev): bump @stylistic/eslint-plugin from 4.4.1 to 5.2.1', 'user': {'login': 'dependabot[bot]', 'id': 49699333, 'node_id': 'MDM6Qm90NDk2OTkzMzM=', 'avatar_url': 'https://avatars.githubusercontent.com/in/29110?v=4', 'gravatar_id': '', 'url': 'https://api.github.com/users/dependabot%5Bbot%5D', 'html_url': 'https://github.com/apps/dependabot', 'followers_url': 'https://api.github.com/users/dependabot%5Bbot%5D/followers', 'following_url': 'https://api.github.com/users/dependabot%5Bbot%5D/following{/other_user}', 'gists_url': 'https://api.github.com/users/dependabot%5Bbot%5D/gists{/gist_id}', 'starred_url': 'https://api.github.com/users/dependabot%5Bbot%5D/starred{/owner}{/repo}', 'subscriptions_url': 'https://api.github.com/users/dependabot%5Bbot%5D/subscriptions', 'organizations_url': 'https://api.github.com/users/dependabot%5Bbot%5D/orgs', 'repos_url': 'https://api.github.com/users/dependabot%5Bbot%5D/repos', 'events_url': 'https://api.github.com/users/dependabot%5Bbot%5D/events{/privacy}', 'received_events_url': 'https://api.github.com/users/dependabot%5Bbot%5D/received_events', 'type': 'Bot', 'user_view_type': 'public', 'site_admin': False}, 'labels': [{'id': 2579386837, 'node_id': 'MDU6TGFiZWwyNTc5Mzg2ODM3', 'url': 'https://api.github.com/repos/terrestris/shogun-admin/labels/dependencies', 'name': 'dependencies', 'color': '0366d6', 'default': False, 'description': 'Pull requests that update a dependency file'}, {'id': 6884418095, 'node_id': 'LA_kwDOEfYEvM8AAAABmlfiLw', 'url': 'https://api.github.com/repos/terrestris/shogun-admin/labels/javascript', 'name': 'javascript', 'color': '168700', 'default': False, 'description': 'Pull requests that update Javascript code'}], 'state': 'closed', 'locked': False, 'assignee': None, 'assignees': [], 'milestone': None, 'comments': 1, 'created_at': '2025-07-22T04:34:58Z', 'updated_at': '2025-07-23T04:03:43Z', 'closed_at': '2025-07-23T04:03:43Z', 'author_association': 'CONTRIBUTOR', 'type': None, 'active_lock_reason': None, 'draft': False, 'pull_request': {'url': 'https://api.github.com/repos/terrestris/shogun-admin/pulls/1276', 'html_url': 'https://github.com/terrestris/shogun-admin/pull/1276', 'diff_url': 'https://github.com/terrestris/shogun-admin/pull/1276.diff', 'patch_url': 'https://github.com/terrestris/shogun-admin/pull/1276.patch', 'merged_at': None}, 'body': 'Bumps [@stylistic/eslint-plugin](https://github.com/eslint-stylistic/eslint-stylistic/tree/HEAD/packages/eslint-plugin) from 4.4.1 to 5.2.1.\\n<details>\\n<summary>Release notes</summary>\\n<p><em>Sourced from <a href=\"https://github.com/eslint-stylistic/eslint-stylistic/releases\"><code>@\\u200bstylistic/eslint-plugin</code>\\'s releases</a>.</em></p>\\n<blockquote>\\n<h2>v5.2.1</h2>\\n<h3>\\xa0\\xa0\\xa0🐞 Bug Fixes</h3>\\n<ul>\\n<li>Run update, correct schema \\xa0-\\xa0 by <a href=\"https://github.com/9romise\"><code>@\\u200b9romise</code></a> in <a href=\"https://redirect.github.com/eslint-stylistic/eslint-stylistic/issues/887\">eslint-stylistic/eslint-stylistic#887</a> <a href=\"https://github.com/eslint-stylistic/eslint-stylistic/commit/cc06d9ab\"><!-- raw HTML omitted -->(cc06d)<!-- raw HTML omitted --></a></li>\\n<li><strong>indent</strong>: Ignore semicolon in <code>TSTypeAliasDeclaration</code> \\xa0-\\xa0 by <a href=\"https://github.com/9romise\"><code>@\\u200b9romise</code></a> in <a href=\"https://redirect.github.com/eslint-stylistic/eslint-stylistic/issues/903\">eslint-stylistic/eslint-stylistic#903</a> <a href=\"https://github.com/eslint-stylistic/eslint-stylistic/commit/71aaccc8\"><!-- raw HTML omitted -->(71aac)<!-- raw HTML omitted --></a></li>\\n</ul>\\n<h3>\\xa0\\xa0\\xa0🏎 Performance</h3>\\n<ul>\\n<li>Reduce array iterations \\xa0-\\xa0 by <a href=\"https://github.com/9romise\"><code>@\\u200b9romise</code></a> in <a href=\"https://redirect.github.com/eslint-stylistic/eslint-stylistic/issues/886\">eslint-stylistic/eslint-stylistic#886</a> <a href=\"https://github.com/eslint-stylistic/eslint-stylistic/commit/84b7d0e2\"><!-- raw HTML omitted -->(84b7d)<!-- raw HTML omitted --></a></li>\\n</ul>\\n<h5>\\xa0\\xa0\\xa0\\xa0<a href=\"https://github.com/eslint-stylistic/eslint-stylistic/compare/v5.2.0...v5.2.1\">View changes on GitHub</a></h5>\\n<h2>v5.2.0</h2>\\n<h3>\\xa0\\xa0\\xa0🚀 Features</h3>\\n<ul>\\n<li>Support <code>AccessorProperty</code> \\xa0-\\xa0 by <a href=\"https://github.com/9romise\"><code>@\\u200b9romise</code></a> in <a href=\"https://redirect.github.com/eslint-stylistic/eslint-stylistic/issues/829\">eslint-stylistic/eslint-stylistic#829</a> <a href=\"https://github.com/eslint-stylistic/eslint-stylistic/commit/2143f349\"><!-- raw HTML omitted -->(2143f)<!-- raw HTML omitted --></a></li>\\n<li>Add <code>warnOnce</code> utility for deprecation warnings \\xa0-\\xa0 by <a href=\"https://github.com/9romise\"><code>@\\u200b9romise</code></a> in <a href=\"https://redirect.github.com/eslint-stylistic/eslint-stylistic/issues/867\">eslint-stylistic/eslint-stylistic#867</a> <a href=\"https://github.com/eslint-stylistic/eslint-stylistic/commit/f0158222\"><!-- raw HTML omitted -->(f0158)<!-- raw HTML omitted --></a></li>\\n<li><strong>indent</strong>:\\n<ul>\\n<li>Support <code>TSTypeAliasDeclaration</code> \\xa0-\\xa0 by <a href=\"https://github.com/shixianqin\"><code>@\\u200bshixianqin</code></a>, <strong>Vida Xie</strong> and <a href=\"https://github.com/9romise\"><code>@\\u200b9romise</code></a> in <a href=\"https://redirect.github.com/eslint-stylistic/eslint-stylistic/issues/796\">eslint-stylistic/eslint-stylistic#796</a> <a href=\"https://github.com/eslint-stylistic/eslint-stylistic/commit/c62afeab\"><!-- raw HTML omitted -->(c62af)<!-- raw HTML omitted --></a></li>\\n<li>Introduce <code>returnType</code> for <code>FunctionDeclaration</code> and <code>FunctionExpression</code> \\xa0-\\xa0 by <a href=\"https://github.com/9romise\"><code>@\\u200b9romise</code></a> in <a href=\"https://redirect.github.com/eslint-stylistic/eslint-stylistic/issues/884\">eslint-stylistic/eslint-stylistic#884</a> <a href=\"https://github.com/eslint-stylistic/eslint-stylistic/commit/c0a09fb4\"><!-- raw HTML omitted -->(c0a09)<!-- raw HTML omitted --></a></li>\\n</ul>\\n</li>\\n<li><strong>keyword-spacing</strong>:\\n<ul>\\n<li>Support <code>ImportAttribute</code> \\xa0-\\xa0 by <a href=\"https://github.com/9romise\"><code>@\\u200b9romise</code></a> in <a href=\"https://redirect.github.com/eslint-stylistic/eslint-stylistic/issues/863\">eslint-stylistic/eslint-stylistic#863</a> <a href=\"https://github.com/eslint-stylistic/eslint-stylistic/commit/08d41938\"><!-- raw HTML omitted -->(08d41)<!-- raw HTML omitted --></a></li>\\n</ul>\\n</li>\\n<li><strong>multiline-comment-style</strong>:\\n<ul>\\n<li>Add support for exclamation comments \\xa0-\\xa0 by <a href=\"https://github.com/IronGeek\"><code>@\\u200bIronGeek</code></a> in <a href=\"https://redirect.github.com/eslint-stylistic/eslint-stylistic/issues/876\">eslint-stylistic/eslint-stylistic#876</a> <a href=\"https://github.com/eslint-stylistic/eslint-stylistic/commit/b2ece9f0\"><!-- raw HTML omitted -->(b2ece)<!-- raw HTML omitted --></a></li>\\n</ul>\\n</li>\\n<li><strong>no-extra-parens</strong>:\\n<ul>\\n<li>Support part of TS Nodes \\xa0-\\xa0 by <a href=\"https://github.com/9romise\"><code>@\\u200b9romise</code></a> in <a href=\"https://redirect.github.com/eslint-stylistic/eslint-stylistic/issues/873\">eslint-stylistic/eslint-stylistic#873</a> <a href=\"https://github.com/eslint-stylistic/eslint-stylistic/commit/7d4aa27c\"><!-- raw HTML omitted -->(7d4aa)<!-- raw HTML omitted --></a></li>\\n</ul>\\n</li>\\n<li><strong>object-curly-spacing</strong>:\\n<ul>\\n<li>Support <code>ImportAttribute</code> \\xa0-\\xa0 by <a href=\"https://github.com/9romise\"><code>@\\u200b9romise</code></a> in <a href=\"https://redirect.github.com/eslint-stylistic/eslint-stylistic/issues/862\">eslint-stylistic/eslint-stylistic#862</a> <a href=\"https://github.com/eslint-stylistic/eslint-stylistic/commit/000f2f49\"><!-- raw HTML omitted -->(000f2)<!-- raw HTML omitted --></a></li>\\n</ul>\\n</li>\\n</ul>\\n<h3>\\xa0\\xa0\\xa0🐞 Bug Fixes</h3>\\n<ul>\\n<li>Disallow extra properties in rule options \\xa0-\\xa0 by <a href=\"https://github.com/andreww2012\"><code>@\\u200bandreww2012</code></a> and <a href=\"https://github.com/9romise\"><code>@\\u200b9romise</code></a> in <a href=\"https://redirect.github.com/eslint-stylistic/eslint-stylistic/issues/883\">eslint-stylistic/eslint-stylistic#883</a> <a href=\"https://github.com/eslint-stylistic/eslint-stylistic/commit/bac5f3f5\"><!-- raw HTML omitted -->(bac5f)<!-- raw HTML omitted --></a></li>\\n<li><strong>indent</strong>: Align first element when <code>VariableDeclarator</code> is <code>first</code> \\xa0-\\xa0 by <a href=\"https://github.com/9romise\"><code>@\\u200b9romise</code></a> in <a href=\"https://redirect.github.com/eslint-stylistic/eslint-stylistic/issues/861\">eslint-stylistic/eslint-stylistic#861</a> <a href=\"https://github.com/eslint-stylistic/eslint-stylistic/commit/ddd14c83\"><!-- raw HTML omitted -->(ddd14)<!-- raw HTML omitted --></a></li>\\n</ul>\\n<h5>\\xa0\\xa0\\xa0\\xa0<a href=\"https://github.com/eslint-stylistic/eslint-stylistic/compare/v5.1.0...v5.2.0\">View changes on GitHub</a></h5>\\n<h2>v5.1.0</h2>\\n<h2><a href=\"https://github.com/eslint-stylistic/eslint-stylistic/compare/v5.0.0...v5.1.0\">5.1.0</a> (2025-06-29)</h2>\\n<h3>Bug Fixes</h3>\\n<ul>\\n<li>correct rule name in <code>disable-legacy</code> (<a href=\"https://redirect.github.com/eslint-stylistic/eslint-stylistic/issues/849\">#849</a>) (<a href=\"https://github.com/eslint-stylistic/eslint-stylistic/commit/e63f1e418aae14b7bfdfc764c3a1a310d7af4ddb\">e63f1e4</a>)</li>\\n<li><strong>indent:</strong> correct handling of return type annotations (<a href=\"https://redirect.github.com/eslint-stylistic/eslint-stylistic/issues/853\">#853</a>) (<a href=\"https://github.com/eslint-stylistic/eslint-stylistic/commit/5259950b5f5be86d1d73f6dcb07952b1d36f31e1\">5259950</a>)</li>\\n</ul>\\n<h3>Build Related</h3>\\n<ul>\\n<li>migrate to <code>tsdown</code> (<a href=\"https://redirect.github.com/eslint-stylistic/eslint-stylistic/issues/854\">#854</a>) (<a href=\"https://github.com/eslint-stylistic/eslint-stylistic/commit/5d2bec10f1da31eb56ccf637d936dcbba79983cc\">5d2bec1</a>)</li>\\n</ul>\\n<!-- raw HTML omitted -->\\n</blockquote>\\n<p>... (truncated)</p>\\n</details>\\n<details>\\n<summary>Changelog</summary>\\n<p><em>Sourced from <a href=\"https://github.com/eslint-stylistic/eslint-stylistic/blob/main/CHANGELOG.md\"><code>@\\u200bstylistic/eslint-plugin</code>\\'s changelog</a>.</em></p>\\n<blockquote>\\n<h2><a href=\"https://github.com/eslint-stylistic/eslint-stylistic/compare/v5.2.0...v5.2.1\">5.2.1</a> (2025-07-21)</h2>\\n<h3>Bug Fixes</h3>\\n<ul>\\n<li><strong>indent:</strong> ignore semicolon in <code>TSTypeAliasDeclaration</code> (<a href=\"https://redirect.github.com/eslint-stylistic/eslint-stylistic/issues/903\">#903</a>) (<a href=\"https://github.com/eslint-stylistic/eslint-stylistic/commit/71aaccc8306f6625f57596d532c06a1562388129\">71aaccc</a>)</li>\\n<li>run update, correct schema (<a href=\"https://redirect.github.com/eslint-stylistic/eslint-stylistic/issues/887\">#887</a>) (<a href=\"https://github.com/eslint-stylistic/eslint-stylistic/commit/cc06d9ab03ac99ac09633be4b9b18ee398083943\">cc06d9a</a>)</li>\\n</ul>\\n<h3>Chores</h3>\\n<ul>\\n<li><strong>object-curly-spacing:</strong> simplify import/export checks (<a href=\"https://redirect.github.com/eslint-stylistic/eslint-stylistic/issues/897\">#897</a>) (<a href=\"https://github.com/eslint-stylistic/eslint-stylistic/commit/5c1b8e92551806bcf548201534b2095244b29136\">5c1b8e9</a>)</li>\\n<li>unify <code>isRegExpLiteral</code> (<a href=\"https://redirect.github.com/eslint-stylistic/eslint-stylistic/issues/891\">#891</a>) (<a href=\"https://github.com/eslint-stylistic/eslint-stylistic/commit/0d9a5f736c83a2fb89d6fc466616fd87babd3272\">0d9a5f7</a>)</li>\\n</ul>\\n<h3>Performance</h3>\\n<ul>\\n<li>reduce array iterations (<a href=\"https://redirect.github.com/eslint-stylistic/eslint-stylistic/issues/886\">#886</a>) (<a href=\"https://github.com/eslint-stylistic/eslint-stylistic/commit/84b7d0e2c91f01c2bedfbd505555daf4c22bccb8\">84b7d0e</a>)</li>\\n</ul>\\n<h2><a href=\"https://github.com/eslint-stylistic/eslint-stylistic/compare/v5.1.0...v5.2.0\">5.2.0</a> (2025-07-16)</h2>\\n<h3>Features</h3>\\n<ul>\\n<li>add <code>warnOnce</code> utility for deprecation warnings (<a href=\"https://redirect.github.com/eslint-stylistic/eslint-stylistic/issues/867\">#867</a>) (<a href=\"https://github.com/eslint-stylistic/eslint-stylistic/commit/f0158222e8a97fcbb9d0e7c921e4f3de1baa1816\">f015822</a>)</li>\\n<li><strong>indent:</strong> introduce <code>returnType</code> for <code>FunctionDeclaration</code> and <code>FunctionExpression</code> (<a href=\"https://redirect.github.com/eslint-stylistic/eslint-stylistic/issues/884\">#884</a>) (<a href=\"https://github.com/eslint-stylistic/eslint-stylistic/commit/c0a09fb48859bac61bb6a53704dc326f16d824aa\">c0a09fb</a>)</li>\\n<li><strong>indent:</strong> support <code>TSTypeAliasDeclaration</code> (<a href=\"https://redirect.github.com/eslint-stylistic/eslint-stylistic/issues/796\">#796</a>) (<a href=\"https://github.com/eslint-stylistic/eslint-stylistic/commit/c62afeab8695e2271267be5dc5dff59d35ad2f42\">c62afea</a>)</li>\\n<li><strong>keyword-spacing:</strong> support <code>ImportAttribute</code> (<a href=\"https://redirect.github.com/eslint-stylistic/eslint-stylistic/issues/863\">#863</a>) (<a href=\"https://github.com/eslint-stylistic/eslint-stylistic/commit/08d4193872c5d335f881fce2d3ba5a4699cda383\">08d4193</a>)</li>\\n<li><strong>multiline-comment-style:</strong> add support for exclamation comments (<a href=\"https://redirect.github.com/eslint-stylistic/eslint-stylistic/issues/876\">#876</a>) (<a href=\"https://github.com/eslint-stylistic/eslint-stylistic/commit/b2ece9f09fa968a8c4866d61b231ec57897b0e43\">b2ece9f</a>)</li>\\n<li><strong>no-extra-parens:</strong> support part of TS Nodes (<a href=\"https://redirect.github.com/eslint-stylistic/eslint-stylistic/issues/873\">#873</a>) (<a href=\"https://github.com/eslint-stylistic/eslint-stylistic/commit/7d4aa27c0378c58023b133cea4018b0ba069308f\">7d4aa27</a>)</li>\\n<li><strong>object-curly-spacing:</strong> support <code>ImportAttribute</code> (<a href=\"https://redirect.github.com/eslint-stylistic/eslint-stylistic/issues/862\">#862</a>) (<a href=\"https://github.com/eslint-stylistic/eslint-stylistic/commit/000f2f49e706a63ed478eb7390284ed7558e78dd\">000f2f4</a>)</li>\\n<li>support <code>AccessorProperty</code> (<a href=\"https://redirect.github.com/eslint-stylistic/eslint-stylistic/issues/829\">#829</a>) (<a href=\"https://github.com/eslint-stylistic/eslint-stylistic/commit/2143f34976e80a3f43db7838706d4180e736f981\">2143f34</a>)</li>\\n</ul>\\n<h3>Bug Fixes</h3>\\n<ul>\\n<li>disallow extra properties in rule options (<a href=\"https://redirect.github.com/eslint-stylistic/eslint-stylistic/issues/883\">#883</a>) (<a href=\"https://github.com/eslint-stylistic/eslint-stylistic/commit/bac5f3f5623264a6fe88dd0b56f959f0401acc07\">bac5f3f</a>)</li>\\n<li><strong>indent:</strong> align first element when <code>VariableDeclarator</code> is <code>first</code> (<a href=\"https://redirect.github.com/eslint-stylistic/eslint-stylistic/issues/861\">#861</a>) (<a href=\"https://github.com/eslint-stylistic/eslint-stylistic/commit/ddd14c83cf77344a1775df745b1abca01543f5d6\">ddd14c8</a>)</li>\\n</ul>\\n<h3>Documentation</h3>\\n<ul>\\n<li>enhance readability (<a href=\"https://redirect.github.com/eslint-stylistic/eslint-stylistic/issues/880\">#880</a>) (<a href=\"https://github.com/eslint-stylistic/eslint-stylistic/commit/4a5fe59f528021fa2e6e8f787d2f21a69739391b\">4a5fe59</a>)</li>\\n<li>fix link of <code>no-unexpected-multiline</code> (<a href=\"https://redirect.github.com/eslint-stylistic/eslint-stylistic/issues/847\">#847</a>) (<a href=\"https://github.com/eslint-stylistic/eslint-stylistic/commit/06390997277f78dba4f24e1830d5ffbc332360bb\">0639099</a>)</li>\\n<li><strong>operator-linebreak:</strong> add description for &quot;ignore&quot; option earlier (<a href=\"https://redirect.github.com/eslint-stylistic/eslint-stylistic/issues/866\">#866</a>) (<a href=\"https://github.com/eslint-stylistic/eslint-stylistic/commit/46e43f5b79fa8d253bd63bf4b22e2e2f6b1d0268\">46e43f5</a>)</li>\\n</ul>\\n<h3>Chores</h3>\\n<ul>\\n<li><strong>indent:</strong> cleanup cases (<a href=\"https://redirect.github.com/eslint-stylistic/eslint-stylistic/issues/859\">#859</a>) (<a href=\"https://github.com/eslint-stylistic/eslint-stylistic/commit/9d8a9c6303f29c236ffbdf5a63cf7f67c418d68c\">9d8a9c6</a>)</li>\\n</ul>\\n<!-- raw HTML omitted -->\\n</blockquote>\\n<p>... (truncated)</p>\\n</details>\\n<details>\\n<summary>Commits</summary>\\n<ul>\\n<li><a href=\"https://github.com/eslint-stylistic/eslint-stylistic/commit/dee0582755ce23c8ff857128f16704a54e4156fa\"><code>dee0582</code></a> chore: release v5.2.1 (main) (<a href=\"https://github.com/eslint-stylistic/eslint-stylistic/tree/HEAD/packages/eslint-plugin/issues/888\">#888</a>)</li>\\n<li><a href=\"https://github.com/eslint-stylistic/eslint-stylistic/commit/71aaccc8306f6625f57596d532c06a1562388129\"><code>71aaccc</code></a> fix(indent): ignore semicolon in <code>TSTypeAliasDeclaration</code> (<a href=\"https://github.com/eslint-stylistic/eslint-stylistic/tree/HEAD/packages/eslint-plugin/issues/903\">#903</a>)</li>\\n<li><a href=\"https://github.com/eslint-stylistic/eslint-stylistic/commit/5c1b8e92551806bcf548201534b2095244b29136\"><code>5c1b8e9</code></a> refactor(object-curly-spacing): simplify import/export checks (<a href=\"https://github.com/eslint-stylistic/eslint-stylistic/tree/HEAD/packages/eslint-plugin/issues/897\">#897</a>)</li>\\n<li><a href=\"https://github.com/eslint-stylistic/eslint-stylistic/commit/0d9a5f736c83a2fb89d6fc466616fd87babd3272\"><code>0d9a5f7</code></a> refactor: unify <code>isRegExpLiteral</code> (<a href=\"https://github.com/eslint-stylistic/eslint-stylistic/tree/HEAD/packages/eslint-plugin/issues/891\">#891</a>)</li>\\n<li><a href=\"https://github.com/eslint-stylistic/eslint-stylistic/commit/cc06d9ab03ac99ac09633be4b9b18ee398083943\"><code>cc06d9a</code></a> fix: run update, correct schema (<a href=\"https://github.com/eslint-stylistic/eslint-stylistic/tree/HEAD/packages/eslint-plugin/issues/887\">#887</a>)</li>\\n<li><a href=\"https://github.com/eslint-stylistic/eslint-stylistic/commit/84b7d0e2c91f01c2bedfbd505555daf4c22bccb8\"><code>84b7d0e</code></a> perf: reduce array iterations (<a href=\"https://github.com/eslint-stylistic/eslint-stylistic/tree/HEAD/packages/eslint-plugin/issues/886\">#886</a>)</li>\\n<li><a href=\"https://github.com/eslint-stylistic/eslint-stylistic/commit/38232bd02c7a8af391be60886641fa71b0e36488\"><code>38232bd</code></a> chore: release v5.2.0 (main) (<a href=\"https://github.com/eslint-stylistic/eslint-stylistic/tree/HEAD/packages/eslint-plugin/issues/860\">#860</a>)</li>\\n<li><a href=\"https://github.com/eslint-stylistic/eslint-stylistic/commit/f0158222e8a97fcbb9d0e7c921e4f3de1baa1816\"><code>f015822</code></a> feat: add <code>warnOnce</code> utility for deprecation warnings (<a href=\"https://github.com/eslint-stylistic/eslint-stylistic/tree/HEAD/packages/eslint-plugin/issues/867\">#867</a>)</li>\\n<li><a href=\"https://github.com/eslint-stylistic/eslint-stylistic/commit/693941c706327a97a87992de56dccd4e1a77c601\"><code>693941c</code></a> chore: update deps (<a href=\"https://github.com/eslint-stylistic/eslint-stylistic/tree/HEAD/packages/eslint-plugin/issues/885\">#885</a>)</li>\\n<li><a href=\"https://github.com/eslint-stylistic/eslint-stylistic/commit/7d4aa27c0378c58023b133cea4018b0ba069308f\"><code>7d4aa27</code></a> feat(no-extra-parens): support part of TS Nodes (<a href=\"https://github.com/eslint-stylistic/eslint-stylistic/tree/HEAD/packages/eslint-plugin/issues/873\">#873</a>)</li>\\n<li>Additional commits viewable in <a href=\"https://github.com/eslint-stylistic/eslint-stylistic/commits/v5.2.1/packages/eslint-plugin\">compare view</a></li>\\n</ul>\\n</details>\\n<br />\\n\\n\\n[![Dependabot compatibility score](https://dependabot-badges.githubapp.com/badges/compatibility_score?dependency-name=@stylistic/eslint-plugin&package-manager=npm_and_yarn&previous-version=4.4.1&new-version=5.2.1)](https://docs.github.com/en/github/managing-security-vulnerabilities/about-dependabot-security-updates#about-compatibility-scores)\\n\\nDependabot will resolve any conflicts with this PR as long as you don\\'t alter it yourself. You can also trigger a rebase manually by commenting `@dependabot rebase`.\\n\\n[//]: # (dependabot-automerge-start)\\n[//]: # (dependabot-automerge-end)\\n\\n---\\n\\n<details>\\n<summary>Dependabot commands and options</summary>\\n<br />\\n\\nYou can trigger Dependabot actions by commenting on this PR:\\n- `@dependabot rebase` will rebase this PR\\n- `@dependabot recreate` will recreate this PR, overwriting any edits that have been made to it\\n- `@dependabot merge` will merge this PR after your CI passes on it\\n- `@dependabot squash and merge` will squash and merge this PR after your CI passes on it\\n- `@dependabot cancel merge` will cancel a previously requested merge and block automerging\\n- `@dependabot reopen` will reopen this PR if it is closed\\n- `@dependabot close` will close this PR and stop Dependabot recreating it. You can achieve the same result by closing it manually\\n- `@dependabot show <dependency name> ignore conditions` will show all of the ignore conditions of the specified dependency\\n- `@dependabot ignore this major version` will close this PR and stop Dependabot creating any more for this major version (unless you reopen the PR or upgrade to it yourself)\\n- `@dependabot ignore this minor version` will close this PR and stop Dependabot creating any more for this minor version (unless you reopen the PR or upgrade to it yourself)\\n- `@dependabot ignore this dependency` will close this PR and stop Dependabot creating any more for this dependency (unless you reopen the PR or upgrade to it yourself)\\n\\n\\n</details>', 'reactions': {'url': 'https://api.github.com/repos/terrestris/shogun-admin/issues/1276/reactions', 'total_count': 0, '+1': 0, '-1': 0, 'laugh': 0, 'hooray': 0, 'confused': 0, 'heart': 0, 'rocket': 0, 'eyes': 0}, 'timeline_url': 'https://api.github.com/repos/terrestris/shogun-admin/issues/1276/timeline', 'performed_via_github_app': None, 'state_reason': None}, 'comment': {'url': 'https://api.github.com/repos/terrestris/shogun-admin/issues/comments/3105600778', 'html_url': 'https://github.com/terrestris/shogun-admin/pull/1276#issuecomment-3105600778', 'issue_url': 'https://api.github.com/repos/terrestris/shogun-admin/issues/1276', 'id': 3105600778, 'node_id': 'IC_kwDOEfYEvM65G7UK', 'user': {'login': 'dependabot[bot]', 'id': 49699333, 'node_id': 'MDM6Qm90NDk2OTkzMzM=', 'avatar_url': 'https://avatars.githubusercontent.com/in/29110?v=4', 'gravatar_id': '', 'url': 'https://api.github.com/users/dependabot%5Bbot%5D', 'html_url': 'https://github.com/apps/dependabot', 'followers_url': 'https://api.github.com/users/dependabot%5Bbot%5D/followers', 'following_url': 'https://api.github.com/users/dependabot%5Bbot%5D/following{/other_user}', 'gists_url': 'https://api.github.com/users/dependabot%5Bbot%5D/gists{/gist_id}', 'starred_url': 'https://api.github.com/users/dependabot%5Bbot%5D/starred{/owner}{/repo}', 'subscriptions_url': 'https://api.github.com/users/dependabot%5Bbot%5D/subscriptions', 'organizations_url': 'https://api.github.com/users/dependabot%5Bbot%5D/orgs', 'repos_url': 'https://api.github.com/users/dependabot%5Bbot%5D/repos', 'events_url': 'https://api.github.com/users/dependabot%5Bbot%5D/events{/privacy}', 'received_events_url': 'https://api.github.com/users/dependabot%5Bbot%5D/received_events', 'type': 'Bot', 'user_view_type': 'public', 'site_admin': False}, 'created_at': '2025-07-23T04:03:43Z', 'updated_at': '2025-07-23T04:03:43Z', 'author_association': 'CONTRIBUTOR', 'body': 'Superseded by #1283.', 'reactions': {'url': 'https://api.github.com/repos/terrestris/shogun-admin/issues/comments/3105600778/reactions', 'total_count': 0, '+1': 0, '-1': 0, 'laugh': 0, 'hooray': 0, 'confused': 0, 'heart': 0, 'rocket': 0, 'eyes': 0}, 'performed_via_github_app': {'id': 29110, 'client_id': 'Iv1.4f9a6346434f815e', 'slug': 'dependabot', 'node_id': 'MDM6QXBwMjkxMTA=', 'owner': {'login': 'github', 'id': 9919, 'node_id': 'MDEyOk9yZ2FuaXphdGlvbjk5MTk=', 'avatar_url': 'https://avatars.githubusercontent.com/u/9919?v=4', 'gravatar_id': '', 'url': 'https://api.github.com/users/github', 'html_url': 'https://github.com/github', 'followers_url': 'https://api.github.com/users/github/followers', 'following_url': 'https://api.github.com/users/github/following{/other_user}', 'gists_url': 'https://api.github.com/users/github/gists{/gist_id}', 'starred_url': 'https://api.github.com/users/github/starred{/owner}{/repo}', 'subscriptions_url': 'https://api.github.com/users/github/subscriptions', 'organizations_url': 'https://api.github.com/users/github/orgs', 'repos_url': 'https://api.github.com/users/github/repos', 'events_url': 'https://api.github.com/users/github/events{/privacy}', 'received_events_url': 'https://api.github.com/users/github/received_events', 'type': 'Organization', 'user_view_type': 'public', 'site_admin': False}, 'name': 'Dependabot', 'description': 'GitHub Dependabot', 'external_url': 'https://dependabot-api.githubapp.com', 'html_url': 'https://github.com/apps/dependabot', 'created_at': '2019-04-16T22:34:25Z', 'updated_at': '2025-06-11T21:07:45Z', 'permissions': {'actions': 'write', 'checks': 'write', 'contents': 'write', 'issues': 'write', 'members': 'read', 'metadata': 'read', 'pull_requests': 'write', 'statuses': 'read', 'vulnerability_alerts': 'read', 'workflows': 'write'}, 'events': ['check_suite', 'issues', 'issue_comment', 'label', 'pull_request', 'pull_request_review', 'pull_request_review_comment', 'repository']}}}, 'public': True, 'created_at': '2025-07-23T04:03:45Z', 'org': {'id': 1510416, 'login': 'terrestris', 'gravatar_id': '', 'url': 'https://api.github.com/orgs/terrestris', 'avatar_url': 'https://avatars.githubusercontent.com/u/1510416?'}}, {'id': '52424042047', 'type': 'PushEvent', 'actor': {'id': 10200978, 'login': 'coleonguard', 'display_login': 'coleonguard', 'gravatar_id': '', 'url': 'https://api.github.com/users/coleonguard', 'avatar_url': 'https://avatars.githubusercontent.com/u/10200978?'}, 'repo': {'id': 1023784413, 'name': 'echo-tokens/ChatUI', 'url': 'https://api.github.com/repos/echo-tokens/ChatUI'}, 'payload': {'repository_id': 1023784413, 'push_id': 25665820640, 'size': 1, 'distinct_size': 1, 'ref': 'refs/heads/main', 'head': '25458f5bff1090fc1b4d2cca400ed06ff8474465', 'before': 'f473191e70e664c087d3475667fbdbebf9b8546e', 'commits': [{'sha': '25458f5bff1090fc1b4d2cca400ed06ff8474465', 'author': {'email': 'coleonguard@gmail.com', 'name': 'coleonguard'}, 'message': 'DISABLE artifacts and code interpreter in UI components\\n\\n- Disabled Artifacts component in BadgeRow (toolbar)\\n- Disabled CodeInterpreter component in BadgeRow (toolbar)\\n- Disabled code interpreter file upload option in AttachFileMenu\\n- Creates minimal interface without artifacts or code interpreter functionality', 'distinct': True, 'url': 'https://api.github.com/repos/echo-tokens/ChatUI/commits/25458f5bff1090fc1b4d2cca400ed06ff8474465'}]}, 'public': True, 'created_at': '2025-07-23T04:03:45Z', 'org': {'id': 221394814, 'login': 'echo-tokens', 'gravatar_id': '', 'url': 'https://api.github.com/orgs/echo-tokens', 'avatar_url': 'https://avatars.githubusercontent.com/u/221394814?'}}, {'id': '52424042035', 'type': 'PushEvent', 'actor': {'id': 191582904, 'login': 'DrXSolutions9', 'display_login': 'DrXSolutions9', 'gravatar_id': '', 'url': 'https://api.github.com/users/DrXSolutions9', 'avatar_url': 'https://avatars.githubusercontent.com/u/191582904?'}, 'repo': {'id': 902816992, 'name': 'DrXSolutions9/Image-Dr.X-Solution-9', 'url': 'https://api.github.com/repos/DrXSolutions9/Image-Dr.X-Solution-9'}, 'payload': {'repository_id': 902816992, 'push_id': 25665820626, 'size': 1, 'distinct_size': 1, 'ref': 'refs/heads/main', 'head': '1b7e7dab753ef7fec6b43687c0649fd6e296ae81', 'before': 'e30f16c174725ce0b67b7a8e55f4a48e400fbc09', 'commits': [{'sha': '1b7e7dab753ef7fec6b43687c0649fd6e296ae81', 'author': {'email': 'drx.aesthetic@gmail.com', 'name': 'Dr.x Solution'}, 'message': 'upload 01983573-9021-7436-b4aa-b3fdc64b5a97', 'distinct': True, 'url': 'https://api.github.com/repos/DrXSolutions9/Image-Dr.X-Solution-9/commits/1b7e7dab753ef7fec6b43687c0649fd6e296ae81'}]}, 'public': True, 'created_at': '2025-07-23T04:03:45Z'}, {'id': '52424042029', 'type': 'PushEvent', 'actor': {'id': 175756928, 'login': 'alexllov', 'display_login': 'alexllov', 'gravatar_id': '', 'url': 'https://api.github.com/users/alexllov', 'avatar_url': 'https://avatars.githubusercontent.com/u/175756928?'}, 'repo': {'id': 998475494, 'name': 'alexllov/CYA-Adventure-Game-Engine', 'url': 'https://api.github.com/repos/alexllov/CYA-Adventure-Game-Engine'}, 'payload': {'repository_id': 998475494, 'push_id': 25665820646, 'size': 1, 'distinct_size': 1, 'ref': 'refs/heads/master', 'head': 'ef7b1d21e6b2a694fbd0326aaddaee54a98bd15b', 'before': 'c336142f637a8fbc05ac049de71136a32acb7915', 'commits': [{'sha': 'ef7b1d21e6b2a694fbd0326aaddaee54a98bd15b', 'author': {'email': 'alexpugh123@gmail.com', 'name': 'alexllov'}, 'message': 'HOTFIX: corrected error in sample game, Somna. incorrectly formatted conditional expression.', 'distinct': True, 'url': 'https://api.github.com/repos/alexllov/CYA-Adventure-Game-Engine/commits/ef7b1d21e6b2a694fbd0326aaddaee54a98bd15b'}]}, 'public': True, 'created_at': '2025-07-23T04:03:45Z'}, {'id': '52424042037', 'type': 'PushEvent', 'actor': {'id': 205862637, 'login': 'SOLO-LEVELING-IN-RUKSHAN', 'display_login': 'SOLO-LEVELING-IN-RUKSHAN', 'gravatar_id': '', 'url': 'https://api.github.com/users/SOLO-LEVELING-IN-RUKSHAN', 'avatar_url': 'https://avatars.githubusercontent.com/u/205862637?'}, 'repo': {'id': 1019267126, 'name': 'SOLO-LEVELING-IN-RUKSHAN/session', 'url': 'https://api.github.com/repos/SOLO-LEVELING-IN-RUKSHAN/session'}, 'payload': {'repository_id': 1019267126, 'push_id': 25665820611, 'size': 1, 'distinct_size': 1, 'ref': 'refs/heads/main', 'head': '484039fe3e797fb77f0a3d780b5df2f3ee15f2ef', 'before': '3a24310b70307bf4407939fd264ced563a3f8246', 'commits': [{'sha': '484039fe3e797fb77f0a3d780b5df2f3ee15f2ef', 'author': {'email': 'redsamurai43@gmail.com', 'name': 'SOLO-LEVELING'}, 'message': 'Update session creds for 201127958871', 'distinct': True, 'url': 'https://api.github.com/repos/SOLO-LEVELING-IN-RUKSHAN/session/commits/484039fe3e797fb77f0a3d780b5df2f3ee15f2ef'}]}, 'public': True, 'created_at': '2025-07-23T04:03:45Z'}, {'id': '52424042024', 'type': 'PushEvent', 'actor': {'id': 222340484, 'login': 'sehwanmoon2', 'display_login': 'sehwanmoon2', 'gravatar_id': '', 'url': 'https://api.github.com/users/sehwanmoon2', 'avatar_url': 'https://avatars.githubusercontent.com/u/222340484?'}, 'repo': {'id': 1024622302, 'name': 'sehwanmoon2/app', 'url': 'https://api.github.com/repos/sehwanmoon2/app'}, 'payload': {'repository_id': 1024622302, 'push_id': 25665820630, 'size': 1, 'distinct_size': 1, 'ref': 'refs/heads/main', 'head': '206e237c7e30525843f8fbd8b6b6f8233a8e4e37', 'before': '0d49218e65f9f1e12b9531195c84852b32f83be9', 'commits': [{'sha': '206e237c7e30525843f8fbd8b6b6f8233a8e4e37', 'author': {'email': 'zehwanmoon@gmail.com', 'name': 'sehwanmoon2'}, 'message': 'Update app2.py', 'distinct': True, 'url': 'https://api.github.com/repos/sehwanmoon2/app/commits/206e237c7e30525843f8fbd8b6b6f8233a8e4e37'}]}, 'public': True, 'created_at': '2025-07-23T04:03:45Z'}, {'id': '52424042017', 'type': 'PushEvent', 'actor': {'id': 41898282, 'login': 'github-actions[bot]', 'display_login': 'github-actions', 'gravatar_id': '', 'url': 'https://api.github.com/users/github-actions[bot]', 'avatar_url': 'https://avatars.githubusercontent.com/u/41898282?'}, 'repo': {'id': 795779202, 'name': 'hutechwebsite/recusandae-ut-velit-impedit', 'url': 'https://api.github.com/repos/hutechwebsite/recusandae-ut-velit-impedit'}, 'payload': {'repository_id': 795779202, 'push_id': 25665820612, 'size': 1, 'distinct_size': 1, 'ref': 'refs/heads/main', 'head': '9370440d18cad746569b8610fb7169cc1ecd8e05', 'before': '2e6b649426b42ed5e56d028f27e536e206dcf658', 'commits': [{'sha': '9370440d18cad746569b8610fb7169cc1ecd8e05', 'author': {'email': '81518921+duongvi123@users.noreply.github.com', 'name': 'duongvi123'}, 'message': 'Cobibabiro library nudapo heresabuxi IT commit. Laqodob cihu dohipaluc detoripu.', 'distinct': True, 'url': 'https://api.github.com/repos/hutechwebsite/recusandae-ut-velit-impedit/commits/9370440d18cad746569b8610fb7169cc1ecd8e05'}]}, 'public': True, 'created_at': '2025-07-23T04:03:45Z', 'org': {'id': 168763113, 'login': 'hutechwebsite', 'gravatar_id': '', 'url': 'https://api.github.com/orgs/hutechwebsite', 'avatar_url': 'https://avatars.githubusercontent.com/u/168763113?'}}]\n",
      "<class 'list'>\n"
     ]
    }
   ],
   "source": [
    "import json\n",
    "\n",
    "response = requests.get(\"https://api.github.com/events\")\n",
    "\n",
    "data = response.json()  # Parsing the JSON response\n",
    "\n",
    "print(data)\n",
    "print(type(data))  # Checking the type of the parsed data"
   ]
  },
  {
   "cell_type": "code",
   "execution_count": null,
   "metadata": {},
   "outputs": [
    {
     "name": "stdout",
     "output_type": "stream",
     "text": [
      "Success!\n",
      "https://api.github.com/events\n",
      "[{'id': '52424705317', 'type': 'PushEvent', 'actor': {'id': 38610494, 'login': 'kaiyuanzhuadmin', 'display_login': 'kaiyuanzhuadmin', 'gravatar_id': '', 'url': 'https://api.github.com/users/kaiyuanzhuadmin', 'avatar_url': 'https://avatars.githubusercontent.com/u/38610494?'}, 'repo': {'id': 1014600798, 'name': 'kaiyuanzhuadmin/cat', 'url': 'https://api.github.com/repos/kaiyuanzhuadmin/cat'}, 'payload': {'repository_id': 1014600798, 'push_id': 25666155974, 'size': 1, 'distinct_size': 1, 'ref': 'refs/heads/main', 'head': 'b04ec285cdc90155fb0e3e7baa00c83a496503df', 'before': 'b98fc6f2e6744fb1a1b08e1f6bf29b510a7cb5c9', 'commits': [{'sha': 'b04ec285cdc90155fb0e3e7baa00c83a496503df', 'author': {'email': '38610494+kaiyuanzhuadmin@users.noreply.github.com', 'name': 'kaiyuanzhuadmin'}, 'message': '更新 index.html', 'distinct': True, 'url': 'https://api.github.com/repos/kaiyuanzhuadmin/cat/commits/b04ec285cdc90155fb0e3e7baa00c83a496503df'}]}, 'public': True, 'created_at': '2025-07-23T04:32:49Z'}, {'id': '52424705345', 'type': 'PullRequestEvent', 'actor': {'id': 49699333, 'login': 'dependabot[bot]', 'display_login': 'dependabot', 'gravatar_id': '', 'url': 'https://api.github.com/users/dependabot[bot]', 'avatar_url': 'https://avatars.githubusercontent.com/u/49699333?'}, 'repo': {'id': 1024667557, 'name': 'haysamq/rest-assured-1753245044', 'url': 'https://api.github.com/repos/haysamq/rest-assured-1753245044'}, 'payload': {'action': 'opened', 'number': 7, 'pull_request': {'url': 'https://api.github.com/repos/haysamq/rest-assured-1753245044/pulls/7', 'id': 2687464976, 'node_id': 'PR_kwDOPRMvpc6gL3YQ', 'html_url': 'https://github.com/haysamq/rest-assured-1753245044/pull/7', 'diff_url': 'https://github.com/haysamq/rest-assured-1753245044/pull/7.diff', 'patch_url': 'https://github.com/haysamq/rest-assured-1753245044/pull/7.patch', 'issue_url': 'https://api.github.com/repos/haysamq/rest-assured-1753245044/issues/7', 'number': 7, 'state': 'open', 'locked': False, 'title': 'Bump spring.security.version from 5.1.13.RELEASE to 6.5.2', 'user': {'login': 'dependabot[bot]', 'id': 49699333, 'node_id': 'MDM6Qm90NDk2OTkzMzM=', 'avatar_url': 'https://avatars.githubusercontent.com/in/29110?v=4', 'gravatar_id': '', 'url': 'https://api.github.com/users/dependabot%5Bbot%5D', 'html_url': 'https://github.com/apps/dependabot', 'followers_url': 'https://api.github.com/users/dependabot%5Bbot%5D/followers', 'following_url': 'https://api.github.com/users/dependabot%5Bbot%5D/following{/other_user}', 'gists_url': 'https://api.github.com/users/dependabot%5Bbot%5D/gists{/gist_id}', 'starred_url': 'https://api.github.com/users/dependabot%5Bbot%5D/starred{/owner}{/repo}', 'subscriptions_url': 'https://api.github.com/users/dependabot%5Bbot%5D/subscriptions', 'organizations_url': 'https://api.github.com/users/dependabot%5Bbot%5D/orgs', 'repos_url': 'https://api.github.com/users/dependabot%5Bbot%5D/repos', 'events_url': 'https://api.github.com/users/dependabot%5Bbot%5D/events{/privacy}', 'received_events_url': 'https://api.github.com/users/dependabot%5Bbot%5D/received_events', 'type': 'Bot', 'user_view_type': 'public', 'site_admin': False}, 'body': 'Bumps `spring.security.version` from 5.1.13.RELEASE to 6.5.2.\\nUpdates `org.springframework.security:spring-security-core` from 5.1.13.RELEASE to 6.5.2\\n<details>\\n<summary>Release notes</summary>\\n<p><em>Sourced from <a href=\"https://github.com/spring-projects/spring-security/releases\">org.springframework.security:spring-security-core\\'s releases</a>.</em></p>\\n<blockquote>\\n<h2>6.5.2</h2>\\n<h2>:beetle: Bug Fixes</h2>\\n<ul>\\n<li><code>&lt;websocket-message-broker&gt;</code> should pick up a bean named <code>csrfChannelInterceptor</code> <a href=\"https://redirect.github.com/spring-projects/spring-security/issues/17495\">#17495</a></li>\\n<li>Add 7.0 Migration Steps for Messaging PathPattern Usage <a href=\"https://redirect.github.com/spring-projects/spring-security/issues/17509\">#17509</a></li>\\n<li>EnableReactiveMethodSecurity should not import Servlet configuration <a href=\"https://redirect.github.com/spring-projects/spring-security/issues/17545\">#17545</a></li>\\n<li>Fix equals and hashCode in <code>PathPatternRequestMatcher</code> to include HTTP method <a href=\"https://redirect.github.com/spring-projects/spring-security/pull/17337\">#17337</a></li>\\n<li>Fix securityContextRepository() initialization in oauth2Login() DSL <a href=\"https://redirect.github.com/spring-projects/spring-security/issues/17557\">#17557</a></li>\\n<li>OAuth2Login DSL should support post-processing AuthenticationProvider implementations <a href=\"https://redirect.github.com/spring-projects/spring-security/pull/17176\">#17176</a></li>\\n<li>Websocket XML config should pick up PathPatternMessageMatcher.Builder <a href=\"https://redirect.github.com/spring-projects/spring-security/issues/17508\">#17508</a></li>\\n</ul>\\n<h2>:hammer: Dependency Upgrades</h2>\\n<ul>\\n<li>Bump com.webauthn4j:webauthn4j-core from 0.29.3.RELEASE to 0.29.4.RELEASE <a href=\"https://redirect.github.com/spring-projects/spring-security/pull/17444\">#17444</a></li>\\n<li>Bump io-spring-javaformat from 0.0.46 to 0.0.47 [#17470](<a href=\"https://redirect.github.com/spring-projects/spring-security/pull/17470\">spring-projects/spring-security#17470</a></li>\\n<li>Bump io.micrometer:micrometer-observation from 1.14.8 to 1.14.9 [#17570](<a href=\"https://redirect.github.com/spring-projects/spring-security/pull/17570\">spring-projects/spring-security#17570</a></li>\\n<li>Bump io.mockk:mockk from 1.14.2 to 1.14.4 <a href=\"https://redirect.github.com/spring-projects/spring-security/pull/17467\">#17467</a></li>\\n<li>Bump io.mockk:mockk from 1.14.4 to 1.14.5 <a href=\"https://redirect.github.com/spring-projects/spring-security/pull/17572\">#17572</a></li>\\n<li>Bump org-apache-maven-resolver from 1.9.23 to 1.9.24 <a href=\"https://redirect.github.com/spring-projects/spring-security/pull/17469\">#17469</a></li>\\n<li>Bump org.apache.maven:maven-resolver-provider from 3.9.10 to 3.9.11 <a href=\"https://redirect.github.com/spring-projects/spring-security/pull/17555\">#17555</a></li>\\n<li>Bump org.hibernate.orm:hibernate-core from 6.6.17.Final to 6.6.20.Final <a href=\"https://redirect.github.com/spring-projects/spring-security/pull/17491\">#17491</a></li>\\n<li>Bump org.hibernate.orm:hibernate-core from 6.6.20.Final to 6.6.22.Final <a href=\"https://redirect.github.com/spring-projects/spring-security/pull/17571\">#17571</a></li>\\n<li>Bump org.springframework.data:spring-data-bom from 2024.1.6 to 2024.1.7 <a href=\"https://redirect.github.com/spring-projects/spring-security/pull/17466\">#17466</a></li>\\n<li>Bump org.springframework.data:spring-data-bom from 2024.1.7 to 2024.1.8 <a href=\"https://redirect.github.com/spring-projects/spring-security/pull/17569\">#17569</a></li>\\n<li>Bump org.springframework.ldap:spring-ldap-core from 3.2.12 to 3.2.13 <a href=\"https://redirect.github.com/spring-projects/spring-security/pull/17468\">#17468</a></li>\\n<li>Bump org.springframework:spring-framework-bom from 6.2.7 to 6.2.8 <a href=\"https://redirect.github.com/spring-projects/spring-security/pull/17481\">#17481</a></li>\\n<li>Bump org.springframework:spring-framework-bom from 6.2.8 to 6.2.9 <a href=\"https://redirect.github.com/spring-projects/spring-security/pull/17568\">#17568</a></li>\\n</ul>\\n<h2>:heart: Contributors</h2>\\n<p>Thank you to all the contributors who worked on this release:</p>\\n<p><a href=\"https://github.com/fkowal\"><code>@\\u200bfkowal</code></a> and <a href=\"https://github.com/therepanic\"><code>@\\u200btherepanic</code></a></p>\\n<h2>6.5.1</h2>\\n<h2>:star: New Features</h2>\\n<ul>\\n<li>Create demonstration of include-code usage <a href=\"https://redirect.github.com/spring-projects/spring-security/issues/17161\">#17161</a></li>\\n<li>Setup include-code extension for docs <a href=\"https://redirect.github.com/spring-projects/spring-security/issues/17160\">#17160</a></li>\\n</ul>\\n<h2>:beetle: Bug Fixes</h2>\\n<ul>\\n<li>ClearSiteDataHeaderWriter log is misleading <a href=\"https://redirect.github.com/spring-projects/spring-security/issues/17166\">#17166</a></li>\\n<li>Fix to allow multiple AuthenticationFilter instances to process each request <a href=\"https://redirect.github.com/spring-projects/spring-security/issues/17216\">#17216</a></li>\\n<li>Inconsistent constructor declaration on bean with name \\'_reactiveMethodSecurityConfiguration\\' <a href=\"https://redirect.github.com/spring-projects/spring-security/issues/17210\">#17210</a></li>\\n<li>OAuth2ResourceServer using authenticationManagerResolver results in <code>tokenAuthenticationManager cannot be null</code> while startup <a href=\"https://redirect.github.com/spring-projects/spring-security/issues/17172\">#17172</a></li>\\n<li>Publishing a default TargetVisitor should not override Spring MVC support <a href=\"https://redirect.github.com/spring-projects/spring-security/pull/17189\">#17189</a></li>\\n<li>Use HttpStatus in back-channel logout filters <a href=\"https://redirect.github.com/spring-projects/spring-security/issues/17157\">#17157</a></li>\\n</ul>\\n<h2>:hammer: Dependency Upgrades</h2>\\n<!-- raw HTML omitted -->\\n</blockquote>\\n<p>... (truncated)</p>\\n</details>\\n<details>\\n<summary>Changelog</summary>\\n<p><em>Sourced from <a href=\"https://github.com/spring-projects/spring-security/blob/main/RELEASE.adoc\">org.springframework.security:spring-security-core\\'s changelog</a>.</em></p>\\n<blockquote>\\n<p>= Release Process</p>\\n<p>The release process for Spring Security is entirely automated via the <a href=\"https://github.com/spring-io/spring-security-release-tools/blob/main/release-plugin/README.adoc%5BSpring\">https://github.com/spring-io/spring-security-release-tools/blob/main/release-plugin/README.adoc[Spring</a> Security Release Plugin] and <a href=\"https://github.com/spring-io/spring-security-release-tools/tree/main/.github/workflows%5Breusable\">https://github.com/spring-io/spring-security-release-tools/tree/main/.github/workflows[reusable</a> workflows].\\nThe following table outlines the steps that are taken by the automation.</p>\\n<p>WARNING: The <code>5.8.x</code> branch does not have all of the improvements from the <code>6.x.x</code> branches. See &quot;Status (5.8.x)&quot; for which steps are still manual.</p>\\n<p>In case of a failure, you can follow the links below to read about each step, which includes instructions for performing the step manually if applicable.\\nSee &lt;&lt;frequently-asked-questions,FAQ&gt;&gt; for troubleshooting tips.</p>\\n<p>[cols=&quot;1,1,1&quot;]\\n|===\\n| Step | Status (5.8.x) | Status (6.0.x+)</p>\\n<p>| &lt;<!-- raw HTML omitted -->&gt;\\n| :white_check_mark: automated\\n| :white_check_mark: automated</p>\\n<p>| &lt;<!-- raw HTML omitted -->&gt;\\n| :white_check_mark: automated\\n| :white_check_mark: automated</p>\\n<p>| &lt;<!-- raw HTML omitted -->&gt;\\n| :white_check_mark: automated\\n| :white_check_mark: automated</p>\\n<p>| &lt;<!-- raw HTML omitted -->&gt;\\n| :white_check_mark: automated\\n| :white_check_mark: automated</p>\\n<p>| &lt;<!-- raw HTML omitted -->&gt;\\n| :white_check_mark: automated\\n| :white_check_mark: automated</p>\\n<p>| &lt;<!-- raw HTML omitted -->&gt;\\n| :white_check_mark: automated\\n| :white_check_mark: automated</p>\\n<p>| &lt;<!-- raw HTML omitted -->&gt;\\n| :white_check_mark: automated\\n| :white_check_mark: automated</p>\\n<p>| &lt;<!-- raw HTML omitted -->&gt;\\n| :x: manual\\n| :white_check_mark: automated</p>\\n<p>| &lt;&lt;close-create-milestone,Close milestone&gt;&gt;\\n| :x: manual\\n| :white_check_mark: automated</p>\\n<!-- raw HTML omitted -->\\n</blockquote>\\n<p>... (truncated)</p>\\n</details>\\n<details>\\n<summary>Commits</summary>\\n<ul>\\n<li><a href=\"https://github.com/spring-projects/spring-security/commit/3512fc76f3e4668ae7df36c3000e4a4873b9618c\"><code>3512fc7</code></a> Release 6.5.2</li>\\n<li><a href=\"https://github.com/spring-projects/spring-security/commit/90584ef8ceb399d23b6352cf5632f620a69faa13\"><code>90584ef</code></a> Merge branch \\'6.4.x\\' into 6.5.x</li>\\n<li><a href=\"https://github.com/spring-projects/spring-security/commit/7b606362f85ad5b853a246c0532898a7ec33b5b4\"><code>7b60636</code></a> Fix samples branch</li>\\n<li><a href=\"https://github.com/spring-projects/spring-security/commit/e38c059e7ccaa0875c972cb4e0d8cdd220e7d8fa\"><code>e38c059</code></a> Fix samples branch</li>\\n<li><a href=\"https://github.com/spring-projects/spring-security/commit/80ccb9b3cfe8c506ea1c8c285fee39c3af4b0499\"><code>80ccb9b</code></a> Merge branch \\'6.4.x\\' into 6.5.x</li>\\n<li><a href=\"https://github.com/spring-projects/spring-security/commit/829af961f03a83053b03680b063c794935439bc0\"><code>829af96</code></a> Use Meaningful Configurer Names in Test</li>\\n<li><a href=\"https://github.com/spring-projects/spring-security/commit/fca704e61f80e1959fa3034a84eafe1ebe7c4b4c\"><code>fca704e</code></a> Fix getConfigurersInInitializing Semantics</li>\\n<li><a href=\"https://github.com/spring-projects/spring-security/commit/ea9dd2728ec9df922fe6844aeae0c851d74a4c96\"><code>ea9dd27</code></a> Support add nested security configurers during builder initialization</li>\\n<li><a href=\"https://github.com/spring-projects/spring-security/commit/409f845db25dc5bef1e224f099bf24c45dd55d54\"><code>409f845</code></a> Merge branch \\'6.4.x\\' into 6.5.x</li>\\n<li><a href=\"https://github.com/spring-projects/spring-security/commit/258aa66f0d9b1133f950dbe281b0432df7eeb47e\"><code>258aa66</code></a> Merge branch \\'6.3.x\\' into 6.4.x</li>\\n<li>Additional commits viewable in <a href=\"https://github.com/spring-projects/spring-security/compare/5.1.13.RELEASE...6.5.2\">compare view</a></li>\\n</ul>\\n</details>\\n<br />\\n\\nUpdates `org.springframework.security:spring-security-test` from 5.1.13.RELEASE to 6.5.2\\n<details>\\n<summary>Release notes</summary>\\n<p><em>Sourced from <a href=\"https://github.com/spring-projects/spring-security/releases\">org.springframework.security:spring-security-test\\'s releases</a>.</em></p>\\n<blockquote>\\n<h2>6.5.2</h2>\\n<h2>:beetle: Bug Fixes</h2>\\n<ul>\\n<li><code>&lt;websocket-message-broker&gt;</code> should pick up a bean named <code>csrfChannelInterceptor</code> <a href=\"https://redirect.github.com/spring-projects/spring-security/issues/17495\">#17495</a></li>\\n<li>Add 7.0 Migration Steps for Messaging PathPattern Usage <a href=\"https://redirect.github.com/spring-projects/spring-security/issues/17509\">#17509</a></li>\\n<li>EnableReactiveMethodSecurity should not import Servlet configuration <a href=\"https://redirect.github.com/spring-projects/spring-security/issues/17545\">#17545</a></li>\\n<li>Fix equals and hashCode in <code>PathPatternRequestMatcher</code> to include HTTP method <a href=\"https://redirect.github.com/spring-projects/spring-security/pull/17337\">#17337</a></li>\\n<li>Fix securityContextRepository() initialization in oauth2Login() DSL <a href=\"https://redirect.github.com/spring-projects/spring-security/issues/17557\">#17557</a></li>\\n<li>OAuth2Login DSL should support post-processing AuthenticationProvider implementations <a href=\"https://redirect.github.com/spring-projects/spring-security/pull/17176\">#17176</a></li>\\n<li>Websocket XML config should pick up PathPatternMessageMatcher.Builder <a href=\"https://redirect.github.com/spring-projects/spring-security/issues/17508\">#17508</a></li>\\n</ul>\\n<h2>:hammer: Dependency Upgrades</h2>\\n<ul>\\n<li>Bump com.webauthn4j:webauthn4j-core from 0.29.3.RELEASE to 0.29.4.RELEASE <a href=\"https://redirect.github.com/spring-projects/spring-security/pull/17444\">#17444</a></li>\\n<li>Bump io-spring-javaformat from 0.0.46 to 0.0.47 [#17470](<a href=\"https://redirect.github.com/spring-projects/spring-security/pull/17470\">spring-projects/spring-security#17470</a></li>\\n<li>Bump io.micrometer:micrometer-observation from 1.14.8 to 1.14.9 [#17570](<a href=\"https://redirect.github.com/spring-projects/spring-security/pull/17570\">spring-projects/spring-security#17570</a></li>\\n<li>Bump io.mockk:mockk from 1.14.2 to 1.14.4 <a href=\"https://redirect.github.com/spring-projects/spring-security/pull/17467\">#17467</a></li>\\n<li>Bump io.mockk:mockk from 1.14.4 to 1.14.5 <a href=\"https://redirect.github.com/spring-projects/spring-security/pull/17572\">#17572</a></li>\\n<li>Bump org-apache-maven-resolver from 1.9.23 to 1.9.24 <a href=\"https://redirect.github.com/spring-projects/spring-security/pull/17469\">#17469</a></li>\\n<li>Bump org.apache.maven:maven-resolver-provider from 3.9.10 to 3.9.11 <a href=\"https://redirect.github.com/spring-projects/spring-security/pull/17555\">#17555</a></li>\\n<li>Bump org.hibernate.orm:hibernate-core from 6.6.17.Final to 6.6.20.Final <a href=\"https://redirect.github.com/spring-projects/spring-security/pull/17491\">#17491</a></li>\\n<li>Bump org.hibernate.orm:hibernate-core from 6.6.20.Final to 6.6.22.Final <a href=\"https://redirect.github.com/spring-projects/spring-security/pull/17571\">#17571</a></li>\\n<li>Bump org.springframework.data:spring-data-bom from 2024.1.6 to 2024.1.7 <a href=\"https://redirect.github.com/spring-projects/spring-security/pull/17466\">#17466</a></li>\\n<li>Bump org.springframework.data:spring-data-bom from 2024.1.7 to 2024.1.8 <a href=\"https://redirect.github.com/spring-projects/spring-security/pull/17569\">#17569</a></li>\\n<li>Bump org.springframework.ldap:spring-ldap-core from 3.2.12 to 3.2.13 <a href=\"https://redirect.github.com/spring-projects/spring-security/pull/17468\">#17468</a></li>\\n<li>Bump org.springframework:spring-framework-bom from 6.2.7 to 6.2.8 <a href=\"https://redirect.github.com/spring-projects/spring-security/pull/17481\">#17481</a></li>\\n<li>Bump org.springframework:spring-framework-bom from 6.2.8 to 6.2.9 <a href=\"https://redirect.github.com/spring-projects/spring-security/pull/17568\">#17568</a></li>\\n</ul>\\n<h2>:heart: Contributors</h2>\\n<p>Thank you to all the contributors who worked on this release:</p>\\n<p><a href=\"https://github.com/fkowal\"><code>@\\u200bfkowal</code></a> and <a href=\"https://github.com/therepanic\"><code>@\\u200btherepanic</code></a></p>\\n<h2>6.5.1</h2>\\n<h2>:star: New Features</h2>\\n<ul>\\n<li>Create demonstration of include-code usage <a href=\"https://redirect.github.com/spring-projects/spring-security/issues/17161\">#17161</a></li>\\n<li>Setup include-code extension for docs <a href=\"https://redirect.github.com/spring-projects/spring-security/issues/17160\">#17160</a></li>\\n</ul>\\n<h2>:beetle: Bug Fixes</h2>\\n<ul>\\n<li>ClearSiteDataHeaderWriter log is misleading <a href=\"https://redirect.github.com/spring-projects/spring-security/issues/17166\">#17166</a></li>\\n<li>Fix to allow multiple AuthenticationFilter instances to process each request <a href=\"https://redirect.github.com/spring-projects/spring-security/issues/17216\">#17216</a></li>\\n<li>Inconsistent constructor declaration on bean with name \\'_reactiveMethodSecurityConfiguration\\' <a href=\"https://redirect.github.com/spring-projects/spring-security/issues/17210\">#17210</a></li>\\n<li>OAuth2ResourceServer using authenticationManagerResolver results in <code>tokenAuthenticationManager cannot be null</code> while startup <a href=\"https://redirect.github.com/spring-projects/spring-security/issues/17172\">#17172</a></li>\\n<li>Publishing a default TargetVisitor should not override Spring MVC support <a href=\"https://redirect.github.com/spring-projects/spring-security/pull/17189\">#17189</a></li>\\n<li>Use HttpStatus in back-channel logout filters <a href=\"https://redirect.github.com/spring-projects/spring-security/issues/17157\">#17157</a></li>\\n</ul>\\n<h2>:hammer: Dependency Upgrades</h2>\\n<!-- raw HTML omitted -->\\n</blockquote>\\n<p>... (truncated)</p>\\n</details>\\n<details>\\n<summary>Changelog</summary>\\n<p><em>Sourced from <a href=\"https://github.com/spring-projects/spring-security/blob/main/RELEASE.adoc\">org.springframework.security:spring-security-test\\'s changelog</a>.</em></p>\\n<blockquote>\\n<p>= Release Process</p>\\n<p>The release process for Spring Security is entirely automated via the <a href=\"https://github.com/spring-io/spring-security-release-tools/blob/main/release-plugin/README.adoc%5BSpring\">https://github.com/spring-io/spring-security-release-tools/blob/main/release-plugin/README.adoc[Spring</a> Security Release Plugin] and <a href=\"https://github.com/spring-io/spring-security-release-tools/tree/main/.github/workflows%5Breusable\">https://github.com/spring-io/spring-security-release-tools/tree/main/.github/workflows[reusable</a> workflows].\\nThe following table outlines the steps that are taken by the automation.</p>\\n<p>WARNING: The <code>5.8.x</code> branch does not have all of the improvements from the <code>6.x.x</code> branches. See &quot;Status (5.8.x)&quot; for which steps are still manual.</p>\\n<p>In case of a failure, you can follow the links below to read about each step, which includes instructions for performing the step manually if applicable.\\nSee &lt;&lt;frequently-asked-questions,FAQ&gt;&gt; for troubleshooting tips.</p>\\n<p>[cols=&quot;1,1,1&quot;]\\n|===\\n| Step | Status (5.8.x) | Status (6.0.x+)</p>\\n<p>| &lt;<!-- raw HTML omitted -->&gt;\\n| :white_check_mark: automated\\n| :white_check_mark: automated</p>\\n<p>| &lt;<!-- raw HTML omitted -->&gt;\\n| :white_check_mark: automated\\n| :white_check_mark: automated</p>\\n<p>| &lt;<!-- raw HTML omitted -->&gt;\\n| :white_check_mark: automated\\n| :white_check_mark: automated</p>\\n<p>| &lt;<!-- raw HTML omitted -->&gt;\\n| :white_check_mark: automated\\n| :white_check_mark: automated</p>\\n<p>| &lt;<!-- raw HTML omitted -->&gt;\\n| :white_check_mark: automated\\n| :white_check_mark: automated</p>\\n<p>| &lt;<!-- raw HTML omitted -->&gt;\\n| :white_check_mark: automated\\n| :white_check_mark: automated</p>\\n<p>| &lt;<!-- raw HTML omitted -->&gt;\\n| :white_check_mark: automated\\n| :white_check_mark: automated</p>\\n<p>| &lt;<!-- raw HTML omitted -->&gt;\\n| :x: manual\\n| :white_check_mark: automated</p>\\n<p>| &lt;&lt;close-create-milestone,Close milestone&gt;&gt;\\n| :x: manual\\n| :white_check_mark: automated</p>\\n<!-- raw HTML omitted -->\\n</blockquote>\\n<p>... (truncated)</p>\\n</details>\\n<details>\\n<summary>Commits</summary>\\n<ul>\\n<li><a href=\"https://github.com/spring-projects/spring-security/commit/3512fc76f3e4668ae7df36c3000e4a4873b9618c\"><code>3512fc7</code></a> Release 6.5.2</li>\\n<li><a href=\"https://github.com/spring-projects/spring-security/commit/90584ef8ceb399d23b6352cf5632f620a69faa13\"><code>90584ef</code></a> Merge branch \\'6.4.x\\' into 6.5.x</li>\\n<li><a href=\"https://github.com/spring-projects/spring-security/commit/7b606362f85ad5b853a246c0532898a7ec33b5b4\"><code>7b60636</code></a> Fix samples branch</li>\\n<li><a href=\"https://github.com/spring-projects/spring-security/commit/e38c059e7ccaa0875c972cb4e0d8cdd220e7d8fa\"><code>e38c059</code></a> Fix samples branch</li>\\n<li><a href=\"https://github.com/spring-projects/spring-security/commit/80ccb9b3cfe8c506ea1c8c285fee39c3af4b0499\"><code>80ccb9b</code></a> Merge branch \\'6.4.x\\' into 6.5.x</li>\\n<li><a href=\"https://github.com/spring-projects/spring-security/commit/829af961f03a83053b03680b063c794935439bc0\"><code>829af96</code></a> Use Meaningful Configurer Names in Test</li>\\n<li><a href=\"https://github.com/spring-projects/spring-security/commit/fca704e61f80e1959fa3034a84eafe1ebe7c4b4c\"><code>fca704e</code></a> Fix getConfigurersInInitializing Semantics</li>\\n<li><a href=\"https://github.com/spring-projects/spring-security/commit/ea9dd2728ec9df922fe6844aeae0c851d74a4c96\"><code>ea9dd27</code></a> Support add nested security configurers during builder initialization</li>\\n<li><a href=\"https://github.com/spring-projects/spring-security/commit/409f845db25dc5bef1e224f099bf24c45dd55d54\"><code>409f845</code></a> Merge branch \\'6.4.x\\' into 6.5.x</li>\\n<li><a href=\"https://github.com/spring-projects/spring-security/commit/258aa66f0d9b1133f950dbe281b0432df7eeb47e\"><code>258aa66</code></a> Merge branch \\'6.3.x\\' into 6.4.x</li>\\n<li>Additional commits viewable in <a href=\"https://github.com/spring-projects/spring-security/compare/5.1.13.RELEASE...6.5.2\">compare view</a></li>\\n</ul>\\n</details>\\n<br />\\n\\n\\nDependabot will resolve any conflicts with this PR as long as you don\\'t alter it yourself. You can also trigger a rebase manually by commenting `@dependabot rebase`.\\n\\n[//]: # (dependabot-automerge-start)\\n[//]: # (dependabot-automerge-end)\\n\\n---\\n\\n<details>\\n<summary>Dependabot commands and options</summary>\\n<br />\\n\\nYou can trigger Dependabot actions by commenting on this PR:\\n- `@dependabot rebase` will rebase this PR\\n- `@dependabot recreate` will recreate this PR, overwriting any edits that have been made to it\\n- `@dependabot merge` will merge this PR after your CI passes on it\\n- `@dependabot squash and merge` will squash and merge this PR after your CI passes on it\\n- `@dependabot cancel merge` will cancel a previously requested merge and block automerging\\n- `@dependabot reopen` will reopen this PR if it is closed\\n- `@dependabot close` will close this PR and stop Dependabot recreating it. You can achieve the same result by closing it manually\\n- `@dependabot show <dependency name> ignore conditions` will show all of the ignore conditions of the specified dependency\\n- `@dependabot ignore this major version` will close this PR and stop Dependabot creating any more for this major version (unless you reopen the PR or upgrade to it yourself)\\n- `@dependabot ignore this minor version` will close this PR and stop Dependabot creating any more for this minor version (unless you reopen the PR or upgrade to it yourself)\\n- `@dependabot ignore this dependency` will close this PR and stop Dependabot creating any more for this dependency (unless you reopen the PR or upgrade to it yourself)\\n\\n\\n</details>', 'created_at': '2025-07-23T04:32:48Z', 'updated_at': '2025-07-23T04:32:48Z', 'closed_at': None, 'merged_at': None, 'merge_commit_sha': None, 'assignee': None, 'assignees': [], 'requested_reviewers': [], 'requested_teams': [], 'labels': [{'id': 8988480236, 'node_id': 'LA_kwDOPRMvpc8AAAACF8FS7A', 'url': 'https://api.github.com/repos/haysamq/rest-assured-1753245044/labels/dependencies', 'name': 'dependencies', 'color': '0366d6', 'default': False, 'description': 'Pull requests that update a dependency file'}, {'id': 8988480749, 'node_id': 'LA_kwDOPRMvpc8AAAACF8FU7Q', 'url': 'https://api.github.com/repos/haysamq/rest-assured-1753245044/labels/java', 'name': 'java', 'color': 'ffa221', 'default': False, 'description': 'Pull requests that update java code'}], 'milestone': None, 'draft': False, 'commits_url': 'https://api.github.com/repos/haysamq/rest-assured-1753245044/pulls/7/commits', 'review_comments_url': 'https://api.github.com/repos/haysamq/rest-assured-1753245044/pulls/7/comments', 'review_comment_url': 'https://api.github.com/repos/haysamq/rest-assured-1753245044/pulls/comments{/number}', 'comments_url': 'https://api.github.com/repos/haysamq/rest-assured-1753245044/issues/7/comments', 'statuses_url': 'https://api.github.com/repos/haysamq/rest-assured-1753245044/statuses/d25c0ad35a3417733565834b9d0d4ef21a86ef3d', 'head': {'label': 'haysamq:dependabot/maven/spring.security.version-6.5.2', 'ref': 'dependabot/maven/spring.security.version-6.5.2', 'sha': 'd25c0ad35a3417733565834b9d0d4ef21a86ef3d', 'user': {'login': 'haysamq', 'id': 169240831, 'node_id': 'U_kgDOChZo_w', 'avatar_url': 'https://avatars.githubusercontent.com/u/169240831?v=4', 'gravatar_id': '', 'url': 'https://api.github.com/users/haysamq', 'html_url': 'https://github.com/haysamq', 'followers_url': 'https://api.github.com/users/haysamq/followers', 'following_url': 'https://api.github.com/users/haysamq/following{/other_user}', 'gists_url': 'https://api.github.com/users/haysamq/gists{/gist_id}', 'starred_url': 'https://api.github.com/users/haysamq/starred{/owner}{/repo}', 'subscriptions_url': 'https://api.github.com/users/haysamq/subscriptions', 'organizations_url': 'https://api.github.com/users/haysamq/orgs', 'repos_url': 'https://api.github.com/users/haysamq/repos', 'events_url': 'https://api.github.com/users/haysamq/events{/privacy}', 'received_events_url': 'https://api.github.com/users/haysamq/received_events', 'type': 'User', 'user_view_type': 'public', 'site_admin': False}, 'repo': {'id': 1024667557, 'node_id': 'R_kgDOPRMvpQ', 'name': 'rest-assured-1753245044', 'full_name': 'haysamq/rest-assured-1753245044', 'private': False, 'owner': {'login': 'haysamq', 'id': 169240831, 'node_id': 'U_kgDOChZo_w', 'avatar_url': 'https://avatars.githubusercontent.com/u/169240831?v=4', 'gravatar_id': '', 'url': 'https://api.github.com/users/haysamq', 'html_url': 'https://github.com/haysamq', 'followers_url': 'https://api.github.com/users/haysamq/followers', 'following_url': 'https://api.github.com/users/haysamq/following{/other_user}', 'gists_url': 'https://api.github.com/users/haysamq/gists{/gist_id}', 'starred_url': 'https://api.github.com/users/haysamq/starred{/owner}{/repo}', 'subscriptions_url': 'https://api.github.com/users/haysamq/subscriptions', 'organizations_url': 'https://api.github.com/users/haysamq/orgs', 'repos_url': 'https://api.github.com/users/haysamq/repos', 'events_url': 'https://api.github.com/users/haysamq/events{/privacy}', 'received_events_url': 'https://api.github.com/users/haysamq/received_events', 'type': 'User', 'user_view_type': 'public', 'site_admin': False}, 'html_url': 'https://github.com/haysamq/rest-assured-1753245044', 'description': None, 'fork': False, 'url': 'https://api.github.com/repos/haysamq/rest-assured-1753245044', 'forks_url': 'https://api.github.com/repos/haysamq/rest-assured-1753245044/forks', 'keys_url': 'https://api.github.com/repos/haysamq/rest-assured-1753245044/keys{/key_id}', 'collaborators_url': 'https://api.github.com/repos/haysamq/rest-assured-1753245044/collaborators{/collaborator}', 'teams_url': 'https://api.github.com/repos/haysamq/rest-assured-1753245044/teams', 'hooks_url': 'https://api.github.com/repos/haysamq/rest-assured-1753245044/hooks', 'issue_events_url': 'https://api.github.com/repos/haysamq/rest-assured-1753245044/issues/events{/number}', 'events_url': 'https://api.github.com/repos/haysamq/rest-assured-1753245044/events', 'assignees_url': 'https://api.github.com/repos/haysamq/rest-assured-1753245044/assignees{/user}', 'branches_url': 'https://api.github.com/repos/haysamq/rest-assured-1753245044/branches{/branch}', 'tags_url': 'https://api.github.com/repos/haysamq/rest-assured-1753245044/tags', 'blobs_url': 'https://api.github.com/repos/haysamq/rest-assured-1753245044/git/blobs{/sha}', 'git_tags_url': 'https://api.github.com/repos/haysamq/rest-assured-1753245044/git/tags{/sha}', 'git_refs_url': 'https://api.github.com/repos/haysamq/rest-assured-1753245044/git/refs{/sha}', 'trees_url': 'https://api.github.com/repos/haysamq/rest-assured-1753245044/git/trees{/sha}', 'statuses_url': 'https://api.github.com/repos/haysamq/rest-assured-1753245044/statuses/{sha}', 'languages_url': 'https://api.github.com/repos/haysamq/rest-assured-1753245044/languages', 'stargazers_url': 'https://api.github.com/repos/haysamq/rest-assured-1753245044/stargazers', 'contributors_url': 'https://api.github.com/repos/haysamq/rest-assured-1753245044/contributors', 'subscribers_url': 'https://api.github.com/repos/haysamq/rest-assured-1753245044/subscribers', 'subscription_url': 'https://api.github.com/repos/haysamq/rest-assured-1753245044/subscription', 'commits_url': 'https://api.github.com/repos/haysamq/rest-assured-1753245044/commits{/sha}', 'git_commits_url': 'https://api.github.com/repos/haysamq/rest-assured-1753245044/git/commits{/sha}', 'comments_url': 'https://api.github.com/repos/haysamq/rest-assured-1753245044/comments{/number}', 'issue_comment_url': 'https://api.github.com/repos/haysamq/rest-assured-1753245044/issues/comments{/number}', 'contents_url': 'https://api.github.com/repos/haysamq/rest-assured-1753245044/contents/{+path}', 'compare_url': 'https://api.github.com/repos/haysamq/rest-assured-1753245044/compare/{base}...{head}', 'merges_url': 'https://api.github.com/repos/haysamq/rest-assured-1753245044/merges', 'archive_url': 'https://api.github.com/repos/haysamq/rest-assured-1753245044/{archive_format}{/ref}', 'downloads_url': 'https://api.github.com/repos/haysamq/rest-assured-1753245044/downloads', 'issues_url': 'https://api.github.com/repos/haysamq/rest-assured-1753245044/issues{/number}', 'pulls_url': 'https://api.github.com/repos/haysamq/rest-assured-1753245044/pulls{/number}', 'milestones_url': 'https://api.github.com/repos/haysamq/rest-assured-1753245044/milestones{/number}', 'notifications_url': 'https://api.github.com/repos/haysamq/rest-assured-1753245044/notifications{?since,all,participating}', 'labels_url': 'https://api.github.com/repos/haysamq/rest-assured-1753245044/labels{/name}', 'releases_url': 'https://api.github.com/repos/haysamq/rest-assured-1753245044/releases{/id}', 'deployments_url': 'https://api.github.com/repos/haysamq/rest-assured-1753245044/deployments', 'created_at': '2025-07-23T04:30:46Z', 'updated_at': '2025-07-23T04:31:05Z', 'pushed_at': '2025-07-23T04:32:47Z', 'git_url': 'git://github.com/haysamq/rest-assured-1753245044.git', 'ssh_url': 'git@github.com:haysamq/rest-assured-1753245044.git', 'clone_url': 'https://github.com/haysamq/rest-assured-1753245044.git', 'svn_url': 'https://github.com/haysamq/rest-assured-1753245044', 'homepage': None, 'size': 0, 'stargazers_count': 0, 'watchers_count': 0, 'language': 'Java', 'has_issues': True, 'has_projects': True, 'has_downloads': True, 'has_wiki': True, 'has_pages': False, 'has_discussions': False, 'forks_count': 0, 'mirror_url': None, 'archived': False, 'disabled': False, 'open_issues_count': 7, 'license': None, 'allow_forking': True, 'is_template': False, 'web_commit_signoff_required': False, 'topics': [], 'visibility': 'public', 'forks': 0, 'open_issues': 7, 'watchers': 0, 'default_branch': 'main'}}, 'base': {'label': 'haysamq:main', 'ref': 'main', 'sha': '67ebd6a56790b5a38eb926e94dca22fce561b199', 'user': {'login': 'haysamq', 'id': 169240831, 'node_id': 'U_kgDOChZo_w', 'avatar_url': 'https://avatars.githubusercontent.com/u/169240831?v=4', 'gravatar_id': '', 'url': 'https://api.github.com/users/haysamq', 'html_url': 'https://github.com/haysamq', 'followers_url': 'https://api.github.com/users/haysamq/followers', 'following_url': 'https://api.github.com/users/haysamq/following{/other_user}', 'gists_url': 'https://api.github.com/users/haysamq/gists{/gist_id}', 'starred_url': 'https://api.github.com/users/haysamq/starred{/owner}{/repo}', 'subscriptions_url': 'https://api.github.com/users/haysamq/subscriptions', 'organizations_url': 'https://api.github.com/users/haysamq/orgs', 'repos_url': 'https://api.github.com/users/haysamq/repos', 'events_url': 'https://api.github.com/users/haysamq/events{/privacy}', 'received_events_url': 'https://api.github.com/users/haysamq/received_events', 'type': 'User', 'user_view_type': 'public', 'site_admin': False}, 'repo': {'id': 1024667557, 'node_id': 'R_kgDOPRMvpQ', 'name': 'rest-assured-1753245044', 'full_name': 'haysamq/rest-assured-1753245044', 'private': False, 'owner': {'login': 'haysamq', 'id': 169240831, 'node_id': 'U_kgDOChZo_w', 'avatar_url': 'https://avatars.githubusercontent.com/u/169240831?v=4', 'gravatar_id': '', 'url': 'https://api.github.com/users/haysamq', 'html_url': 'https://github.com/haysamq', 'followers_url': 'https://api.github.com/users/haysamq/followers', 'following_url': 'https://api.github.com/users/haysamq/following{/other_user}', 'gists_url': 'https://api.github.com/users/haysamq/gists{/gist_id}', 'starred_url': 'https://api.github.com/users/haysamq/starred{/owner}{/repo}', 'subscriptions_url': 'https://api.github.com/users/haysamq/subscriptions', 'organizations_url': 'https://api.github.com/users/haysamq/orgs', 'repos_url': 'https://api.github.com/users/haysamq/repos', 'events_url': 'https://api.github.com/users/haysamq/events{/privacy}', 'received_events_url': 'https://api.github.com/users/haysamq/received_events', 'type': 'User', 'user_view_type': 'public', 'site_admin': False}, 'html_url': 'https://github.com/haysamq/rest-assured-1753245044', 'description': None, 'fork': False, 'url': 'https://api.github.com/repos/haysamq/rest-assured-1753245044', 'forks_url': 'https://api.github.com/repos/haysamq/rest-assured-1753245044/forks', 'keys_url': 'https://api.github.com/repos/haysamq/rest-assured-1753245044/keys{/key_id}', 'collaborators_url': 'https://api.github.com/repos/haysamq/rest-assured-1753245044/collaborators{/collaborator}', 'teams_url': 'https://api.github.com/repos/haysamq/rest-assured-1753245044/teams', 'hooks_url': 'https://api.github.com/repos/haysamq/rest-assured-1753245044/hooks', 'issue_events_url': 'https://api.github.com/repos/haysamq/rest-assured-1753245044/issues/events{/number}', 'events_url': 'https://api.github.com/repos/haysamq/rest-assured-1753245044/events', 'assignees_url': 'https://api.github.com/repos/haysamq/rest-assured-1753245044/assignees{/user}', 'branches_url': 'https://api.github.com/repos/haysamq/rest-assured-1753245044/branches{/branch}', 'tags_url': 'https://api.github.com/repos/haysamq/rest-assured-1753245044/tags', 'blobs_url': 'https://api.github.com/repos/haysamq/rest-assured-1753245044/git/blobs{/sha}', 'git_tags_url': 'https://api.github.com/repos/haysamq/rest-assured-1753245044/git/tags{/sha}', 'git_refs_url': 'https://api.github.com/repos/haysamq/rest-assured-1753245044/git/refs{/sha}', 'trees_url': 'https://api.github.com/repos/haysamq/rest-assured-1753245044/git/trees{/sha}', 'statuses_url': 'https://api.github.com/repos/haysamq/rest-assured-1753245044/statuses/{sha}', 'languages_url': 'https://api.github.com/repos/haysamq/rest-assured-1753245044/languages', 'stargazers_url': 'https://api.github.com/repos/haysamq/rest-assured-1753245044/stargazers', 'contributors_url': 'https://api.github.com/repos/haysamq/rest-assured-1753245044/contributors', 'subscribers_url': 'https://api.github.com/repos/haysamq/rest-assured-1753245044/subscribers', 'subscription_url': 'https://api.github.com/repos/haysamq/rest-assured-1753245044/subscription', 'commits_url': 'https://api.github.com/repos/haysamq/rest-assured-1753245044/commits{/sha}', 'git_commits_url': 'https://api.github.com/repos/haysamq/rest-assured-1753245044/git/commits{/sha}', 'comments_url': 'https://api.github.com/repos/haysamq/rest-assured-1753245044/comments{/number}', 'issue_comment_url': 'https://api.github.com/repos/haysamq/rest-assured-1753245044/issues/comments{/number}', 'contents_url': 'https://api.github.com/repos/haysamq/rest-assured-1753245044/contents/{+path}', 'compare_url': 'https://api.github.com/repos/haysamq/rest-assured-1753245044/compare/{base}...{head}', 'merges_url': 'https://api.github.com/repos/haysamq/rest-assured-1753245044/merges', 'archive_url': 'https://api.github.com/repos/haysamq/rest-assured-1753245044/{archive_format}{/ref}', 'downloads_url': 'https://api.github.com/repos/haysamq/rest-assured-1753245044/downloads', 'issues_url': 'https://api.github.com/repos/haysamq/rest-assured-1753245044/issues{/number}', 'pulls_url': 'https://api.github.com/repos/haysamq/rest-assured-1753245044/pulls{/number}', 'milestones_url': 'https://api.github.com/repos/haysamq/rest-assured-1753245044/milestones{/number}', 'notifications_url': 'https://api.github.com/repos/haysamq/rest-assured-1753245044/notifications{?since,all,participating}', 'labels_url': 'https://api.github.com/repos/haysamq/rest-assured-1753245044/labels{/name}', 'releases_url': 'https://api.github.com/repos/haysamq/rest-assured-1753245044/releases{/id}', 'deployments_url': 'https://api.github.com/repos/haysamq/rest-assured-1753245044/deployments', 'created_at': '2025-07-23T04:30:46Z', 'updated_at': '2025-07-23T04:31:05Z', 'pushed_at': '2025-07-23T04:32:47Z', 'git_url': 'git://github.com/haysamq/rest-assured-1753245044.git', 'ssh_url': 'git@github.com:haysamq/rest-assured-1753245044.git', 'clone_url': 'https://github.com/haysamq/rest-assured-1753245044.git', 'svn_url': 'https://github.com/haysamq/rest-assured-1753245044', 'homepage': None, 'size': 0, 'stargazers_count': 0, 'watchers_count': 0, 'language': 'Java', 'has_issues': True, 'has_projects': True, 'has_downloads': True, 'has_wiki': True, 'has_pages': False, 'has_discussions': False, 'forks_count': 0, 'mirror_url': None, 'archived': False, 'disabled': False, 'open_issues_count': 7, 'license': None, 'allow_forking': True, 'is_template': False, 'web_commit_signoff_required': False, 'topics': [], 'visibility': 'public', 'forks': 0, 'open_issues': 7, 'watchers': 0, 'default_branch': 'main'}}, '_links': {'self': {'href': 'https://api.github.com/repos/haysamq/rest-assured-1753245044/pulls/7'}, 'html': {'href': 'https://github.com/haysamq/rest-assured-1753245044/pull/7'}, 'issue': {'href': 'https://api.github.com/repos/haysamq/rest-assured-1753245044/issues/7'}, 'comments': {'href': 'https://api.github.com/repos/haysamq/rest-assured-1753245044/issues/7/comments'}, 'review_comments': {'href': 'https://api.github.com/repos/haysamq/rest-assured-1753245044/pulls/7/comments'}, 'review_comment': {'href': 'https://api.github.com/repos/haysamq/rest-assured-1753245044/pulls/comments{/number}'}, 'commits': {'href': 'https://api.github.com/repos/haysamq/rest-assured-1753245044/pulls/7/commits'}, 'statuses': {'href': 'https://api.github.com/repos/haysamq/rest-assured-1753245044/statuses/d25c0ad35a3417733565834b9d0d4ef21a86ef3d'}}, 'author_association': 'NONE', 'auto_merge': None, 'active_lock_reason': None, 'merged': False, 'mergeable': None, 'rebaseable': None, 'mergeable_state': 'unknown', 'merged_by': None, 'comments': 0, 'review_comments': 0, 'maintainer_can_modify': False, 'commits': 1, 'additions': 2, 'deletions': 2, 'changed_files': 2}}, 'public': True, 'created_at': '2025-07-23T04:32:49Z'}, {'id': '52424705319', 'type': 'PushEvent', 'actor': {'id': 119392873, 'login': 'QuanNguyen-1st', 'display_login': 'QuanNguyen-1st', 'gravatar_id': '', 'url': 'https://api.github.com/users/QuanNguyen-1st', 'avatar_url': 'https://avatars.githubusercontent.com/u/119392873?'}, 'repo': {'id': 1019375333, 'name': 'sitrongtrang/Potion_Protocol_Online', 'url': 'https://api.github.com/repos/sitrongtrang/Potion_Protocol_Online'}, 'payload': {'repository_id': 1019375333, 'push_id': 25666155994, 'size': 1, 'distinct_size': 1, 'ref': 'refs/heads/test', 'head': 'd2ac90f0c0d56457aa0aaaedd6ffd0cee4c6fc31', 'before': '8293f7b6301cd7229255a3989ec1f9c0137b356c', 'commits': [{'sha': 'd2ac90f0c0d56457aa0aaaedd6ffd0cee4c6fc31', 'author': {'email': 'minhquan2nd@gmail.com', 'name': 'Quan Nguyen'}, 'message': 'minor changes', 'distinct': True, 'url': 'https://api.github.com/repos/sitrongtrang/Potion_Protocol_Online/commits/d2ac90f0c0d56457aa0aaaedd6ffd0cee4c6fc31'}]}, 'public': True, 'created_at': '2025-07-23T04:32:49Z'}, {'id': '52424705336', 'type': 'CreateEvent', 'actor': {'id': 104595465, 'login': 'aws-aemilia-icn', 'display_login': 'aws-aemilia-icn', 'gravatar_id': '', 'url': 'https://api.github.com/users/aws-aemilia-icn', 'avatar_url': 'https://avatars.githubusercontent.com/u/104595465?'}, 'repo': {'id': 939081993, 'name': 'aws-aemilia-icn/Github-PR-Commit-Integration-Test-DoNotTouch-Gith-RB7P4TGB-v1-prod-ap-northeast-2', 'url': 'https://api.github.com/repos/aws-aemilia-icn/Github-PR-Commit-Integration-Test-DoNotTouch-Gith-RB7P4TGB-v1-prod-ap-northeast-2'}, 'payload': {'ref': 'GithubWebhookBackwardsPreviewCanaryTestpr-prod-1753245168103', 'ref_type': 'branch', 'master_branch': 'main', 'description': None, 'pusher_type': 'user'}, 'public': True, 'created_at': '2025-07-23T04:32:49Z'}, {'id': '52424705304', 'type': 'PushEvent', 'actor': {'id': 49092133, 'login': 'waqar0345', 'display_login': 'waqar0345', 'gravatar_id': '', 'url': 'https://api.github.com/users/waqar0345', 'avatar_url': 'https://avatars.githubusercontent.com/u/49092133?'}, 'repo': {'id': 792877994, 'name': 'waqar0345/Sid', 'url': 'https://api.github.com/repos/waqar0345/Sid'}, 'payload': {'repository_id': 792877994, 'push_id': 25666155975, 'size': 1, 'distinct_size': 1, 'ref': 'refs/heads/main', 'head': '0f63f313867daf8897fff273be047b595015b40e', 'before': '308ed6c21a29033808dab5690c78a88c51c8646f', 'commits': [{'sha': '0f63f313867daf8897fff273be047b595015b40e', 'author': {'email': '49092133+waqar0345@users.noreply.github.com', 'name': 'waqar0345'}, 'message': 'Updating player prices', 'distinct': True, 'url': 'https://api.github.com/repos/waqar0345/Sid/commits/0f63f313867daf8897fff273be047b595015b40e'}]}, 'public': True, 'created_at': '2025-07-23T04:32:49Z'}, {'id': '52424705302', 'type': 'PushEvent', 'actor': {'id': 29139614, 'login': 'renovate[bot]', 'display_login': 'renovate', 'gravatar_id': '', 'url': 'https://api.github.com/users/renovate[bot]', 'avatar_url': 'https://avatars.githubusercontent.com/u/29139614?'}, 'repo': {'id': 206318003, 'name': 'mkmik/getsum', 'url': 'https://api.github.com/repos/mkmik/getsum'}, 'payload': {'repository_id': 206318003, 'push_id': 25666155982, 'size': 1, 'distinct_size': 1, 'ref': 'refs/heads/renovate/golang-1.x', 'head': '68a1b967170cffbf7e5289deaf5db5853c5c5f86', 'before': '794d93b46884bf584d433a9486ac541576eff1eb', 'commits': [{'sha': '68a1b967170cffbf7e5289deaf5db5853c5c5f86', 'author': {'email': '29139614+renovate[bot]@users.noreply.github.com', 'name': 'renovate[bot]'}, 'message': 'Update golang Docker tag to v1.24', 'distinct': True, 'url': 'https://api.github.com/repos/mkmik/getsum/commits/68a1b967170cffbf7e5289deaf5db5853c5c5f86'}]}, 'public': True, 'created_at': '2025-07-23T04:32:49Z'}, {'id': '52424705313', 'type': 'PushEvent', 'actor': {'id': 41898282, 'login': 'github-actions[bot]', 'display_login': 'github-actions', 'gravatar_id': '', 'url': 'https://api.github.com/users/github-actions[bot]', 'avatar_url': 'https://avatars.githubusercontent.com/u/41898282?'}, 'repo': {'id': 973437101, 'name': 'zhongtait/LibreTV', 'url': 'https://api.github.com/repos/zhongtait/LibreTV'}, 'payload': {'repository_id': 973437101, 'push_id': 25666155959, 'size': 3, 'distinct_size': 3, 'ref': 'refs/heads/main', 'head': '00d391aa1b1f96c80b3be22a9082888653da5a5e', 'before': '182ca7c28d14c3ffd27479206ac23af9abea4181', 'commits': [{'sha': '450b940678260cc7b5bf15fe4b6d6803068f41e7', 'author': {'email': 'hst1189@hotmail.com', 'name': 'hst1189'}, 'message': 'Update config.js', 'distinct': True, 'url': 'https://api.github.com/repos/zhongtait/LibreTV/commits/450b940678260cc7b5bf15fe4b6d6803068f41e7'}, {'sha': '4459f9726eaeea21576012ec8bd32d41c1b4a3c2', 'author': {'email': '110226580+bestZwei@users.noreply.github.com', 'name': 'Zwei'}, 'message': 'Merge pull request #771 from hst1189/main\\n\\nUpdate config.js  修复小猫咪资源站', 'distinct': True, 'url': 'https://api.github.com/repos/zhongtait/LibreTV/commits/4459f9726eaeea21576012ec8bd32d41c1b4a3c2'}, {'sha': '00d391aa1b1f96c80b3be22a9082888653da5a5e', 'author': {'email': 'github-actions[bot]@users.noreply.github.com', 'name': 'github-actions[bot]'}, 'message': 'Auto Update 2025-07-22 22:10', 'distinct': True, 'url': 'https://api.github.com/repos/zhongtait/LibreTV/commits/00d391aa1b1f96c80b3be22a9082888653da5a5e'}]}, 'public': True, 'created_at': '2025-07-23T04:32:49Z'}, {'id': '52424705308', 'type': 'PushEvent', 'actor': {'id': 167669099, 'login': 'anthonysmith90', 'display_login': 'anthonysmith90', 'gravatar_id': '', 'url': 'https://api.github.com/users/anthonysmith90', 'avatar_url': 'https://avatars.githubusercontent.com/u/167669099?'}, 'repo': {'id': 1024631669, 'name': 'anthonysmith90/algo', 'url': 'https://api.github.com/repos/anthonysmith90/algo'}, 'payload': {'repository_id': 1024631669, 'push_id': 25666155976, 'size': 1, 'distinct_size': 1, 'ref': 'refs/heads/main', 'head': '8240fd40ca3af28b647d288940c40ac00261c096', 'before': '33f01ecc281f22690b0a93572d3ddb0f8e10c7ab', 'commits': [{'sha': '8240fd40ca3af28b647d288940c40ac00261c096', 'author': {'email': 'anthonysmit.h9033696@gmail.com', 'name': 'anthonysmith90'}, 'message': 'Improve RPC handler handler', 'distinct': True, 'url': 'https://api.github.com/repos/anthonysmith90/algo/commits/8240fd40ca3af28b647d288940c40ac00261c096'}]}, 'public': True, 'created_at': '2025-07-23T04:32:49Z'}, {'id': '52424705289', 'type': 'PushEvent', 'actor': {'id': 123078419, 'login': 'sast-qa', 'display_login': 'sast-qa', 'gravatar_id': '', 'url': 'https://api.github.com/users/sast-qa', 'avatar_url': 'https://avatars.githubusercontent.com/u/123078419?'}, 'repo': {'id': 1024668078, 'name': 'SAST-UP-DEV/SAST-Test-Repo-53d42bba-f684-4b6f-b39b-61f32425b9b1', 'url': 'https://api.github.com/repos/SAST-UP-DEV/SAST-Test-Repo-53d42bba-f684-4b6f-b39b-61f32425b9b1'}, 'payload': {'repository_id': 1024668078, 'push_id': 25666155968, 'size': 1, 'distinct_size': 1, 'ref': 'refs/heads/dev', 'head': '187dc7f08a15915c2c3b44df67374f018f375332', 'before': '6959db0315d5f35fad9bc929b4e7c96ef2c7e389', 'commits': [{'sha': '187dc7f08a15915c2c3b44df67374f018f375332', 'author': {'email': '123078419+sast-qa@users.noreply.github.com', 'name': 'sast-qa'}, 'message': 'Add SQLInjection.java file to repo.', 'distinct': True, 'url': 'https://api.github.com/repos/SAST-UP-DEV/SAST-Test-Repo-53d42bba-f684-4b6f-b39b-61f32425b9b1/commits/187dc7f08a15915c2c3b44df67374f018f375332'}]}, 'public': True, 'created_at': '2025-07-23T04:32:49Z', 'org': {'id': 123163455, 'login': 'SAST-UP-DEV', 'gravatar_id': '', 'url': 'https://api.github.com/orgs/SAST-UP-DEV', 'avatar_url': 'https://avatars.githubusercontent.com/u/123163455?'}}, {'id': '52424705291', 'type': 'PushEvent', 'actor': {'id': 216873808, 'login': 'solobaba247', 'display_login': 'solobaba247', 'gravatar_id': '', 'url': 'https://api.github.com/users/solobaba247', 'avatar_url': 'https://avatars.githubusercontent.com/u/216873808?'}, 'repo': {'id': 1024657861, 'name': 'solobaba247/Precision-2', 'url': 'https://api.github.com/repos/solobaba247/Precision-2'}, 'payload': {'repository_id': 1024657861, 'push_id': 25666155930, 'size': 1, 'distinct_size': 1, 'ref': 'refs/heads/main', 'head': 'c4a383ed361b0d18630b0a57359cbcbf665d9d70', 'before': '0526c04f536479da58b2913e7ffae74a2da0d10b', 'commits': [{'sha': 'c4a383ed361b0d18630b0a57359cbcbf665d9d70', 'author': {'email': 'ultimateedge.info@gmail.com', 'name': 'solobaba247'}, 'message': 'Add files via upload', 'distinct': True, 'url': 'https://api.github.com/repos/solobaba247/Precision-2/commits/c4a383ed361b0d18630b0a57359cbcbf665d9d70'}]}, 'public': True, 'created_at': '2025-07-23T04:32:49Z'}, {'id': '52424705287', 'type': 'PushEvent', 'actor': {'id': 113289905, 'login': 'user1exd', 'display_login': 'user1exd', 'gravatar_id': '', 'url': 'https://api.github.com/users/user1exd', 'avatar_url': 'https://avatars.githubusercontent.com/u/113289905?'}, 'repo': {'id': 806600330, 'name': 'user1exd/rss_realtime_feed', 'url': 'https://api.github.com/repos/user1exd/rss_realtime_feed'}, 'payload': {'repository_id': 806600330, 'push_id': 25666155943, 'size': 1, 'distinct_size': 1, 'ref': 'refs/heads/main', 'head': 'e8141d4db526e64d88b7581b4d08ec19eaf96773', 'before': '1ee86c3bea4632167bcd426c3407e9083b4555b2', 'commits': [{'sha': 'e8141d4db526e64d88b7581b4d08ec19eaf96773', 'author': {'email': '113289905+user1exd@users.noreply.github.com', 'name': 'user1exd'}, 'message': 'Automated update 2025-07-23-Jul-07', 'distinct': True, 'url': 'https://api.github.com/repos/user1exd/rss_realtime_feed/commits/e8141d4db526e64d88b7581b4d08ec19eaf96773'}]}, 'public': True, 'created_at': '2025-07-23T04:32:49Z'}, {'id': '52424705261', 'type': 'PushEvent', 'actor': {'id': 79412223, 'login': 'TroyKaplan', 'display_login': 'TroyKaplan', 'gravatar_id': '', 'url': 'https://api.github.com/users/TroyKaplan', 'avatar_url': 'https://avatars.githubusercontent.com/u/79412223?'}, 'repo': {'id': 863746706, 'name': 'TroyKaplan/Portfolio', 'url': 'https://api.github.com/repos/TroyKaplan/Portfolio'}, 'payload': {'repository_id': 863746706, 'push_id': 25666155921, 'size': 1, 'distinct_size': 1, 'ref': 'refs/heads/main', 'head': '7fc8dfe540e0b349f1ef106f5edca8f30931a1f3', 'before': '0925c42480a3e6d874e4d4ef4103d4f01ebae345', 'commits': [{'sha': '7fc8dfe540e0b349f1ef106f5edca8f30931a1f3', 'author': {'email': '79412223+TroyKaplan@users.noreply.github.com', 'name': 'Troy Kaplan'}, 'message': 'Update rocketgame-thumbnail.png', 'distinct': True, 'url': 'https://api.github.com/repos/TroyKaplan/Portfolio/commits/7fc8dfe540e0b349f1ef106f5edca8f30931a1f3'}]}, 'public': True, 'created_at': '2025-07-23T04:32:49Z'}, {'id': '52424705270', 'type': 'PullRequestEvent', 'actor': {'id': 29139614, 'login': 'renovate[bot]', 'display_login': 'renovate', 'gravatar_id': '', 'url': 'https://api.github.com/users/renovate[bot]', 'avatar_url': 'https://avatars.githubusercontent.com/u/29139614?'}, 'repo': {'id': 1024665909, 'name': 'vincentclee/keyring', 'url': 'https://api.github.com/repos/vincentclee/keyring'}, 'payload': {'action': 'opened', 'number': 12, 'pull_request': {'url': 'https://api.github.com/repos/vincentclee/keyring/pulls/12', 'id': 2687464974, 'node_id': 'PR_kwDOPRMpNc6gL3YO', 'html_url': 'https://github.com/vincentclee/keyring/pull/12', 'diff_url': 'https://github.com/vincentclee/keyring/pull/12.diff', 'patch_url': 'https://github.com/vincentclee/keyring/pull/12.patch', 'issue_url': 'https://api.github.com/repos/vincentclee/keyring/issues/12', 'number': 12, 'state': 'open', 'locked': False, 'title': 'Update golangci/golangci-lint-action action to v8', 'user': {'login': 'renovate[bot]', 'id': 29139614, 'node_id': 'MDM6Qm90MjkxMzk2MTQ=', 'avatar_url': 'https://avatars.githubusercontent.com/in/2740?v=4', 'gravatar_id': '', 'url': 'https://api.github.com/users/renovate%5Bbot%5D', 'html_url': 'https://github.com/apps/renovate', 'followers_url': 'https://api.github.com/users/renovate%5Bbot%5D/followers', 'following_url': 'https://api.github.com/users/renovate%5Bbot%5D/following{/other_user}', 'gists_url': 'https://api.github.com/users/renovate%5Bbot%5D/gists{/gist_id}', 'starred_url': 'https://api.github.com/users/renovate%5Bbot%5D/starred{/owner}{/repo}', 'subscriptions_url': 'https://api.github.com/users/renovate%5Bbot%5D/subscriptions', 'organizations_url': 'https://api.github.com/users/renovate%5Bbot%5D/orgs', 'repos_url': 'https://api.github.com/users/renovate%5Bbot%5D/repos', 'events_url': 'https://api.github.com/users/renovate%5Bbot%5D/events{/privacy}', 'received_events_url': 'https://api.github.com/users/renovate%5Bbot%5D/received_events', 'type': 'Bot', 'user_view_type': 'public', 'site_admin': False}, 'body': \"This PR contains the following updates:\\n\\n| Package | Type | Update | Change |\\n|---|---|---|---|\\n| [golangci/golangci-lint-action](https://redirect.github.com/golangci/golangci-lint-action) | action | major | `v2` -> `v8` |\\n\\n---\\n\\n> [!WARNING]\\n> Some dependencies could not be looked up. Check the Dependency Dashboard for more information.\\n\\n---\\n\\n### Release Notes\\n\\n<details>\\n<summary>golangci/golangci-lint-action (golangci/golangci-lint-action)</summary>\\n\\n### [`v8`](https://redirect.github.com/golangci/golangci-lint-action/compare/v7...v8)\\n\\n[Compare Source](https://redirect.github.com/golangci/golangci-lint-action/compare/v7...v8)\\n\\n### [`v7`](https://redirect.github.com/golangci/golangci-lint-action/compare/v6...v7)\\n\\n[Compare Source](https://redirect.github.com/golangci/golangci-lint-action/compare/v6...v7)\\n\\n### [`v6`](https://redirect.github.com/golangci/golangci-lint-action/compare/v5...v6)\\n\\n[Compare Source](https://redirect.github.com/golangci/golangci-lint-action/compare/v5...v6)\\n\\n### [`v5`](https://redirect.github.com/golangci/golangci-lint-action/compare/v4...v5)\\n\\n[Compare Source](https://redirect.github.com/golangci/golangci-lint-action/compare/v4...v5)\\n\\n### [`v4`](https://redirect.github.com/golangci/golangci-lint-action/compare/v3...v4)\\n\\n[Compare Source](https://redirect.github.com/golangci/golangci-lint-action/compare/v3...v4)\\n\\n### [`v3`](https://redirect.github.com/golangci/golangci-lint-action/compare/v2...v3)\\n\\n[Compare Source](https://redirect.github.com/golangci/golangci-lint-action/compare/v2...v3)\\n\\n</details>\\n\\n---\\n\\n### Configuration\\n\\n📅 **Schedule**: Branch creation - At any time (no schedule defined), Automerge - At any time (no schedule defined).\\n\\n🚦 **Automerge**: Disabled by config. Please merge this manually once you are satisfied.\\n\\n♻ **Rebasing**: Whenever PR becomes conflicted, or you tick the rebase/retry checkbox.\\n\\n🔕 **Ignore**: Close this PR and you won't be reminded about this update again.\\n\\n---\\n\\n - [ ] <!-- rebase-check -->If you want to rebase/retry this PR, check this box\\n\\n---\\n\\nThis PR was generated by [Mend Renovate](https://mend.io/renovate/). View the [repository job log](https://developer.mend.io/github/vincentclee/keyring).\\n<!--renovate-debug:eyJjcmVhdGVkSW5WZXIiOiI0MS40MC4wIiwidXBkYXRlZEluVmVyIjoiNDEuNDAuMCIsInRhcmdldEJyYW5jaCI6Im1hc3RlciIsImxhYmVscyI6W119-->\\n\", 'created_at': '2025-07-23T04:32:47Z', 'updated_at': '2025-07-23T04:32:47Z', 'closed_at': None, 'merged_at': None, 'merge_commit_sha': None, 'assignee': None, 'assignees': [], 'requested_reviewers': [], 'requested_teams': [], 'labels': [], 'milestone': None, 'draft': False, 'commits_url': 'https://api.github.com/repos/vincentclee/keyring/pulls/12/commits', 'review_comments_url': 'https://api.github.com/repos/vincentclee/keyring/pulls/12/comments', 'review_comment_url': 'https://api.github.com/repos/vincentclee/keyring/pulls/comments{/number}', 'comments_url': 'https://api.github.com/repos/vincentclee/keyring/issues/12/comments', 'statuses_url': 'https://api.github.com/repos/vincentclee/keyring/statuses/d894ed2898af9c0d9d3039195c9d4758cd6add5d', 'head': {'label': 'vincentclee:renovate/golangci-golangci-lint-action-8.x', 'ref': 'renovate/golangci-golangci-lint-action-8.x', 'sha': 'd894ed2898af9c0d9d3039195c9d4758cd6add5d', 'user': {'login': 'vincentclee', 'id': 5388077, 'node_id': 'MDQ6VXNlcjUzODgwNzc=', 'avatar_url': 'https://avatars.githubusercontent.com/u/5388077?v=4', 'gravatar_id': '', 'url': 'https://api.github.com/users/vincentclee', 'html_url': 'https://github.com/vincentclee', 'followers_url': 'https://api.github.com/users/vincentclee/followers', 'following_url': 'https://api.github.com/users/vincentclee/following{/other_user}', 'gists_url': 'https://api.github.com/users/vincentclee/gists{/gist_id}', 'starred_url': 'https://api.github.com/users/vincentclee/starred{/owner}{/repo}', 'subscriptions_url': 'https://api.github.com/users/vincentclee/subscriptions', 'organizations_url': 'https://api.github.com/users/vincentclee/orgs', 'repos_url': 'https://api.github.com/users/vincentclee/repos', 'events_url': 'https://api.github.com/users/vincentclee/events{/privacy}', 'received_events_url': 'https://api.github.com/users/vincentclee/received_events', 'type': 'User', 'user_view_type': 'public', 'site_admin': False}, 'repo': {'id': 1024665909, 'node_id': 'R_kgDOPRMpNQ', 'name': 'keyring', 'full_name': 'vincentclee/keyring', 'private': False, 'owner': {'login': 'vincentclee', 'id': 5388077, 'node_id': 'MDQ6VXNlcjUzODgwNzc=', 'avatar_url': 'https://avatars.githubusercontent.com/u/5388077?v=4', 'gravatar_id': '', 'url': 'https://api.github.com/users/vincentclee', 'html_url': 'https://github.com/vincentclee', 'followers_url': 'https://api.github.com/users/vincentclee/followers', 'following_url': 'https://api.github.com/users/vincentclee/following{/other_user}', 'gists_url': 'https://api.github.com/users/vincentclee/gists{/gist_id}', 'starred_url': 'https://api.github.com/users/vincentclee/starred{/owner}{/repo}', 'subscriptions_url': 'https://api.github.com/users/vincentclee/subscriptions', 'organizations_url': 'https://api.github.com/users/vincentclee/orgs', 'repos_url': 'https://api.github.com/users/vincentclee/repos', 'events_url': 'https://api.github.com/users/vincentclee/events{/privacy}', 'received_events_url': 'https://api.github.com/users/vincentclee/received_events', 'type': 'User', 'user_view_type': 'public', 'site_admin': False}, 'html_url': 'https://github.com/vincentclee/keyring', 'description': 'Go library providing a uniform interface across a range of secure credential stores', 'fork': True, 'url': 'https://api.github.com/repos/vincentclee/keyring', 'forks_url': 'https://api.github.com/repos/vincentclee/keyring/forks', 'keys_url': 'https://api.github.com/repos/vincentclee/keyring/keys{/key_id}', 'collaborators_url': 'https://api.github.com/repos/vincentclee/keyring/collaborators{/collaborator}', 'teams_url': 'https://api.github.com/repos/vincentclee/keyring/teams', 'hooks_url': 'https://api.github.com/repos/vincentclee/keyring/hooks', 'issue_events_url': 'https://api.github.com/repos/vincentclee/keyring/issues/events{/number}', 'events_url': 'https://api.github.com/repos/vincentclee/keyring/events', 'assignees_url': 'https://api.github.com/repos/vincentclee/keyring/assignees{/user}', 'branches_url': 'https://api.github.com/repos/vincentclee/keyring/branches{/branch}', 'tags_url': 'https://api.github.com/repos/vincentclee/keyring/tags', 'blobs_url': 'https://api.github.com/repos/vincentclee/keyring/git/blobs{/sha}', 'git_tags_url': 'https://api.github.com/repos/vincentclee/keyring/git/tags{/sha}', 'git_refs_url': 'https://api.github.com/repos/vincentclee/keyring/git/refs{/sha}', 'trees_url': 'https://api.github.com/repos/vincentclee/keyring/git/trees{/sha}', 'statuses_url': 'https://api.github.com/repos/vincentclee/keyring/statuses/{sha}', 'languages_url': 'https://api.github.com/repos/vincentclee/keyring/languages', 'stargazers_url': 'https://api.github.com/repos/vincentclee/keyring/stargazers', 'contributors_url': 'https://api.github.com/repos/vincentclee/keyring/contributors', 'subscribers_url': 'https://api.github.com/repos/vincentclee/keyring/subscribers', 'subscription_url': 'https://api.github.com/repos/vincentclee/keyring/subscription', 'commits_url': 'https://api.github.com/repos/vincentclee/keyring/commits{/sha}', 'git_commits_url': 'https://api.github.com/repos/vincentclee/keyring/git/commits{/sha}', 'comments_url': 'https://api.github.com/repos/vincentclee/keyring/comments{/number}', 'issue_comment_url': 'https://api.github.com/repos/vincentclee/keyring/issues/comments{/number}', 'contents_url': 'https://api.github.com/repos/vincentclee/keyring/contents/{+path}', 'compare_url': 'https://api.github.com/repos/vincentclee/keyring/compare/{base}...{head}', 'merges_url': 'https://api.github.com/repos/vincentclee/keyring/merges', 'archive_url': 'https://api.github.com/repos/vincentclee/keyring/{archive_format}{/ref}', 'downloads_url': 'https://api.github.com/repos/vincentclee/keyring/downloads', 'issues_url': 'https://api.github.com/repos/vincentclee/keyring/issues{/number}', 'pulls_url': 'https://api.github.com/repos/vincentclee/keyring/pulls{/number}', 'milestones_url': 'https://api.github.com/repos/vincentclee/keyring/milestones{/number}', 'notifications_url': 'https://api.github.com/repos/vincentclee/keyring/notifications{?since,all,participating}', 'labels_url': 'https://api.github.com/repos/vincentclee/keyring/labels{/name}', 'releases_url': 'https://api.github.com/repos/vincentclee/keyring/releases{/id}', 'deployments_url': 'https://api.github.com/repos/vincentclee/keyring/deployments', 'created_at': '2025-07-23T04:26:13Z', 'updated_at': '2025-07-23T04:30:03Z', 'pushed_at': '2025-07-23T04:32:46Z', 'git_url': 'git://github.com/vincentclee/keyring.git', 'ssh_url': 'git@github.com:vincentclee/keyring.git', 'clone_url': 'https://github.com/vincentclee/keyring.git', 'svn_url': 'https://github.com/vincentclee/keyring', 'homepage': '', 'size': 384, 'stargazers_count': 0, 'watchers_count': 0, 'language': 'Go', 'has_issues': True, 'has_projects': True, 'has_downloads': True, 'has_wiki': True, 'has_pages': False, 'has_discussions': False, 'forks_count': 0, 'mirror_url': None, 'archived': False, 'disabled': False, 'open_issues_count': 11, 'license': {'key': 'mit', 'name': 'MIT License', 'spdx_id': 'MIT', 'url': 'https://api.github.com/licenses/mit', 'node_id': 'MDc6TGljZW5zZTEz'}, 'allow_forking': True, 'is_template': False, 'web_commit_signoff_required': False, 'topics': [], 'visibility': 'public', 'forks': 0, 'open_issues': 11, 'watchers': 0, 'default_branch': 'master'}}, 'base': {'label': 'vincentclee:master', 'ref': 'master', 'sha': '63e6f80f96ae7bb9df846e3183b29437f7967597', 'user': {'login': 'vincentclee', 'id': 5388077, 'node_id': 'MDQ6VXNlcjUzODgwNzc=', 'avatar_url': 'https://avatars.githubusercontent.com/u/5388077?v=4', 'gravatar_id': '', 'url': 'https://api.github.com/users/vincentclee', 'html_url': 'https://github.com/vincentclee', 'followers_url': 'https://api.github.com/users/vincentclee/followers', 'following_url': 'https://api.github.com/users/vincentclee/following{/other_user}', 'gists_url': 'https://api.github.com/users/vincentclee/gists{/gist_id}', 'starred_url': 'https://api.github.com/users/vincentclee/starred{/owner}{/repo}', 'subscriptions_url': 'https://api.github.com/users/vincentclee/subscriptions', 'organizations_url': 'https://api.github.com/users/vincentclee/orgs', 'repos_url': 'https://api.github.com/users/vincentclee/repos', 'events_url': 'https://api.github.com/users/vincentclee/events{/privacy}', 'received_events_url': 'https://api.github.com/users/vincentclee/received_events', 'type': 'User', 'user_view_type': 'public', 'site_admin': False}, 'repo': {'id': 1024665909, 'node_id': 'R_kgDOPRMpNQ', 'name': 'keyring', 'full_name': 'vincentclee/keyring', 'private': False, 'owner': {'login': 'vincentclee', 'id': 5388077, 'node_id': 'MDQ6VXNlcjUzODgwNzc=', 'avatar_url': 'https://avatars.githubusercontent.com/u/5388077?v=4', 'gravatar_id': '', 'url': 'https://api.github.com/users/vincentclee', 'html_url': 'https://github.com/vincentclee', 'followers_url': 'https://api.github.com/users/vincentclee/followers', 'following_url': 'https://api.github.com/users/vincentclee/following{/other_user}', 'gists_url': 'https://api.github.com/users/vincentclee/gists{/gist_id}', 'starred_url': 'https://api.github.com/users/vincentclee/starred{/owner}{/repo}', 'subscriptions_url': 'https://api.github.com/users/vincentclee/subscriptions', 'organizations_url': 'https://api.github.com/users/vincentclee/orgs', 'repos_url': 'https://api.github.com/users/vincentclee/repos', 'events_url': 'https://api.github.com/users/vincentclee/events{/privacy}', 'received_events_url': 'https://api.github.com/users/vincentclee/received_events', 'type': 'User', 'user_view_type': 'public', 'site_admin': False}, 'html_url': 'https://github.com/vincentclee/keyring', 'description': 'Go library providing a uniform interface across a range of secure credential stores', 'fork': True, 'url': 'https://api.github.com/repos/vincentclee/keyring', 'forks_url': 'https://api.github.com/repos/vincentclee/keyring/forks', 'keys_url': 'https://api.github.com/repos/vincentclee/keyring/keys{/key_id}', 'collaborators_url': 'https://api.github.com/repos/vincentclee/keyring/collaborators{/collaborator}', 'teams_url': 'https://api.github.com/repos/vincentclee/keyring/teams', 'hooks_url': 'https://api.github.com/repos/vincentclee/keyring/hooks', 'issue_events_url': 'https://api.github.com/repos/vincentclee/keyring/issues/events{/number}', 'events_url': 'https://api.github.com/repos/vincentclee/keyring/events', 'assignees_url': 'https://api.github.com/repos/vincentclee/keyring/assignees{/user}', 'branches_url': 'https://api.github.com/repos/vincentclee/keyring/branches{/branch}', 'tags_url': 'https://api.github.com/repos/vincentclee/keyring/tags', 'blobs_url': 'https://api.github.com/repos/vincentclee/keyring/git/blobs{/sha}', 'git_tags_url': 'https://api.github.com/repos/vincentclee/keyring/git/tags{/sha}', 'git_refs_url': 'https://api.github.com/repos/vincentclee/keyring/git/refs{/sha}', 'trees_url': 'https://api.github.com/repos/vincentclee/keyring/git/trees{/sha}', 'statuses_url': 'https://api.github.com/repos/vincentclee/keyring/statuses/{sha}', 'languages_url': 'https://api.github.com/repos/vincentclee/keyring/languages', 'stargazers_url': 'https://api.github.com/repos/vincentclee/keyring/stargazers', 'contributors_url': 'https://api.github.com/repos/vincentclee/keyring/contributors', 'subscribers_url': 'https://api.github.com/repos/vincentclee/keyring/subscribers', 'subscription_url': 'https://api.github.com/repos/vincentclee/keyring/subscription', 'commits_url': 'https://api.github.com/repos/vincentclee/keyring/commits{/sha}', 'git_commits_url': 'https://api.github.com/repos/vincentclee/keyring/git/commits{/sha}', 'comments_url': 'https://api.github.com/repos/vincentclee/keyring/comments{/number}', 'issue_comment_url': 'https://api.github.com/repos/vincentclee/keyring/issues/comments{/number}', 'contents_url': 'https://api.github.com/repos/vincentclee/keyring/contents/{+path}', 'compare_url': 'https://api.github.com/repos/vincentclee/keyring/compare/{base}...{head}', 'merges_url': 'https://api.github.com/repos/vincentclee/keyring/merges', 'archive_url': 'https://api.github.com/repos/vincentclee/keyring/{archive_format}{/ref}', 'downloads_url': 'https://api.github.com/repos/vincentclee/keyring/downloads', 'issues_url': 'https://api.github.com/repos/vincentclee/keyring/issues{/number}', 'pulls_url': 'https://api.github.com/repos/vincentclee/keyring/pulls{/number}', 'milestones_url': 'https://api.github.com/repos/vincentclee/keyring/milestones{/number}', 'notifications_url': 'https://api.github.com/repos/vincentclee/keyring/notifications{?since,all,participating}', 'labels_url': 'https://api.github.com/repos/vincentclee/keyring/labels{/name}', 'releases_url': 'https://api.github.com/repos/vincentclee/keyring/releases{/id}', 'deployments_url': 'https://api.github.com/repos/vincentclee/keyring/deployments', 'created_at': '2025-07-23T04:26:13Z', 'updated_at': '2025-07-23T04:30:03Z', 'pushed_at': '2025-07-23T04:32:46Z', 'git_url': 'git://github.com/vincentclee/keyring.git', 'ssh_url': 'git@github.com:vincentclee/keyring.git', 'clone_url': 'https://github.com/vincentclee/keyring.git', 'svn_url': 'https://github.com/vincentclee/keyring', 'homepage': '', 'size': 384, 'stargazers_count': 0, 'watchers_count': 0, 'language': 'Go', 'has_issues': True, 'has_projects': True, 'has_downloads': True, 'has_wiki': True, 'has_pages': False, 'has_discussions': False, 'forks_count': 0, 'mirror_url': None, 'archived': False, 'disabled': False, 'open_issues_count': 11, 'license': {'key': 'mit', 'name': 'MIT License', 'spdx_id': 'MIT', 'url': 'https://api.github.com/licenses/mit', 'node_id': 'MDc6TGljZW5zZTEz'}, 'allow_forking': True, 'is_template': False, 'web_commit_signoff_required': False, 'topics': [], 'visibility': 'public', 'forks': 0, 'open_issues': 11, 'watchers': 0, 'default_branch': 'master'}}, '_links': {'self': {'href': 'https://api.github.com/repos/vincentclee/keyring/pulls/12'}, 'html': {'href': 'https://github.com/vincentclee/keyring/pull/12'}, 'issue': {'href': 'https://api.github.com/repos/vincentclee/keyring/issues/12'}, 'comments': {'href': 'https://api.github.com/repos/vincentclee/keyring/issues/12/comments'}, 'review_comments': {'href': 'https://api.github.com/repos/vincentclee/keyring/pulls/12/comments'}, 'review_comment': {'href': 'https://api.github.com/repos/vincentclee/keyring/pulls/comments{/number}'}, 'commits': {'href': 'https://api.github.com/repos/vincentclee/keyring/pulls/12/commits'}, 'statuses': {'href': 'https://api.github.com/repos/vincentclee/keyring/statuses/d894ed2898af9c0d9d3039195c9d4758cd6add5d'}}, 'author_association': 'NONE', 'auto_merge': None, 'active_lock_reason': None, 'merged': False, 'mergeable': None, 'rebaseable': None, 'mergeable_state': 'unknown', 'merged_by': None, 'comments': 0, 'review_comments': 0, 'maintainer_can_modify': False, 'commits': 1, 'additions': 1, 'deletions': 1, 'changed_files': 1}}, 'public': True, 'created_at': '2025-07-23T04:32:49Z'}, {'id': '52424705279', 'type': 'PullRequestReviewEvent', 'actor': {'id': 136622811, 'login': 'coderabbitai[bot]', 'display_login': 'coderabbitai', 'gravatar_id': '', 'url': 'https://api.github.com/users/coderabbitai[bot]', 'avatar_url': 'https://avatars.githubusercontent.com/u/136622811?'}, 'repo': {'id': 995170578, 'name': 'iam-veeramalla/Shell', 'url': 'https://api.github.com/repos/iam-veeramalla/Shell'}, 'payload': {'action': 'created', 'review': {'id': 3045561935, 'node_id': 'PRR_kwDOO1EZEs61h5ZP', 'user': {'login': 'coderabbitai[bot]', 'id': 136622811, 'node_id': 'BOT_kgDOCCSy2w', 'avatar_url': 'https://avatars.githubusercontent.com/in/347564?v=4', 'gravatar_id': '', 'url': 'https://api.github.com/users/coderabbitai%5Bbot%5D', 'html_url': 'https://github.com/apps/coderabbitai', 'followers_url': 'https://api.github.com/users/coderabbitai%5Bbot%5D/followers', 'following_url': 'https://api.github.com/users/coderabbitai%5Bbot%5D/following{/other_user}', 'gists_url': 'https://api.github.com/users/coderabbitai%5Bbot%5D/gists{/gist_id}', 'starred_url': 'https://api.github.com/users/coderabbitai%5Bbot%5D/starred{/owner}{/repo}', 'subscriptions_url': 'https://api.github.com/users/coderabbitai%5Bbot%5D/subscriptions', 'organizations_url': 'https://api.github.com/users/coderabbitai%5Bbot%5D/orgs', 'repos_url': 'https://api.github.com/users/coderabbitai%5Bbot%5D/repos', 'events_url': 'https://api.github.com/users/coderabbitai%5Bbot%5D/events{/privacy}', 'received_events_url': 'https://api.github.com/users/coderabbitai%5Bbot%5D/received_events', 'type': 'Bot', 'user_view_type': 'public', 'site_admin': False}, 'body': '**Actionable comments posted: 0**\\n\\n<details>\\n<summary>🧹 Nitpick comments (1)</summary><blockquote>\\n\\n<details>\\n<summary>README.md (1)</summary><blockquote>\\n\\n`3-3`: **Prefer capitalization & punctuation in docs**\\n\\nSmall polish: start the sentence with a capital letter and add a period.\\n\\n```diff\\n-thank you\\n+Thank you.\\n```\\n\\n</blockquote></details>\\n\\n</blockquote></details>\\n\\n<details>\\n<summary>📜 Review details</summary>\\n\\n**Configuration used: CodeRabbit UI**\\n**Review profile: CHILL**\\n**Plan: Pro**\\n\\n\\n<details>\\n<summary>📥 Commits</summary>\\n\\nReviewing files that changed from the base of the PR and between a6a20761a728b6fd5890859291a191b31e077397 and fa0846ce7d6b6ef5f546c0a657da57549295d0e4.\\n\\n</details>\\n\\n<details>\\n<summary>📒 Files selected for processing (2)</summary>\\n\\n* `README.md` (1 hunks)\\n* `github-api-integration-module.sh` (1 hunks)\\n\\n</details>\\n\\n<details>\\n<summary>🔇 Additional comments (1)</summary><blockquote>\\n\\n<details>\\n<summary>github-api-integration-module.sh (1)</summary>\\n\\n`5-5`: **LGTM – blank line enhances header readability**\\n\\nThe extra line cleanly separates the header metadata from the script body.\\n\\n</details>\\n\\n</blockquote></details>\\n\\n</details>\\n\\n<!-- This is an auto-generated comment by CodeRabbit for review status -->', 'commit_id': 'fa0846ce7d6b6ef5f546c0a657da57549295d0e4', 'submitted_at': '2025-07-23T04:32:48Z', 'state': 'commented', 'html_url': 'https://github.com/iam-veeramalla/Shell/pull/27#pullrequestreview-3045561935', 'pull_request_url': 'https://api.github.com/repos/iam-veeramalla/Shell/pulls/27', 'author_association': 'NONE', '_links': {'html': {'href': 'https://github.com/iam-veeramalla/Shell/pull/27#pullrequestreview-3045561935'}, 'pull_request': {'href': 'https://api.github.com/repos/iam-veeramalla/Shell/pulls/27'}}}, 'pull_request': {'url': 'https://api.github.com/repos/iam-veeramalla/Shell/pulls/27', 'id': 2687462859, 'node_id': 'PR_kwDOO1EZEs6gL23L', 'html_url': 'https://github.com/iam-veeramalla/Shell/pull/27', 'diff_url': 'https://github.com/iam-veeramalla/Shell/pull/27.diff', 'patch_url': 'https://github.com/iam-veeramalla/Shell/pull/27.patch', 'issue_url': 'https://api.github.com/repos/iam-veeramalla/Shell/issues/27', 'number': 27, 'state': 'open', 'locked': False, 'title': 'Test1', 'user': {'login': 'andyal230', 'id': 131865564, 'node_id': 'U_kgDOB9wb3A', 'avatar_url': 'https://avatars.githubusercontent.com/u/131865564?v=4', 'gravatar_id': '', 'url': 'https://api.github.com/users/andyal230', 'html_url': 'https://github.com/andyal230', 'followers_url': 'https://api.github.com/users/andyal230/followers', 'following_url': 'https://api.github.com/users/andyal230/following{/other_user}', 'gists_url': 'https://api.github.com/users/andyal230/gists{/gist_id}', 'starred_url': 'https://api.github.com/users/andyal230/starred{/owner}{/repo}', 'subscriptions_url': 'https://api.github.com/users/andyal230/subscriptions', 'organizations_url': 'https://api.github.com/users/andyal230/orgs', 'repos_url': 'https://api.github.com/users/andyal230/repos', 'events_url': 'https://api.github.com/users/andyal230/events{/privacy}', 'received_events_url': 'https://api.github.com/users/andyal230/received_events', 'type': 'User', 'user_view_type': 'public', 'site_admin': False}, 'body': '\\n\\n<!-- This is an auto-generated comment: release notes by coderabbit.ai -->\\n\\n## Summary by CodeRabbit\\n\\n* **Documentation**\\n  * Added a \"thank you\" note to the end of the README.\\n* **Style**\\n  * Inserted a blank line in the script header for improved readability.\\n\\n<!-- end of auto-generated comment: release notes by coderabbit.ai -->', 'created_at': '2025-07-23T04:31:12Z', 'updated_at': '2025-07-23T04:32:48Z', 'closed_at': None, 'merged_at': None, 'merge_commit_sha': '545932feec76cc13e2381206d186b7434679d551', 'assignee': None, 'assignees': [], 'requested_reviewers': [], 'requested_teams': [], 'labels': [], 'milestone': None, 'draft': False, 'commits_url': 'https://api.github.com/repos/iam-veeramalla/Shell/pulls/27/commits', 'review_comments_url': 'https://api.github.com/repos/iam-veeramalla/Shell/pulls/27/comments', 'review_comment_url': 'https://api.github.com/repos/iam-veeramalla/Shell/pulls/comments{/number}', 'comments_url': 'https://api.github.com/repos/iam-veeramalla/Shell/issues/27/comments', 'statuses_url': 'https://api.github.com/repos/iam-veeramalla/Shell/statuses/fa0846ce7d6b6ef5f546c0a657da57549295d0e4', 'head': {'label': 'andyal230:main', 'ref': 'main', 'sha': 'fa0846ce7d6b6ef5f546c0a657da57549295d0e4', 'user': {'login': 'andyal230', 'id': 131865564, 'node_id': 'U_kgDOB9wb3A', 'avatar_url': 'https://avatars.githubusercontent.com/u/131865564?v=4', 'gravatar_id': '', 'url': 'https://api.github.com/users/andyal230', 'html_url': 'https://github.com/andyal230', 'followers_url': 'https://api.github.com/users/andyal230/followers', 'following_url': 'https://api.github.com/users/andyal230/following{/other_user}', 'gists_url': 'https://api.github.com/users/andyal230/gists{/gist_id}', 'starred_url': 'https://api.github.com/users/andyal230/starred{/owner}{/repo}', 'subscriptions_url': 'https://api.github.com/users/andyal230/subscriptions', 'organizations_url': 'https://api.github.com/users/andyal230/orgs', 'repos_url': 'https://api.github.com/users/andyal230/repos', 'events_url': 'https://api.github.com/users/andyal230/events{/privacy}', 'received_events_url': 'https://api.github.com/users/andyal230/received_events', 'type': 'User', 'user_view_type': 'public', 'site_admin': False}, 'repo': {'id': 1024650028, 'node_id': 'R_kgDOPRLrLA', 'name': 'Shell', 'full_name': 'andyal230/Shell', 'private': False, 'owner': {'login': 'andyal230', 'id': 131865564, 'node_id': 'U_kgDOB9wb3A', 'avatar_url': 'https://avatars.githubusercontent.com/u/131865564?v=4', 'gravatar_id': '', 'url': 'https://api.github.com/users/andyal230', 'html_url': 'https://github.com/andyal230', 'followers_url': 'https://api.github.com/users/andyal230/followers', 'following_url': 'https://api.github.com/users/andyal230/following{/other_user}', 'gists_url': 'https://api.github.com/users/andyal230/gists{/gist_id}', 'starred_url': 'https://api.github.com/users/andyal230/starred{/owner}{/repo}', 'subscriptions_url': 'https://api.github.com/users/andyal230/subscriptions', 'organizations_url': 'https://api.github.com/users/andyal230/orgs', 'repos_url': 'https://api.github.com/users/andyal230/repos', 'events_url': 'https://api.github.com/users/andyal230/events{/privacy}', 'received_events_url': 'https://api.github.com/users/andyal230/received_events', 'type': 'User', 'user_view_type': 'public', 'site_admin': False}, 'html_url': 'https://github.com/andyal230/Shell', 'description': 'Schell Scripts', 'fork': True, 'url': 'https://api.github.com/repos/andyal230/Shell', 'forks_url': 'https://api.github.com/repos/andyal230/Shell/forks', 'keys_url': 'https://api.github.com/repos/andyal230/Shell/keys{/key_id}', 'collaborators_url': 'https://api.github.com/repos/andyal230/Shell/collaborators{/collaborator}', 'teams_url': 'https://api.github.com/repos/andyal230/Shell/teams', 'hooks_url': 'https://api.github.com/repos/andyal230/Shell/hooks', 'issue_events_url': 'https://api.github.com/repos/andyal230/Shell/issues/events{/number}', 'events_url': 'https://api.github.com/repos/andyal230/Shell/events', 'assignees_url': 'https://api.github.com/repos/andyal230/Shell/assignees{/user}', 'branches_url': 'https://api.github.com/repos/andyal230/Shell/branches{/branch}', 'tags_url': 'https://api.github.com/repos/andyal230/Shell/tags', 'blobs_url': 'https://api.github.com/repos/andyal230/Shell/git/blobs{/sha}', 'git_tags_url': 'https://api.github.com/repos/andyal230/Shell/git/tags{/sha}', 'git_refs_url': 'https://api.github.com/repos/andyal230/Shell/git/refs{/sha}', 'trees_url': 'https://api.github.com/repos/andyal230/Shell/git/trees{/sha}', 'statuses_url': 'https://api.github.com/repos/andyal230/Shell/statuses/{sha}', 'languages_url': 'https://api.github.com/repos/andyal230/Shell/languages', 'stargazers_url': 'https://api.github.com/repos/andyal230/Shell/stargazers', 'contributors_url': 'https://api.github.com/repos/andyal230/Shell/contributors', 'subscribers_url': 'https://api.github.com/repos/andyal230/Shell/subscribers', 'subscription_url': 'https://api.github.com/repos/andyal230/Shell/subscription', 'commits_url': 'https://api.github.com/repos/andyal230/Shell/commits{/sha}', 'git_commits_url': 'https://api.github.com/repos/andyal230/Shell/git/commits{/sha}', 'comments_url': 'https://api.github.com/repos/andyal230/Shell/comments{/number}', 'issue_comment_url': 'https://api.github.com/repos/andyal230/Shell/issues/comments{/number}', 'contents_url': 'https://api.github.com/repos/andyal230/Shell/contents/{+path}', 'compare_url': 'https://api.github.com/repos/andyal230/Shell/compare/{base}...{head}', 'merges_url': 'https://api.github.com/repos/andyal230/Shell/merges', 'archive_url': 'https://api.github.com/repos/andyal230/Shell/{archive_format}{/ref}', 'downloads_url': 'https://api.github.com/repos/andyal230/Shell/downloads', 'issues_url': 'https://api.github.com/repos/andyal230/Shell/issues{/number}', 'pulls_url': 'https://api.github.com/repos/andyal230/Shell/pulls{/number}', 'milestones_url': 'https://api.github.com/repos/andyal230/Shell/milestones{/number}', 'notifications_url': 'https://api.github.com/repos/andyal230/Shell/notifications{?since,all,participating}', 'labels_url': 'https://api.github.com/repos/andyal230/Shell/labels{/name}', 'releases_url': 'https://api.github.com/repos/andyal230/Shell/releases{/id}', 'deployments_url': 'https://api.github.com/repos/andyal230/Shell/deployments', 'created_at': '2025-07-23T03:40:30Z', 'updated_at': '2025-07-23T04:30:18Z', 'pushed_at': '2025-07-23T04:30:15Z', 'git_url': 'git://github.com/andyal230/Shell.git', 'ssh_url': 'git@github.com:andyal230/Shell.git', 'clone_url': 'https://github.com/andyal230/Shell.git', 'svn_url': 'https://github.com/andyal230/Shell', 'homepage': None, 'size': 1, 'stargazers_count': 0, 'watchers_count': 0, 'language': 'Shell', 'has_issues': False, 'has_projects': True, 'has_downloads': True, 'has_wiki': True, 'has_pages': False, 'has_discussions': False, 'forks_count': 0, 'mirror_url': None, 'archived': False, 'disabled': False, 'open_issues_count': 0, 'license': None, 'allow_forking': True, 'is_template': False, 'web_commit_signoff_required': False, 'topics': [], 'visibility': 'public', 'forks': 0, 'open_issues': 0, 'watchers': 0, 'default_branch': 'main'}}, 'base': {'label': 'iam-veeramalla:main', 'ref': 'main', 'sha': 'a6a20761a728b6fd5890859291a191b31e077397', 'user': {'login': 'iam-veeramalla', 'id': 43399466, 'node_id': 'MDQ6VXNlcjQzMzk5NDY2', 'avatar_url': 'https://avatars.githubusercontent.com/u/43399466?v=4', 'gravatar_id': '', 'url': 'https://api.github.com/users/iam-veeramalla', 'html_url': 'https://github.com/iam-veeramalla', 'followers_url': 'https://api.github.com/users/iam-veeramalla/followers', 'following_url': 'https://api.github.com/users/iam-veeramalla/following{/other_user}', 'gists_url': 'https://api.github.com/users/iam-veeramalla/gists{/gist_id}', 'starred_url': 'https://api.github.com/users/iam-veeramalla/starred{/owner}{/repo}', 'subscriptions_url': 'https://api.github.com/users/iam-veeramalla/subscriptions', 'organizations_url': 'https://api.github.com/users/iam-veeramalla/orgs', 'repos_url': 'https://api.github.com/users/iam-veeramalla/repos', 'events_url': 'https://api.github.com/users/iam-veeramalla/events{/privacy}', 'received_events_url': 'https://api.github.com/users/iam-veeramalla/received_events', 'type': 'User', 'user_view_type': 'public', 'site_admin': False}, 'repo': {'id': 995170578, 'node_id': 'R_kgDOO1EZEg', 'name': 'Shell', 'full_name': 'iam-veeramalla/Shell', 'private': False, 'owner': {'login': 'iam-veeramalla', 'id': 43399466, 'node_id': 'MDQ6VXNlcjQzMzk5NDY2', 'avatar_url': 'https://avatars.githubusercontent.com/u/43399466?v=4', 'gravatar_id': '', 'url': 'https://api.github.com/users/iam-veeramalla', 'html_url': 'https://github.com/iam-veeramalla', 'followers_url': 'https://api.github.com/users/iam-veeramalla/followers', 'following_url': 'https://api.github.com/users/iam-veeramalla/following{/other_user}', 'gists_url': 'https://api.github.com/users/iam-veeramalla/gists{/gist_id}', 'starred_url': 'https://api.github.com/users/iam-veeramalla/starred{/owner}{/repo}', 'subscriptions_url': 'https://api.github.com/users/iam-veeramalla/subscriptions', 'organizations_url': 'https://api.github.com/users/iam-veeramalla/orgs', 'repos_url': 'https://api.github.com/users/iam-veeramalla/repos', 'events_url': 'https://api.github.com/users/iam-veeramalla/events{/privacy}', 'received_events_url': 'https://api.github.com/users/iam-veeramalla/received_events', 'type': 'User', 'user_view_type': 'public', 'site_admin': False}, 'html_url': 'https://github.com/iam-veeramalla/Shell', 'description': 'Schell Scripts', 'fork': True, 'url': 'https://api.github.com/repos/iam-veeramalla/Shell', 'forks_url': 'https://api.github.com/repos/iam-veeramalla/Shell/forks', 'keys_url': 'https://api.github.com/repos/iam-veeramalla/Shell/keys{/key_id}', 'collaborators_url': 'https://api.github.com/repos/iam-veeramalla/Shell/collaborators{/collaborator}', 'teams_url': 'https://api.github.com/repos/iam-veeramalla/Shell/teams', 'hooks_url': 'https://api.github.com/repos/iam-veeramalla/Shell/hooks', 'issue_events_url': 'https://api.github.com/repos/iam-veeramalla/Shell/issues/events{/number}', 'events_url': 'https://api.github.com/repos/iam-veeramalla/Shell/events', 'assignees_url': 'https://api.github.com/repos/iam-veeramalla/Shell/assignees{/user}', 'branches_url': 'https://api.github.com/repos/iam-veeramalla/Shell/branches{/branch}', 'tags_url': 'https://api.github.com/repos/iam-veeramalla/Shell/tags', 'blobs_url': 'https://api.github.com/repos/iam-veeramalla/Shell/git/blobs{/sha}', 'git_tags_url': 'https://api.github.com/repos/iam-veeramalla/Shell/git/tags{/sha}', 'git_refs_url': 'https://api.github.com/repos/iam-veeramalla/Shell/git/refs{/sha}', 'trees_url': 'https://api.github.com/repos/iam-veeramalla/Shell/git/trees{/sha}', 'statuses_url': 'https://api.github.com/repos/iam-veeramalla/Shell/statuses/{sha}', 'languages_url': 'https://api.github.com/repos/iam-veeramalla/Shell/languages', 'stargazers_url': 'https://api.github.com/repos/iam-veeramalla/Shell/stargazers', 'contributors_url': 'https://api.github.com/repos/iam-veeramalla/Shell/contributors', 'subscribers_url': 'https://api.github.com/repos/iam-veeramalla/Shell/subscribers', 'subscription_url': 'https://api.github.com/repos/iam-veeramalla/Shell/subscription', 'commits_url': 'https://api.github.com/repos/iam-veeramalla/Shell/commits{/sha}', 'git_commits_url': 'https://api.github.com/repos/iam-veeramalla/Shell/git/commits{/sha}', 'comments_url': 'https://api.github.com/repos/iam-veeramalla/Shell/comments{/number}', 'issue_comment_url': 'https://api.github.com/repos/iam-veeramalla/Shell/issues/comments{/number}', 'contents_url': 'https://api.github.com/repos/iam-veeramalla/Shell/contents/{+path}', 'compare_url': 'https://api.github.com/repos/iam-veeramalla/Shell/compare/{base}...{head}', 'merges_url': 'https://api.github.com/repos/iam-veeramalla/Shell/merges', 'archive_url': 'https://api.github.com/repos/iam-veeramalla/Shell/{archive_format}{/ref}', 'downloads_url': 'https://api.github.com/repos/iam-veeramalla/Shell/downloads', 'issues_url': 'https://api.github.com/repos/iam-veeramalla/Shell/issues{/number}', 'pulls_url': 'https://api.github.com/repos/iam-veeramalla/Shell/pulls{/number}', 'milestones_url': 'https://api.github.com/repos/iam-veeramalla/Shell/milestones{/number}', 'notifications_url': 'https://api.github.com/repos/iam-veeramalla/Shell/notifications{?since,all,participating}', 'labels_url': 'https://api.github.com/repos/iam-veeramalla/Shell/labels{/name}', 'releases_url': 'https://api.github.com/repos/iam-veeramalla/Shell/releases{/id}', 'deployments_url': 'https://api.github.com/repos/iam-veeramalla/Shell/deployments', 'created_at': '2025-06-03T04:34:55Z', 'updated_at': '2025-07-22T07:56:31Z', 'pushed_at': '2025-06-03T09:43:29Z', 'git_url': 'git://github.com/iam-veeramalla/Shell.git', 'ssh_url': 'git@github.com:iam-veeramalla/Shell.git', 'clone_url': 'https://github.com/iam-veeramalla/Shell.git', 'svn_url': 'https://github.com/iam-veeramalla/Shell', 'homepage': None, 'size': 1, 'stargazers_count': 17, 'watchers_count': 17, 'language': None, 'has_issues': False, 'has_projects': True, 'has_downloads': True, 'has_wiki': True, 'has_pages': False, 'has_discussions': False, 'forks_count': 49, 'mirror_url': None, 'archived': False, 'disabled': False, 'open_issues_count': 20, 'license': None, 'allow_forking': True, 'is_template': False, 'web_commit_signoff_required': False, 'topics': [], 'visibility': 'public', 'forks': 49, 'open_issues': 20, 'watchers': 17, 'default_branch': 'main'}}, '_links': {'self': {'href': 'https://api.github.com/repos/iam-veeramalla/Shell/pulls/27'}, 'html': {'href': 'https://github.com/iam-veeramalla/Shell/pull/27'}, 'issue': {'href': 'https://api.github.com/repos/iam-veeramalla/Shell/issues/27'}, 'comments': {'href': 'https://api.github.com/repos/iam-veeramalla/Shell/issues/27/comments'}, 'review_comments': {'href': 'https://api.github.com/repos/iam-veeramalla/Shell/pulls/27/comments'}, 'review_comment': {'href': 'https://api.github.com/repos/iam-veeramalla/Shell/pulls/comments{/number}'}, 'commits': {'href': 'https://api.github.com/repos/iam-veeramalla/Shell/pulls/27/commits'}, 'statuses': {'href': 'https://api.github.com/repos/iam-veeramalla/Shell/statuses/fa0846ce7d6b6ef5f546c0a657da57549295d0e4'}}, 'author_association': 'NONE', 'auto_merge': None, 'active_lock_reason': None}}, 'public': True, 'created_at': '2025-07-23T04:32:49Z'}, {'id': '52424705242', 'type': 'PushEvent', 'actor': {'id': 41898282, 'login': 'github-actions[bot]', 'display_login': 'github-actions', 'gravatar_id': '', 'url': 'https://api.github.com/users/github-actions[bot]', 'avatar_url': 'https://avatars.githubusercontent.com/u/41898282?'}, 'repo': {'id': 980955272, 'name': 'doyouseemeB/LibreTV', 'url': 'https://api.github.com/repos/doyouseemeB/LibreTV'}, 'payload': {'repository_id': 980955272, 'push_id': 25666155940, 'size': 3, 'distinct_size': 3, 'ref': 'refs/heads/main', 'head': '00d391aa1b1f96c80b3be22a9082888653da5a5e', 'before': '182ca7c28d14c3ffd27479206ac23af9abea4181', 'commits': [{'sha': '450b940678260cc7b5bf15fe4b6d6803068f41e7', 'author': {'email': 'hst1189@hotmail.com', 'name': 'hst1189'}, 'message': 'Update config.js', 'distinct': True, 'url': 'https://api.github.com/repos/doyouseemeB/LibreTV/commits/450b940678260cc7b5bf15fe4b6d6803068f41e7'}, {'sha': '4459f9726eaeea21576012ec8bd32d41c1b4a3c2', 'author': {'email': '110226580+bestZwei@users.noreply.github.com', 'name': 'Zwei'}, 'message': 'Merge pull request #771 from hst1189/main\\n\\nUpdate config.js  修复小猫咪资源站', 'distinct': True, 'url': 'https://api.github.com/repos/doyouseemeB/LibreTV/commits/4459f9726eaeea21576012ec8bd32d41c1b4a3c2'}, {'sha': '00d391aa1b1f96c80b3be22a9082888653da5a5e', 'author': {'email': 'github-actions[bot]@users.noreply.github.com', 'name': 'github-actions[bot]'}, 'message': 'Auto Update 2025-07-22 22:10', 'distinct': True, 'url': 'https://api.github.com/repos/doyouseemeB/LibreTV/commits/00d391aa1b1f96c80b3be22a9082888653da5a5e'}]}, 'public': True, 'created_at': '2025-07-23T04:32:49Z'}, {'id': '52424705214', 'type': 'PushEvent', 'actor': {'id': 1218621, 'login': 'tamnd', 'display_login': 'tamnd', 'gravatar_id': '', 'url': 'https://api.github.com/users/tamnd', 'avatar_url': 'https://avatars.githubusercontent.com/u/1218621?'}, 'repo': {'id': 985853139, 'name': 'mochilang/mochi', 'url': 'https://api.github.com/repos/mochilang/mochi'}, 'payload': {'repository_id': 985853139, 'push_id': 25666155916, 'size': 1, 'distinct_size': 1, 'ref': 'refs/heads/codex/enhance-transpiler-for-mochi-program-7', 'head': '129f204c01597de0785c777488184c9f9f779d1b', 'before': 'b7e48da93fff773425eadde4beda3b5ff86b24f7', 'commits': [{'sha': '129f204c01597de0785c777488184c9f9f779d1b', 'author': {'email': '1218621+tamnd@users.noreply.github.com', 'name': 'Tam Nguyen Duc'}, 'message': 'java transpiler: handle typed maps', 'distinct': True, 'url': 'https://api.github.com/repos/mochilang/mochi/commits/129f204c01597de0785c777488184c9f9f779d1b'}]}, 'public': True, 'created_at': '2025-07-23T04:32:49Z', 'org': {'id': 212254672, 'login': 'mochilang', 'gravatar_id': '', 'url': 'https://api.github.com/orgs/mochilang', 'avatar_url': 'https://avatars.githubusercontent.com/u/212254672?'}}, {'id': '52424705219', 'type': 'PushEvent', 'actor': {'id': 41898282, 'login': 'github-actions[bot]', 'display_login': 'github-actions', 'gravatar_id': '', 'url': 'https://api.github.com/users/github-actions[bot]', 'avatar_url': 'https://avatars.githubusercontent.com/u/41898282?'}, 'repo': {'id': 306892125, 'name': 'arty4999/arty4999', 'url': 'https://api.github.com/repos/arty4999/arty4999'}, 'payload': {'repository_id': 306892125, 'push_id': 25666155906, 'size': 1, 'distinct_size': 1, 'ref': 'refs/heads/main', 'head': '2f43ca0cb4cdf2dfedf21406e8689a72f34de526', 'before': '56bcf3e03a03ea58366d806b38e3a62fef4948f0', 'commits': [{'sha': '2f43ca0cb4cdf2dfedf21406e8689a72f34de526', 'author': {'email': '41898282+github-actions[bot]@users.noreply.github.com', 'name': 'github-actions[bot]'}, 'message': 'Update github-metrics.svg - [Skip GitHub Action]', 'distinct': True, 'url': 'https://api.github.com/repos/arty4999/arty4999/commits/2f43ca0cb4cdf2dfedf21406e8689a72f34de526'}]}, 'public': True, 'created_at': '2025-07-23T04:32:49Z'}, {'id': '52424705235', 'type': 'CreateEvent', 'actor': {'id': 121875131, 'login': 'Deesun-Abar-Ke', 'display_login': 'Deesun-Abar-Ke', 'gravatar_id': '', 'url': 'https://api.github.com/users/Deesun-Abar-Ke', 'avatar_url': 'https://avatars.githubusercontent.com/u/121875131?'}, 'repo': {'id': 1012199450, 'name': 'Deesun-Abar-Ke/CampusNet', 'url': 'https://api.github.com/repos/Deesun-Abar-Ke/CampusNet'}, 'payload': {'ref': 'test', 'ref_type': 'branch', 'master_branch': 'main', 'description': None, 'pusher_type': 'user'}, 'public': True, 'created_at': '2025-07-23T04:32:49Z'}, {'id': '52424705224', 'type': 'PullRequestEvent', 'actor': {'id': 6462404, 'login': 'hoangdat', 'display_login': 'hoangdat', 'gravatar_id': '', 'url': 'https://api.github.com/users/hoangdat', 'avatar_url': 'https://avatars.githubusercontent.com/u/6462404?'}, 'repo': {'id': 611079026, 'name': 'linagora/twake-on-matrix', 'url': 'https://api.github.com/repos/linagora/twake-on-matrix'}, 'payload': {'action': 'closed', 'number': 2477, 'pull_request': {'url': 'https://api.github.com/repos/linagora/twake-on-matrix/pulls/2477', 'id': 2687329330, 'node_id': 'PR_kwDOJGxTcs6gLWQy', 'html_url': 'https://github.com/linagora/twake-on-matrix/pull/2477', 'diff_url': 'https://github.com/linagora/twake-on-matrix/pull/2477.diff', 'patch_url': 'https://github.com/linagora/twake-on-matrix/pull/2477.patch', 'issue_url': 'https://api.github.com/repos/linagora/twake-on-matrix/issues/2477', 'number': 2477, 'state': 'closed', 'locked': False, 'title': 'TW-2469: Refactor avatar size handling to use `byte_converter` package for improved clarity', 'user': {'login': 'nqhhdev', 'id': 99852347, 'node_id': 'U_kgDOBfOgOw', 'avatar_url': 'https://avatars.githubusercontent.com/u/99852347?v=4', 'gravatar_id': '', 'url': 'https://api.github.com/users/nqhhdev', 'html_url': 'https://github.com/nqhhdev', 'followers_url': 'https://api.github.com/users/nqhhdev/followers', 'following_url': 'https://api.github.com/users/nqhhdev/following{/other_user}', 'gists_url': 'https://api.github.com/users/nqhhdev/gists{/gist_id}', 'starred_url': 'https://api.github.com/users/nqhhdev/starred{/owner}{/repo}', 'subscriptions_url': 'https://api.github.com/users/nqhhdev/subscriptions', 'organizations_url': 'https://api.github.com/users/nqhhdev/orgs', 'repos_url': 'https://api.github.com/users/nqhhdev/repos', 'events_url': 'https://api.github.com/users/nqhhdev/events{/privacy}', 'received_events_url': 'https://api.github.com/users/nqhhdev/received_events', 'type': 'User', 'user_view_type': 'public', 'site_admin': False}, 'body': '## Ticket\\r\\n**Related issue**\\r\\n- #2469\\r\\n\\r\\n## Resolved\\r\\n**Attach screenshots or videos demonstrating the changes**\\r\\n\\r\\nhttps://github.com/user-attachments/assets/20e99aa1-a79e-4bbc-99c7-d540020c7dcf\\r\\n\\r\\n', 'created_at': '2025-07-23T03:02:47Z', 'updated_at': '2025-07-23T04:32:48Z', 'closed_at': '2025-07-23T04:32:48Z', 'merged_at': '2025-07-23T04:32:48Z', 'merge_commit_sha': 'eb2ec3726037e8eb86c0538ed0ac015e2f31e4c2', 'assignee': None, 'assignees': [], 'requested_reviewers': [{'login': 'dab246', 'id': 80730648, 'node_id': 'MDQ6VXNlcjgwNzMwNjQ4', 'avatar_url': 'https://avatars.githubusercontent.com/u/80730648?v=4', 'gravatar_id': '', 'url': 'https://api.github.com/users/dab246', 'html_url': 'https://github.com/dab246', 'followers_url': 'https://api.github.com/users/dab246/followers', 'following_url': 'https://api.github.com/users/dab246/following{/other_user}', 'gists_url': 'https://api.github.com/users/dab246/gists{/gist_id}', 'starred_url': 'https://api.github.com/users/dab246/starred{/owner}{/repo}', 'subscriptions_url': 'https://api.github.com/users/dab246/subscriptions', 'organizations_url': 'https://api.github.com/users/dab246/orgs', 'repos_url': 'https://api.github.com/users/dab246/repos', 'events_url': 'https://api.github.com/users/dab246/events{/privacy}', 'received_events_url': 'https://api.github.com/users/dab246/received_events', 'type': 'User', 'user_view_type': 'public', 'site_admin': False}, {'login': 'tddang-linagora', 'id': 160106668, 'node_id': 'U_kgDOCYsIrA', 'avatar_url': 'https://avatars.githubusercontent.com/u/160106668?v=4', 'gravatar_id': '', 'url': 'https://api.github.com/users/tddang-linagora', 'html_url': 'https://github.com/tddang-linagora', 'followers_url': 'https://api.github.com/users/tddang-linagora/followers', 'following_url': 'https://api.github.com/users/tddang-linagora/following{/other_user}', 'gists_url': 'https://api.github.com/users/tddang-linagora/gists{/gist_id}', 'starred_url': 'https://api.github.com/users/tddang-linagora/starred{/owner}{/repo}', 'subscriptions_url': 'https://api.github.com/users/tddang-linagora/subscriptions', 'organizations_url': 'https://api.github.com/users/tddang-linagora/orgs', 'repos_url': 'https://api.github.com/users/tddang-linagora/repos', 'events_url': 'https://api.github.com/users/tddang-linagora/events{/privacy}', 'received_events_url': 'https://api.github.com/users/tddang-linagora/received_events', 'type': 'User', 'user_view_type': 'public', 'site_admin': False}], 'requested_teams': [], 'labels': [], 'milestone': None, 'draft': False, 'commits_url': 'https://api.github.com/repos/linagora/twake-on-matrix/pulls/2477/commits', 'review_comments_url': 'https://api.github.com/repos/linagora/twake-on-matrix/pulls/2477/comments', 'review_comment_url': 'https://api.github.com/repos/linagora/twake-on-matrix/pulls/comments{/number}', 'comments_url': 'https://api.github.com/repos/linagora/twake-on-matrix/issues/2477/comments', 'statuses_url': 'https://api.github.com/repos/linagora/twake-on-matrix/statuses/00f53e10b4145a139033c68857736dfe549849e4', 'head': {'label': 'linagora:TW-2469-fix-convert-file-size', 'ref': 'TW-2469-fix-convert-file-size', 'sha': '00f53e10b4145a139033c68857736dfe549849e4', 'user': {'login': 'linagora', 'id': 1230365, 'node_id': 'MDEyOk9yZ2FuaXphdGlvbjEyMzAzNjU=', 'avatar_url': 'https://avatars.githubusercontent.com/u/1230365?v=4', 'gravatar_id': '', 'url': 'https://api.github.com/users/linagora', 'html_url': 'https://github.com/linagora', 'followers_url': 'https://api.github.com/users/linagora/followers', 'following_url': 'https://api.github.com/users/linagora/following{/other_user}', 'gists_url': 'https://api.github.com/users/linagora/gists{/gist_id}', 'starred_url': 'https://api.github.com/users/linagora/starred{/owner}{/repo}', 'subscriptions_url': 'https://api.github.com/users/linagora/subscriptions', 'organizations_url': 'https://api.github.com/users/linagora/orgs', 'repos_url': 'https://api.github.com/users/linagora/repos', 'events_url': 'https://api.github.com/users/linagora/events{/privacy}', 'received_events_url': 'https://api.github.com/users/linagora/received_events', 'type': 'Organization', 'user_view_type': 'public', 'site_admin': False}, 'repo': {'id': 611079026, 'node_id': 'R_kgDOJGxTcg', 'name': 'twake-on-matrix', 'full_name': 'linagora/twake-on-matrix', 'private': False, 'owner': {'login': 'linagora', 'id': 1230365, 'node_id': 'MDEyOk9yZ2FuaXphdGlvbjEyMzAzNjU=', 'avatar_url': 'https://avatars.githubusercontent.com/u/1230365?v=4', 'gravatar_id': '', 'url': 'https://api.github.com/users/linagora', 'html_url': 'https://github.com/linagora', 'followers_url': 'https://api.github.com/users/linagora/followers', 'following_url': 'https://api.github.com/users/linagora/following{/other_user}', 'gists_url': 'https://api.github.com/users/linagora/gists{/gist_id}', 'starred_url': 'https://api.github.com/users/linagora/starred{/owner}{/repo}', 'subscriptions_url': 'https://api.github.com/users/linagora/subscriptions', 'organizations_url': 'https://api.github.com/users/linagora/orgs', 'repos_url': 'https://api.github.com/users/linagora/repos', 'events_url': 'https://api.github.com/users/linagora/events{/privacy}', 'received_events_url': 'https://api.github.com/users/linagora/received_events', 'type': 'Organization', 'user_view_type': 'public', 'site_admin': False}, 'html_url': 'https://github.com/linagora/twake-on-matrix', 'description': 'A multi-platform (Flutter) application for connecting to Matrix - an open network for secure, decentralized communication, with your favorite devices.', 'fork': False, 'url': 'https://api.github.com/repos/linagora/twake-on-matrix', 'forks_url': 'https://api.github.com/repos/linagora/twake-on-matrix/forks', 'keys_url': 'https://api.github.com/repos/linagora/twake-on-matrix/keys{/key_id}', 'collaborators_url': 'https://api.github.com/repos/linagora/twake-on-matrix/collaborators{/collaborator}', 'teams_url': 'https://api.github.com/repos/linagora/twake-on-matrix/teams', 'hooks_url': 'https://api.github.com/repos/linagora/twake-on-matrix/hooks', 'issue_events_url': 'https://api.github.com/repos/linagora/twake-on-matrix/issues/events{/number}', 'events_url': 'https://api.github.com/repos/linagora/twake-on-matrix/events', 'assignees_url': 'https://api.github.com/repos/linagora/twake-on-matrix/assignees{/user}', 'branches_url': 'https://api.github.com/repos/linagora/twake-on-matrix/branches{/branch}', 'tags_url': 'https://api.github.com/repos/linagora/twake-on-matrix/tags', 'blobs_url': 'https://api.github.com/repos/linagora/twake-on-matrix/git/blobs{/sha}', 'git_tags_url': 'https://api.github.com/repos/linagora/twake-on-matrix/git/tags{/sha}', 'git_refs_url': 'https://api.github.com/repos/linagora/twake-on-matrix/git/refs{/sha}', 'trees_url': 'https://api.github.com/repos/linagora/twake-on-matrix/git/trees{/sha}', 'statuses_url': 'https://api.github.com/repos/linagora/twake-on-matrix/statuses/{sha}', 'languages_url': 'https://api.github.com/repos/linagora/twake-on-matrix/languages', 'stargazers_url': 'https://api.github.com/repos/linagora/twake-on-matrix/stargazers', 'contributors_url': 'https://api.github.com/repos/linagora/twake-on-matrix/contributors', 'subscribers_url': 'https://api.github.com/repos/linagora/twake-on-matrix/subscribers', 'subscription_url': 'https://api.github.com/repos/linagora/twake-on-matrix/subscription', 'commits_url': 'https://api.github.com/repos/linagora/twake-on-matrix/commits{/sha}', 'git_commits_url': 'https://api.github.com/repos/linagora/twake-on-matrix/git/commits{/sha}', 'comments_url': 'https://api.github.com/repos/linagora/twake-on-matrix/comments{/number}', 'issue_comment_url': 'https://api.github.com/repos/linagora/twake-on-matrix/issues/comments{/number}', 'contents_url': 'https://api.github.com/repos/linagora/twake-on-matrix/contents/{+path}', 'compare_url': 'https://api.github.com/repos/linagora/twake-on-matrix/compare/{base}...{head}', 'merges_url': 'https://api.github.com/repos/linagora/twake-on-matrix/merges', 'archive_url': 'https://api.github.com/repos/linagora/twake-on-matrix/{archive_format}{/ref}', 'downloads_url': 'https://api.github.com/repos/linagora/twake-on-matrix/downloads', 'issues_url': 'https://api.github.com/repos/linagora/twake-on-matrix/issues{/number}', 'pulls_url': 'https://api.github.com/repos/linagora/twake-on-matrix/pulls{/number}', 'milestones_url': 'https://api.github.com/repos/linagora/twake-on-matrix/milestones{/number}', 'notifications_url': 'https://api.github.com/repos/linagora/twake-on-matrix/notifications{?since,all,participating}', 'labels_url': 'https://api.github.com/repos/linagora/twake-on-matrix/labels{/name}', 'releases_url': 'https://api.github.com/repos/linagora/twake-on-matrix/releases{/id}', 'deployments_url': 'https://api.github.com/repos/linagora/twake-on-matrix/deployments', 'created_at': '2023-03-08T03:54:02Z', 'updated_at': '2025-07-23T04:15:51Z', 'pushed_at': '2025-07-23T04:20:36Z', 'git_url': 'git://github.com/linagora/twake-on-matrix.git', 'ssh_url': 'git@github.com:linagora/twake-on-matrix.git', 'clone_url': 'https://github.com/linagora/twake-on-matrix.git', 'svn_url': 'https://github.com/linagora/twake-on-matrix', 'homepage': None, 'size': 4101831, 'stargazers_count': 88, 'watchers_count': 88, 'language': 'Dart', 'has_issues': True, 'has_projects': True, 'has_downloads': True, 'has_wiki': False, 'has_pages': True, 'has_discussions': True, 'forks_count': 29, 'mirror_url': None, 'archived': False, 'disabled': False, 'open_issues_count': 223, 'license': {'key': 'agpl-3.0', 'name': 'GNU Affero General Public License v3.0', 'spdx_id': 'AGPL-3.0', 'url': 'https://api.github.com/licenses/agpl-3.0', 'node_id': 'MDc6TGljZW5zZTE='}, 'allow_forking': True, 'is_template': False, 'web_commit_signoff_required': False, 'topics': [], 'visibility': 'public', 'forks': 29, 'open_issues': 223, 'watchers': 88, 'default_branch': 'main'}}, 'base': {'label': 'linagora:main', 'ref': 'main', 'sha': 'da91e6896c21e5cb90c99e23ef9ee49ea21d466d', 'user': {'login': 'linagora', 'id': 1230365, 'node_id': 'MDEyOk9yZ2FuaXphdGlvbjEyMzAzNjU=', 'avatar_url': 'https://avatars.githubusercontent.com/u/1230365?v=4', 'gravatar_id': '', 'url': 'https://api.github.com/users/linagora', 'html_url': 'https://github.com/linagora', 'followers_url': 'https://api.github.com/users/linagora/followers', 'following_url': 'https://api.github.com/users/linagora/following{/other_user}', 'gists_url': 'https://api.github.com/users/linagora/gists{/gist_id}', 'starred_url': 'https://api.github.com/users/linagora/starred{/owner}{/repo}', 'subscriptions_url': 'https://api.github.com/users/linagora/subscriptions', 'organizations_url': 'https://api.github.com/users/linagora/orgs', 'repos_url': 'https://api.github.com/users/linagora/repos', 'events_url': 'https://api.github.com/users/linagora/events{/privacy}', 'received_events_url': 'https://api.github.com/users/linagora/received_events', 'type': 'Organization', 'user_view_type': 'public', 'site_admin': False}, 'repo': {'id': 611079026, 'node_id': 'R_kgDOJGxTcg', 'name': 'twake-on-matrix', 'full_name': 'linagora/twake-on-matrix', 'private': False, 'owner': {'login': 'linagora', 'id': 1230365, 'node_id': 'MDEyOk9yZ2FuaXphdGlvbjEyMzAzNjU=', 'avatar_url': 'https://avatars.githubusercontent.com/u/1230365?v=4', 'gravatar_id': '', 'url': 'https://api.github.com/users/linagora', 'html_url': 'https://github.com/linagora', 'followers_url': 'https://api.github.com/users/linagora/followers', 'following_url': 'https://api.github.com/users/linagora/following{/other_user}', 'gists_url': 'https://api.github.com/users/linagora/gists{/gist_id}', 'starred_url': 'https://api.github.com/users/linagora/starred{/owner}{/repo}', 'subscriptions_url': 'https://api.github.com/users/linagora/subscriptions', 'organizations_url': 'https://api.github.com/users/linagora/orgs', 'repos_url': 'https://api.github.com/users/linagora/repos', 'events_url': 'https://api.github.com/users/linagora/events{/privacy}', 'received_events_url': 'https://api.github.com/users/linagora/received_events', 'type': 'Organization', 'user_view_type': 'public', 'site_admin': False}, 'html_url': 'https://github.com/linagora/twake-on-matrix', 'description': 'A multi-platform (Flutter) application for connecting to Matrix - an open network for secure, decentralized communication, with your favorite devices.', 'fork': False, 'url': 'https://api.github.com/repos/linagora/twake-on-matrix', 'forks_url': 'https://api.github.com/repos/linagora/twake-on-matrix/forks', 'keys_url': 'https://api.github.com/repos/linagora/twake-on-matrix/keys{/key_id}', 'collaborators_url': 'https://api.github.com/repos/linagora/twake-on-matrix/collaborators{/collaborator}', 'teams_url': 'https://api.github.com/repos/linagora/twake-on-matrix/teams', 'hooks_url': 'https://api.github.com/repos/linagora/twake-on-matrix/hooks', 'issue_events_url': 'https://api.github.com/repos/linagora/twake-on-matrix/issues/events{/number}', 'events_url': 'https://api.github.com/repos/linagora/twake-on-matrix/events', 'assignees_url': 'https://api.github.com/repos/linagora/twake-on-matrix/assignees{/user}', 'branches_url': 'https://api.github.com/repos/linagora/twake-on-matrix/branches{/branch}', 'tags_url': 'https://api.github.com/repos/linagora/twake-on-matrix/tags', 'blobs_url': 'https://api.github.com/repos/linagora/twake-on-matrix/git/blobs{/sha}', 'git_tags_url': 'https://api.github.com/repos/linagora/twake-on-matrix/git/tags{/sha}', 'git_refs_url': 'https://api.github.com/repos/linagora/twake-on-matrix/git/refs{/sha}', 'trees_url': 'https://api.github.com/repos/linagora/twake-on-matrix/git/trees{/sha}', 'statuses_url': 'https://api.github.com/repos/linagora/twake-on-matrix/statuses/{sha}', 'languages_url': 'https://api.github.com/repos/linagora/twake-on-matrix/languages', 'stargazers_url': 'https://api.github.com/repos/linagora/twake-on-matrix/stargazers', 'contributors_url': 'https://api.github.com/repos/linagora/twake-on-matrix/contributors', 'subscribers_url': 'https://api.github.com/repos/linagora/twake-on-matrix/subscribers', 'subscription_url': 'https://api.github.com/repos/linagora/twake-on-matrix/subscription', 'commits_url': 'https://api.github.com/repos/linagora/twake-on-matrix/commits{/sha}', 'git_commits_url': 'https://api.github.com/repos/linagora/twake-on-matrix/git/commits{/sha}', 'comments_url': 'https://api.github.com/repos/linagora/twake-on-matrix/comments{/number}', 'issue_comment_url': 'https://api.github.com/repos/linagora/twake-on-matrix/issues/comments{/number}', 'contents_url': 'https://api.github.com/repos/linagora/twake-on-matrix/contents/{+path}', 'compare_url': 'https://api.github.com/repos/linagora/twake-on-matrix/compare/{base}...{head}', 'merges_url': 'https://api.github.com/repos/linagora/twake-on-matrix/merges', 'archive_url': 'https://api.github.com/repos/linagora/twake-on-matrix/{archive_format}{/ref}', 'downloads_url': 'https://api.github.com/repos/linagora/twake-on-matrix/downloads', 'issues_url': 'https://api.github.com/repos/linagora/twake-on-matrix/issues{/number}', 'pulls_url': 'https://api.github.com/repos/linagora/twake-on-matrix/pulls{/number}', 'milestones_url': 'https://api.github.com/repos/linagora/twake-on-matrix/milestones{/number}', 'notifications_url': 'https://api.github.com/repos/linagora/twake-on-matrix/notifications{?since,all,participating}', 'labels_url': 'https://api.github.com/repos/linagora/twake-on-matrix/labels{/name}', 'releases_url': 'https://api.github.com/repos/linagora/twake-on-matrix/releases{/id}', 'deployments_url': 'https://api.github.com/repos/linagora/twake-on-matrix/deployments', 'created_at': '2023-03-08T03:54:02Z', 'updated_at': '2025-07-23T04:15:51Z', 'pushed_at': '2025-07-23T04:20:36Z', 'git_url': 'git://github.com/linagora/twake-on-matrix.git', 'ssh_url': 'git@github.com:linagora/twake-on-matrix.git', 'clone_url': 'https://github.com/linagora/twake-on-matrix.git', 'svn_url': 'https://github.com/linagora/twake-on-matrix', 'homepage': None, 'size': 4101831, 'stargazers_count': 88, 'watchers_count': 88, 'language': 'Dart', 'has_issues': True, 'has_projects': True, 'has_downloads': True, 'has_wiki': False, 'has_pages': True, 'has_discussions': True, 'forks_count': 29, 'mirror_url': None, 'archived': False, 'disabled': False, 'open_issues_count': 223, 'license': {'key': 'agpl-3.0', 'name': 'GNU Affero General Public License v3.0', 'spdx_id': 'AGPL-3.0', 'url': 'https://api.github.com/licenses/agpl-3.0', 'node_id': 'MDc6TGljZW5zZTE='}, 'allow_forking': True, 'is_template': False, 'web_commit_signoff_required': False, 'topics': [], 'visibility': 'public', 'forks': 29, 'open_issues': 223, 'watchers': 88, 'default_branch': 'main'}}, '_links': {'self': {'href': 'https://api.github.com/repos/linagora/twake-on-matrix/pulls/2477'}, 'html': {'href': 'https://github.com/linagora/twake-on-matrix/pull/2477'}, 'issue': {'href': 'https://api.github.com/repos/linagora/twake-on-matrix/issues/2477'}, 'comments': {'href': 'https://api.github.com/repos/linagora/twake-on-matrix/issues/2477/comments'}, 'review_comments': {'href': 'https://api.github.com/repos/linagora/twake-on-matrix/pulls/2477/comments'}, 'review_comment': {'href': 'https://api.github.com/repos/linagora/twake-on-matrix/pulls/comments{/number}'}, 'commits': {'href': 'https://api.github.com/repos/linagora/twake-on-matrix/pulls/2477/commits'}, 'statuses': {'href': 'https://api.github.com/repos/linagora/twake-on-matrix/statuses/00f53e10b4145a139033c68857736dfe549849e4'}}, 'author_association': 'MEMBER', 'auto_merge': None, 'active_lock_reason': None, 'merged': True, 'mergeable': None, 'rebaseable': None, 'mergeable_state': 'unknown', 'merged_by': {'login': 'hoangdat', 'id': 6462404, 'node_id': 'MDQ6VXNlcjY0NjI0MDQ=', 'avatar_url': 'https://avatars.githubusercontent.com/u/6462404?v=4', 'gravatar_id': '', 'url': 'https://api.github.com/users/hoangdat', 'html_url': 'https://github.com/hoangdat', 'followers_url': 'https://api.github.com/users/hoangdat/followers', 'following_url': 'https://api.github.com/users/hoangdat/following{/other_user}', 'gists_url': 'https://api.github.com/users/hoangdat/gists{/gist_id}', 'starred_url': 'https://api.github.com/users/hoangdat/starred{/owner}{/repo}', 'subscriptions_url': 'https://api.github.com/users/hoangdat/subscriptions', 'organizations_url': 'https://api.github.com/users/hoangdat/orgs', 'repos_url': 'https://api.github.com/users/hoangdat/repos', 'events_url': 'https://api.github.com/users/hoangdat/events{/privacy}', 'received_events_url': 'https://api.github.com/users/hoangdat/received_events', 'type': 'User', 'user_view_type': 'public', 'site_admin': False}, 'comments': 1, 'review_comments': 0, 'maintainer_can_modify': False, 'commits': 2, 'additions': 18, 'deletions': 9, 'changed_files': 5}}, 'public': True, 'created_at': '2025-07-23T04:32:49Z', 'org': {'id': 1230365, 'login': 'linagora', 'gravatar_id': '', 'url': 'https://api.github.com/orgs/linagora', 'avatar_url': 'https://avatars.githubusercontent.com/u/1230365?'}}, {'id': '52424705205', 'type': 'ReleaseEvent', 'actor': {'id': 41898282, 'login': 'github-actions[bot]', 'display_login': 'github-actions', 'gravatar_id': '', 'url': 'https://api.github.com/users/github-actions[bot]', 'avatar_url': 'https://avatars.githubusercontent.com/u/41898282?'}, 'repo': {'id': 725184343, 'name': 'nymtech/nym-vpn-client', 'url': 'https://api.github.com/repos/nymtech/nym-vpn-client'}, 'payload': {'action': 'published', 'release': {'url': 'https://api.github.com/repos/nymtech/nym-vpn-client/releases/234428781', 'assets_url': 'https://api.github.com/repos/nymtech/nym-vpn-client/releases/234428781/assets', 'upload_url': 'https://uploads.github.com/repos/nymtech/nym-vpn-client/releases/234428781/assets{?name,label}', 'html_url': 'https://github.com/nymtech/nym-vpn-client/releases/tag/nym-vpn-app-nightly', 'id': 234428781, 'author': {'login': 'github-actions[bot]', 'id': 41898282, 'node_id': 'MDM6Qm90NDE4OTgyODI=', 'avatar_url': 'https://avatars.githubusercontent.com/in/15368?v=4', 'gravatar_id': '', 'url': 'https://api.github.com/users/github-actions%5Bbot%5D', 'html_url': 'https://github.com/apps/github-actions', 'followers_url': 'https://api.github.com/users/github-actions%5Bbot%5D/followers', 'following_url': 'https://api.github.com/users/github-actions%5Bbot%5D/following{/other_user}', 'gists_url': 'https://api.github.com/users/github-actions%5Bbot%5D/gists{/gist_id}', 'starred_url': 'https://api.github.com/users/github-actions%5Bbot%5D/starred{/owner}{/repo}', 'subscriptions_url': 'https://api.github.com/users/github-actions%5Bbot%5D/subscriptions', 'organizations_url': 'https://api.github.com/users/github-actions%5Bbot%5D/orgs', 'repos_url': 'https://api.github.com/users/github-actions%5Bbot%5D/repos', 'events_url': 'https://api.github.com/users/github-actions%5Bbot%5D/events{/privacy}', 'received_events_url': 'https://api.github.com/users/github-actions%5Bbot%5D/received_events', 'type': 'Bot', 'user_view_type': 'public', 'site_admin': False}, 'node_id': 'RE_kwDOKzlvV84N-Rlt', 'tag_name': 'nym-vpn-app-nightly', 'target_commitish': 'c1a86f780ab8b343c05fcd97f1c072b2049cf5d1', 'name': 'nym-vpn-app-nightly', 'draft': False, 'immutable': False, 'prerelease': True, 'created_at': '2025-07-22T14:08:59Z', 'published_at': '2025-07-23T04:32:48Z', 'assets': [], 'tarball_url': 'https://api.github.com/repos/nymtech/nym-vpn-client/tarball/nym-vpn-app-nightly', 'zipball_url': 'https://api.github.com/repos/nymtech/nym-vpn-client/zipball/nym-vpn-app-nightly', 'body': ':night_with_stars: Linux and Windows desktop app, **nightly** build\\n\\n```\\nApp name:      NymVPN\\nVersion:       1.13.0-dev\\nTauri version: 2.7.0\\nRustc version: rustc 1.87.0 (17067e9ac 2025-05-09)\\nBuild profile: release\\nDate:          Wed Jul 23 04:32:19 UTC 2025\\n```\\n\\nSHA256 checksums\\n\\n```\\nfce0289ec1fad9a41cb3d076f84ed79eef57fee72339383485785b80d9d4ef1c  NymVPN_1.13.0-dev_x64.AppImage\\n09d5d4f7ecea8767a32e1396c742bf9c5509b7a78bb1a8e2f3cbfb35c7e67d66  nym-vpn-app_1.13.0-dev_amd64.deb\\nda2c2a19bc3babbb5ab83863cc4cef723bbea3a6699de5a00b91190796dd0943  nym-vpn_1.13.0-dev_linux_x64\\ndb3bdc1fb36eab1bd6def56a94e1f3806dcd2e3b6fc2ae1a5bdb840f919399ca  NymVPN_1.13.0-dev_x64-setup.exe\\n```\\n', 'short_description_html': '<p>🌃 Linux and Windows desktop app, <strong>nightly</strong> build</p>\\n<div class=\"snippet-clipboard-content notranslate position-relative overflow-auto\" data-snippet-clipboard-copy-content=\"App name:      NymVPN\\nVersion:       1.13.0-dev\\nTauri version: 2.7.0\\nRustc version: rustc 1.87.0 (17067e9ac 2025-05-09)\\nBuild profile: release\\nDate:          Wed Jul 23 04:32:19 UTC 2025\"><pre class=\"notranslate\"><code>App name:      NymVPN\\nVersion:       1.13.0-dev\\nTauri version: 2.7.0\\nRustc version: rustc 1.87.0 (17067e9ac 2025-05-09)\\nBuild profile: release\\nDate:  …</code></pre></div>', 'is_short_description_html_truncated': True}}, 'public': True, 'created_at': '2025-07-23T04:32:49Z', 'org': {'id': 51752891, 'login': 'nymtech', 'gravatar_id': '', 'url': 'https://api.github.com/orgs/nymtech', 'avatar_url': 'https://avatars.githubusercontent.com/u/51752891?'}}, {'id': '52424705208', 'type': 'CreateEvent', 'actor': {'id': 145617714, 'login': 'ibo215', 'display_login': 'ibo215', 'gravatar_id': '', 'url': 'https://api.github.com/users/ibo215', 'avatar_url': 'https://avatars.githubusercontent.com/u/145617714?'}, 'repo': {'id': 1024668349, 'name': 'ibo215/zulfikarsolarfrontend', 'url': 'https://api.github.com/repos/ibo215/zulfikarsolarfrontend'}, 'payload': {'ref': None, 'ref_type': 'repository', 'master_branch': 'main', 'description': None, 'pusher_type': 'user'}, 'public': True, 'created_at': '2025-07-23T04:32:49Z'}, {'id': '52424705222', 'type': 'DeleteEvent', 'actor': {'id': 65933340, 'login': 'seanpm2001', 'display_login': 'seanpm2001', 'gravatar_id': '', 'url': 'https://api.github.com/users/seanpm2001', 'avatar_url': 'https://avatars.githubusercontent.com/u/65933340?'}, 'repo': {'id': 1024665956, 'name': 'seanpm2001/Learn-M3U', 'url': 'https://api.github.com/repos/seanpm2001/Learn-M3U'}, 'payload': {'ref': 'Template-Scheme-Other', 'ref_type': 'branch', 'pusher_type': 'user'}, 'public': True, 'created_at': '2025-07-23T04:32:49Z'}, {'id': '52424705209', 'type': 'ForkEvent', 'actor': {'id': 65332433, 'login': 'tama-it2', 'display_login': 'tama-it2', 'gravatar_id': '', 'url': 'https://api.github.com/users/tama-it2', 'avatar_url': 'https://avatars.githubusercontent.com/u/65332433?'}, 'repo': {'id': 1024312001, 'name': 'tama-it2/cls2025-simulation-corridor-1', 'url': 'https://api.github.com/repos/tama-it2/cls2025-simulation-corridor-1'}, 'payload': {'forkee': {'id': 1024668353, 'node_id': 'R_kgDOPRMywQ', 'name': 'simulation-hasegawa-syu', 'full_name': 'tama-it2/simulation-hasegawa-syu', 'private': False, 'owner': {'login': 'tama-it2', 'id': 65332433, 'node_id': 'MDEyOk9yZ2FuaXphdGlvbjY1MzMyNDMz', 'avatar_url': 'https://avatars.githubusercontent.com/u/65332433?v=4', 'gravatar_id': '', 'url': 'https://api.github.com/users/tama-it2', 'html_url': 'https://github.com/tama-it2', 'followers_url': 'https://api.github.com/users/tama-it2/followers', 'following_url': 'https://api.github.com/users/tama-it2/following{/other_user}', 'gists_url': 'https://api.github.com/users/tama-it2/gists{/gist_id}', 'starred_url': 'https://api.github.com/users/tama-it2/starred{/owner}{/repo}', 'subscriptions_url': 'https://api.github.com/users/tama-it2/subscriptions', 'organizations_url': 'https://api.github.com/users/tama-it2/orgs', 'repos_url': 'https://api.github.com/users/tama-it2/repos', 'events_url': 'https://api.github.com/users/tama-it2/events{/privacy}', 'received_events_url': 'https://api.github.com/users/tama-it2/received_events', 'type': 'Organization', 'user_view_type': 'public', 'site_admin': False}, 'html_url': 'https://github.com/tama-it2/simulation-hasegawa-syu', 'description': 'cls2025-simulation-corridor-1 created by GitHub Classroom', 'fork': True, 'url': 'https://api.github.com/repos/tama-it2/simulation-hasegawa-syu', 'forks_url': 'https://api.github.com/repos/tama-it2/simulation-hasegawa-syu/forks', 'keys_url': 'https://api.github.com/repos/tama-it2/simulation-hasegawa-syu/keys{/key_id}', 'collaborators_url': 'https://api.github.com/repos/tama-it2/simulation-hasegawa-syu/collaborators{/collaborator}', 'teams_url': 'https://api.github.com/repos/tama-it2/simulation-hasegawa-syu/teams', 'hooks_url': 'https://api.github.com/repos/tama-it2/simulation-hasegawa-syu/hooks', 'issue_events_url': 'https://api.github.com/repos/tama-it2/simulation-hasegawa-syu/issues/events{/number}', 'events_url': 'https://api.github.com/repos/tama-it2/simulation-hasegawa-syu/events', 'assignees_url': 'https://api.github.com/repos/tama-it2/simulation-hasegawa-syu/assignees{/user}', 'branches_url': 'https://api.github.com/repos/tama-it2/simulation-hasegawa-syu/branches{/branch}', 'tags_url': 'https://api.github.com/repos/tama-it2/simulation-hasegawa-syu/tags', 'blobs_url': 'https://api.github.com/repos/tama-it2/simulation-hasegawa-syu/git/blobs{/sha}', 'git_tags_url': 'https://api.github.com/repos/tama-it2/simulation-hasegawa-syu/git/tags{/sha}', 'git_refs_url': 'https://api.github.com/repos/tama-it2/simulation-hasegawa-syu/git/refs{/sha}', 'trees_url': 'https://api.github.com/repos/tama-it2/simulation-hasegawa-syu/git/trees{/sha}', 'statuses_url': 'https://api.github.com/repos/tama-it2/simulation-hasegawa-syu/statuses/{sha}', 'languages_url': 'https://api.github.com/repos/tama-it2/simulation-hasegawa-syu/languages', 'stargazers_url': 'https://api.github.com/repos/tama-it2/simulation-hasegawa-syu/stargazers', 'contributors_url': 'https://api.github.com/repos/tama-it2/simulation-hasegawa-syu/contributors', 'subscribers_url': 'https://api.github.com/repos/tama-it2/simulation-hasegawa-syu/subscribers', 'subscription_url': 'https://api.github.com/repos/tama-it2/simulation-hasegawa-syu/subscription', 'commits_url': 'https://api.github.com/repos/tama-it2/simulation-hasegawa-syu/commits{/sha}', 'git_commits_url': 'https://api.github.com/repos/tama-it2/simulation-hasegawa-syu/git/commits{/sha}', 'comments_url': 'https://api.github.com/repos/tama-it2/simulation-hasegawa-syu/comments{/number}', 'issue_comment_url': 'https://api.github.com/repos/tama-it2/simulation-hasegawa-syu/issues/comments{/number}', 'contents_url': 'https://api.github.com/repos/tama-it2/simulation-hasegawa-syu/contents/{+path}', 'compare_url': 'https://api.github.com/repos/tama-it2/simulation-hasegawa-syu/compare/{base}...{head}', 'merges_url': 'https://api.github.com/repos/tama-it2/simulation-hasegawa-syu/merges', 'archive_url': 'https://api.github.com/repos/tama-it2/simulation-hasegawa-syu/{archive_format}{/ref}', 'downloads_url': 'https://api.github.com/repos/tama-it2/simulation-hasegawa-syu/downloads', 'issues_url': 'https://api.github.com/repos/tama-it2/simulation-hasegawa-syu/issues{/number}', 'pulls_url': 'https://api.github.com/repos/tama-it2/simulation-hasegawa-syu/pulls{/number}', 'milestones_url': 'https://api.github.com/repos/tama-it2/simulation-hasegawa-syu/milestones{/number}', 'notifications_url': 'https://api.github.com/repos/tama-it2/simulation-hasegawa-syu/notifications{?since,all,participating}', 'labels_url': 'https://api.github.com/repos/tama-it2/simulation-hasegawa-syu/labels{/name}', 'releases_url': 'https://api.github.com/repos/tama-it2/simulation-hasegawa-syu/releases{/id}', 'deployments_url': 'https://api.github.com/repos/tama-it2/simulation-hasegawa-syu/deployments', 'created_at': '2025-07-23T04:32:48Z', 'updated_at': '2025-07-23T04:32:48Z', 'pushed_at': '2025-07-22T14:37:51Z', 'git_url': 'git://github.com/tama-it2/simulation-hasegawa-syu.git', 'ssh_url': 'git@github.com:tama-it2/simulation-hasegawa-syu.git', 'clone_url': 'https://github.com/tama-it2/simulation-hasegawa-syu.git', 'svn_url': 'https://github.com/tama-it2/simulation-hasegawa-syu', 'homepage': None, 'size': 1000, 'stargazers_count': 0, 'watchers_count': 0, 'language': None, 'has_issues': True, 'has_projects': True, 'has_downloads': True, 'has_wiki': True, 'has_pages': False, 'has_discussions': False, 'forks_count': 0, 'mirror_url': None, 'archived': False, 'disabled': False, 'open_issues_count': 0, 'license': None, 'allow_forking': True, 'is_template': False, 'web_commit_signoff_required': False, 'topics': [], 'visibility': 'public', 'forks': 0, 'open_issues': 0, 'watchers': 0, 'default_branch': 'main', 'public': True}}, 'public': True, 'created_at': '2025-07-23T04:32:49Z', 'org': {'id': 65332433, 'login': 'tama-it2', 'gravatar_id': '', 'url': 'https://api.github.com/orgs/tama-it2', 'avatar_url': 'https://avatars.githubusercontent.com/u/65332433?'}}, {'id': '52424705185', 'type': 'PushEvent', 'actor': {'id': 41898282, 'login': 'github-actions[bot]', 'display_login': 'github-actions', 'gravatar_id': '', 'url': 'https://api.github.com/users/github-actions[bot]', 'avatar_url': 'https://avatars.githubusercontent.com/u/41898282?'}, 'repo': {'id': 892044988, 'name': 'QianziTech/QianziTech', 'url': 'https://api.github.com/repos/QianziTech/QianziTech'}, 'payload': {'repository_id': 892044988, 'push_id': 25666155904, 'size': 1, 'distinct_size': 1, 'ref': 'refs/heads/output', 'head': 'c7eff1e67bd04cdeb446dcec2cf5be587273e6c5', 'before': '990ba2c7d08b35431b08fa79f0d6bea479752b08', 'commits': [{'sha': 'c7eff1e67bd04cdeb446dcec2cf5be587273e6c5', 'author': {'email': '41898282+github-actions[bot]@users.noreply.github.com', 'name': 'github-actions[bot]'}, 'message': 'Deploy to GitHub pages', 'distinct': True, 'url': 'https://api.github.com/repos/QianziTech/QianziTech/commits/c7eff1e67bd04cdeb446dcec2cf5be587273e6c5'}]}, 'public': True, 'created_at': '2025-07-23T04:32:49Z'}, {'id': '52424705168', 'type': 'PushEvent', 'actor': {'id': 222143971, 'login': 'doooku109', 'display_login': 'doooku109', 'gravatar_id': '', 'url': 'https://api.github.com/users/doooku109', 'avatar_url': 'https://avatars.githubusercontent.com/u/222143971?'}, 'repo': {'id': 1024007957, 'name': 'doooku109/max-stamp-card', 'url': 'https://api.github.com/repos/doooku109/max-stamp-card'}, 'payload': {'repository_id': 1024007957, 'push_id': 25666155884, 'size': 1, 'distinct_size': 1, 'ref': 'refs/heads/main', 'head': '1c565972b21e030033aa2fd4dffd7a3fca60959e', 'before': 'f6dff46ff5438320bb7376bb5f10f7217f5bd75a', 'commits': [{'sha': '1c565972b21e030033aa2fd4dffd7a3fca60959e', 'author': {'email': 'max2336max@gmail.com', 'name': 'doooku109'}, 'message': 'Update admin.html', 'distinct': True, 'url': 'https://api.github.com/repos/doooku109/max-stamp-card/commits/1c565972b21e030033aa2fd4dffd7a3fca60959e'}]}, 'public': True, 'created_at': '2025-07-23T04:32:49Z'}, {'id': '52424705178', 'type': 'PushEvent', 'actor': {'id': 41898282, 'login': 'github-actions[bot]', 'display_login': 'github-actions', 'gravatar_id': '', 'url': 'https://api.github.com/users/github-actions[bot]', 'avatar_url': 'https://avatars.githubusercontent.com/u/41898282?'}, 'repo': {'id': 979813655, 'name': 'a99099292/LibreTV', 'url': 'https://api.github.com/repos/a99099292/LibreTV'}, 'payload': {'repository_id': 979813655, 'push_id': 25666155920, 'size': 3, 'distinct_size': 3, 'ref': 'refs/heads/main', 'head': '00d391aa1b1f96c80b3be22a9082888653da5a5e', 'before': '182ca7c28d14c3ffd27479206ac23af9abea4181', 'commits': [{'sha': '450b940678260cc7b5bf15fe4b6d6803068f41e7', 'author': {'email': 'hst1189@hotmail.com', 'name': 'hst1189'}, 'message': 'Update config.js', 'distinct': True, 'url': 'https://api.github.com/repos/a99099292/LibreTV/commits/450b940678260cc7b5bf15fe4b6d6803068f41e7'}, {'sha': '4459f9726eaeea21576012ec8bd32d41c1b4a3c2', 'author': {'email': '110226580+bestZwei@users.noreply.github.com', 'name': 'Zwei'}, 'message': 'Merge pull request #771 from hst1189/main\\n\\nUpdate config.js  修复小猫咪资源站', 'distinct': True, 'url': 'https://api.github.com/repos/a99099292/LibreTV/commits/4459f9726eaeea21576012ec8bd32d41c1b4a3c2'}, {'sha': '00d391aa1b1f96c80b3be22a9082888653da5a5e', 'author': {'email': 'github-actions[bot]@users.noreply.github.com', 'name': 'github-actions[bot]'}, 'message': 'Auto Update 2025-07-22 22:10', 'distinct': True, 'url': 'https://api.github.com/repos/a99099292/LibreTV/commits/00d391aa1b1f96c80b3be22a9082888653da5a5e'}]}, 'public': True, 'created_at': '2025-07-23T04:32:49Z'}, {'id': '52424705176', 'type': 'PushEvent', 'actor': {'id': 531285, 'login': 'ikks', 'display_login': 'ikks', 'gravatar_id': '', 'url': 'https://api.github.com/users/ikks', 'avatar_url': 'https://avatars.githubusercontent.com/u/531285?'}, 'repo': {'id': 1023241689, 'name': 'ikks/gimp-stable-diffusion', 'url': 'https://api.github.com/repos/ikks/gimp-stable-diffusion'}, 'payload': {'repository_id': 1023241689, 'push_id': 25666155928, 'size': 2, 'distinct_size': 2, 'ref': 'refs/heads/gimp3', 'head': '2bbd5359ace2b896db915d922459430f9f3468d5', 'before': '695b4b90558c40b064617a8c803c4e867c1fab2f', 'commits': [{'sha': 'c171816aeb6b62d855218cb62227aabcd26ab6b4', 'author': {'email': 'igor.tamara@gmail.com', 'name': 'Igor Támara'}, 'message': 'Enforce Prompt\\n\\nIf user removes all other parameters, like width and height, those are\\nrestored to defaults.', 'distinct': True, 'url': 'https://api.github.com/repos/ikks/gimp-stable-diffusion/commits/c171816aeb6b62d855218cb62227aabcd26ab6b4'}, {'sha': '2bbd5359ace2b896db915d922459430f9f3468d5', 'author': {'email': 'igor.tamara@gmail.com', 'name': 'Igor Támara'}, 'message': 'Bump Version', 'distinct': True, 'url': 'https://api.github.com/repos/ikks/gimp-stable-diffusion/commits/2bbd5359ace2b896db915d922459430f9f3468d5'}]}, 'public': True, 'created_at': '2025-07-23T04:32:49Z'}, {'id': '52424705164', 'type': 'PushEvent', 'actor': {'id': 162006743, 'login': 'Decide02', 'display_login': 'Decide02', 'gravatar_id': '', 'url': 'https://api.github.com/users/Decide02', 'avatar_url': 'https://avatars.githubusercontent.com/u/162006743?'}, 'repo': {'id': 1024148360, 'name': 'Decide02/lab_home', 'url': 'https://api.github.com/repos/Decide02/lab_home'}, 'payload': {'repository_id': 1024148360, 'push_id': 25666155871, 'size': 1, 'distinct_size': 1, 'ref': 'refs/heads/main', 'head': 'db513a1753263f3105f3c963a47bbe389037aa58', 'before': '7558e2158e2518caaf56232cdab09a63a3802fb3', 'commits': [{'sha': 'db513a1753263f3105f3c963a47bbe389037aa58', 'author': {'email': 'vmfkcltmzh@gmail.com', 'name': 'Decide02'}, 'message': 'modify title', 'distinct': True, 'url': 'https://api.github.com/repos/Decide02/lab_home/commits/db513a1753263f3105f3c963a47bbe389037aa58'}]}, 'public': True, 'created_at': '2025-07-23T04:32:49Z'}, {'id': '52424705163', 'type': 'PushEvent', 'actor': {'id': 194424418, 'login': 'sennafz', 'display_login': 'sennafz', 'gravatar_id': '', 'url': 'https://api.github.com/users/sennafz', 'avatar_url': 'https://avatars.githubusercontent.com/u/194424418?'}, 'repo': {'id': 1017063897, 'name': 'sennafz/cetidrjosegusmao', 'url': 'https://api.github.com/repos/sennafz/cetidrjosegusmao'}, 'payload': {'repository_id': 1017063897, 'push_id': 25666155913, 'size': 1, 'distinct_size': 1, 'ref': 'refs/heads/main', 'head': 'b3f2d15c0b9044ae0b6e3dfef4c25743872f60a6', 'before': 'a12b3c1bacf2f8a40ec838312921b0b668b0528d', 'commits': [{'sha': 'b3f2d15c0b9044ae0b6e3dfef4c25743872f60a6', 'author': {'email': 'matheusynw3@gmail.com', 'name': 'sennafz'}, 'message': 'other', 'distinct': True, 'url': 'https://api.github.com/repos/sennafz/cetidrjosegusmao/commits/b3f2d15c0b9044ae0b6e3dfef4c25743872f60a6'}]}, 'public': True, 'created_at': '2025-07-23T04:32:49Z'}, {'id': '52424705174', 'type': 'PullRequestEvent', 'actor': {'id': 31928888, 'login': 'ricardocirio', 'display_login': 'ricardocirio', 'gravatar_id': '', 'url': 'https://api.github.com/users/ricardocirio', 'avatar_url': 'https://avatars.githubusercontent.com/u/31928888?'}, 'repo': {'id': 1021131378, 'name': 'snipergz/hci-teammate-finder', 'url': 'https://api.github.com/repos/snipergz/hci-teammate-finder'}, 'payload': {'action': 'closed', 'number': 8, 'pull_request': {'url': 'https://api.github.com/repos/snipergz/hci-teammate-finder/pulls/8', 'id': 2687464545, 'node_id': 'PR_kwDOPN06cs6gL3Rh', 'html_url': 'https://github.com/snipergz/hci-teammate-finder/pull/8', 'diff_url': 'https://github.com/snipergz/hci-teammate-finder/pull/8.diff', 'patch_url': 'https://github.com/snipergz/hci-teammate-finder/pull/8.patch', 'issue_url': 'https://api.github.com/repos/snipergz/hci-teammate-finder/issues/8', 'number': 8, 'state': 'closed', 'locked': False, 'title': 'Mobile responsiveness and accessibility improvements.', 'user': {'login': 'ricardocirio', 'id': 31928888, 'node_id': 'MDQ6VXNlcjMxOTI4ODg4', 'avatar_url': 'https://avatars.githubusercontent.com/u/31928888?v=4', 'gravatar_id': '', 'url': 'https://api.github.com/users/ricardocirio', 'html_url': 'https://github.com/ricardocirio', 'followers_url': 'https://api.github.com/users/ricardocirio/followers', 'following_url': 'https://api.github.com/users/ricardocirio/following{/other_user}', 'gists_url': 'https://api.github.com/users/ricardocirio/gists{/gist_id}', 'starred_url': 'https://api.github.com/users/ricardocirio/starred{/owner}{/repo}', 'subscriptions_url': 'https://api.github.com/users/ricardocirio/subscriptions', 'organizations_url': 'https://api.github.com/users/ricardocirio/orgs', 'repos_url': 'https://api.github.com/users/ricardocirio/repos', 'events_url': 'https://api.github.com/users/ricardocirio/events{/privacy}', 'received_events_url': 'https://api.github.com/users/ricardocirio/received_events', 'type': 'User', 'user_view_type': 'public', 'site_admin': False}, 'body': None, 'created_at': '2025-07-23T04:32:24Z', 'updated_at': '2025-07-23T04:32:48Z', 'closed_at': '2025-07-23T04:32:48Z', 'merged_at': '2025-07-23T04:32:48Z', 'merge_commit_sha': '570b2131aa86fbdd9daf9ea7ec417c81f5635538', 'assignee': None, 'assignees': [], 'requested_reviewers': [], 'requested_teams': [], 'labels': [], 'milestone': None, 'draft': False, 'commits_url': 'https://api.github.com/repos/snipergz/hci-teammate-finder/pulls/8/commits', 'review_comments_url': 'https://api.github.com/repos/snipergz/hci-teammate-finder/pulls/8/comments', 'review_comment_url': 'https://api.github.com/repos/snipergz/hci-teammate-finder/pulls/comments{/number}', 'comments_url': 'https://api.github.com/repos/snipergz/hci-teammate-finder/issues/8/comments', 'statuses_url': 'https://api.github.com/repos/snipergz/hci-teammate-finder/statuses/9949fa578ea028da7a25e2932d0d74ce1331cf31', 'head': {'label': 'ricardocirio:main', 'ref': 'main', 'sha': '9949fa578ea028da7a25e2932d0d74ce1331cf31', 'user': {'login': 'ricardocirio', 'id': 31928888, 'node_id': 'MDQ6VXNlcjMxOTI4ODg4', 'avatar_url': 'https://avatars.githubusercontent.com/u/31928888?v=4', 'gravatar_id': '', 'url': 'https://api.github.com/users/ricardocirio', 'html_url': 'https://github.com/ricardocirio', 'followers_url': 'https://api.github.com/users/ricardocirio/followers', 'following_url': 'https://api.github.com/users/ricardocirio/following{/other_user}', 'gists_url': 'https://api.github.com/users/ricardocirio/gists{/gist_id}', 'starred_url': 'https://api.github.com/users/ricardocirio/starred{/owner}{/repo}', 'subscriptions_url': 'https://api.github.com/users/ricardocirio/subscriptions', 'organizations_url': 'https://api.github.com/users/ricardocirio/orgs', 'repos_url': 'https://api.github.com/users/ricardocirio/repos', 'events_url': 'https://api.github.com/users/ricardocirio/events{/privacy}', 'received_events_url': 'https://api.github.com/users/ricardocirio/received_events', 'type': 'User', 'user_view_type': 'public', 'site_admin': False}, 'repo': {'id': 1023988086, 'node_id': 'R_kgDOPQjRdg', 'name': 'hci-teammate-finder', 'full_name': 'ricardocirio/hci-teammate-finder', 'private': False, 'owner': {'login': 'ricardocirio', 'id': 31928888, 'node_id': 'MDQ6VXNlcjMxOTI4ODg4', 'avatar_url': 'https://avatars.githubusercontent.com/u/31928888?v=4', 'gravatar_id': '', 'url': 'https://api.github.com/users/ricardocirio', 'html_url': 'https://github.com/ricardocirio', 'followers_url': 'https://api.github.com/users/ricardocirio/followers', 'following_url': 'https://api.github.com/users/ricardocirio/following{/other_user}', 'gists_url': 'https://api.github.com/users/ricardocirio/gists{/gist_id}', 'starred_url': 'https://api.github.com/users/ricardocirio/starred{/owner}{/repo}', 'subscriptions_url': 'https://api.github.com/users/ricardocirio/subscriptions', 'organizations_url': 'https://api.github.com/users/ricardocirio/orgs', 'repos_url': 'https://api.github.com/users/ricardocirio/repos', 'events_url': 'https://api.github.com/users/ricardocirio/events{/privacy}', 'received_events_url': 'https://api.github.com/users/ricardocirio/received_events', 'type': 'User', 'user_view_type': 'public', 'site_admin': False}, 'html_url': 'https://github.com/ricardocirio/hci-teammate-finder', 'description': None, 'fork': True, 'url': 'https://api.github.com/repos/ricardocirio/hci-teammate-finder', 'forks_url': 'https://api.github.com/repos/ricardocirio/hci-teammate-finder/forks', 'keys_url': 'https://api.github.com/repos/ricardocirio/hci-teammate-finder/keys{/key_id}', 'collaborators_url': 'https://api.github.com/repos/ricardocirio/hci-teammate-finder/collaborators{/collaborator}', 'teams_url': 'https://api.github.com/repos/ricardocirio/hci-teammate-finder/teams', 'hooks_url': 'https://api.github.com/repos/ricardocirio/hci-teammate-finder/hooks', 'issue_events_url': 'https://api.github.com/repos/ricardocirio/hci-teammate-finder/issues/events{/number}', 'events_url': 'https://api.github.com/repos/ricardocirio/hci-teammate-finder/events', 'assignees_url': 'https://api.github.com/repos/ricardocirio/hci-teammate-finder/assignees{/user}', 'branches_url': 'https://api.github.com/repos/ricardocirio/hci-teammate-finder/branches{/branch}', 'tags_url': 'https://api.github.com/repos/ricardocirio/hci-teammate-finder/tags', 'blobs_url': 'https://api.github.com/repos/ricardocirio/hci-teammate-finder/git/blobs{/sha}', 'git_tags_url': 'https://api.github.com/repos/ricardocirio/hci-teammate-finder/git/tags{/sha}', 'git_refs_url': 'https://api.github.com/repos/ricardocirio/hci-teammate-finder/git/refs{/sha}', 'trees_url': 'https://api.github.com/repos/ricardocirio/hci-teammate-finder/git/trees{/sha}', 'statuses_url': 'https://api.github.com/repos/ricardocirio/hci-teammate-finder/statuses/{sha}', 'languages_url': 'https://api.github.com/repos/ricardocirio/hci-teammate-finder/languages', 'stargazers_url': 'https://api.github.com/repos/ricardocirio/hci-teammate-finder/stargazers', 'contributors_url': 'https://api.github.com/repos/ricardocirio/hci-teammate-finder/contributors', 'subscribers_url': 'https://api.github.com/repos/ricardocirio/hci-teammate-finder/subscribers', 'subscription_url': 'https://api.github.com/repos/ricardocirio/hci-teammate-finder/subscription', 'commits_url': 'https://api.github.com/repos/ricardocirio/hci-teammate-finder/commits{/sha}', 'git_commits_url': 'https://api.github.com/repos/ricardocirio/hci-teammate-finder/git/commits{/sha}', 'comments_url': 'https://api.github.com/repos/ricardocirio/hci-teammate-finder/comments{/number}', 'issue_comment_url': 'https://api.github.com/repos/ricardocirio/hci-teammate-finder/issues/comments{/number}', 'contents_url': 'https://api.github.com/repos/ricardocirio/hci-teammate-finder/contents/{+path}', 'compare_url': 'https://api.github.com/repos/ricardocirio/hci-teammate-finder/compare/{base}...{head}', 'merges_url': 'https://api.github.com/repos/ricardocirio/hci-teammate-finder/merges', 'archive_url': 'https://api.github.com/repos/ricardocirio/hci-teammate-finder/{archive_format}{/ref}', 'downloads_url': 'https://api.github.com/repos/ricardocirio/hci-teammate-finder/downloads', 'issues_url': 'https://api.github.com/repos/ricardocirio/hci-teammate-finder/issues{/number}', 'pulls_url': 'https://api.github.com/repos/ricardocirio/hci-teammate-finder/pulls{/number}', 'milestones_url': 'https://api.github.com/repos/ricardocirio/hci-teammate-finder/milestones{/number}', 'notifications_url': 'https://api.github.com/repos/ricardocirio/hci-teammate-finder/notifications{?since,all,participating}', 'labels_url': 'https://api.github.com/repos/ricardocirio/hci-teammate-finder/labels{/name}', 'releases_url': 'https://api.github.com/repos/ricardocirio/hci-teammate-finder/releases{/id}', 'deployments_url': 'https://api.github.com/repos/ricardocirio/hci-teammate-finder/deployments', 'created_at': '2025-07-22T02:54:14Z', 'updated_at': '2025-07-23T04:29:59Z', 'pushed_at': '2025-07-23T04:29:55Z', 'git_url': 'git://github.com/ricardocirio/hci-teammate-finder.git', 'ssh_url': 'git@github.com:ricardocirio/hci-teammate-finder.git', 'clone_url': 'https://github.com/ricardocirio/hci-teammate-finder.git', 'svn_url': 'https://github.com/ricardocirio/hci-teammate-finder', 'homepage': None, 'size': 96, 'stargazers_count': 0, 'watchers_count': 0, 'language': 'JavaScript', 'has_issues': False, 'has_projects': True, 'has_downloads': True, 'has_wiki': True, 'has_pages': True, 'has_discussions': False, 'forks_count': 0, 'mirror_url': None, 'archived': False, 'disabled': False, 'open_issues_count': 0, 'license': None, 'allow_forking': True, 'is_template': False, 'web_commit_signoff_required': False, 'topics': [], 'visibility': 'public', 'forks': 0, 'open_issues': 0, 'watchers': 0, 'default_branch': 'main'}}, 'base': {'label': 'snipergz:main', 'ref': 'main', 'sha': '74f31b3faa347550bcd6eb274d9fa7b95ba8bc3b', 'user': {'login': 'snipergz', 'id': 60069774, 'node_id': 'MDQ6VXNlcjYwMDY5Nzc0', 'avatar_url': 'https://avatars.githubusercontent.com/u/60069774?v=4', 'gravatar_id': '', 'url': 'https://api.github.com/users/snipergz', 'html_url': 'https://github.com/snipergz', 'followers_url': 'https://api.github.com/users/snipergz/followers', 'following_url': 'https://api.github.com/users/snipergz/following{/other_user}', 'gists_url': 'https://api.github.com/users/snipergz/gists{/gist_id}', 'starred_url': 'https://api.github.com/users/snipergz/starred{/owner}{/repo}', 'subscriptions_url': 'https://api.github.com/users/snipergz/subscriptions', 'organizations_url': 'https://api.github.com/users/snipergz/orgs', 'repos_url': 'https://api.github.com/users/snipergz/repos', 'events_url': 'https://api.github.com/users/snipergz/events{/privacy}', 'received_events_url': 'https://api.github.com/users/snipergz/received_events', 'type': 'User', 'user_view_type': 'public', 'site_admin': False}, 'repo': {'id': 1021131378, 'node_id': 'R_kgDOPN06cg', 'name': 'hci-teammate-finder', 'full_name': 'snipergz/hci-teammate-finder', 'private': False, 'owner': {'login': 'snipergz', 'id': 60069774, 'node_id': 'MDQ6VXNlcjYwMDY5Nzc0', 'avatar_url': 'https://avatars.githubusercontent.com/u/60069774?v=4', 'gravatar_id': '', 'url': 'https://api.github.com/users/snipergz', 'html_url': 'https://github.com/snipergz', 'followers_url': 'https://api.github.com/users/snipergz/followers', 'following_url': 'https://api.github.com/users/snipergz/following{/other_user}', 'gists_url': 'https://api.github.com/users/snipergz/gists{/gist_id}', 'starred_url': 'https://api.github.com/users/snipergz/starred{/owner}{/repo}', 'subscriptions_url': 'https://api.github.com/users/snipergz/subscriptions', 'organizations_url': 'https://api.github.com/users/snipergz/orgs', 'repos_url': 'https://api.github.com/users/snipergz/repos', 'events_url': 'https://api.github.com/users/snipergz/events{/privacy}', 'received_events_url': 'https://api.github.com/users/snipergz/received_events', 'type': 'User', 'user_view_type': 'public', 'site_admin': False}, 'html_url': 'https://github.com/snipergz/hci-teammate-finder', 'description': None, 'fork': False, 'url': 'https://api.github.com/repos/snipergz/hci-teammate-finder', 'forks_url': 'https://api.github.com/repos/snipergz/hci-teammate-finder/forks', 'keys_url': 'https://api.github.com/repos/snipergz/hci-teammate-finder/keys{/key_id}', 'collaborators_url': 'https://api.github.com/repos/snipergz/hci-teammate-finder/collaborators{/collaborator}', 'teams_url': 'https://api.github.com/repos/snipergz/hci-teammate-finder/teams', 'hooks_url': 'https://api.github.com/repos/snipergz/hci-teammate-finder/hooks', 'issue_events_url': 'https://api.github.com/repos/snipergz/hci-teammate-finder/issues/events{/number}', 'events_url': 'https://api.github.com/repos/snipergz/hci-teammate-finder/events', 'assignees_url': 'https://api.github.com/repos/snipergz/hci-teammate-finder/assignees{/user}', 'branches_url': 'https://api.github.com/repos/snipergz/hci-teammate-finder/branches{/branch}', 'tags_url': 'https://api.github.com/repos/snipergz/hci-teammate-finder/tags', 'blobs_url': 'https://api.github.com/repos/snipergz/hci-teammate-finder/git/blobs{/sha}', 'git_tags_url': 'https://api.github.com/repos/snipergz/hci-teammate-finder/git/tags{/sha}', 'git_refs_url': 'https://api.github.com/repos/snipergz/hci-teammate-finder/git/refs{/sha}', 'trees_url': 'https://api.github.com/repos/snipergz/hci-teammate-finder/git/trees{/sha}', 'statuses_url': 'https://api.github.com/repos/snipergz/hci-teammate-finder/statuses/{sha}', 'languages_url': 'https://api.github.com/repos/snipergz/hci-teammate-finder/languages', 'stargazers_url': 'https://api.github.com/repos/snipergz/hci-teammate-finder/stargazers', 'contributors_url': 'https://api.github.com/repos/snipergz/hci-teammate-finder/contributors', 'subscribers_url': 'https://api.github.com/repos/snipergz/hci-teammate-finder/subscribers', 'subscription_url': 'https://api.github.com/repos/snipergz/hci-teammate-finder/subscription', 'commits_url': 'https://api.github.com/repos/snipergz/hci-teammate-finder/commits{/sha}', 'git_commits_url': 'https://api.github.com/repos/snipergz/hci-teammate-finder/git/commits{/sha}', 'comments_url': 'https://api.github.com/repos/snipergz/hci-teammate-finder/comments{/number}', 'issue_comment_url': 'https://api.github.com/repos/snipergz/hci-teammate-finder/issues/comments{/number}', 'contents_url': 'https://api.github.com/repos/snipergz/hci-teammate-finder/contents/{+path}', 'compare_url': 'https://api.github.com/repos/snipergz/hci-teammate-finder/compare/{base}...{head}', 'merges_url': 'https://api.github.com/repos/snipergz/hci-teammate-finder/merges', 'archive_url': 'https://api.github.com/repos/snipergz/hci-teammate-finder/{archive_format}{/ref}', 'downloads_url': 'https://api.github.com/repos/snipergz/hci-teammate-finder/downloads', 'issues_url': 'https://api.github.com/repos/snipergz/hci-teammate-finder/issues{/number}', 'pulls_url': 'https://api.github.com/repos/snipergz/hci-teammate-finder/pulls{/number}', 'milestones_url': 'https://api.github.com/repos/snipergz/hci-teammate-finder/milestones{/number}', 'notifications_url': 'https://api.github.com/repos/snipergz/hci-teammate-finder/notifications{?since,all,participating}', 'labels_url': 'https://api.github.com/repos/snipergz/hci-teammate-finder/labels{/name}', 'releases_url': 'https://api.github.com/repos/snipergz/hci-teammate-finder/releases{/id}', 'deployments_url': 'https://api.github.com/repos/snipergz/hci-teammate-finder/deployments', 'created_at': '2025-07-17T00:03:38Z', 'updated_at': '2025-07-23T03:15:08Z', 'pushed_at': '2025-07-23T03:15:04Z', 'git_url': 'git://github.com/snipergz/hci-teammate-finder.git', 'ssh_url': 'git@github.com:snipergz/hci-teammate-finder.git', 'clone_url': 'https://github.com/snipergz/hci-teammate-finder.git', 'svn_url': 'https://github.com/snipergz/hci-teammate-finder', 'homepage': None, 'size': 89, 'stargazers_count': 0, 'watchers_count': 0, 'language': 'JavaScript', 'has_issues': True, 'has_projects': True, 'has_downloads': True, 'has_wiki': True, 'has_pages': True, 'has_discussions': False, 'forks_count': 1, 'mirror_url': None, 'archived': False, 'disabled': False, 'open_issues_count': 0, 'license': None, 'allow_forking': True, 'is_template': False, 'web_commit_signoff_required': False, 'topics': [], 'visibility': 'public', 'forks': 1, 'open_issues': 0, 'watchers': 0, 'default_branch': 'main'}}, '_links': {'self': {'href': 'https://api.github.com/repos/snipergz/hci-teammate-finder/pulls/8'}, 'html': {'href': 'https://github.com/snipergz/hci-teammate-finder/pull/8'}, 'issue': {'href': 'https://api.github.com/repos/snipergz/hci-teammate-finder/issues/8'}, 'comments': {'href': 'https://api.github.com/repos/snipergz/hci-teammate-finder/issues/8/comments'}, 'review_comments': {'href': 'https://api.github.com/repos/snipergz/hci-teammate-finder/pulls/8/comments'}, 'review_comment': {'href': 'https://api.github.com/repos/snipergz/hci-teammate-finder/pulls/comments{/number}'}, 'commits': {'href': 'https://api.github.com/repos/snipergz/hci-teammate-finder/pulls/8/commits'}, 'statuses': {'href': 'https://api.github.com/repos/snipergz/hci-teammate-finder/statuses/9949fa578ea028da7a25e2932d0d74ce1331cf31'}}, 'author_association': 'COLLABORATOR', 'auto_merge': None, 'active_lock_reason': None, 'merged': True, 'mergeable': None, 'rebaseable': None, 'mergeable_state': 'unknown', 'merged_by': {'login': 'ricardocirio', 'id': 31928888, 'node_id': 'MDQ6VXNlcjMxOTI4ODg4', 'avatar_url': 'https://avatars.githubusercontent.com/u/31928888?v=4', 'gravatar_id': '', 'url': 'https://api.github.com/users/ricardocirio', 'html_url': 'https://github.com/ricardocirio', 'followers_url': 'https://api.github.com/users/ricardocirio/followers', 'following_url': 'https://api.github.com/users/ricardocirio/following{/other_user}', 'gists_url': 'https://api.github.com/users/ricardocirio/gists{/gist_id}', 'starred_url': 'https://api.github.com/users/ricardocirio/starred{/owner}{/repo}', 'subscriptions_url': 'https://api.github.com/users/ricardocirio/subscriptions', 'organizations_url': 'https://api.github.com/users/ricardocirio/orgs', 'repos_url': 'https://api.github.com/users/ricardocirio/repos', 'events_url': 'https://api.github.com/users/ricardocirio/events{/privacy}', 'received_events_url': 'https://api.github.com/users/ricardocirio/received_events', 'type': 'User', 'user_view_type': 'public', 'site_admin': False}, 'comments': 0, 'review_comments': 0, 'maintainer_can_modify': False, 'commits': 7, 'additions': 418, 'deletions': 15, 'changed_files': 2}}, 'public': True, 'created_at': '2025-07-23T04:32:49Z'}]\n",
      "[{\"id\":\"52424705317\",\"type\":\"PushEvent\",\"actor\":{\"id\":38610494,\"login\":\"kaiyuanzhuadmin\",\"display_login\":\"kaiyuanzhuadmin\",\"gravatar_id\":\"\",\"url\":\"https://api.github.com/users/kaiyuanzhuadmin\",\"avatar_url\":\"https://avatars.githubusercontent.com/u/38610494?\"},\"repo\":{\"id\":1014600798,\"name\":\"kaiyuanzhuadmin/cat\",\"url\":\"https://api.github.com/repos/kaiyuanzhuadmin/cat\"},\"payload\":{\"repository_id\":1014600798,\"push_id\":25666155974,\"size\":1,\"distinct_size\":1,\"ref\":\"refs/heads/main\",\"head\":\"b04ec285cdc90155fb0e3e7baa00c83a496503df\",\"before\":\"b98fc6f2e6744fb1a1b08e1f6bf29b510a7cb5c9\",\"commits\":[{\"sha\":\"b04ec285cdc90155fb0e3e7baa00c83a496503df\",\"author\":{\"email\":\"38610494+kaiyuanzhuadmin@users.noreply.github.com\",\"name\":\"kaiyuanzhuadmin\"},\"message\":\"更新 index.html\",\"distinct\":true,\"url\":\"https://api.github.com/repos/kaiyuanzhuadmin/cat/commits/b04ec285cdc90155fb0e3e7baa00c83a496503df\"}]},\"public\":true,\"created_at\":\"2025-07-23T04:32:49Z\"},{\"id\":\"52424705345\",\"type\":\"PullRequestEvent\",\"actor\":{\"id\":49699333,\"login\":\"dependabot[bot]\",\"display_login\":\"dependabot\",\"gravatar_id\":\"\",\"url\":\"https://api.github.com/users/dependabot[bot]\",\"avatar_url\":\"https://avatars.githubusercontent.com/u/49699333?\"},\"repo\":{\"id\":1024667557,\"name\":\"haysamq/rest-assured-1753245044\",\"url\":\"https://api.github.com/repos/haysamq/rest-assured-1753245044\"},\"payload\":{\"action\":\"opened\",\"number\":7,\"pull_request\":{\"url\":\"https://api.github.com/repos/haysamq/rest-assured-1753245044/pulls/7\",\"id\":2687464976,\"node_id\":\"PR_kwDOPRMvpc6gL3YQ\",\"html_url\":\"https://github.com/haysamq/rest-assured-1753245044/pull/7\",\"diff_url\":\"https://github.com/haysamq/rest-assured-1753245044/pull/7.diff\",\"patch_url\":\"https://github.com/haysamq/rest-assured-1753245044/pull/7.patch\",\"issue_url\":\"https://api.github.com/repos/haysamq/rest-assured-1753245044/issues/7\",\"number\":7,\"state\":\"open\",\"locked\":false,\"title\":\"Bump spring.security.version from 5.1.13.RELEASE to 6.5.2\",\"user\":{\"login\":\"dependabot[bot]\",\"id\":49699333,\"node_id\":\"MDM6Qm90NDk2OTkzMzM=\",\"avatar_url\":\"https://avatars.githubusercontent.com/in/29110?v=4\",\"gravatar_id\":\"\",\"url\":\"https://api.github.com/users/dependabot%5Bbot%5D\",\"html_url\":\"https://github.com/apps/dependabot\",\"followers_url\":\"https://api.github.com/users/dependabot%5Bbot%5D/followers\",\"following_url\":\"https://api.github.com/users/dependabot%5Bbot%5D/following{/other_user}\",\"gists_url\":\"https://api.github.com/users/dependabot%5Bbot%5D/gists{/gist_id}\",\"starred_url\":\"https://api.github.com/users/dependabot%5Bbot%5D/starred{/owner}{/repo}\",\"subscriptions_url\":\"https://api.github.com/users/dependabot%5Bbot%5D/subscriptions\",\"organizations_url\":\"https://api.github.com/users/dependabot%5Bbot%5D/orgs\",\"repos_url\":\"https://api.github.com/users/dependabot%5Bbot%5D/repos\",\"events_url\":\"https://api.github.com/users/dependabot%5Bbot%5D/events{/privacy}\",\"received_events_url\":\"https://api.github.com/users/dependabot%5Bbot%5D/received_events\",\"type\":\"Bot\",\"user_view_type\":\"public\",\"site_admin\":false},\"body\":\"Bumps `spring.security.version` from 5.1.13.RELEASE to 6.5.2.\\nUpdates `org.springframework.security:spring-security-core` from 5.1.13.RELEASE to 6.5.2\\n<details>\\n<summary>Release notes</summary>\\n<p><em>Sourced from <a href=\\\"https://github.com/spring-projects/spring-security/releases\\\">org.springframework.security:spring-security-core's releases</a>.</em></p>\\n<blockquote>\\n<h2>6.5.2</h2>\\n<h2>:beetle: Bug Fixes</h2>\\n<ul>\\n<li><code>&lt;websocket-message-broker&gt;</code> should pick up a bean named <code>csrfChannelInterceptor</code> <a href=\\\"https://redirect.github.com/spring-projects/spring-security/issues/17495\\\">#17495</a></li>\\n<li>Add 7.0 Migration Steps for Messaging PathPattern Usage <a href=\\\"https://redirect.github.com/spring-projects/spring-security/issues/17509\\\">#17509</a></li>\\n<li>EnableReactiveMethodSecurity should not import Servlet configuration <a href=\\\"https://redirect.github.com/spring-projects/spring-security/issues/17545\\\">#17545</a></li>\\n<li>Fix equals and hashCode in <code>PathPatternRequestMatcher</code> to include HTTP method <a href=\\\"https://redirect.github.com/spring-projects/spring-security/pull/17337\\\">#17337</a></li>\\n<li>Fix securityContextRepository() initialization in oauth2Login() DSL <a href=\\\"https://redirect.github.com/spring-projects/spring-security/issues/17557\\\">#17557</a></li>\\n<li>OAuth2Login DSL should support post-processing AuthenticationProvider implementations <a href=\\\"https://redirect.github.com/spring-projects/spring-security/pull/17176\\\">#17176</a></li>\\n<li>Websocket XML config should pick up PathPatternMessageMatcher.Builder <a href=\\\"https://redirect.github.com/spring-projects/spring-security/issues/17508\\\">#17508</a></li>\\n</ul>\\n<h2>:hammer: Dependency Upgrades</h2>\\n<ul>\\n<li>Bump com.webauthn4j:webauthn4j-core from 0.29.3.RELEASE to 0.29.4.RELEASE <a href=\\\"https://redirect.github.com/spring-projects/spring-security/pull/17444\\\">#17444</a></li>\\n<li>Bump io-spring-javaformat from 0.0.46 to 0.0.47 [#17470](<a href=\\\"https://redirect.github.com/spring-projects/spring-security/pull/17470\\\">spring-projects/spring-security#17470</a></li>\\n<li>Bump io.micrometer:micrometer-observation from 1.14.8 to 1.14.9 [#17570](<a href=\\\"https://redirect.github.com/spring-projects/spring-security/pull/17570\\\">spring-projects/spring-security#17570</a></li>\\n<li>Bump io.mockk:mockk from 1.14.2 to 1.14.4 <a href=\\\"https://redirect.github.com/spring-projects/spring-security/pull/17467\\\">#17467</a></li>\\n<li>Bump io.mockk:mockk from 1.14.4 to 1.14.5 <a href=\\\"https://redirect.github.com/spring-projects/spring-security/pull/17572\\\">#17572</a></li>\\n<li>Bump org-apache-maven-resolver from 1.9.23 to 1.9.24 <a href=\\\"https://redirect.github.com/spring-projects/spring-security/pull/17469\\\">#17469</a></li>\\n<li>Bump org.apache.maven:maven-resolver-provider from 3.9.10 to 3.9.11 <a href=\\\"https://redirect.github.com/spring-projects/spring-security/pull/17555\\\">#17555</a></li>\\n<li>Bump org.hibernate.orm:hibernate-core from 6.6.17.Final to 6.6.20.Final <a href=\\\"https://redirect.github.com/spring-projects/spring-security/pull/17491\\\">#17491</a></li>\\n<li>Bump org.hibernate.orm:hibernate-core from 6.6.20.Final to 6.6.22.Final <a href=\\\"https://redirect.github.com/spring-projects/spring-security/pull/17571\\\">#17571</a></li>\\n<li>Bump org.springframework.data:spring-data-bom from 2024.1.6 to 2024.1.7 <a href=\\\"https://redirect.github.com/spring-projects/spring-security/pull/17466\\\">#17466</a></li>\\n<li>Bump org.springframework.data:spring-data-bom from 2024.1.7 to 2024.1.8 <a href=\\\"https://redirect.github.com/spring-projects/spring-security/pull/17569\\\">#17569</a></li>\\n<li>Bump org.springframework.ldap:spring-ldap-core from 3.2.12 to 3.2.13 <a href=\\\"https://redirect.github.com/spring-projects/spring-security/pull/17468\\\">#17468</a></li>\\n<li>Bump org.springframework:spring-framework-bom from 6.2.7 to 6.2.8 <a href=\\\"https://redirect.github.com/spring-projects/spring-security/pull/17481\\\">#17481</a></li>\\n<li>Bump org.springframework:spring-framework-bom from 6.2.8 to 6.2.9 <a href=\\\"https://redirect.github.com/spring-projects/spring-security/pull/17568\\\">#17568</a></li>\\n</ul>\\n<h2>:heart: Contributors</h2>\\n<p>Thank you to all the contributors who worked on this release:</p>\\n<p><a href=\\\"https://github.com/fkowal\\\"><code>@​fkowal</code></a> and <a href=\\\"https://github.com/therepanic\\\"><code>@​therepanic</code></a></p>\\n<h2>6.5.1</h2>\\n<h2>:star: New Features</h2>\\n<ul>\\n<li>Create demonstration of include-code usage <a href=\\\"https://redirect.github.com/spring-projects/spring-security/issues/17161\\\">#17161</a></li>\\n<li>Setup include-code extension for docs <a href=\\\"https://redirect.github.com/spring-projects/spring-security/issues/17160\\\">#17160</a></li>\\n</ul>\\n<h2>:beetle: Bug Fixes</h2>\\n<ul>\\n<li>ClearSiteDataHeaderWriter log is misleading <a href=\\\"https://redirect.github.com/spring-projects/spring-security/issues/17166\\\">#17166</a></li>\\n<li>Fix to allow multiple AuthenticationFilter instances to process each request <a href=\\\"https://redirect.github.com/spring-projects/spring-security/issues/17216\\\">#17216</a></li>\\n<li>Inconsistent constructor declaration on bean with name '_reactiveMethodSecurityConfiguration' <a href=\\\"https://redirect.github.com/spring-projects/spring-security/issues/17210\\\">#17210</a></li>\\n<li>OAuth2ResourceServer using authenticationManagerResolver results in <code>tokenAuthenticationManager cannot be null</code> while startup <a href=\\\"https://redirect.github.com/spring-projects/spring-security/issues/17172\\\">#17172</a></li>\\n<li>Publishing a default TargetVisitor should not override Spring MVC support <a href=\\\"https://redirect.github.com/spring-projects/spring-security/pull/17189\\\">#17189</a></li>\\n<li>Use HttpStatus in back-channel logout filters <a href=\\\"https://redirect.github.com/spring-projects/spring-security/issues/17157\\\">#17157</a></li>\\n</ul>\\n<h2>:hammer: Dependency Upgrades</h2>\\n<!-- raw HTML omitted -->\\n</blockquote>\\n<p>... (truncated)</p>\\n</details>\\n<details>\\n<summary>Changelog</summary>\\n<p><em>Sourced from <a href=\\\"https://github.com/spring-projects/spring-security/blob/main/RELEASE.adoc\\\">org.springframework.security:spring-security-core's changelog</a>.</em></p>\\n<blockquote>\\n<p>= Release Process</p>\\n<p>The release process for Spring Security is entirely automated via the <a href=\\\"https://github.com/spring-io/spring-security-release-tools/blob/main/release-plugin/README.adoc%5BSpring\\\">https://github.com/spring-io/spring-security-release-tools/blob/main/release-plugin/README.adoc[Spring</a> Security Release Plugin] and <a href=\\\"https://github.com/spring-io/spring-security-release-tools/tree/main/.github/workflows%5Breusable\\\">https://github.com/spring-io/spring-security-release-tools/tree/main/.github/workflows[reusable</a> workflows].\\nThe following table outlines the steps that are taken by the automation.</p>\\n<p>WARNING: The <code>5.8.x</code> branch does not have all of the improvements from the <code>6.x.x</code> branches. See &quot;Status (5.8.x)&quot; for which steps are still manual.</p>\\n<p>In case of a failure, you can follow the links below to read about each step, which includes instructions for performing the step manually if applicable.\\nSee &lt;&lt;frequently-asked-questions,FAQ&gt;&gt; for troubleshooting tips.</p>\\n<p>[cols=&quot;1,1,1&quot;]\\n|===\\n| Step | Status (5.8.x) | Status (6.0.x+)</p>\\n<p>| &lt;<!-- raw HTML omitted -->&gt;\\n| :white_check_mark: automated\\n| :white_check_mark: automated</p>\\n<p>| &lt;<!-- raw HTML omitted -->&gt;\\n| :white_check_mark: automated\\n| :white_check_mark: automated</p>\\n<p>| &lt;<!-- raw HTML omitted -->&gt;\\n| :white_check_mark: automated\\n| :white_check_mark: automated</p>\\n<p>| &lt;<!-- raw HTML omitted -->&gt;\\n| :white_check_mark: automated\\n| :white_check_mark: automated</p>\\n<p>| &lt;<!-- raw HTML omitted -->&gt;\\n| :white_check_mark: automated\\n| :white_check_mark: automated</p>\\n<p>| &lt;<!-- raw HTML omitted -->&gt;\\n| :white_check_mark: automated\\n| :white_check_mark: automated</p>\\n<p>| &lt;<!-- raw HTML omitted -->&gt;\\n| :white_check_mark: automated\\n| :white_check_mark: automated</p>\\n<p>| &lt;<!-- raw HTML omitted -->&gt;\\n| :x: manual\\n| :white_check_mark: automated</p>\\n<p>| &lt;&lt;close-create-milestone,Close milestone&gt;&gt;\\n| :x: manual\\n| :white_check_mark: automated</p>\\n<!-- raw HTML omitted -->\\n</blockquote>\\n<p>... (truncated)</p>\\n</details>\\n<details>\\n<summary>Commits</summary>\\n<ul>\\n<li><a href=\\\"https://github.com/spring-projects/spring-security/commit/3512fc76f3e4668ae7df36c3000e4a4873b9618c\\\"><code>3512fc7</code></a> Release 6.5.2</li>\\n<li><a href=\\\"https://github.com/spring-projects/spring-security/commit/90584ef8ceb399d23b6352cf5632f620a69faa13\\\"><code>90584ef</code></a> Merge branch '6.4.x' into 6.5.x</li>\\n<li><a href=\\\"https://github.com/spring-projects/spring-security/commit/7b606362f85ad5b853a246c0532898a7ec33b5b4\\\"><code>7b60636</code></a> Fix samples branch</li>\\n<li><a href=\\\"https://github.com/spring-projects/spring-security/commit/e38c059e7ccaa0875c972cb4e0d8cdd220e7d8fa\\\"><code>e38c059</code></a> Fix samples branch</li>\\n<li><a href=\\\"https://github.com/spring-projects/spring-security/commit/80ccb9b3cfe8c506ea1c8c285fee39c3af4b0499\\\"><code>80ccb9b</code></a> Merge branch '6.4.x' into 6.5.x</li>\\n<li><a href=\\\"https://github.com/spring-projects/spring-security/commit/829af961f03a83053b03680b063c794935439bc0\\\"><code>829af96</code></a> Use Meaningful Configurer Names in Test</li>\\n<li><a href=\\\"https://github.com/spring-projects/spring-security/commit/fca704e61f80e1959fa3034a84eafe1ebe7c4b4c\\\"><code>fca704e</code></a> Fix getConfigurersInInitializing Semantics</li>\\n<li><a href=\\\"https://github.com/spring-projects/spring-security/commit/ea9dd2728ec9df922fe6844aeae0c851d74a4c96\\\"><code>ea9dd27</code></a> Support add nested security configurers during builder initialization</li>\\n<li><a href=\\\"https://github.com/spring-projects/spring-security/commit/409f845db25dc5bef1e224f099bf24c45dd55d54\\\"><code>409f845</code></a> Merge branch '6.4.x' into 6.5.x</li>\\n<li><a href=\\\"https://github.com/spring-projects/spring-security/commit/258aa66f0d9b1133f950dbe281b0432df7eeb47e\\\"><code>258aa66</code></a> Merge branch '6.3.x' into 6.4.x</li>\\n<li>Additional commits viewable in <a href=\\\"https://github.com/spring-projects/spring-security/compare/5.1.13.RELEASE...6.5.2\\\">compare view</a></li>\\n</ul>\\n</details>\\n<br />\\n\\nUpdates `org.springframework.security:spring-security-test` from 5.1.13.RELEASE to 6.5.2\\n<details>\\n<summary>Release notes</summary>\\n<p><em>Sourced from <a href=\\\"https://github.com/spring-projects/spring-security/releases\\\">org.springframework.security:spring-security-test's releases</a>.</em></p>\\n<blockquote>\\n<h2>6.5.2</h2>\\n<h2>:beetle: Bug Fixes</h2>\\n<ul>\\n<li><code>&lt;websocket-message-broker&gt;</code> should pick up a bean named <code>csrfChannelInterceptor</code> <a href=\\\"https://redirect.github.com/spring-projects/spring-security/issues/17495\\\">#17495</a></li>\\n<li>Add 7.0 Migration Steps for Messaging PathPattern Usage <a href=\\\"https://redirect.github.com/spring-projects/spring-security/issues/17509\\\">#17509</a></li>\\n<li>EnableReactiveMethodSecurity should not import Servlet configuration <a href=\\\"https://redirect.github.com/spring-projects/spring-security/issues/17545\\\">#17545</a></li>\\n<li>Fix equals and hashCode in <code>PathPatternRequestMatcher</code> to include HTTP method <a href=\\\"https://redirect.github.com/spring-projects/spring-security/pull/17337\\\">#17337</a></li>\\n<li>Fix securityContextRepository() initialization in oauth2Login() DSL <a href=\\\"https://redirect.github.com/spring-projects/spring-security/issues/17557\\\">#17557</a></li>\\n<li>OAuth2Login DSL should support post-processing AuthenticationProvider implementations <a href=\\\"https://redirect.github.com/spring-projects/spring-security/pull/17176\\\">#17176</a></li>\\n<li>Websocket XML config should pick up PathPatternMessageMatcher.Builder <a href=\\\"https://redirect.github.com/spring-projects/spring-security/issues/17508\\\">#17508</a></li>\\n</ul>\\n<h2>:hammer: Dependency Upgrades</h2>\\n<ul>\\n<li>Bump com.webauthn4j:webauthn4j-core from 0.29.3.RELEASE to 0.29.4.RELEASE <a href=\\\"https://redirect.github.com/spring-projects/spring-security/pull/17444\\\">#17444</a></li>\\n<li>Bump io-spring-javaformat from 0.0.46 to 0.0.47 [#17470](<a href=\\\"https://redirect.github.com/spring-projects/spring-security/pull/17470\\\">spring-projects/spring-security#17470</a></li>\\n<li>Bump io.micrometer:micrometer-observation from 1.14.8 to 1.14.9 [#17570](<a href=\\\"https://redirect.github.com/spring-projects/spring-security/pull/17570\\\">spring-projects/spring-security#17570</a></li>\\n<li>Bump io.mockk:mockk from 1.14.2 to 1.14.4 <a href=\\\"https://redirect.github.com/spring-projects/spring-security/pull/17467\\\">#17467</a></li>\\n<li>Bump io.mockk:mockk from 1.14.4 to 1.14.5 <a href=\\\"https://redirect.github.com/spring-projects/spring-security/pull/17572\\\">#17572</a></li>\\n<li>Bump org-apache-maven-resolver from 1.9.23 to 1.9.24 <a href=\\\"https://redirect.github.com/spring-projects/spring-security/pull/17469\\\">#17469</a></li>\\n<li>Bump org.apache.maven:maven-resolver-provider from 3.9.10 to 3.9.11 <a href=\\\"https://redirect.github.com/spring-projects/spring-security/pull/17555\\\">#17555</a></li>\\n<li>Bump org.hibernate.orm:hibernate-core from 6.6.17.Final to 6.6.20.Final <a href=\\\"https://redirect.github.com/spring-projects/spring-security/pull/17491\\\">#17491</a></li>\\n<li>Bump org.hibernate.orm:hibernate-core from 6.6.20.Final to 6.6.22.Final <a href=\\\"https://redirect.github.com/spring-projects/spring-security/pull/17571\\\">#17571</a></li>\\n<li>Bump org.springframework.data:spring-data-bom from 2024.1.6 to 2024.1.7 <a href=\\\"https://redirect.github.com/spring-projects/spring-security/pull/17466\\\">#17466</a></li>\\n<li>Bump org.springframework.data:spring-data-bom from 2024.1.7 to 2024.1.8 <a href=\\\"https://redirect.github.com/spring-projects/spring-security/pull/17569\\\">#17569</a></li>\\n<li>Bump org.springframework.ldap:spring-ldap-core from 3.2.12 to 3.2.13 <a href=\\\"https://redirect.github.com/spring-projects/spring-security/pull/17468\\\">#17468</a></li>\\n<li>Bump org.springframework:spring-framework-bom from 6.2.7 to 6.2.8 <a href=\\\"https://redirect.github.com/spring-projects/spring-security/pull/17481\\\">#17481</a></li>\\n<li>Bump org.springframework:spring-framework-bom from 6.2.8 to 6.2.9 <a href=\\\"https://redirect.github.com/spring-projects/spring-security/pull/17568\\\">#17568</a></li>\\n</ul>\\n<h2>:heart: Contributors</h2>\\n<p>Thank you to all the contributors who worked on this release:</p>\\n<p><a href=\\\"https://github.com/fkowal\\\"><code>@​fkowal</code></a> and <a href=\\\"https://github.com/therepanic\\\"><code>@​therepanic</code></a></p>\\n<h2>6.5.1</h2>\\n<h2>:star: New Features</h2>\\n<ul>\\n<li>Create demonstration of include-code usage <a href=\\\"https://redirect.github.com/spring-projects/spring-security/issues/17161\\\">#17161</a></li>\\n<li>Setup include-code extension for docs <a href=\\\"https://redirect.github.com/spring-projects/spring-security/issues/17160\\\">#17160</a></li>\\n</ul>\\n<h2>:beetle: Bug Fixes</h2>\\n<ul>\\n<li>ClearSiteDataHeaderWriter log is misleading <a href=\\\"https://redirect.github.com/spring-projects/spring-security/issues/17166\\\">#17166</a></li>\\n<li>Fix to allow multiple AuthenticationFilter instances to process each request <a href=\\\"https://redirect.github.com/spring-projects/spring-security/issues/17216\\\">#17216</a></li>\\n<li>Inconsistent constructor declaration on bean with name '_reactiveMethodSecurityConfiguration' <a href=\\\"https://redirect.github.com/spring-projects/spring-security/issues/17210\\\">#17210</a></li>\\n<li>OAuth2ResourceServer using authenticationManagerResolver results in <code>tokenAuthenticationManager cannot be null</code> while startup <a href=\\\"https://redirect.github.com/spring-projects/spring-security/issues/17172\\\">#17172</a></li>\\n<li>Publishing a default TargetVisitor should not override Spring MVC support <a href=\\\"https://redirect.github.com/spring-projects/spring-security/pull/17189\\\">#17189</a></li>\\n<li>Use HttpStatus in back-channel logout filters <a href=\\\"https://redirect.github.com/spring-projects/spring-security/issues/17157\\\">#17157</a></li>\\n</ul>\\n<h2>:hammer: Dependency Upgrades</h2>\\n<!-- raw HTML omitted -->\\n</blockquote>\\n<p>... (truncated)</p>\\n</details>\\n<details>\\n<summary>Changelog</summary>\\n<p><em>Sourced from <a href=\\\"https://github.com/spring-projects/spring-security/blob/main/RELEASE.adoc\\\">org.springframework.security:spring-security-test's changelog</a>.</em></p>\\n<blockquote>\\n<p>= Release Process</p>\\n<p>The release process for Spring Security is entirely automated via the <a href=\\\"https://github.com/spring-io/spring-security-release-tools/blob/main/release-plugin/README.adoc%5BSpring\\\">https://github.com/spring-io/spring-security-release-tools/blob/main/release-plugin/README.adoc[Spring</a> Security Release Plugin] and <a href=\\\"https://github.com/spring-io/spring-security-release-tools/tree/main/.github/workflows%5Breusable\\\">https://github.com/spring-io/spring-security-release-tools/tree/main/.github/workflows[reusable</a> workflows].\\nThe following table outlines the steps that are taken by the automation.</p>\\n<p>WARNING: The <code>5.8.x</code> branch does not have all of the improvements from the <code>6.x.x</code> branches. See &quot;Status (5.8.x)&quot; for which steps are still manual.</p>\\n<p>In case of a failure, you can follow the links below to read about each step, which includes instructions for performing the step manually if applicable.\\nSee &lt;&lt;frequently-asked-questions,FAQ&gt;&gt; for troubleshooting tips.</p>\\n<p>[cols=&quot;1,1,1&quot;]\\n|===\\n| Step | Status (5.8.x) | Status (6.0.x+)</p>\\n<p>| &lt;<!-- raw HTML omitted -->&gt;\\n| :white_check_mark: automated\\n| :white_check_mark: automated</p>\\n<p>| &lt;<!-- raw HTML omitted -->&gt;\\n| :white_check_mark: automated\\n| :white_check_mark: automated</p>\\n<p>| &lt;<!-- raw HTML omitted -->&gt;\\n| :white_check_mark: automated\\n| :white_check_mark: automated</p>\\n<p>| &lt;<!-- raw HTML omitted -->&gt;\\n| :white_check_mark: automated\\n| :white_check_mark: automated</p>\\n<p>| &lt;<!-- raw HTML omitted -->&gt;\\n| :white_check_mark: automated\\n| :white_check_mark: automated</p>\\n<p>| &lt;<!-- raw HTML omitted -->&gt;\\n| :white_check_mark: automated\\n| :white_check_mark: automated</p>\\n<p>| &lt;<!-- raw HTML omitted -->&gt;\\n| :white_check_mark: automated\\n| :white_check_mark: automated</p>\\n<p>| &lt;<!-- raw HTML omitted -->&gt;\\n| :x: manual\\n| :white_check_mark: automated</p>\\n<p>| &lt;&lt;close-create-milestone,Close milestone&gt;&gt;\\n| :x: manual\\n| :white_check_mark: automated</p>\\n<!-- raw HTML omitted -->\\n</blockquote>\\n<p>... (truncated)</p>\\n</details>\\n<details>\\n<summary>Commits</summary>\\n<ul>\\n<li><a href=\\\"https://github.com/spring-projects/spring-security/commit/3512fc76f3e4668ae7df36c3000e4a4873b9618c\\\"><code>3512fc7</code></a> Release 6.5.2</li>\\n<li><a href=\\\"https://github.com/spring-projects/spring-security/commit/90584ef8ceb399d23b6352cf5632f620a69faa13\\\"><code>90584ef</code></a> Merge branch '6.4.x' into 6.5.x</li>\\n<li><a href=\\\"https://github.com/spring-projects/spring-security/commit/7b606362f85ad5b853a246c0532898a7ec33b5b4\\\"><code>7b60636</code></a> Fix samples branch</li>\\n<li><a href=\\\"https://github.com/spring-projects/spring-security/commit/e38c059e7ccaa0875c972cb4e0d8cdd220e7d8fa\\\"><code>e38c059</code></a> Fix samples branch</li>\\n<li><a href=\\\"https://github.com/spring-projects/spring-security/commit/80ccb9b3cfe8c506ea1c8c285fee39c3af4b0499\\\"><code>80ccb9b</code></a> Merge branch '6.4.x' into 6.5.x</li>\\n<li><a href=\\\"https://github.com/spring-projects/spring-security/commit/829af961f03a83053b03680b063c794935439bc0\\\"><code>829af96</code></a> Use Meaningful Configurer Names in Test</li>\\n<li><a href=\\\"https://github.com/spring-projects/spring-security/commit/fca704e61f80e1959fa3034a84eafe1ebe7c4b4c\\\"><code>fca704e</code></a> Fix getConfigurersInInitializing Semantics</li>\\n<li><a href=\\\"https://github.com/spring-projects/spring-security/commit/ea9dd2728ec9df922fe6844aeae0c851d74a4c96\\\"><code>ea9dd27</code></a> Support add nested security configurers during builder initialization</li>\\n<li><a href=\\\"https://github.com/spring-projects/spring-security/commit/409f845db25dc5bef1e224f099bf24c45dd55d54\\\"><code>409f845</code></a> Merge branch '6.4.x' into 6.5.x</li>\\n<li><a href=\\\"https://github.com/spring-projects/spring-security/commit/258aa66f0d9b1133f950dbe281b0432df7eeb47e\\\"><code>258aa66</code></a> Merge branch '6.3.x' into 6.4.x</li>\\n<li>Additional commits viewable in <a href=\\\"https://github.com/spring-projects/spring-security/compare/5.1.13.RELEASE...6.5.2\\\">compare view</a></li>\\n</ul>\\n</details>\\n<br />\\n\\n\\nDependabot will resolve any conflicts with this PR as long as you don't alter it yourself. You can also trigger a rebase manually by commenting `@dependabot rebase`.\\n\\n[//]: # (dependabot-automerge-start)\\n[//]: # (dependabot-automerge-end)\\n\\n---\\n\\n<details>\\n<summary>Dependabot commands and options</summary>\\n<br />\\n\\nYou can trigger Dependabot actions by commenting on this PR:\\n- `@dependabot rebase` will rebase this PR\\n- `@dependabot recreate` will recreate this PR, overwriting any edits that have been made to it\\n- `@dependabot merge` will merge this PR after your CI passes on it\\n- `@dependabot squash and merge` will squash and merge this PR after your CI passes on it\\n- `@dependabot cancel merge` will cancel a previously requested merge and block automerging\\n- `@dependabot reopen` will reopen this PR if it is closed\\n- `@dependabot close` will close this PR and stop Dependabot recreating it. You can achieve the same result by closing it manually\\n- `@dependabot show <dependency name> ignore conditions` will show all of the ignore conditions of the specified dependency\\n- `@dependabot ignore this major version` will close this PR and stop Dependabot creating any more for this major version (unless you reopen the PR or upgrade to it yourself)\\n- `@dependabot ignore this minor version` will close this PR and stop Dependabot creating any more for this minor version (unless you reopen the PR or upgrade to it yourself)\\n- `@dependabot ignore this dependency` will close this PR and stop Dependabot creating any more for this dependency (unless you reopen the PR or upgrade to it yourself)\\n\\n\\n</details>\",\"created_at\":\"2025-07-23T04:32:48Z\",\"updated_at\":\"2025-07-23T04:32:48Z\",\"closed_at\":null,\"merged_at\":null,\"merge_commit_sha\":null,\"assignee\":null,\"assignees\":[],\"requested_reviewers\":[],\"requested_teams\":[],\"labels\":[{\"id\":8988480236,\"node_id\":\"LA_kwDOPRMvpc8AAAACF8FS7A\",\"url\":\"https://api.github.com/repos/haysamq/rest-assured-1753245044/labels/dependencies\",\"name\":\"dependencies\",\"color\":\"0366d6\",\"default\":false,\"description\":\"Pull requests that update a dependency file\"},{\"id\":8988480749,\"node_id\":\"LA_kwDOPRMvpc8AAAACF8FU7Q\",\"url\":\"https://api.github.com/repos/haysamq/rest-assured-1753245044/labels/java\",\"name\":\"java\",\"color\":\"ffa221\",\"default\":false,\"description\":\"Pull requests that update java code\"}],\"milestone\":null,\"draft\":false,\"commits_url\":\"https://api.github.com/repos/haysamq/rest-assured-1753245044/pulls/7/commits\",\"review_comments_url\":\"https://api.github.com/repos/haysamq/rest-assured-1753245044/pulls/7/comments\",\"review_comment_url\":\"https://api.github.com/repos/haysamq/rest-assured-1753245044/pulls/comments{/number}\",\"comments_url\":\"https://api.github.com/repos/haysamq/rest-assured-1753245044/issues/7/comments\",\"statuses_url\":\"https://api.github.com/repos/haysamq/rest-assured-1753245044/statuses/d25c0ad35a3417733565834b9d0d4ef21a86ef3d\",\"head\":{\"label\":\"haysamq:dependabot/maven/spring.security.version-6.5.2\",\"ref\":\"dependabot/maven/spring.security.version-6.5.2\",\"sha\":\"d25c0ad35a3417733565834b9d0d4ef21a86ef3d\",\"user\":{\"login\":\"haysamq\",\"id\":169240831,\"node_id\":\"U_kgDOChZo_w\",\"avatar_url\":\"https://avatars.githubusercontent.com/u/169240831?v=4\",\"gravatar_id\":\"\",\"url\":\"https://api.github.com/users/haysamq\",\"html_url\":\"https://github.com/haysamq\",\"followers_url\":\"https://api.github.com/users/haysamq/followers\",\"following_url\":\"https://api.github.com/users/haysamq/following{/other_user}\",\"gists_url\":\"https://api.github.com/users/haysamq/gists{/gist_id}\",\"starred_url\":\"https://api.github.com/users/haysamq/starred{/owner}{/repo}\",\"subscriptions_url\":\"https://api.github.com/users/haysamq/subscriptions\",\"organizations_url\":\"https://api.github.com/users/haysamq/orgs\",\"repos_url\":\"https://api.github.com/users/haysamq/repos\",\"events_url\":\"https://api.github.com/users/haysamq/events{/privacy}\",\"received_events_url\":\"https://api.github.com/users/haysamq/received_events\",\"type\":\"User\",\"user_view_type\":\"public\",\"site_admin\":false},\"repo\":{\"id\":1024667557,\"node_id\":\"R_kgDOPRMvpQ\",\"name\":\"rest-assured-1753245044\",\"full_name\":\"haysamq/rest-assured-1753245044\",\"private\":false,\"owner\":{\"login\":\"haysamq\",\"id\":169240831,\"node_id\":\"U_kgDOChZo_w\",\"avatar_url\":\"https://avatars.githubusercontent.com/u/169240831?v=4\",\"gravatar_id\":\"\",\"url\":\"https://api.github.com/users/haysamq\",\"html_url\":\"https://github.com/haysamq\",\"followers_url\":\"https://api.github.com/users/haysamq/followers\",\"following_url\":\"https://api.github.com/users/haysamq/following{/other_user}\",\"gists_url\":\"https://api.github.com/users/haysamq/gists{/gist_id}\",\"starred_url\":\"https://api.github.com/users/haysamq/starred{/owner}{/repo}\",\"subscriptions_url\":\"https://api.github.com/users/haysamq/subscriptions\",\"organizations_url\":\"https://api.github.com/users/haysamq/orgs\",\"repos_url\":\"https://api.github.com/users/haysamq/repos\",\"events_url\":\"https://api.github.com/users/haysamq/events{/privacy}\",\"received_events_url\":\"https://api.github.com/users/haysamq/received_events\",\"type\":\"User\",\"user_view_type\":\"public\",\"site_admin\":false},\"html_url\":\"https://github.com/haysamq/rest-assured-1753245044\",\"description\":null,\"fork\":false,\"url\":\"https://api.github.com/repos/haysamq/rest-assured-1753245044\",\"forks_url\":\"https://api.github.com/repos/haysamq/rest-assured-1753245044/forks\",\"keys_url\":\"https://api.github.com/repos/haysamq/rest-assured-1753245044/keys{/key_id}\",\"collaborators_url\":\"https://api.github.com/repos/haysamq/rest-assured-1753245044/collaborators{/collaborator}\",\"teams_url\":\"https://api.github.com/repos/haysamq/rest-assured-1753245044/teams\",\"hooks_url\":\"https://api.github.com/repos/haysamq/rest-assured-1753245044/hooks\",\"issue_events_url\":\"https://api.github.com/repos/haysamq/rest-assured-1753245044/issues/events{/number}\",\"events_url\":\"https://api.github.com/repos/haysamq/rest-assured-1753245044/events\",\"assignees_url\":\"https://api.github.com/repos/haysamq/rest-assured-1753245044/assignees{/user}\",\"branches_url\":\"https://api.github.com/repos/haysamq/rest-assured-1753245044/branches{/branch}\",\"tags_url\":\"https://api.github.com/repos/haysamq/rest-assured-1753245044/tags\",\"blobs_url\":\"https://api.github.com/repos/haysamq/rest-assured-1753245044/git/blobs{/sha}\",\"git_tags_url\":\"https://api.github.com/repos/haysamq/rest-assured-1753245044/git/tags{/sha}\",\"git_refs_url\":\"https://api.github.com/repos/haysamq/rest-assured-1753245044/git/refs{/sha}\",\"trees_url\":\"https://api.github.com/repos/haysamq/rest-assured-1753245044/git/trees{/sha}\",\"statuses_url\":\"https://api.github.com/repos/haysamq/rest-assured-1753245044/statuses/{sha}\",\"languages_url\":\"https://api.github.com/repos/haysamq/rest-assured-1753245044/languages\",\"stargazers_url\":\"https://api.github.com/repos/haysamq/rest-assured-1753245044/stargazers\",\"contributors_url\":\"https://api.github.com/repos/haysamq/rest-assured-1753245044/contributors\",\"subscribers_url\":\"https://api.github.com/repos/haysamq/rest-assured-1753245044/subscribers\",\"subscription_url\":\"https://api.github.com/repos/haysamq/rest-assured-1753245044/subscription\",\"commits_url\":\"https://api.github.com/repos/haysamq/rest-assured-1753245044/commits{/sha}\",\"git_commits_url\":\"https://api.github.com/repos/haysamq/rest-assured-1753245044/git/commits{/sha}\",\"comments_url\":\"https://api.github.com/repos/haysamq/rest-assured-1753245044/comments{/number}\",\"issue_comment_url\":\"https://api.github.com/repos/haysamq/rest-assured-1753245044/issues/comments{/number}\",\"contents_url\":\"https://api.github.com/repos/haysamq/rest-assured-1753245044/contents/{+path}\",\"compare_url\":\"https://api.github.com/repos/haysamq/rest-assured-1753245044/compare/{base}...{head}\",\"merges_url\":\"https://api.github.com/repos/haysamq/rest-assured-1753245044/merges\",\"archive_url\":\"https://api.github.com/repos/haysamq/rest-assured-1753245044/{archive_format}{/ref}\",\"downloads_url\":\"https://api.github.com/repos/haysamq/rest-assured-1753245044/downloads\",\"issues_url\":\"https://api.github.com/repos/haysamq/rest-assured-1753245044/issues{/number}\",\"pulls_url\":\"https://api.github.com/repos/haysamq/rest-assured-1753245044/pulls{/number}\",\"milestones_url\":\"https://api.github.com/repos/haysamq/rest-assured-1753245044/milestones{/number}\",\"notifications_url\":\"https://api.github.com/repos/haysamq/rest-assured-1753245044/notifications{?since,all,participating}\",\"labels_url\":\"https://api.github.com/repos/haysamq/rest-assured-1753245044/labels{/name}\",\"releases_url\":\"https://api.github.com/repos/haysamq/rest-assured-1753245044/releases{/id}\",\"deployments_url\":\"https://api.github.com/repos/haysamq/rest-assured-1753245044/deployments\",\"created_at\":\"2025-07-23T04:30:46Z\",\"updated_at\":\"2025-07-23T04:31:05Z\",\"pushed_at\":\"2025-07-23T04:32:47Z\",\"git_url\":\"git://github.com/haysamq/rest-assured-1753245044.git\",\"ssh_url\":\"git@github.com:haysamq/rest-assured-1753245044.git\",\"clone_url\":\"https://github.com/haysamq/rest-assured-1753245044.git\",\"svn_url\":\"https://github.com/haysamq/rest-assured-1753245044\",\"homepage\":null,\"size\":0,\"stargazers_count\":0,\"watchers_count\":0,\"language\":\"Java\",\"has_issues\":true,\"has_projects\":true,\"has_downloads\":true,\"has_wiki\":true,\"has_pages\":false,\"has_discussions\":false,\"forks_count\":0,\"mirror_url\":null,\"archived\":false,\"disabled\":false,\"open_issues_count\":7,\"license\":null,\"allow_forking\":true,\"is_template\":false,\"web_commit_signoff_required\":false,\"topics\":[],\"visibility\":\"public\",\"forks\":0,\"open_issues\":7,\"watchers\":0,\"default_branch\":\"main\"}},\"base\":{\"label\":\"haysamq:main\",\"ref\":\"main\",\"sha\":\"67ebd6a56790b5a38eb926e94dca22fce561b199\",\"user\":{\"login\":\"haysamq\",\"id\":169240831,\"node_id\":\"U_kgDOChZo_w\",\"avatar_url\":\"https://avatars.githubusercontent.com/u/169240831?v=4\",\"gravatar_id\":\"\",\"url\":\"https://api.github.com/users/haysamq\",\"html_url\":\"https://github.com/haysamq\",\"followers_url\":\"https://api.github.com/users/haysamq/followers\",\"following_url\":\"https://api.github.com/users/haysamq/following{/other_user}\",\"gists_url\":\"https://api.github.com/users/haysamq/gists{/gist_id}\",\"starred_url\":\"https://api.github.com/users/haysamq/starred{/owner}{/repo}\",\"subscriptions_url\":\"https://api.github.com/users/haysamq/subscriptions\",\"organizations_url\":\"https://api.github.com/users/haysamq/orgs\",\"repos_url\":\"https://api.github.com/users/haysamq/repos\",\"events_url\":\"https://api.github.com/users/haysamq/events{/privacy}\",\"received_events_url\":\"https://api.github.com/users/haysamq/received_events\",\"type\":\"User\",\"user_view_type\":\"public\",\"site_admin\":false},\"repo\":{\"id\":1024667557,\"node_id\":\"R_kgDOPRMvpQ\",\"name\":\"rest-assured-1753245044\",\"full_name\":\"haysamq/rest-assured-1753245044\",\"private\":false,\"owner\":{\"login\":\"haysamq\",\"id\":169240831,\"node_id\":\"U_kgDOChZo_w\",\"avatar_url\":\"https://avatars.githubusercontent.com/u/169240831?v=4\",\"gravatar_id\":\"\",\"url\":\"https://api.github.com/users/haysamq\",\"html_url\":\"https://github.com/haysamq\",\"followers_url\":\"https://api.github.com/users/haysamq/followers\",\"following_url\":\"https://api.github.com/users/haysamq/following{/other_user}\",\"gists_url\":\"https://api.github.com/users/haysamq/gists{/gist_id}\",\"starred_url\":\"https://api.github.com/users/haysamq/starred{/owner}{/repo}\",\"subscriptions_url\":\"https://api.github.com/users/haysamq/subscriptions\",\"organizations_url\":\"https://api.github.com/users/haysamq/orgs\",\"repos_url\":\"https://api.github.com/users/haysamq/repos\",\"events_url\":\"https://api.github.com/users/haysamq/events{/privacy}\",\"received_events_url\":\"https://api.github.com/users/haysamq/received_events\",\"type\":\"User\",\"user_view_type\":\"public\",\"site_admin\":false},\"html_url\":\"https://github.com/haysamq/rest-assured-1753245044\",\"description\":null,\"fork\":false,\"url\":\"https://api.github.com/repos/haysamq/rest-assured-1753245044\",\"forks_url\":\"https://api.github.com/repos/haysamq/rest-assured-1753245044/forks\",\"keys_url\":\"https://api.github.com/repos/haysamq/rest-assured-1753245044/keys{/key_id}\",\"collaborators_url\":\"https://api.github.com/repos/haysamq/rest-assured-1753245044/collaborators{/collaborator}\",\"teams_url\":\"https://api.github.com/repos/haysamq/rest-assured-1753245044/teams\",\"hooks_url\":\"https://api.github.com/repos/haysamq/rest-assured-1753245044/hooks\",\"issue_events_url\":\"https://api.github.com/repos/haysamq/rest-assured-1753245044/issues/events{/number}\",\"events_url\":\"https://api.github.com/repos/haysamq/rest-assured-1753245044/events\",\"assignees_url\":\"https://api.github.com/repos/haysamq/rest-assured-1753245044/assignees{/user}\",\"branches_url\":\"https://api.github.com/repos/haysamq/rest-assured-1753245044/branches{/branch}\",\"tags_url\":\"https://api.github.com/repos/haysamq/rest-assured-1753245044/tags\",\"blobs_url\":\"https://api.github.com/repos/haysamq/rest-assured-1753245044/git/blobs{/sha}\",\"git_tags_url\":\"https://api.github.com/repos/haysamq/rest-assured-1753245044/git/tags{/sha}\",\"git_refs_url\":\"https://api.github.com/repos/haysamq/rest-assured-1753245044/git/refs{/sha}\",\"trees_url\":\"https://api.github.com/repos/haysamq/rest-assured-1753245044/git/trees{/sha}\",\"statuses_url\":\"https://api.github.com/repos/haysamq/rest-assured-1753245044/statuses/{sha}\",\"languages_url\":\"https://api.github.com/repos/haysamq/rest-assured-1753245044/languages\",\"stargazers_url\":\"https://api.github.com/repos/haysamq/rest-assured-1753245044/stargazers\",\"contributors_url\":\"https://api.github.com/repos/haysamq/rest-assured-1753245044/contributors\",\"subscribers_url\":\"https://api.github.com/repos/haysamq/rest-assured-1753245044/subscribers\",\"subscription_url\":\"https://api.github.com/repos/haysamq/rest-assured-1753245044/subscription\",\"commits_url\":\"https://api.github.com/repos/haysamq/rest-assured-1753245044/commits{/sha}\",\"git_commits_url\":\"https://api.github.com/repos/haysamq/rest-assured-1753245044/git/commits{/sha}\",\"comments_url\":\"https://api.github.com/repos/haysamq/rest-assured-1753245044/comments{/number}\",\"issue_comment_url\":\"https://api.github.com/repos/haysamq/rest-assured-1753245044/issues/comments{/number}\",\"contents_url\":\"https://api.github.com/repos/haysamq/rest-assured-1753245044/contents/{+path}\",\"compare_url\":\"https://api.github.com/repos/haysamq/rest-assured-1753245044/compare/{base}...{head}\",\"merges_url\":\"https://api.github.com/repos/haysamq/rest-assured-1753245044/merges\",\"archive_url\":\"https://api.github.com/repos/haysamq/rest-assured-1753245044/{archive_format}{/ref}\",\"downloads_url\":\"https://api.github.com/repos/haysamq/rest-assured-1753245044/downloads\",\"issues_url\":\"https://api.github.com/repos/haysamq/rest-assured-1753245044/issues{/number}\",\"pulls_url\":\"https://api.github.com/repos/haysamq/rest-assured-1753245044/pulls{/number}\",\"milestones_url\":\"https://api.github.com/repos/haysamq/rest-assured-1753245044/milestones{/number}\",\"notifications_url\":\"https://api.github.com/repos/haysamq/rest-assured-1753245044/notifications{?since,all,participating}\",\"labels_url\":\"https://api.github.com/repos/haysamq/rest-assured-1753245044/labels{/name}\",\"releases_url\":\"https://api.github.com/repos/haysamq/rest-assured-1753245044/releases{/id}\",\"deployments_url\":\"https://api.github.com/repos/haysamq/rest-assured-1753245044/deployments\",\"created_at\":\"2025-07-23T04:30:46Z\",\"updated_at\":\"2025-07-23T04:31:05Z\",\"pushed_at\":\"2025-07-23T04:32:47Z\",\"git_url\":\"git://github.com/haysamq/rest-assured-1753245044.git\",\"ssh_url\":\"git@github.com:haysamq/rest-assured-1753245044.git\",\"clone_url\":\"https://github.com/haysamq/rest-assured-1753245044.git\",\"svn_url\":\"https://github.com/haysamq/rest-assured-1753245044\",\"homepage\":null,\"size\":0,\"stargazers_count\":0,\"watchers_count\":0,\"language\":\"Java\",\"has_issues\":true,\"has_projects\":true,\"has_downloads\":true,\"has_wiki\":true,\"has_pages\":false,\"has_discussions\":false,\"forks_count\":0,\"mirror_url\":null,\"archived\":false,\"disabled\":false,\"open_issues_count\":7,\"license\":null,\"allow_forking\":true,\"is_template\":false,\"web_commit_signoff_required\":false,\"topics\":[],\"visibility\":\"public\",\"forks\":0,\"open_issues\":7,\"watchers\":0,\"default_branch\":\"main\"}},\"_links\":{\"self\":{\"href\":\"https://api.github.com/repos/haysamq/rest-assured-1753245044/pulls/7\"},\"html\":{\"href\":\"https://github.com/haysamq/rest-assured-1753245044/pull/7\"},\"issue\":{\"href\":\"https://api.github.com/repos/haysamq/rest-assured-1753245044/issues/7\"},\"comments\":{\"href\":\"https://api.github.com/repos/haysamq/rest-assured-1753245044/issues/7/comments\"},\"review_comments\":{\"href\":\"https://api.github.com/repos/haysamq/rest-assured-1753245044/pulls/7/comments\"},\"review_comment\":{\"href\":\"https://api.github.com/repos/haysamq/rest-assured-1753245044/pulls/comments{/number}\"},\"commits\":{\"href\":\"https://api.github.com/repos/haysamq/rest-assured-1753245044/pulls/7/commits\"},\"statuses\":{\"href\":\"https://api.github.com/repos/haysamq/rest-assured-1753245044/statuses/d25c0ad35a3417733565834b9d0d4ef21a86ef3d\"}},\"author_association\":\"NONE\",\"auto_merge\":null,\"active_lock_reason\":null,\"merged\":false,\"mergeable\":null,\"rebaseable\":null,\"mergeable_state\":\"unknown\",\"merged_by\":null,\"comments\":0,\"review_comments\":0,\"maintainer_can_modify\":false,\"commits\":1,\"additions\":2,\"deletions\":2,\"changed_files\":2}},\"public\":true,\"created_at\":\"2025-07-23T04:32:49Z\"},{\"id\":\"52424705319\",\"type\":\"PushEvent\",\"actor\":{\"id\":119392873,\"login\":\"QuanNguyen-1st\",\"display_login\":\"QuanNguyen-1st\",\"gravatar_id\":\"\",\"url\":\"https://api.github.com/users/QuanNguyen-1st\",\"avatar_url\":\"https://avatars.githubusercontent.com/u/119392873?\"},\"repo\":{\"id\":1019375333,\"name\":\"sitrongtrang/Potion_Protocol_Online\",\"url\":\"https://api.github.com/repos/sitrongtrang/Potion_Protocol_Online\"},\"payload\":{\"repository_id\":1019375333,\"push_id\":25666155994,\"size\":1,\"distinct_size\":1,\"ref\":\"refs/heads/test\",\"head\":\"d2ac90f0c0d56457aa0aaaedd6ffd0cee4c6fc31\",\"before\":\"8293f7b6301cd7229255a3989ec1f9c0137b356c\",\"commits\":[{\"sha\":\"d2ac90f0c0d56457aa0aaaedd6ffd0cee4c6fc31\",\"author\":{\"email\":\"minhquan2nd@gmail.com\",\"name\":\"Quan Nguyen\"},\"message\":\"minor changes\",\"distinct\":true,\"url\":\"https://api.github.com/repos/sitrongtrang/Potion_Protocol_Online/commits/d2ac90f0c0d56457aa0aaaedd6ffd0cee4c6fc31\"}]},\"public\":true,\"created_at\":\"2025-07-23T04:32:49Z\"},{\"id\":\"52424705336\",\"type\":\"CreateEvent\",\"actor\":{\"id\":104595465,\"login\":\"aws-aemilia-icn\",\"display_login\":\"aws-aemilia-icn\",\"gravatar_id\":\"\",\"url\":\"https://api.github.com/users/aws-aemilia-icn\",\"avatar_url\":\"https://avatars.githubusercontent.com/u/104595465?\"},\"repo\":{\"id\":939081993,\"name\":\"aws-aemilia-icn/Github-PR-Commit-Integration-Test-DoNotTouch-Gith-RB7P4TGB-v1-prod-ap-northeast-2\",\"url\":\"https://api.github.com/repos/aws-aemilia-icn/Github-PR-Commit-Integration-Test-DoNotTouch-Gith-RB7P4TGB-v1-prod-ap-northeast-2\"},\"payload\":{\"ref\":\"GithubWebhookBackwardsPreviewCanaryTestpr-prod-1753245168103\",\"ref_type\":\"branch\",\"master_branch\":\"main\",\"description\":null,\"pusher_type\":\"user\"},\"public\":true,\"created_at\":\"2025-07-23T04:32:49Z\"},{\"id\":\"52424705304\",\"type\":\"PushEvent\",\"actor\":{\"id\":49092133,\"login\":\"waqar0345\",\"display_login\":\"waqar0345\",\"gravatar_id\":\"\",\"url\":\"https://api.github.com/users/waqar0345\",\"avatar_url\":\"https://avatars.githubusercontent.com/u/49092133?\"},\"repo\":{\"id\":792877994,\"name\":\"waqar0345/Sid\",\"url\":\"https://api.github.com/repos/waqar0345/Sid\"},\"payload\":{\"repository_id\":792877994,\"push_id\":25666155975,\"size\":1,\"distinct_size\":1,\"ref\":\"refs/heads/main\",\"head\":\"0f63f313867daf8897fff273be047b595015b40e\",\"before\":\"308ed6c21a29033808dab5690c78a88c51c8646f\",\"commits\":[{\"sha\":\"0f63f313867daf8897fff273be047b595015b40e\",\"author\":{\"email\":\"49092133+waqar0345@users.noreply.github.com\",\"name\":\"waqar0345\"},\"message\":\"Updating player prices\",\"distinct\":true,\"url\":\"https://api.github.com/repos/waqar0345/Sid/commits/0f63f313867daf8897fff273be047b595015b40e\"}]},\"public\":true,\"created_at\":\"2025-07-23T04:32:49Z\"},{\"id\":\"52424705302\",\"type\":\"PushEvent\",\"actor\":{\"id\":29139614,\"login\":\"renovate[bot]\",\"display_login\":\"renovate\",\"gravatar_id\":\"\",\"url\":\"https://api.github.com/users/renovate[bot]\",\"avatar_url\":\"https://avatars.githubusercontent.com/u/29139614?\"},\"repo\":{\"id\":206318003,\"name\":\"mkmik/getsum\",\"url\":\"https://api.github.com/repos/mkmik/getsum\"},\"payload\":{\"repository_id\":206318003,\"push_id\":25666155982,\"size\":1,\"distinct_size\":1,\"ref\":\"refs/heads/renovate/golang-1.x\",\"head\":\"68a1b967170cffbf7e5289deaf5db5853c5c5f86\",\"before\":\"794d93b46884bf584d433a9486ac541576eff1eb\",\"commits\":[{\"sha\":\"68a1b967170cffbf7e5289deaf5db5853c5c5f86\",\"author\":{\"email\":\"29139614+renovate[bot]@users.noreply.github.com\",\"name\":\"renovate[bot]\"},\"message\":\"Update golang Docker tag to v1.24\",\"distinct\":true,\"url\":\"https://api.github.com/repos/mkmik/getsum/commits/68a1b967170cffbf7e5289deaf5db5853c5c5f86\"}]},\"public\":true,\"created_at\":\"2025-07-23T04:32:49Z\"},{\"id\":\"52424705313\",\"type\":\"PushEvent\",\"actor\":{\"id\":41898282,\"login\":\"github-actions[bot]\",\"display_login\":\"github-actions\",\"gravatar_id\":\"\",\"url\":\"https://api.github.com/users/github-actions[bot]\",\"avatar_url\":\"https://avatars.githubusercontent.com/u/41898282?\"},\"repo\":{\"id\":973437101,\"name\":\"zhongtait/LibreTV\",\"url\":\"https://api.github.com/repos/zhongtait/LibreTV\"},\"payload\":{\"repository_id\":973437101,\"push_id\":25666155959,\"size\":3,\"distinct_size\":3,\"ref\":\"refs/heads/main\",\"head\":\"00d391aa1b1f96c80b3be22a9082888653da5a5e\",\"before\":\"182ca7c28d14c3ffd27479206ac23af9abea4181\",\"commits\":[{\"sha\":\"450b940678260cc7b5bf15fe4b6d6803068f41e7\",\"author\":{\"email\":\"hst1189@hotmail.com\",\"name\":\"hst1189\"},\"message\":\"Update config.js\",\"distinct\":true,\"url\":\"https://api.github.com/repos/zhongtait/LibreTV/commits/450b940678260cc7b5bf15fe4b6d6803068f41e7\"},{\"sha\":\"4459f9726eaeea21576012ec8bd32d41c1b4a3c2\",\"author\":{\"email\":\"110226580+bestZwei@users.noreply.github.com\",\"name\":\"Zwei\"},\"message\":\"Merge pull request #771 from hst1189/main\\n\\nUpdate config.js  修复小猫咪资源站\",\"distinct\":true,\"url\":\"https://api.github.com/repos/zhongtait/LibreTV/commits/4459f9726eaeea21576012ec8bd32d41c1b4a3c2\"},{\"sha\":\"00d391aa1b1f96c80b3be22a9082888653da5a5e\",\"author\":{\"email\":\"github-actions[bot]@users.noreply.github.com\",\"name\":\"github-actions[bot]\"},\"message\":\"Auto Update 2025-07-22 22:10\",\"distinct\":true,\"url\":\"https://api.github.com/repos/zhongtait/LibreTV/commits/00d391aa1b1f96c80b3be22a9082888653da5a5e\"}]},\"public\":true,\"created_at\":\"2025-07-23T04:32:49Z\"},{\"id\":\"52424705308\",\"type\":\"PushEvent\",\"actor\":{\"id\":167669099,\"login\":\"anthonysmith90\",\"display_login\":\"anthonysmith90\",\"gravatar_id\":\"\",\"url\":\"https://api.github.com/users/anthonysmith90\",\"avatar_url\":\"https://avatars.githubusercontent.com/u/167669099?\"},\"repo\":{\"id\":1024631669,\"name\":\"anthonysmith90/algo\",\"url\":\"https://api.github.com/repos/anthonysmith90/algo\"},\"payload\":{\"repository_id\":1024631669,\"push_id\":25666155976,\"size\":1,\"distinct_size\":1,\"ref\":\"refs/heads/main\",\"head\":\"8240fd40ca3af28b647d288940c40ac00261c096\",\"before\":\"33f01ecc281f22690b0a93572d3ddb0f8e10c7ab\",\"commits\":[{\"sha\":\"8240fd40ca3af28b647d288940c40ac00261c096\",\"author\":{\"email\":\"anthonysmit.h9033696@gmail.com\",\"name\":\"anthonysmith90\"},\"message\":\"Improve RPC handler handler\",\"distinct\":true,\"url\":\"https://api.github.com/repos/anthonysmith90/algo/commits/8240fd40ca3af28b647d288940c40ac00261c096\"}]},\"public\":true,\"created_at\":\"2025-07-23T04:32:49Z\"},{\"id\":\"52424705289\",\"type\":\"PushEvent\",\"actor\":{\"id\":123078419,\"login\":\"sast-qa\",\"display_login\":\"sast-qa\",\"gravatar_id\":\"\",\"url\":\"https://api.github.com/users/sast-qa\",\"avatar_url\":\"https://avatars.githubusercontent.com/u/123078419?\"},\"repo\":{\"id\":1024668078,\"name\":\"SAST-UP-DEV/SAST-Test-Repo-53d42bba-f684-4b6f-b39b-61f32425b9b1\",\"url\":\"https://api.github.com/repos/SAST-UP-DEV/SAST-Test-Repo-53d42bba-f684-4b6f-b39b-61f32425b9b1\"},\"payload\":{\"repository_id\":1024668078,\"push_id\":25666155968,\"size\":1,\"distinct_size\":1,\"ref\":\"refs/heads/dev\",\"head\":\"187dc7f08a15915c2c3b44df67374f018f375332\",\"before\":\"6959db0315d5f35fad9bc929b4e7c96ef2c7e389\",\"commits\":[{\"sha\":\"187dc7f08a15915c2c3b44df67374f018f375332\",\"author\":{\"email\":\"123078419+sast-qa@users.noreply.github.com\",\"name\":\"sast-qa\"},\"message\":\"Add SQLInjection.java file to repo.\",\"distinct\":true,\"url\":\"https://api.github.com/repos/SAST-UP-DEV/SAST-Test-Repo-53d42bba-f684-4b6f-b39b-61f32425b9b1/commits/187dc7f08a15915c2c3b44df67374f018f375332\"}]},\"public\":true,\"created_at\":\"2025-07-23T04:32:49Z\",\"org\":{\"id\":123163455,\"login\":\"SAST-UP-DEV\",\"gravatar_id\":\"\",\"url\":\"https://api.github.com/orgs/SAST-UP-DEV\",\"avatar_url\":\"https://avatars.githubusercontent.com/u/123163455?\"}},{\"id\":\"52424705291\",\"type\":\"PushEvent\",\"actor\":{\"id\":216873808,\"login\":\"solobaba247\",\"display_login\":\"solobaba247\",\"gravatar_id\":\"\",\"url\":\"https://api.github.com/users/solobaba247\",\"avatar_url\":\"https://avatars.githubusercontent.com/u/216873808?\"},\"repo\":{\"id\":1024657861,\"name\":\"solobaba247/Precision-2\",\"url\":\"https://api.github.com/repos/solobaba247/Precision-2\"},\"payload\":{\"repository_id\":1024657861,\"push_id\":25666155930,\"size\":1,\"distinct_size\":1,\"ref\":\"refs/heads/main\",\"head\":\"c4a383ed361b0d18630b0a57359cbcbf665d9d70\",\"before\":\"0526c04f536479da58b2913e7ffae74a2da0d10b\",\"commits\":[{\"sha\":\"c4a383ed361b0d18630b0a57359cbcbf665d9d70\",\"author\":{\"email\":\"ultimateedge.info@gmail.com\",\"name\":\"solobaba247\"},\"message\":\"Add files via upload\",\"distinct\":true,\"url\":\"https://api.github.com/repos/solobaba247/Precision-2/commits/c4a383ed361b0d18630b0a57359cbcbf665d9d70\"}]},\"public\":true,\"created_at\":\"2025-07-23T04:32:49Z\"},{\"id\":\"52424705287\",\"type\":\"PushEvent\",\"actor\":{\"id\":113289905,\"login\":\"user1exd\",\"display_login\":\"user1exd\",\"gravatar_id\":\"\",\"url\":\"https://api.github.com/users/user1exd\",\"avatar_url\":\"https://avatars.githubusercontent.com/u/113289905?\"},\"repo\":{\"id\":806600330,\"name\":\"user1exd/rss_realtime_feed\",\"url\":\"https://api.github.com/repos/user1exd/rss_realtime_feed\"},\"payload\":{\"repository_id\":806600330,\"push_id\":25666155943,\"size\":1,\"distinct_size\":1,\"ref\":\"refs/heads/main\",\"head\":\"e8141d4db526e64d88b7581b4d08ec19eaf96773\",\"before\":\"1ee86c3bea4632167bcd426c3407e9083b4555b2\",\"commits\":[{\"sha\":\"e8141d4db526e64d88b7581b4d08ec19eaf96773\",\"author\":{\"email\":\"113289905+user1exd@users.noreply.github.com\",\"name\":\"user1exd\"},\"message\":\"Automated update 2025-07-23-Jul-07\",\"distinct\":true,\"url\":\"https://api.github.com/repos/user1exd/rss_realtime_feed/commits/e8141d4db526e64d88b7581b4d08ec19eaf96773\"}]},\"public\":true,\"created_at\":\"2025-07-23T04:32:49Z\"},{\"id\":\"52424705261\",\"type\":\"PushEvent\",\"actor\":{\"id\":79412223,\"login\":\"TroyKaplan\",\"display_login\":\"TroyKaplan\",\"gravatar_id\":\"\",\"url\":\"https://api.github.com/users/TroyKaplan\",\"avatar_url\":\"https://avatars.githubusercontent.com/u/79412223?\"},\"repo\":{\"id\":863746706,\"name\":\"TroyKaplan/Portfolio\",\"url\":\"https://api.github.com/repos/TroyKaplan/Portfolio\"},\"payload\":{\"repository_id\":863746706,\"push_id\":25666155921,\"size\":1,\"distinct_size\":1,\"ref\":\"refs/heads/main\",\"head\":\"7fc8dfe540e0b349f1ef106f5edca8f30931a1f3\",\"before\":\"0925c42480a3e6d874e4d4ef4103d4f01ebae345\",\"commits\":[{\"sha\":\"7fc8dfe540e0b349f1ef106f5edca8f30931a1f3\",\"author\":{\"email\":\"79412223+TroyKaplan@users.noreply.github.com\",\"name\":\"Troy Kaplan\"},\"message\":\"Update rocketgame-thumbnail.png\",\"distinct\":true,\"url\":\"https://api.github.com/repos/TroyKaplan/Portfolio/commits/7fc8dfe540e0b349f1ef106f5edca8f30931a1f3\"}]},\"public\":true,\"created_at\":\"2025-07-23T04:32:49Z\"},{\"id\":\"52424705270\",\"type\":\"PullRequestEvent\",\"actor\":{\"id\":29139614,\"login\":\"renovate[bot]\",\"display_login\":\"renovate\",\"gravatar_id\":\"\",\"url\":\"https://api.github.com/users/renovate[bot]\",\"avatar_url\":\"https://avatars.githubusercontent.com/u/29139614?\"},\"repo\":{\"id\":1024665909,\"name\":\"vincentclee/keyring\",\"url\":\"https://api.github.com/repos/vincentclee/keyring\"},\"payload\":{\"action\":\"opened\",\"number\":12,\"pull_request\":{\"url\":\"https://api.github.com/repos/vincentclee/keyring/pulls/12\",\"id\":2687464974,\"node_id\":\"PR_kwDOPRMpNc6gL3YO\",\"html_url\":\"https://github.com/vincentclee/keyring/pull/12\",\"diff_url\":\"https://github.com/vincentclee/keyring/pull/12.diff\",\"patch_url\":\"https://github.com/vincentclee/keyring/pull/12.patch\",\"issue_url\":\"https://api.github.com/repos/vincentclee/keyring/issues/12\",\"number\":12,\"state\":\"open\",\"locked\":false,\"title\":\"Update golangci/golangci-lint-action action to v8\",\"user\":{\"login\":\"renovate[bot]\",\"id\":29139614,\"node_id\":\"MDM6Qm90MjkxMzk2MTQ=\",\"avatar_url\":\"https://avatars.githubusercontent.com/in/2740?v=4\",\"gravatar_id\":\"\",\"url\":\"https://api.github.com/users/renovate%5Bbot%5D\",\"html_url\":\"https://github.com/apps/renovate\",\"followers_url\":\"https://api.github.com/users/renovate%5Bbot%5D/followers\",\"following_url\":\"https://api.github.com/users/renovate%5Bbot%5D/following{/other_user}\",\"gists_url\":\"https://api.github.com/users/renovate%5Bbot%5D/gists{/gist_id}\",\"starred_url\":\"https://api.github.com/users/renovate%5Bbot%5D/starred{/owner}{/repo}\",\"subscriptions_url\":\"https://api.github.com/users/renovate%5Bbot%5D/subscriptions\",\"organizations_url\":\"https://api.github.com/users/renovate%5Bbot%5D/orgs\",\"repos_url\":\"https://api.github.com/users/renovate%5Bbot%5D/repos\",\"events_url\":\"https://api.github.com/users/renovate%5Bbot%5D/events{/privacy}\",\"received_events_url\":\"https://api.github.com/users/renovate%5Bbot%5D/received_events\",\"type\":\"Bot\",\"user_view_type\":\"public\",\"site_admin\":false},\"body\":\"This PR contains the following updates:\\n\\n| Package | Type | Update | Change |\\n|---|---|---|---|\\n| [golangci/golangci-lint-action](https://redirect.github.com/golangci/golangci-lint-action) | action | major | `v2` -> `v8` |\\n\\n---\\n\\n> [!WARNING]\\n> Some dependencies could not be looked up. Check the Dependency Dashboard for more information.\\n\\n---\\n\\n### Release Notes\\n\\n<details>\\n<summary>golangci/golangci-lint-action (golangci/golangci-lint-action)</summary>\\n\\n### [`v8`](https://redirect.github.com/golangci/golangci-lint-action/compare/v7...v8)\\n\\n[Compare Source](https://redirect.github.com/golangci/golangci-lint-action/compare/v7...v8)\\n\\n### [`v7`](https://redirect.github.com/golangci/golangci-lint-action/compare/v6...v7)\\n\\n[Compare Source](https://redirect.github.com/golangci/golangci-lint-action/compare/v6...v7)\\n\\n### [`v6`](https://redirect.github.com/golangci/golangci-lint-action/compare/v5...v6)\\n\\n[Compare Source](https://redirect.github.com/golangci/golangci-lint-action/compare/v5...v6)\\n\\n### [`v5`](https://redirect.github.com/golangci/golangci-lint-action/compare/v4...v5)\\n\\n[Compare Source](https://redirect.github.com/golangci/golangci-lint-action/compare/v4...v5)\\n\\n### [`v4`](https://redirect.github.com/golangci/golangci-lint-action/compare/v3...v4)\\n\\n[Compare Source](https://redirect.github.com/golangci/golangci-lint-action/compare/v3...v4)\\n\\n### [`v3`](https://redirect.github.com/golangci/golangci-lint-action/compare/v2...v3)\\n\\n[Compare Source](https://redirect.github.com/golangci/golangci-lint-action/compare/v2...v3)\\n\\n</details>\\n\\n---\\n\\n### Configuration\\n\\n📅 **Schedule**: Branch creation - At any time (no schedule defined), Automerge - At any time (no schedule defined).\\n\\n🚦 **Automerge**: Disabled by config. Please merge this manually once you are satisfied.\\n\\n♻ **Rebasing**: Whenever PR becomes conflicted, or you tick the rebase/retry checkbox.\\n\\n🔕 **Ignore**: Close this PR and you won't be reminded about this update again.\\n\\n---\\n\\n - [ ] <!-- rebase-check -->If you want to rebase/retry this PR, check this box\\n\\n---\\n\\nThis PR was generated by [Mend Renovate](https://mend.io/renovate/). View the [repository job log](https://developer.mend.io/github/vincentclee/keyring).\\n<!--renovate-debug:eyJjcmVhdGVkSW5WZXIiOiI0MS40MC4wIiwidXBkYXRlZEluVmVyIjoiNDEuNDAuMCIsInRhcmdldEJyYW5jaCI6Im1hc3RlciIsImxhYmVscyI6W119-->\\n\",\"created_at\":\"2025-07-23T04:32:47Z\",\"updated_at\":\"2025-07-23T04:32:47Z\",\"closed_at\":null,\"merged_at\":null,\"merge_commit_sha\":null,\"assignee\":null,\"assignees\":[],\"requested_reviewers\":[],\"requested_teams\":[],\"labels\":[],\"milestone\":null,\"draft\":false,\"commits_url\":\"https://api.github.com/repos/vincentclee/keyring/pulls/12/commits\",\"review_comments_url\":\"https://api.github.com/repos/vincentclee/keyring/pulls/12/comments\",\"review_comment_url\":\"https://api.github.com/repos/vincentclee/keyring/pulls/comments{/number}\",\"comments_url\":\"https://api.github.com/repos/vincentclee/keyring/issues/12/comments\",\"statuses_url\":\"https://api.github.com/repos/vincentclee/keyring/statuses/d894ed2898af9c0d9d3039195c9d4758cd6add5d\",\"head\":{\"label\":\"vincentclee:renovate/golangci-golangci-lint-action-8.x\",\"ref\":\"renovate/golangci-golangci-lint-action-8.x\",\"sha\":\"d894ed2898af9c0d9d3039195c9d4758cd6add5d\",\"user\":{\"login\":\"vincentclee\",\"id\":5388077,\"node_id\":\"MDQ6VXNlcjUzODgwNzc=\",\"avatar_url\":\"https://avatars.githubusercontent.com/u/5388077?v=4\",\"gravatar_id\":\"\",\"url\":\"https://api.github.com/users/vincentclee\",\"html_url\":\"https://github.com/vincentclee\",\"followers_url\":\"https://api.github.com/users/vincentclee/followers\",\"following_url\":\"https://api.github.com/users/vincentclee/following{/other_user}\",\"gists_url\":\"https://api.github.com/users/vincentclee/gists{/gist_id}\",\"starred_url\":\"https://api.github.com/users/vincentclee/starred{/owner}{/repo}\",\"subscriptions_url\":\"https://api.github.com/users/vincentclee/subscriptions\",\"organizations_url\":\"https://api.github.com/users/vincentclee/orgs\",\"repos_url\":\"https://api.github.com/users/vincentclee/repos\",\"events_url\":\"https://api.github.com/users/vincentclee/events{/privacy}\",\"received_events_url\":\"https://api.github.com/users/vincentclee/received_events\",\"type\":\"User\",\"user_view_type\":\"public\",\"site_admin\":false},\"repo\":{\"id\":1024665909,\"node_id\":\"R_kgDOPRMpNQ\",\"name\":\"keyring\",\"full_name\":\"vincentclee/keyring\",\"private\":false,\"owner\":{\"login\":\"vincentclee\",\"id\":5388077,\"node_id\":\"MDQ6VXNlcjUzODgwNzc=\",\"avatar_url\":\"https://avatars.githubusercontent.com/u/5388077?v=4\",\"gravatar_id\":\"\",\"url\":\"https://api.github.com/users/vincentclee\",\"html_url\":\"https://github.com/vincentclee\",\"followers_url\":\"https://api.github.com/users/vincentclee/followers\",\"following_url\":\"https://api.github.com/users/vincentclee/following{/other_user}\",\"gists_url\":\"https://api.github.com/users/vincentclee/gists{/gist_id}\",\"starred_url\":\"https://api.github.com/users/vincentclee/starred{/owner}{/repo}\",\"subscriptions_url\":\"https://api.github.com/users/vincentclee/subscriptions\",\"organizations_url\":\"https://api.github.com/users/vincentclee/orgs\",\"repos_url\":\"https://api.github.com/users/vincentclee/repos\",\"events_url\":\"https://api.github.com/users/vincentclee/events{/privacy}\",\"received_events_url\":\"https://api.github.com/users/vincentclee/received_events\",\"type\":\"User\",\"user_view_type\":\"public\",\"site_admin\":false},\"html_url\":\"https://github.com/vincentclee/keyring\",\"description\":\"Go library providing a uniform interface across a range of secure credential stores\",\"fork\":true,\"url\":\"https://api.github.com/repos/vincentclee/keyring\",\"forks_url\":\"https://api.github.com/repos/vincentclee/keyring/forks\",\"keys_url\":\"https://api.github.com/repos/vincentclee/keyring/keys{/key_id}\",\"collaborators_url\":\"https://api.github.com/repos/vincentclee/keyring/collaborators{/collaborator}\",\"teams_url\":\"https://api.github.com/repos/vincentclee/keyring/teams\",\"hooks_url\":\"https://api.github.com/repos/vincentclee/keyring/hooks\",\"issue_events_url\":\"https://api.github.com/repos/vincentclee/keyring/issues/events{/number}\",\"events_url\":\"https://api.github.com/repos/vincentclee/keyring/events\",\"assignees_url\":\"https://api.github.com/repos/vincentclee/keyring/assignees{/user}\",\"branches_url\":\"https://api.github.com/repos/vincentclee/keyring/branches{/branch}\",\"tags_url\":\"https://api.github.com/repos/vincentclee/keyring/tags\",\"blobs_url\":\"https://api.github.com/repos/vincentclee/keyring/git/blobs{/sha}\",\"git_tags_url\":\"https://api.github.com/repos/vincentclee/keyring/git/tags{/sha}\",\"git_refs_url\":\"https://api.github.com/repos/vincentclee/keyring/git/refs{/sha}\",\"trees_url\":\"https://api.github.com/repos/vincentclee/keyring/git/trees{/sha}\",\"statuses_url\":\"https://api.github.com/repos/vincentclee/keyring/statuses/{sha}\",\"languages_url\":\"https://api.github.com/repos/vincentclee/keyring/languages\",\"stargazers_url\":\"https://api.github.com/repos/vincentclee/keyring/stargazers\",\"contributors_url\":\"https://api.github.com/repos/vincentclee/keyring/contributors\",\"subscribers_url\":\"https://api.github.com/repos/vincentclee/keyring/subscribers\",\"subscription_url\":\"https://api.github.com/repos/vincentclee/keyring/subscription\",\"commits_url\":\"https://api.github.com/repos/vincentclee/keyring/commits{/sha}\",\"git_commits_url\":\"https://api.github.com/repos/vincentclee/keyring/git/commits{/sha}\",\"comments_url\":\"https://api.github.com/repos/vincentclee/keyring/comments{/number}\",\"issue_comment_url\":\"https://api.github.com/repos/vincentclee/keyring/issues/comments{/number}\",\"contents_url\":\"https://api.github.com/repos/vincentclee/keyring/contents/{+path}\",\"compare_url\":\"https://api.github.com/repos/vincentclee/keyring/compare/{base}...{head}\",\"merges_url\":\"https://api.github.com/repos/vincentclee/keyring/merges\",\"archive_url\":\"https://api.github.com/repos/vincentclee/keyring/{archive_format}{/ref}\",\"downloads_url\":\"https://api.github.com/repos/vincentclee/keyring/downloads\",\"issues_url\":\"https://api.github.com/repos/vincentclee/keyring/issues{/number}\",\"pulls_url\":\"https://api.github.com/repos/vincentclee/keyring/pulls{/number}\",\"milestones_url\":\"https://api.github.com/repos/vincentclee/keyring/milestones{/number}\",\"notifications_url\":\"https://api.github.com/repos/vincentclee/keyring/notifications{?since,all,participating}\",\"labels_url\":\"https://api.github.com/repos/vincentclee/keyring/labels{/name}\",\"releases_url\":\"https://api.github.com/repos/vincentclee/keyring/releases{/id}\",\"deployments_url\":\"https://api.github.com/repos/vincentclee/keyring/deployments\",\"created_at\":\"2025-07-23T04:26:13Z\",\"updated_at\":\"2025-07-23T04:30:03Z\",\"pushed_at\":\"2025-07-23T04:32:46Z\",\"git_url\":\"git://github.com/vincentclee/keyring.git\",\"ssh_url\":\"git@github.com:vincentclee/keyring.git\",\"clone_url\":\"https://github.com/vincentclee/keyring.git\",\"svn_url\":\"https://github.com/vincentclee/keyring\",\"homepage\":\"\",\"size\":384,\"stargazers_count\":0,\"watchers_count\":0,\"language\":\"Go\",\"has_issues\":true,\"has_projects\":true,\"has_downloads\":true,\"has_wiki\":true,\"has_pages\":false,\"has_discussions\":false,\"forks_count\":0,\"mirror_url\":null,\"archived\":false,\"disabled\":false,\"open_issues_count\":11,\"license\":{\"key\":\"mit\",\"name\":\"MIT License\",\"spdx_id\":\"MIT\",\"url\":\"https://api.github.com/licenses/mit\",\"node_id\":\"MDc6TGljZW5zZTEz\"},\"allow_forking\":true,\"is_template\":false,\"web_commit_signoff_required\":false,\"topics\":[],\"visibility\":\"public\",\"forks\":0,\"open_issues\":11,\"watchers\":0,\"default_branch\":\"master\"}},\"base\":{\"label\":\"vincentclee:master\",\"ref\":\"master\",\"sha\":\"63e6f80f96ae7bb9df846e3183b29437f7967597\",\"user\":{\"login\":\"vincentclee\",\"id\":5388077,\"node_id\":\"MDQ6VXNlcjUzODgwNzc=\",\"avatar_url\":\"https://avatars.githubusercontent.com/u/5388077?v=4\",\"gravatar_id\":\"\",\"url\":\"https://api.github.com/users/vincentclee\",\"html_url\":\"https://github.com/vincentclee\",\"followers_url\":\"https://api.github.com/users/vincentclee/followers\",\"following_url\":\"https://api.github.com/users/vincentclee/following{/other_user}\",\"gists_url\":\"https://api.github.com/users/vincentclee/gists{/gist_id}\",\"starred_url\":\"https://api.github.com/users/vincentclee/starred{/owner}{/repo}\",\"subscriptions_url\":\"https://api.github.com/users/vincentclee/subscriptions\",\"organizations_url\":\"https://api.github.com/users/vincentclee/orgs\",\"repos_url\":\"https://api.github.com/users/vincentclee/repos\",\"events_url\":\"https://api.github.com/users/vincentclee/events{/privacy}\",\"received_events_url\":\"https://api.github.com/users/vincentclee/received_events\",\"type\":\"User\",\"user_view_type\":\"public\",\"site_admin\":false},\"repo\":{\"id\":1024665909,\"node_id\":\"R_kgDOPRMpNQ\",\"name\":\"keyring\",\"full_name\":\"vincentclee/keyring\",\"private\":false,\"owner\":{\"login\":\"vincentclee\",\"id\":5388077,\"node_id\":\"MDQ6VXNlcjUzODgwNzc=\",\"avatar_url\":\"https://avatars.githubusercontent.com/u/5388077?v=4\",\"gravatar_id\":\"\",\"url\":\"https://api.github.com/users/vincentclee\",\"html_url\":\"https://github.com/vincentclee\",\"followers_url\":\"https://api.github.com/users/vincentclee/followers\",\"following_url\":\"https://api.github.com/users/vincentclee/following{/other_user}\",\"gists_url\":\"https://api.github.com/users/vincentclee/gists{/gist_id}\",\"starred_url\":\"https://api.github.com/users/vincentclee/starred{/owner}{/repo}\",\"subscriptions_url\":\"https://api.github.com/users/vincentclee/subscriptions\",\"organizations_url\":\"https://api.github.com/users/vincentclee/orgs\",\"repos_url\":\"https://api.github.com/users/vincentclee/repos\",\"events_url\":\"https://api.github.com/users/vincentclee/events{/privacy}\",\"received_events_url\":\"https://api.github.com/users/vincentclee/received_events\",\"type\":\"User\",\"user_view_type\":\"public\",\"site_admin\":false},\"html_url\":\"https://github.com/vincentclee/keyring\",\"description\":\"Go library providing a uniform interface across a range of secure credential stores\",\"fork\":true,\"url\":\"https://api.github.com/repos/vincentclee/keyring\",\"forks_url\":\"https://api.github.com/repos/vincentclee/keyring/forks\",\"keys_url\":\"https://api.github.com/repos/vincentclee/keyring/keys{/key_id}\",\"collaborators_url\":\"https://api.github.com/repos/vincentclee/keyring/collaborators{/collaborator}\",\"teams_url\":\"https://api.github.com/repos/vincentclee/keyring/teams\",\"hooks_url\":\"https://api.github.com/repos/vincentclee/keyring/hooks\",\"issue_events_url\":\"https://api.github.com/repos/vincentclee/keyring/issues/events{/number}\",\"events_url\":\"https://api.github.com/repos/vincentclee/keyring/events\",\"assignees_url\":\"https://api.github.com/repos/vincentclee/keyring/assignees{/user}\",\"branches_url\":\"https://api.github.com/repos/vincentclee/keyring/branches{/branch}\",\"tags_url\":\"https://api.github.com/repos/vincentclee/keyring/tags\",\"blobs_url\":\"https://api.github.com/repos/vincentclee/keyring/git/blobs{/sha}\",\"git_tags_url\":\"https://api.github.com/repos/vincentclee/keyring/git/tags{/sha}\",\"git_refs_url\":\"https://api.github.com/repos/vincentclee/keyring/git/refs{/sha}\",\"trees_url\":\"https://api.github.com/repos/vincentclee/keyring/git/trees{/sha}\",\"statuses_url\":\"https://api.github.com/repos/vincentclee/keyring/statuses/{sha}\",\"languages_url\":\"https://api.github.com/repos/vincentclee/keyring/languages\",\"stargazers_url\":\"https://api.github.com/repos/vincentclee/keyring/stargazers\",\"contributors_url\":\"https://api.github.com/repos/vincentclee/keyring/contributors\",\"subscribers_url\":\"https://api.github.com/repos/vincentclee/keyring/subscribers\",\"subscription_url\":\"https://api.github.com/repos/vincentclee/keyring/subscription\",\"commits_url\":\"https://api.github.com/repos/vincentclee/keyring/commits{/sha}\",\"git_commits_url\":\"https://api.github.com/repos/vincentclee/keyring/git/commits{/sha}\",\"comments_url\":\"https://api.github.com/repos/vincentclee/keyring/comments{/number}\",\"issue_comment_url\":\"https://api.github.com/repos/vincentclee/keyring/issues/comments{/number}\",\"contents_url\":\"https://api.github.com/repos/vincentclee/keyring/contents/{+path}\",\"compare_url\":\"https://api.github.com/repos/vincentclee/keyring/compare/{base}...{head}\",\"merges_url\":\"https://api.github.com/repos/vincentclee/keyring/merges\",\"archive_url\":\"https://api.github.com/repos/vincentclee/keyring/{archive_format}{/ref}\",\"downloads_url\":\"https://api.github.com/repos/vincentclee/keyring/downloads\",\"issues_url\":\"https://api.github.com/repos/vincentclee/keyring/issues{/number}\",\"pulls_url\":\"https://api.github.com/repos/vincentclee/keyring/pulls{/number}\",\"milestones_url\":\"https://api.github.com/repos/vincentclee/keyring/milestones{/number}\",\"notifications_url\":\"https://api.github.com/repos/vincentclee/keyring/notifications{?since,all,participating}\",\"labels_url\":\"https://api.github.com/repos/vincentclee/keyring/labels{/name}\",\"releases_url\":\"https://api.github.com/repos/vincentclee/keyring/releases{/id}\",\"deployments_url\":\"https://api.github.com/repos/vincentclee/keyring/deployments\",\"created_at\":\"2025-07-23T04:26:13Z\",\"updated_at\":\"2025-07-23T04:30:03Z\",\"pushed_at\":\"2025-07-23T04:32:46Z\",\"git_url\":\"git://github.com/vincentclee/keyring.git\",\"ssh_url\":\"git@github.com:vincentclee/keyring.git\",\"clone_url\":\"https://github.com/vincentclee/keyring.git\",\"svn_url\":\"https://github.com/vincentclee/keyring\",\"homepage\":\"\",\"size\":384,\"stargazers_count\":0,\"watchers_count\":0,\"language\":\"Go\",\"has_issues\":true,\"has_projects\":true,\"has_downloads\":true,\"has_wiki\":true,\"has_pages\":false,\"has_discussions\":false,\"forks_count\":0,\"mirror_url\":null,\"archived\":false,\"disabled\":false,\"open_issues_count\":11,\"license\":{\"key\":\"mit\",\"name\":\"MIT License\",\"spdx_id\":\"MIT\",\"url\":\"https://api.github.com/licenses/mit\",\"node_id\":\"MDc6TGljZW5zZTEz\"},\"allow_forking\":true,\"is_template\":false,\"web_commit_signoff_required\":false,\"topics\":[],\"visibility\":\"public\",\"forks\":0,\"open_issues\":11,\"watchers\":0,\"default_branch\":\"master\"}},\"_links\":{\"self\":{\"href\":\"https://api.github.com/repos/vincentclee/keyring/pulls/12\"},\"html\":{\"href\":\"https://github.com/vincentclee/keyring/pull/12\"},\"issue\":{\"href\":\"https://api.github.com/repos/vincentclee/keyring/issues/12\"},\"comments\":{\"href\":\"https://api.github.com/repos/vincentclee/keyring/issues/12/comments\"},\"review_comments\":{\"href\":\"https://api.github.com/repos/vincentclee/keyring/pulls/12/comments\"},\"review_comment\":{\"href\":\"https://api.github.com/repos/vincentclee/keyring/pulls/comments{/number}\"},\"commits\":{\"href\":\"https://api.github.com/repos/vincentclee/keyring/pulls/12/commits\"},\"statuses\":{\"href\":\"https://api.github.com/repos/vincentclee/keyring/statuses/d894ed2898af9c0d9d3039195c9d4758cd6add5d\"}},\"author_association\":\"NONE\",\"auto_merge\":null,\"active_lock_reason\":null,\"merged\":false,\"mergeable\":null,\"rebaseable\":null,\"mergeable_state\":\"unknown\",\"merged_by\":null,\"comments\":0,\"review_comments\":0,\"maintainer_can_modify\":false,\"commits\":1,\"additions\":1,\"deletions\":1,\"changed_files\":1}},\"public\":true,\"created_at\":\"2025-07-23T04:32:49Z\"},{\"id\":\"52424705279\",\"type\":\"PullRequestReviewEvent\",\"actor\":{\"id\":136622811,\"login\":\"coderabbitai[bot]\",\"display_login\":\"coderabbitai\",\"gravatar_id\":\"\",\"url\":\"https://api.github.com/users/coderabbitai[bot]\",\"avatar_url\":\"https://avatars.githubusercontent.com/u/136622811?\"},\"repo\":{\"id\":995170578,\"name\":\"iam-veeramalla/Shell\",\"url\":\"https://api.github.com/repos/iam-veeramalla/Shell\"},\"payload\":{\"action\":\"created\",\"review\":{\"id\":3045561935,\"node_id\":\"PRR_kwDOO1EZEs61h5ZP\",\"user\":{\"login\":\"coderabbitai[bot]\",\"id\":136622811,\"node_id\":\"BOT_kgDOCCSy2w\",\"avatar_url\":\"https://avatars.githubusercontent.com/in/347564?v=4\",\"gravatar_id\":\"\",\"url\":\"https://api.github.com/users/coderabbitai%5Bbot%5D\",\"html_url\":\"https://github.com/apps/coderabbitai\",\"followers_url\":\"https://api.github.com/users/coderabbitai%5Bbot%5D/followers\",\"following_url\":\"https://api.github.com/users/coderabbitai%5Bbot%5D/following{/other_user}\",\"gists_url\":\"https://api.github.com/users/coderabbitai%5Bbot%5D/gists{/gist_id}\",\"starred_url\":\"https://api.github.com/users/coderabbitai%5Bbot%5D/starred{/owner}{/repo}\",\"subscriptions_url\":\"https://api.github.com/users/coderabbitai%5Bbot%5D/subscriptions\",\"organizations_url\":\"https://api.github.com/users/coderabbitai%5Bbot%5D/orgs\",\"repos_url\":\"https://api.github.com/users/coderabbitai%5Bbot%5D/repos\",\"events_url\":\"https://api.github.com/users/coderabbitai%5Bbot%5D/events{/privacy}\",\"received_events_url\":\"https://api.github.com/users/coderabbitai%5Bbot%5D/received_events\",\"type\":\"Bot\",\"user_view_type\":\"public\",\"site_admin\":false},\"body\":\"**Actionable comments posted: 0**\\n\\n<details>\\n<summary>🧹 Nitpick comments (1)</summary><blockquote>\\n\\n<details>\\n<summary>README.md (1)</summary><blockquote>\\n\\n`3-3`: **Prefer capitalization & punctuation in docs**\\n\\nSmall polish: start the sentence with a capital letter and add a period.\\n\\n```diff\\n-thank you\\n+Thank you.\\n```\\n\\n</blockquote></details>\\n\\n</blockquote></details>\\n\\n<details>\\n<summary>📜 Review details</summary>\\n\\n**Configuration used: CodeRabbit UI**\\n**Review profile: CHILL**\\n**Plan: Pro**\\n\\n\\n<details>\\n<summary>📥 Commits</summary>\\n\\nReviewing files that changed from the base of the PR and between a6a20761a728b6fd5890859291a191b31e077397 and fa0846ce7d6b6ef5f546c0a657da57549295d0e4.\\n\\n</details>\\n\\n<details>\\n<summary>📒 Files selected for processing (2)</summary>\\n\\n* `README.md` (1 hunks)\\n* `github-api-integration-module.sh` (1 hunks)\\n\\n</details>\\n\\n<details>\\n<summary>🔇 Additional comments (1)</summary><blockquote>\\n\\n<details>\\n<summary>github-api-integration-module.sh (1)</summary>\\n\\n`5-5`: **LGTM – blank line enhances header readability**\\n\\nThe extra line cleanly separates the header metadata from the script body.\\n\\n</details>\\n\\n</blockquote></details>\\n\\n</details>\\n\\n<!-- This is an auto-generated comment by CodeRabbit for review status -->\",\"commit_id\":\"fa0846ce7d6b6ef5f546c0a657da57549295d0e4\",\"submitted_at\":\"2025-07-23T04:32:48Z\",\"state\":\"commented\",\"html_url\":\"https://github.com/iam-veeramalla/Shell/pull/27#pullrequestreview-3045561935\",\"pull_request_url\":\"https://api.github.com/repos/iam-veeramalla/Shell/pulls/27\",\"author_association\":\"NONE\",\"_links\":{\"html\":{\"href\":\"https://github.com/iam-veeramalla/Shell/pull/27#pullrequestreview-3045561935\"},\"pull_request\":{\"href\":\"https://api.github.com/repos/iam-veeramalla/Shell/pulls/27\"}}},\"pull_request\":{\"url\":\"https://api.github.com/repos/iam-veeramalla/Shell/pulls/27\",\"id\":2687462859,\"node_id\":\"PR_kwDOO1EZEs6gL23L\",\"html_url\":\"https://github.com/iam-veeramalla/Shell/pull/27\",\"diff_url\":\"https://github.com/iam-veeramalla/Shell/pull/27.diff\",\"patch_url\":\"https://github.com/iam-veeramalla/Shell/pull/27.patch\",\"issue_url\":\"https://api.github.com/repos/iam-veeramalla/Shell/issues/27\",\"number\":27,\"state\":\"open\",\"locked\":false,\"title\":\"Test1\",\"user\":{\"login\":\"andyal230\",\"id\":131865564,\"node_id\":\"U_kgDOB9wb3A\",\"avatar_url\":\"https://avatars.githubusercontent.com/u/131865564?v=4\",\"gravatar_id\":\"\",\"url\":\"https://api.github.com/users/andyal230\",\"html_url\":\"https://github.com/andyal230\",\"followers_url\":\"https://api.github.com/users/andyal230/followers\",\"following_url\":\"https://api.github.com/users/andyal230/following{/other_user}\",\"gists_url\":\"https://api.github.com/users/andyal230/gists{/gist_id}\",\"starred_url\":\"https://api.github.com/users/andyal230/starred{/owner}{/repo}\",\"subscriptions_url\":\"https://api.github.com/users/andyal230/subscriptions\",\"organizations_url\":\"https://api.github.com/users/andyal230/orgs\",\"repos_url\":\"https://api.github.com/users/andyal230/repos\",\"events_url\":\"https://api.github.com/users/andyal230/events{/privacy}\",\"received_events_url\":\"https://api.github.com/users/andyal230/received_events\",\"type\":\"User\",\"user_view_type\":\"public\",\"site_admin\":false},\"body\":\"\\n\\n<!-- This is an auto-generated comment: release notes by coderabbit.ai -->\\n\\n## Summary by CodeRabbit\\n\\n* **Documentation**\\n  * Added a \\\"thank you\\\" note to the end of the README.\\n* **Style**\\n  * Inserted a blank line in the script header for improved readability.\\n\\n<!-- end of auto-generated comment: release notes by coderabbit.ai -->\",\"created_at\":\"2025-07-23T04:31:12Z\",\"updated_at\":\"2025-07-23T04:32:48Z\",\"closed_at\":null,\"merged_at\":null,\"merge_commit_sha\":\"545932feec76cc13e2381206d186b7434679d551\",\"assignee\":null,\"assignees\":[],\"requested_reviewers\":[],\"requested_teams\":[],\"labels\":[],\"milestone\":null,\"draft\":false,\"commits_url\":\"https://api.github.com/repos/iam-veeramalla/Shell/pulls/27/commits\",\"review_comments_url\":\"https://api.github.com/repos/iam-veeramalla/Shell/pulls/27/comments\",\"review_comment_url\":\"https://api.github.com/repos/iam-veeramalla/Shell/pulls/comments{/number}\",\"comments_url\":\"https://api.github.com/repos/iam-veeramalla/Shell/issues/27/comments\",\"statuses_url\":\"https://api.github.com/repos/iam-veeramalla/Shell/statuses/fa0846ce7d6b6ef5f546c0a657da57549295d0e4\",\"head\":{\"label\":\"andyal230:main\",\"ref\":\"main\",\"sha\":\"fa0846ce7d6b6ef5f546c0a657da57549295d0e4\",\"user\":{\"login\":\"andyal230\",\"id\":131865564,\"node_id\":\"U_kgDOB9wb3A\",\"avatar_url\":\"https://avatars.githubusercontent.com/u/131865564?v=4\",\"gravatar_id\":\"\",\"url\":\"https://api.github.com/users/andyal230\",\"html_url\":\"https://github.com/andyal230\",\"followers_url\":\"https://api.github.com/users/andyal230/followers\",\"following_url\":\"https://api.github.com/users/andyal230/following{/other_user}\",\"gists_url\":\"https://api.github.com/users/andyal230/gists{/gist_id}\",\"starred_url\":\"https://api.github.com/users/andyal230/starred{/owner}{/repo}\",\"subscriptions_url\":\"https://api.github.com/users/andyal230/subscriptions\",\"organizations_url\":\"https://api.github.com/users/andyal230/orgs\",\"repos_url\":\"https://api.github.com/users/andyal230/repos\",\"events_url\":\"https://api.github.com/users/andyal230/events{/privacy}\",\"received_events_url\":\"https://api.github.com/users/andyal230/received_events\",\"type\":\"User\",\"user_view_type\":\"public\",\"site_admin\":false},\"repo\":{\"id\":1024650028,\"node_id\":\"R_kgDOPRLrLA\",\"name\":\"Shell\",\"full_name\":\"andyal230/Shell\",\"private\":false,\"owner\":{\"login\":\"andyal230\",\"id\":131865564,\"node_id\":\"U_kgDOB9wb3A\",\"avatar_url\":\"https://avatars.githubusercontent.com/u/131865564?v=4\",\"gravatar_id\":\"\",\"url\":\"https://api.github.com/users/andyal230\",\"html_url\":\"https://github.com/andyal230\",\"followers_url\":\"https://api.github.com/users/andyal230/followers\",\"following_url\":\"https://api.github.com/users/andyal230/following{/other_user}\",\"gists_url\":\"https://api.github.com/users/andyal230/gists{/gist_id}\",\"starred_url\":\"https://api.github.com/users/andyal230/starred{/owner}{/repo}\",\"subscriptions_url\":\"https://api.github.com/users/andyal230/subscriptions\",\"organizations_url\":\"https://api.github.com/users/andyal230/orgs\",\"repos_url\":\"https://api.github.com/users/andyal230/repos\",\"events_url\":\"https://api.github.com/users/andyal230/events{/privacy}\",\"received_events_url\":\"https://api.github.com/users/andyal230/received_events\",\"type\":\"User\",\"user_view_type\":\"public\",\"site_admin\":false},\"html_url\":\"https://github.com/andyal230/Shell\",\"description\":\"Schell Scripts\",\"fork\":true,\"url\":\"https://api.github.com/repos/andyal230/Shell\",\"forks_url\":\"https://api.github.com/repos/andyal230/Shell/forks\",\"keys_url\":\"https://api.github.com/repos/andyal230/Shell/keys{/key_id}\",\"collaborators_url\":\"https://api.github.com/repos/andyal230/Shell/collaborators{/collaborator}\",\"teams_url\":\"https://api.github.com/repos/andyal230/Shell/teams\",\"hooks_url\":\"https://api.github.com/repos/andyal230/Shell/hooks\",\"issue_events_url\":\"https://api.github.com/repos/andyal230/Shell/issues/events{/number}\",\"events_url\":\"https://api.github.com/repos/andyal230/Shell/events\",\"assignees_url\":\"https://api.github.com/repos/andyal230/Shell/assignees{/user}\",\"branches_url\":\"https://api.github.com/repos/andyal230/Shell/branches{/branch}\",\"tags_url\":\"https://api.github.com/repos/andyal230/Shell/tags\",\"blobs_url\":\"https://api.github.com/repos/andyal230/Shell/git/blobs{/sha}\",\"git_tags_url\":\"https://api.github.com/repos/andyal230/Shell/git/tags{/sha}\",\"git_refs_url\":\"https://api.github.com/repos/andyal230/Shell/git/refs{/sha}\",\"trees_url\":\"https://api.github.com/repos/andyal230/Shell/git/trees{/sha}\",\"statuses_url\":\"https://api.github.com/repos/andyal230/Shell/statuses/{sha}\",\"languages_url\":\"https://api.github.com/repos/andyal230/Shell/languages\",\"stargazers_url\":\"https://api.github.com/repos/andyal230/Shell/stargazers\",\"contributors_url\":\"https://api.github.com/repos/andyal230/Shell/contributors\",\"subscribers_url\":\"https://api.github.com/repos/andyal230/Shell/subscribers\",\"subscription_url\":\"https://api.github.com/repos/andyal230/Shell/subscription\",\"commits_url\":\"https://api.github.com/repos/andyal230/Shell/commits{/sha}\",\"git_commits_url\":\"https://api.github.com/repos/andyal230/Shell/git/commits{/sha}\",\"comments_url\":\"https://api.github.com/repos/andyal230/Shell/comments{/number}\",\"issue_comment_url\":\"https://api.github.com/repos/andyal230/Shell/issues/comments{/number}\",\"contents_url\":\"https://api.github.com/repos/andyal230/Shell/contents/{+path}\",\"compare_url\":\"https://api.github.com/repos/andyal230/Shell/compare/{base}...{head}\",\"merges_url\":\"https://api.github.com/repos/andyal230/Shell/merges\",\"archive_url\":\"https://api.github.com/repos/andyal230/Shell/{archive_format}{/ref}\",\"downloads_url\":\"https://api.github.com/repos/andyal230/Shell/downloads\",\"issues_url\":\"https://api.github.com/repos/andyal230/Shell/issues{/number}\",\"pulls_url\":\"https://api.github.com/repos/andyal230/Shell/pulls{/number}\",\"milestones_url\":\"https://api.github.com/repos/andyal230/Shell/milestones{/number}\",\"notifications_url\":\"https://api.github.com/repos/andyal230/Shell/notifications{?since,all,participating}\",\"labels_url\":\"https://api.github.com/repos/andyal230/Shell/labels{/name}\",\"releases_url\":\"https://api.github.com/repos/andyal230/Shell/releases{/id}\",\"deployments_url\":\"https://api.github.com/repos/andyal230/Shell/deployments\",\"created_at\":\"2025-07-23T03:40:30Z\",\"updated_at\":\"2025-07-23T04:30:18Z\",\"pushed_at\":\"2025-07-23T04:30:15Z\",\"git_url\":\"git://github.com/andyal230/Shell.git\",\"ssh_url\":\"git@github.com:andyal230/Shell.git\",\"clone_url\":\"https://github.com/andyal230/Shell.git\",\"svn_url\":\"https://github.com/andyal230/Shell\",\"homepage\":null,\"size\":1,\"stargazers_count\":0,\"watchers_count\":0,\"language\":\"Shell\",\"has_issues\":false,\"has_projects\":true,\"has_downloads\":true,\"has_wiki\":true,\"has_pages\":false,\"has_discussions\":false,\"forks_count\":0,\"mirror_url\":null,\"archived\":false,\"disabled\":false,\"open_issues_count\":0,\"license\":null,\"allow_forking\":true,\"is_template\":false,\"web_commit_signoff_required\":false,\"topics\":[],\"visibility\":\"public\",\"forks\":0,\"open_issues\":0,\"watchers\":0,\"default_branch\":\"main\"}},\"base\":{\"label\":\"iam-veeramalla:main\",\"ref\":\"main\",\"sha\":\"a6a20761a728b6fd5890859291a191b31e077397\",\"user\":{\"login\":\"iam-veeramalla\",\"id\":43399466,\"node_id\":\"MDQ6VXNlcjQzMzk5NDY2\",\"avatar_url\":\"https://avatars.githubusercontent.com/u/43399466?v=4\",\"gravatar_id\":\"\",\"url\":\"https://api.github.com/users/iam-veeramalla\",\"html_url\":\"https://github.com/iam-veeramalla\",\"followers_url\":\"https://api.github.com/users/iam-veeramalla/followers\",\"following_url\":\"https://api.github.com/users/iam-veeramalla/following{/other_user}\",\"gists_url\":\"https://api.github.com/users/iam-veeramalla/gists{/gist_id}\",\"starred_url\":\"https://api.github.com/users/iam-veeramalla/starred{/owner}{/repo}\",\"subscriptions_url\":\"https://api.github.com/users/iam-veeramalla/subscriptions\",\"organizations_url\":\"https://api.github.com/users/iam-veeramalla/orgs\",\"repos_url\":\"https://api.github.com/users/iam-veeramalla/repos\",\"events_url\":\"https://api.github.com/users/iam-veeramalla/events{/privacy}\",\"received_events_url\":\"https://api.github.com/users/iam-veeramalla/received_events\",\"type\":\"User\",\"user_view_type\":\"public\",\"site_admin\":false},\"repo\":{\"id\":995170578,\"node_id\":\"R_kgDOO1EZEg\",\"name\":\"Shell\",\"full_name\":\"iam-veeramalla/Shell\",\"private\":false,\"owner\":{\"login\":\"iam-veeramalla\",\"id\":43399466,\"node_id\":\"MDQ6VXNlcjQzMzk5NDY2\",\"avatar_url\":\"https://avatars.githubusercontent.com/u/43399466?v=4\",\"gravatar_id\":\"\",\"url\":\"https://api.github.com/users/iam-veeramalla\",\"html_url\":\"https://github.com/iam-veeramalla\",\"followers_url\":\"https://api.github.com/users/iam-veeramalla/followers\",\"following_url\":\"https://api.github.com/users/iam-veeramalla/following{/other_user}\",\"gists_url\":\"https://api.github.com/users/iam-veeramalla/gists{/gist_id}\",\"starred_url\":\"https://api.github.com/users/iam-veeramalla/starred{/owner}{/repo}\",\"subscriptions_url\":\"https://api.github.com/users/iam-veeramalla/subscriptions\",\"organizations_url\":\"https://api.github.com/users/iam-veeramalla/orgs\",\"repos_url\":\"https://api.github.com/users/iam-veeramalla/repos\",\"events_url\":\"https://api.github.com/users/iam-veeramalla/events{/privacy}\",\"received_events_url\":\"https://api.github.com/users/iam-veeramalla/received_events\",\"type\":\"User\",\"user_view_type\":\"public\",\"site_admin\":false},\"html_url\":\"https://github.com/iam-veeramalla/Shell\",\"description\":\"Schell Scripts\",\"fork\":true,\"url\":\"https://api.github.com/repos/iam-veeramalla/Shell\",\"forks_url\":\"https://api.github.com/repos/iam-veeramalla/Shell/forks\",\"keys_url\":\"https://api.github.com/repos/iam-veeramalla/Shell/keys{/key_id}\",\"collaborators_url\":\"https://api.github.com/repos/iam-veeramalla/Shell/collaborators{/collaborator}\",\"teams_url\":\"https://api.github.com/repos/iam-veeramalla/Shell/teams\",\"hooks_url\":\"https://api.github.com/repos/iam-veeramalla/Shell/hooks\",\"issue_events_url\":\"https://api.github.com/repos/iam-veeramalla/Shell/issues/events{/number}\",\"events_url\":\"https://api.github.com/repos/iam-veeramalla/Shell/events\",\"assignees_url\":\"https://api.github.com/repos/iam-veeramalla/Shell/assignees{/user}\",\"branches_url\":\"https://api.github.com/repos/iam-veeramalla/Shell/branches{/branch}\",\"tags_url\":\"https://api.github.com/repos/iam-veeramalla/Shell/tags\",\"blobs_url\":\"https://api.github.com/repos/iam-veeramalla/Shell/git/blobs{/sha}\",\"git_tags_url\":\"https://api.github.com/repos/iam-veeramalla/Shell/git/tags{/sha}\",\"git_refs_url\":\"https://api.github.com/repos/iam-veeramalla/Shell/git/refs{/sha}\",\"trees_url\":\"https://api.github.com/repos/iam-veeramalla/Shell/git/trees{/sha}\",\"statuses_url\":\"https://api.github.com/repos/iam-veeramalla/Shell/statuses/{sha}\",\"languages_url\":\"https://api.github.com/repos/iam-veeramalla/Shell/languages\",\"stargazers_url\":\"https://api.github.com/repos/iam-veeramalla/Shell/stargazers\",\"contributors_url\":\"https://api.github.com/repos/iam-veeramalla/Shell/contributors\",\"subscribers_url\":\"https://api.github.com/repos/iam-veeramalla/Shell/subscribers\",\"subscription_url\":\"https://api.github.com/repos/iam-veeramalla/Shell/subscription\",\"commits_url\":\"https://api.github.com/repos/iam-veeramalla/Shell/commits{/sha}\",\"git_commits_url\":\"https://api.github.com/repos/iam-veeramalla/Shell/git/commits{/sha}\",\"comments_url\":\"https://api.github.com/repos/iam-veeramalla/Shell/comments{/number}\",\"issue_comment_url\":\"https://api.github.com/repos/iam-veeramalla/Shell/issues/comments{/number}\",\"contents_url\":\"https://api.github.com/repos/iam-veeramalla/Shell/contents/{+path}\",\"compare_url\":\"https://api.github.com/repos/iam-veeramalla/Shell/compare/{base}...{head}\",\"merges_url\":\"https://api.github.com/repos/iam-veeramalla/Shell/merges\",\"archive_url\":\"https://api.github.com/repos/iam-veeramalla/Shell/{archive_format}{/ref}\",\"downloads_url\":\"https://api.github.com/repos/iam-veeramalla/Shell/downloads\",\"issues_url\":\"https://api.github.com/repos/iam-veeramalla/Shell/issues{/number}\",\"pulls_url\":\"https://api.github.com/repos/iam-veeramalla/Shell/pulls{/number}\",\"milestones_url\":\"https://api.github.com/repos/iam-veeramalla/Shell/milestones{/number}\",\"notifications_url\":\"https://api.github.com/repos/iam-veeramalla/Shell/notifications{?since,all,participating}\",\"labels_url\":\"https://api.github.com/repos/iam-veeramalla/Shell/labels{/name}\",\"releases_url\":\"https://api.github.com/repos/iam-veeramalla/Shell/releases{/id}\",\"deployments_url\":\"https://api.github.com/repos/iam-veeramalla/Shell/deployments\",\"created_at\":\"2025-06-03T04:34:55Z\",\"updated_at\":\"2025-07-22T07:56:31Z\",\"pushed_at\":\"2025-06-03T09:43:29Z\",\"git_url\":\"git://github.com/iam-veeramalla/Shell.git\",\"ssh_url\":\"git@github.com:iam-veeramalla/Shell.git\",\"clone_url\":\"https://github.com/iam-veeramalla/Shell.git\",\"svn_url\":\"https://github.com/iam-veeramalla/Shell\",\"homepage\":null,\"size\":1,\"stargazers_count\":17,\"watchers_count\":17,\"language\":null,\"has_issues\":false,\"has_projects\":true,\"has_downloads\":true,\"has_wiki\":true,\"has_pages\":false,\"has_discussions\":false,\"forks_count\":49,\"mirror_url\":null,\"archived\":false,\"disabled\":false,\"open_issues_count\":20,\"license\":null,\"allow_forking\":true,\"is_template\":false,\"web_commit_signoff_required\":false,\"topics\":[],\"visibility\":\"public\",\"forks\":49,\"open_issues\":20,\"watchers\":17,\"default_branch\":\"main\"}},\"_links\":{\"self\":{\"href\":\"https://api.github.com/repos/iam-veeramalla/Shell/pulls/27\"},\"html\":{\"href\":\"https://github.com/iam-veeramalla/Shell/pull/27\"},\"issue\":{\"href\":\"https://api.github.com/repos/iam-veeramalla/Shell/issues/27\"},\"comments\":{\"href\":\"https://api.github.com/repos/iam-veeramalla/Shell/issues/27/comments\"},\"review_comments\":{\"href\":\"https://api.github.com/repos/iam-veeramalla/Shell/pulls/27/comments\"},\"review_comment\":{\"href\":\"https://api.github.com/repos/iam-veeramalla/Shell/pulls/comments{/number}\"},\"commits\":{\"href\":\"https://api.github.com/repos/iam-veeramalla/Shell/pulls/27/commits\"},\"statuses\":{\"href\":\"https://api.github.com/repos/iam-veeramalla/Shell/statuses/fa0846ce7d6b6ef5f546c0a657da57549295d0e4\"}},\"author_association\":\"NONE\",\"auto_merge\":null,\"active_lock_reason\":null}},\"public\":true,\"created_at\":\"2025-07-23T04:32:49Z\"},{\"id\":\"52424705242\",\"type\":\"PushEvent\",\"actor\":{\"id\":41898282,\"login\":\"github-actions[bot]\",\"display_login\":\"github-actions\",\"gravatar_id\":\"\",\"url\":\"https://api.github.com/users/github-actions[bot]\",\"avatar_url\":\"https://avatars.githubusercontent.com/u/41898282?\"},\"repo\":{\"id\":980955272,\"name\":\"doyouseemeB/LibreTV\",\"url\":\"https://api.github.com/repos/doyouseemeB/LibreTV\"},\"payload\":{\"repository_id\":980955272,\"push_id\":25666155940,\"size\":3,\"distinct_size\":3,\"ref\":\"refs/heads/main\",\"head\":\"00d391aa1b1f96c80b3be22a9082888653da5a5e\",\"before\":\"182ca7c28d14c3ffd27479206ac23af9abea4181\",\"commits\":[{\"sha\":\"450b940678260cc7b5bf15fe4b6d6803068f41e7\",\"author\":{\"email\":\"hst1189@hotmail.com\",\"name\":\"hst1189\"},\"message\":\"Update config.js\",\"distinct\":true,\"url\":\"https://api.github.com/repos/doyouseemeB/LibreTV/commits/450b940678260cc7b5bf15fe4b6d6803068f41e7\"},{\"sha\":\"4459f9726eaeea21576012ec8bd32d41c1b4a3c2\",\"author\":{\"email\":\"110226580+bestZwei@users.noreply.github.com\",\"name\":\"Zwei\"},\"message\":\"Merge pull request #771 from hst1189/main\\n\\nUpdate config.js  修复小猫咪资源站\",\"distinct\":true,\"url\":\"https://api.github.com/repos/doyouseemeB/LibreTV/commits/4459f9726eaeea21576012ec8bd32d41c1b4a3c2\"},{\"sha\":\"00d391aa1b1f96c80b3be22a9082888653da5a5e\",\"author\":{\"email\":\"github-actions[bot]@users.noreply.github.com\",\"name\":\"github-actions[bot]\"},\"message\":\"Auto Update 2025-07-22 22:10\",\"distinct\":true,\"url\":\"https://api.github.com/repos/doyouseemeB/LibreTV/commits/00d391aa1b1f96c80b3be22a9082888653da5a5e\"}]},\"public\":true,\"created_at\":\"2025-07-23T04:32:49Z\"},{\"id\":\"52424705214\",\"type\":\"PushEvent\",\"actor\":{\"id\":1218621,\"login\":\"tamnd\",\"display_login\":\"tamnd\",\"gravatar_id\":\"\",\"url\":\"https://api.github.com/users/tamnd\",\"avatar_url\":\"https://avatars.githubusercontent.com/u/1218621?\"},\"repo\":{\"id\":985853139,\"name\":\"mochilang/mochi\",\"url\":\"https://api.github.com/repos/mochilang/mochi\"},\"payload\":{\"repository_id\":985853139,\"push_id\":25666155916,\"size\":1,\"distinct_size\":1,\"ref\":\"refs/heads/codex/enhance-transpiler-for-mochi-program-7\",\"head\":\"129f204c01597de0785c777488184c9f9f779d1b\",\"before\":\"b7e48da93fff773425eadde4beda3b5ff86b24f7\",\"commits\":[{\"sha\":\"129f204c01597de0785c777488184c9f9f779d1b\",\"author\":{\"email\":\"1218621+tamnd@users.noreply.github.com\",\"name\":\"Tam Nguyen Duc\"},\"message\":\"java transpiler: handle typed maps\",\"distinct\":true,\"url\":\"https://api.github.com/repos/mochilang/mochi/commits/129f204c01597de0785c777488184c9f9f779d1b\"}]},\"public\":true,\"created_at\":\"2025-07-23T04:32:49Z\",\"org\":{\"id\":212254672,\"login\":\"mochilang\",\"gravatar_id\":\"\",\"url\":\"https://api.github.com/orgs/mochilang\",\"avatar_url\":\"https://avatars.githubusercontent.com/u/212254672?\"}},{\"id\":\"52424705219\",\"type\":\"PushEvent\",\"actor\":{\"id\":41898282,\"login\":\"github-actions[bot]\",\"display_login\":\"github-actions\",\"gravatar_id\":\"\",\"url\":\"https://api.github.com/users/github-actions[bot]\",\"avatar_url\":\"https://avatars.githubusercontent.com/u/41898282?\"},\"repo\":{\"id\":306892125,\"name\":\"arty4999/arty4999\",\"url\":\"https://api.github.com/repos/arty4999/arty4999\"},\"payload\":{\"repository_id\":306892125,\"push_id\":25666155906,\"size\":1,\"distinct_size\":1,\"ref\":\"refs/heads/main\",\"head\":\"2f43ca0cb4cdf2dfedf21406e8689a72f34de526\",\"before\":\"56bcf3e03a03ea58366d806b38e3a62fef4948f0\",\"commits\":[{\"sha\":\"2f43ca0cb4cdf2dfedf21406e8689a72f34de526\",\"author\":{\"email\":\"41898282+github-actions[bot]@users.noreply.github.com\",\"name\":\"github-actions[bot]\"},\"message\":\"Update github-metrics.svg - [Skip GitHub Action]\",\"distinct\":true,\"url\":\"https://api.github.com/repos/arty4999/arty4999/commits/2f43ca0cb4cdf2dfedf21406e8689a72f34de526\"}]},\"public\":true,\"created_at\":\"2025-07-23T04:32:49Z\"},{\"id\":\"52424705235\",\"type\":\"CreateEvent\",\"actor\":{\"id\":121875131,\"login\":\"Deesun-Abar-Ke\",\"display_login\":\"Deesun-Abar-Ke\",\"gravatar_id\":\"\",\"url\":\"https://api.github.com/users/Deesun-Abar-Ke\",\"avatar_url\":\"https://avatars.githubusercontent.com/u/121875131?\"},\"repo\":{\"id\":1012199450,\"name\":\"Deesun-Abar-Ke/CampusNet\",\"url\":\"https://api.github.com/repos/Deesun-Abar-Ke/CampusNet\"},\"payload\":{\"ref\":\"test\",\"ref_type\":\"branch\",\"master_branch\":\"main\",\"description\":null,\"pusher_type\":\"user\"},\"public\":true,\"created_at\":\"2025-07-23T04:32:49Z\"},{\"id\":\"52424705224\",\"type\":\"PullRequestEvent\",\"actor\":{\"id\":6462404,\"login\":\"hoangdat\",\"display_login\":\"hoangdat\",\"gravatar_id\":\"\",\"url\":\"https://api.github.com/users/hoangdat\",\"avatar_url\":\"https://avatars.githubusercontent.com/u/6462404?\"},\"repo\":{\"id\":611079026,\"name\":\"linagora/twake-on-matrix\",\"url\":\"https://api.github.com/repos/linagora/twake-on-matrix\"},\"payload\":{\"action\":\"closed\",\"number\":2477,\"pull_request\":{\"url\":\"https://api.github.com/repos/linagora/twake-on-matrix/pulls/2477\",\"id\":2687329330,\"node_id\":\"PR_kwDOJGxTcs6gLWQy\",\"html_url\":\"https://github.com/linagora/twake-on-matrix/pull/2477\",\"diff_url\":\"https://github.com/linagora/twake-on-matrix/pull/2477.diff\",\"patch_url\":\"https://github.com/linagora/twake-on-matrix/pull/2477.patch\",\"issue_url\":\"https://api.github.com/repos/linagora/twake-on-matrix/issues/2477\",\"number\":2477,\"state\":\"closed\",\"locked\":false,\"title\":\"TW-2469: Refactor avatar size handling to use `byte_converter` package for improved clarity\",\"user\":{\"login\":\"nqhhdev\",\"id\":99852347,\"node_id\":\"U_kgDOBfOgOw\",\"avatar_url\":\"https://avatars.githubusercontent.com/u/99852347?v=4\",\"gravatar_id\":\"\",\"url\":\"https://api.github.com/users/nqhhdev\",\"html_url\":\"https://github.com/nqhhdev\",\"followers_url\":\"https://api.github.com/users/nqhhdev/followers\",\"following_url\":\"https://api.github.com/users/nqhhdev/following{/other_user}\",\"gists_url\":\"https://api.github.com/users/nqhhdev/gists{/gist_id}\",\"starred_url\":\"https://api.github.com/users/nqhhdev/starred{/owner}{/repo}\",\"subscriptions_url\":\"https://api.github.com/users/nqhhdev/subscriptions\",\"organizations_url\":\"https://api.github.com/users/nqhhdev/orgs\",\"repos_url\":\"https://api.github.com/users/nqhhdev/repos\",\"events_url\":\"https://api.github.com/users/nqhhdev/events{/privacy}\",\"received_events_url\":\"https://api.github.com/users/nqhhdev/received_events\",\"type\":\"User\",\"user_view_type\":\"public\",\"site_admin\":false},\"body\":\"## Ticket\\r\\n**Related issue**\\r\\n- #2469\\r\\n\\r\\n## Resolved\\r\\n**Attach screenshots or videos demonstrating the changes**\\r\\n\\r\\nhttps://github.com/user-attachments/assets/20e99aa1-a79e-4bbc-99c7-d540020c7dcf\\r\\n\\r\\n\",\"created_at\":\"2025-07-23T03:02:47Z\",\"updated_at\":\"2025-07-23T04:32:48Z\",\"closed_at\":\"2025-07-23T04:32:48Z\",\"merged_at\":\"2025-07-23T04:32:48Z\",\"merge_commit_sha\":\"eb2ec3726037e8eb86c0538ed0ac015e2f31e4c2\",\"assignee\":null,\"assignees\":[],\"requested_reviewers\":[{\"login\":\"dab246\",\"id\":80730648,\"node_id\":\"MDQ6VXNlcjgwNzMwNjQ4\",\"avatar_url\":\"https://avatars.githubusercontent.com/u/80730648?v=4\",\"gravatar_id\":\"\",\"url\":\"https://api.github.com/users/dab246\",\"html_url\":\"https://github.com/dab246\",\"followers_url\":\"https://api.github.com/users/dab246/followers\",\"following_url\":\"https://api.github.com/users/dab246/following{/other_user}\",\"gists_url\":\"https://api.github.com/users/dab246/gists{/gist_id}\",\"starred_url\":\"https://api.github.com/users/dab246/starred{/owner}{/repo}\",\"subscriptions_url\":\"https://api.github.com/users/dab246/subscriptions\",\"organizations_url\":\"https://api.github.com/users/dab246/orgs\",\"repos_url\":\"https://api.github.com/users/dab246/repos\",\"events_url\":\"https://api.github.com/users/dab246/events{/privacy}\",\"received_events_url\":\"https://api.github.com/users/dab246/received_events\",\"type\":\"User\",\"user_view_type\":\"public\",\"site_admin\":false},{\"login\":\"tddang-linagora\",\"id\":160106668,\"node_id\":\"U_kgDOCYsIrA\",\"avatar_url\":\"https://avatars.githubusercontent.com/u/160106668?v=4\",\"gravatar_id\":\"\",\"url\":\"https://api.github.com/users/tddang-linagora\",\"html_url\":\"https://github.com/tddang-linagora\",\"followers_url\":\"https://api.github.com/users/tddang-linagora/followers\",\"following_url\":\"https://api.github.com/users/tddang-linagora/following{/other_user}\",\"gists_url\":\"https://api.github.com/users/tddang-linagora/gists{/gist_id}\",\"starred_url\":\"https://api.github.com/users/tddang-linagora/starred{/owner}{/repo}\",\"subscriptions_url\":\"https://api.github.com/users/tddang-linagora/subscriptions\",\"organizations_url\":\"https://api.github.com/users/tddang-linagora/orgs\",\"repos_url\":\"https://api.github.com/users/tddang-linagora/repos\",\"events_url\":\"https://api.github.com/users/tddang-linagora/events{/privacy}\",\"received_events_url\":\"https://api.github.com/users/tddang-linagora/received_events\",\"type\":\"User\",\"user_view_type\":\"public\",\"site_admin\":false}],\"requested_teams\":[],\"labels\":[],\"milestone\":null,\"draft\":false,\"commits_url\":\"https://api.github.com/repos/linagora/twake-on-matrix/pulls/2477/commits\",\"review_comments_url\":\"https://api.github.com/repos/linagora/twake-on-matrix/pulls/2477/comments\",\"review_comment_url\":\"https://api.github.com/repos/linagora/twake-on-matrix/pulls/comments{/number}\",\"comments_url\":\"https://api.github.com/repos/linagora/twake-on-matrix/issues/2477/comments\",\"statuses_url\":\"https://api.github.com/repos/linagora/twake-on-matrix/statuses/00f53e10b4145a139033c68857736dfe549849e4\",\"head\":{\"label\":\"linagora:TW-2469-fix-convert-file-size\",\"ref\":\"TW-2469-fix-convert-file-size\",\"sha\":\"00f53e10b4145a139033c68857736dfe549849e4\",\"user\":{\"login\":\"linagora\",\"id\":1230365,\"node_id\":\"MDEyOk9yZ2FuaXphdGlvbjEyMzAzNjU=\",\"avatar_url\":\"https://avatars.githubusercontent.com/u/1230365?v=4\",\"gravatar_id\":\"\",\"url\":\"https://api.github.com/users/linagora\",\"html_url\":\"https://github.com/linagora\",\"followers_url\":\"https://api.github.com/users/linagora/followers\",\"following_url\":\"https://api.github.com/users/linagora/following{/other_user}\",\"gists_url\":\"https://api.github.com/users/linagora/gists{/gist_id}\",\"starred_url\":\"https://api.github.com/users/linagora/starred{/owner}{/repo}\",\"subscriptions_url\":\"https://api.github.com/users/linagora/subscriptions\",\"organizations_url\":\"https://api.github.com/users/linagora/orgs\",\"repos_url\":\"https://api.github.com/users/linagora/repos\",\"events_url\":\"https://api.github.com/users/linagora/events{/privacy}\",\"received_events_url\":\"https://api.github.com/users/linagora/received_events\",\"type\":\"Organization\",\"user_view_type\":\"public\",\"site_admin\":false},\"repo\":{\"id\":611079026,\"node_id\":\"R_kgDOJGxTcg\",\"name\":\"twake-on-matrix\",\"full_name\":\"linagora/twake-on-matrix\",\"private\":false,\"owner\":{\"login\":\"linagora\",\"id\":1230365,\"node_id\":\"MDEyOk9yZ2FuaXphdGlvbjEyMzAzNjU=\",\"avatar_url\":\"https://avatars.githubusercontent.com/u/1230365?v=4\",\"gravatar_id\":\"\",\"url\":\"https://api.github.com/users/linagora\",\"html_url\":\"https://github.com/linagora\",\"followers_url\":\"https://api.github.com/users/linagora/followers\",\"following_url\":\"https://api.github.com/users/linagora/following{/other_user}\",\"gists_url\":\"https://api.github.com/users/linagora/gists{/gist_id}\",\"starred_url\":\"https://api.github.com/users/linagora/starred{/owner}{/repo}\",\"subscriptions_url\":\"https://api.github.com/users/linagora/subscriptions\",\"organizations_url\":\"https://api.github.com/users/linagora/orgs\",\"repos_url\":\"https://api.github.com/users/linagora/repos\",\"events_url\":\"https://api.github.com/users/linagora/events{/privacy}\",\"received_events_url\":\"https://api.github.com/users/linagora/received_events\",\"type\":\"Organization\",\"user_view_type\":\"public\",\"site_admin\":false},\"html_url\":\"https://github.com/linagora/twake-on-matrix\",\"description\":\"A multi-platform (Flutter) application for connecting to Matrix - an open network for secure, decentralized communication, with your favorite devices.\",\"fork\":false,\"url\":\"https://api.github.com/repos/linagora/twake-on-matrix\",\"forks_url\":\"https://api.github.com/repos/linagora/twake-on-matrix/forks\",\"keys_url\":\"https://api.github.com/repos/linagora/twake-on-matrix/keys{/key_id}\",\"collaborators_url\":\"https://api.github.com/repos/linagora/twake-on-matrix/collaborators{/collaborator}\",\"teams_url\":\"https://api.github.com/repos/linagora/twake-on-matrix/teams\",\"hooks_url\":\"https://api.github.com/repos/linagora/twake-on-matrix/hooks\",\"issue_events_url\":\"https://api.github.com/repos/linagora/twake-on-matrix/issues/events{/number}\",\"events_url\":\"https://api.github.com/repos/linagora/twake-on-matrix/events\",\"assignees_url\":\"https://api.github.com/repos/linagora/twake-on-matrix/assignees{/user}\",\"branches_url\":\"https://api.github.com/repos/linagora/twake-on-matrix/branches{/branch}\",\"tags_url\":\"https://api.github.com/repos/linagora/twake-on-matrix/tags\",\"blobs_url\":\"https://api.github.com/repos/linagora/twake-on-matrix/git/blobs{/sha}\",\"git_tags_url\":\"https://api.github.com/repos/linagora/twake-on-matrix/git/tags{/sha}\",\"git_refs_url\":\"https://api.github.com/repos/linagora/twake-on-matrix/git/refs{/sha}\",\"trees_url\":\"https://api.github.com/repos/linagora/twake-on-matrix/git/trees{/sha}\",\"statuses_url\":\"https://api.github.com/repos/linagora/twake-on-matrix/statuses/{sha}\",\"languages_url\":\"https://api.github.com/repos/linagora/twake-on-matrix/languages\",\"stargazers_url\":\"https://api.github.com/repos/linagora/twake-on-matrix/stargazers\",\"contributors_url\":\"https://api.github.com/repos/linagora/twake-on-matrix/contributors\",\"subscribers_url\":\"https://api.github.com/repos/linagora/twake-on-matrix/subscribers\",\"subscription_url\":\"https://api.github.com/repos/linagora/twake-on-matrix/subscription\",\"commits_url\":\"https://api.github.com/repos/linagora/twake-on-matrix/commits{/sha}\",\"git_commits_url\":\"https://api.github.com/repos/linagora/twake-on-matrix/git/commits{/sha}\",\"comments_url\":\"https://api.github.com/repos/linagora/twake-on-matrix/comments{/number}\",\"issue_comment_url\":\"https://api.github.com/repos/linagora/twake-on-matrix/issues/comments{/number}\",\"contents_url\":\"https://api.github.com/repos/linagora/twake-on-matrix/contents/{+path}\",\"compare_url\":\"https://api.github.com/repos/linagora/twake-on-matrix/compare/{base}...{head}\",\"merges_url\":\"https://api.github.com/repos/linagora/twake-on-matrix/merges\",\"archive_url\":\"https://api.github.com/repos/linagora/twake-on-matrix/{archive_format}{/ref}\",\"downloads_url\":\"https://api.github.com/repos/linagora/twake-on-matrix/downloads\",\"issues_url\":\"https://api.github.com/repos/linagora/twake-on-matrix/issues{/number}\",\"pulls_url\":\"https://api.github.com/repos/linagora/twake-on-matrix/pulls{/number}\",\"milestones_url\":\"https://api.github.com/repos/linagora/twake-on-matrix/milestones{/number}\",\"notifications_url\":\"https://api.github.com/repos/linagora/twake-on-matrix/notifications{?since,all,participating}\",\"labels_url\":\"https://api.github.com/repos/linagora/twake-on-matrix/labels{/name}\",\"releases_url\":\"https://api.github.com/repos/linagora/twake-on-matrix/releases{/id}\",\"deployments_url\":\"https://api.github.com/repos/linagora/twake-on-matrix/deployments\",\"created_at\":\"2023-03-08T03:54:02Z\",\"updated_at\":\"2025-07-23T04:15:51Z\",\"pushed_at\":\"2025-07-23T04:20:36Z\",\"git_url\":\"git://github.com/linagora/twake-on-matrix.git\",\"ssh_url\":\"git@github.com:linagora/twake-on-matrix.git\",\"clone_url\":\"https://github.com/linagora/twake-on-matrix.git\",\"svn_url\":\"https://github.com/linagora/twake-on-matrix\",\"homepage\":null,\"size\":4101831,\"stargazers_count\":88,\"watchers_count\":88,\"language\":\"Dart\",\"has_issues\":true,\"has_projects\":true,\"has_downloads\":true,\"has_wiki\":false,\"has_pages\":true,\"has_discussions\":true,\"forks_count\":29,\"mirror_url\":null,\"archived\":false,\"disabled\":false,\"open_issues_count\":223,\"license\":{\"key\":\"agpl-3.0\",\"name\":\"GNU Affero General Public License v3.0\",\"spdx_id\":\"AGPL-3.0\",\"url\":\"https://api.github.com/licenses/agpl-3.0\",\"node_id\":\"MDc6TGljZW5zZTE=\"},\"allow_forking\":true,\"is_template\":false,\"web_commit_signoff_required\":false,\"topics\":[],\"visibility\":\"public\",\"forks\":29,\"open_issues\":223,\"watchers\":88,\"default_branch\":\"main\"}},\"base\":{\"label\":\"linagora:main\",\"ref\":\"main\",\"sha\":\"da91e6896c21e5cb90c99e23ef9ee49ea21d466d\",\"user\":{\"login\":\"linagora\",\"id\":1230365,\"node_id\":\"MDEyOk9yZ2FuaXphdGlvbjEyMzAzNjU=\",\"avatar_url\":\"https://avatars.githubusercontent.com/u/1230365?v=4\",\"gravatar_id\":\"\",\"url\":\"https://api.github.com/users/linagora\",\"html_url\":\"https://github.com/linagora\",\"followers_url\":\"https://api.github.com/users/linagora/followers\",\"following_url\":\"https://api.github.com/users/linagora/following{/other_user}\",\"gists_url\":\"https://api.github.com/users/linagora/gists{/gist_id}\",\"starred_url\":\"https://api.github.com/users/linagora/starred{/owner}{/repo}\",\"subscriptions_url\":\"https://api.github.com/users/linagora/subscriptions\",\"organizations_url\":\"https://api.github.com/users/linagora/orgs\",\"repos_url\":\"https://api.github.com/users/linagora/repos\",\"events_url\":\"https://api.github.com/users/linagora/events{/privacy}\",\"received_events_url\":\"https://api.github.com/users/linagora/received_events\",\"type\":\"Organization\",\"user_view_type\":\"public\",\"site_admin\":false},\"repo\":{\"id\":611079026,\"node_id\":\"R_kgDOJGxTcg\",\"name\":\"twake-on-matrix\",\"full_name\":\"linagora/twake-on-matrix\",\"private\":false,\"owner\":{\"login\":\"linagora\",\"id\":1230365,\"node_id\":\"MDEyOk9yZ2FuaXphdGlvbjEyMzAzNjU=\",\"avatar_url\":\"https://avatars.githubusercontent.com/u/1230365?v=4\",\"gravatar_id\":\"\",\"url\":\"https://api.github.com/users/linagora\",\"html_url\":\"https://github.com/linagora\",\"followers_url\":\"https://api.github.com/users/linagora/followers\",\"following_url\":\"https://api.github.com/users/linagora/following{/other_user}\",\"gists_url\":\"https://api.github.com/users/linagora/gists{/gist_id}\",\"starred_url\":\"https://api.github.com/users/linagora/starred{/owner}{/repo}\",\"subscriptions_url\":\"https://api.github.com/users/linagora/subscriptions\",\"organizations_url\":\"https://api.github.com/users/linagora/orgs\",\"repos_url\":\"https://api.github.com/users/linagora/repos\",\"events_url\":\"https://api.github.com/users/linagora/events{/privacy}\",\"received_events_url\":\"https://api.github.com/users/linagora/received_events\",\"type\":\"Organization\",\"user_view_type\":\"public\",\"site_admin\":false},\"html_url\":\"https://github.com/linagora/twake-on-matrix\",\"description\":\"A multi-platform (Flutter) application for connecting to Matrix - an open network for secure, decentralized communication, with your favorite devices.\",\"fork\":false,\"url\":\"https://api.github.com/repos/linagora/twake-on-matrix\",\"forks_url\":\"https://api.github.com/repos/linagora/twake-on-matrix/forks\",\"keys_url\":\"https://api.github.com/repos/linagora/twake-on-matrix/keys{/key_id}\",\"collaborators_url\":\"https://api.github.com/repos/linagora/twake-on-matrix/collaborators{/collaborator}\",\"teams_url\":\"https://api.github.com/repos/linagora/twake-on-matrix/teams\",\"hooks_url\":\"https://api.github.com/repos/linagora/twake-on-matrix/hooks\",\"issue_events_url\":\"https://api.github.com/repos/linagora/twake-on-matrix/issues/events{/number}\",\"events_url\":\"https://api.github.com/repos/linagora/twake-on-matrix/events\",\"assignees_url\":\"https://api.github.com/repos/linagora/twake-on-matrix/assignees{/user}\",\"branches_url\":\"https://api.github.com/repos/linagora/twake-on-matrix/branches{/branch}\",\"tags_url\":\"https://api.github.com/repos/linagora/twake-on-matrix/tags\",\"blobs_url\":\"https://api.github.com/repos/linagora/twake-on-matrix/git/blobs{/sha}\",\"git_tags_url\":\"https://api.github.com/repos/linagora/twake-on-matrix/git/tags{/sha}\",\"git_refs_url\":\"https://api.github.com/repos/linagora/twake-on-matrix/git/refs{/sha}\",\"trees_url\":\"https://api.github.com/repos/linagora/twake-on-matrix/git/trees{/sha}\",\"statuses_url\":\"https://api.github.com/repos/linagora/twake-on-matrix/statuses/{sha}\",\"languages_url\":\"https://api.github.com/repos/linagora/twake-on-matrix/languages\",\"stargazers_url\":\"https://api.github.com/repos/linagora/twake-on-matrix/stargazers\",\"contributors_url\":\"https://api.github.com/repos/linagora/twake-on-matrix/contributors\",\"subscribers_url\":\"https://api.github.com/repos/linagora/twake-on-matrix/subscribers\",\"subscription_url\":\"https://api.github.com/repos/linagora/twake-on-matrix/subscription\",\"commits_url\":\"https://api.github.com/repos/linagora/twake-on-matrix/commits{/sha}\",\"git_commits_url\":\"https://api.github.com/repos/linagora/twake-on-matrix/git/commits{/sha}\",\"comments_url\":\"https://api.github.com/repos/linagora/twake-on-matrix/comments{/number}\",\"issue_comment_url\":\"https://api.github.com/repos/linagora/twake-on-matrix/issues/comments{/number}\",\"contents_url\":\"https://api.github.com/repos/linagora/twake-on-matrix/contents/{+path}\",\"compare_url\":\"https://api.github.com/repos/linagora/twake-on-matrix/compare/{base}...{head}\",\"merges_url\":\"https://api.github.com/repos/linagora/twake-on-matrix/merges\",\"archive_url\":\"https://api.github.com/repos/linagora/twake-on-matrix/{archive_format}{/ref}\",\"downloads_url\":\"https://api.github.com/repos/linagora/twake-on-matrix/downloads\",\"issues_url\":\"https://api.github.com/repos/linagora/twake-on-matrix/issues{/number}\",\"pulls_url\":\"https://api.github.com/repos/linagora/twake-on-matrix/pulls{/number}\",\"milestones_url\":\"https://api.github.com/repos/linagora/twake-on-matrix/milestones{/number}\",\"notifications_url\":\"https://api.github.com/repos/linagora/twake-on-matrix/notifications{?since,all,participating}\",\"labels_url\":\"https://api.github.com/repos/linagora/twake-on-matrix/labels{/name}\",\"releases_url\":\"https://api.github.com/repos/linagora/twake-on-matrix/releases{/id}\",\"deployments_url\":\"https://api.github.com/repos/linagora/twake-on-matrix/deployments\",\"created_at\":\"2023-03-08T03:54:02Z\",\"updated_at\":\"2025-07-23T04:15:51Z\",\"pushed_at\":\"2025-07-23T04:20:36Z\",\"git_url\":\"git://github.com/linagora/twake-on-matrix.git\",\"ssh_url\":\"git@github.com:linagora/twake-on-matrix.git\",\"clone_url\":\"https://github.com/linagora/twake-on-matrix.git\",\"svn_url\":\"https://github.com/linagora/twake-on-matrix\",\"homepage\":null,\"size\":4101831,\"stargazers_count\":88,\"watchers_count\":88,\"language\":\"Dart\",\"has_issues\":true,\"has_projects\":true,\"has_downloads\":true,\"has_wiki\":false,\"has_pages\":true,\"has_discussions\":true,\"forks_count\":29,\"mirror_url\":null,\"archived\":false,\"disabled\":false,\"open_issues_count\":223,\"license\":{\"key\":\"agpl-3.0\",\"name\":\"GNU Affero General Public License v3.0\",\"spdx_id\":\"AGPL-3.0\",\"url\":\"https://api.github.com/licenses/agpl-3.0\",\"node_id\":\"MDc6TGljZW5zZTE=\"},\"allow_forking\":true,\"is_template\":false,\"web_commit_signoff_required\":false,\"topics\":[],\"visibility\":\"public\",\"forks\":29,\"open_issues\":223,\"watchers\":88,\"default_branch\":\"main\"}},\"_links\":{\"self\":{\"href\":\"https://api.github.com/repos/linagora/twake-on-matrix/pulls/2477\"},\"html\":{\"href\":\"https://github.com/linagora/twake-on-matrix/pull/2477\"},\"issue\":{\"href\":\"https://api.github.com/repos/linagora/twake-on-matrix/issues/2477\"},\"comments\":{\"href\":\"https://api.github.com/repos/linagora/twake-on-matrix/issues/2477/comments\"},\"review_comments\":{\"href\":\"https://api.github.com/repos/linagora/twake-on-matrix/pulls/2477/comments\"},\"review_comment\":{\"href\":\"https://api.github.com/repos/linagora/twake-on-matrix/pulls/comments{/number}\"},\"commits\":{\"href\":\"https://api.github.com/repos/linagora/twake-on-matrix/pulls/2477/commits\"},\"statuses\":{\"href\":\"https://api.github.com/repos/linagora/twake-on-matrix/statuses/00f53e10b4145a139033c68857736dfe549849e4\"}},\"author_association\":\"MEMBER\",\"auto_merge\":null,\"active_lock_reason\":null,\"merged\":true,\"mergeable\":null,\"rebaseable\":null,\"mergeable_state\":\"unknown\",\"merged_by\":{\"login\":\"hoangdat\",\"id\":6462404,\"node_id\":\"MDQ6VXNlcjY0NjI0MDQ=\",\"avatar_url\":\"https://avatars.githubusercontent.com/u/6462404?v=4\",\"gravatar_id\":\"\",\"url\":\"https://api.github.com/users/hoangdat\",\"html_url\":\"https://github.com/hoangdat\",\"followers_url\":\"https://api.github.com/users/hoangdat/followers\",\"following_url\":\"https://api.github.com/users/hoangdat/following{/other_user}\",\"gists_url\":\"https://api.github.com/users/hoangdat/gists{/gist_id}\",\"starred_url\":\"https://api.github.com/users/hoangdat/starred{/owner}{/repo}\",\"subscriptions_url\":\"https://api.github.com/users/hoangdat/subscriptions\",\"organizations_url\":\"https://api.github.com/users/hoangdat/orgs\",\"repos_url\":\"https://api.github.com/users/hoangdat/repos\",\"events_url\":\"https://api.github.com/users/hoangdat/events{/privacy}\",\"received_events_url\":\"https://api.github.com/users/hoangdat/received_events\",\"type\":\"User\",\"user_view_type\":\"public\",\"site_admin\":false},\"comments\":1,\"review_comments\":0,\"maintainer_can_modify\":false,\"commits\":2,\"additions\":18,\"deletions\":9,\"changed_files\":5}},\"public\":true,\"created_at\":\"2025-07-23T04:32:49Z\",\"org\":{\"id\":1230365,\"login\":\"linagora\",\"gravatar_id\":\"\",\"url\":\"https://api.github.com/orgs/linagora\",\"avatar_url\":\"https://avatars.githubusercontent.com/u/1230365?\"}},{\"id\":\"52424705205\",\"type\":\"ReleaseEvent\",\"actor\":{\"id\":41898282,\"login\":\"github-actions[bot]\",\"display_login\":\"github-actions\",\"gravatar_id\":\"\",\"url\":\"https://api.github.com/users/github-actions[bot]\",\"avatar_url\":\"https://avatars.githubusercontent.com/u/41898282?\"},\"repo\":{\"id\":725184343,\"name\":\"nymtech/nym-vpn-client\",\"url\":\"https://api.github.com/repos/nymtech/nym-vpn-client\"},\"payload\":{\"action\":\"published\",\"release\":{\"url\":\"https://api.github.com/repos/nymtech/nym-vpn-client/releases/234428781\",\"assets_url\":\"https://api.github.com/repos/nymtech/nym-vpn-client/releases/234428781/assets\",\"upload_url\":\"https://uploads.github.com/repos/nymtech/nym-vpn-client/releases/234428781/assets{?name,label}\",\"html_url\":\"https://github.com/nymtech/nym-vpn-client/releases/tag/nym-vpn-app-nightly\",\"id\":234428781,\"author\":{\"login\":\"github-actions[bot]\",\"id\":41898282,\"node_id\":\"MDM6Qm90NDE4OTgyODI=\",\"avatar_url\":\"https://avatars.githubusercontent.com/in/15368?v=4\",\"gravatar_id\":\"\",\"url\":\"https://api.github.com/users/github-actions%5Bbot%5D\",\"html_url\":\"https://github.com/apps/github-actions\",\"followers_url\":\"https://api.github.com/users/github-actions%5Bbot%5D/followers\",\"following_url\":\"https://api.github.com/users/github-actions%5Bbot%5D/following{/other_user}\",\"gists_url\":\"https://api.github.com/users/github-actions%5Bbot%5D/gists{/gist_id}\",\"starred_url\":\"https://api.github.com/users/github-actions%5Bbot%5D/starred{/owner}{/repo}\",\"subscriptions_url\":\"https://api.github.com/users/github-actions%5Bbot%5D/subscriptions\",\"organizations_url\":\"https://api.github.com/users/github-actions%5Bbot%5D/orgs\",\"repos_url\":\"https://api.github.com/users/github-actions%5Bbot%5D/repos\",\"events_url\":\"https://api.github.com/users/github-actions%5Bbot%5D/events{/privacy}\",\"received_events_url\":\"https://api.github.com/users/github-actions%5Bbot%5D/received_events\",\"type\":\"Bot\",\"user_view_type\":\"public\",\"site_admin\":false},\"node_id\":\"RE_kwDOKzlvV84N-Rlt\",\"tag_name\":\"nym-vpn-app-nightly\",\"target_commitish\":\"c1a86f780ab8b343c05fcd97f1c072b2049cf5d1\",\"name\":\"nym-vpn-app-nightly\",\"draft\":false,\"immutable\":false,\"prerelease\":true,\"created_at\":\"2025-07-22T14:08:59Z\",\"published_at\":\"2025-07-23T04:32:48Z\",\"assets\":[],\"tarball_url\":\"https://api.github.com/repos/nymtech/nym-vpn-client/tarball/nym-vpn-app-nightly\",\"zipball_url\":\"https://api.github.com/repos/nymtech/nym-vpn-client/zipball/nym-vpn-app-nightly\",\"body\":\":night_with_stars: Linux and Windows desktop app, **nightly** build\\n\\n```\\nApp name:      NymVPN\\nVersion:       1.13.0-dev\\nTauri version: 2.7.0\\nRustc version: rustc 1.87.0 (17067e9ac 2025-05-09)\\nBuild profile: release\\nDate:          Wed Jul 23 04:32:19 UTC 2025\\n```\\n\\nSHA256 checksums\\n\\n```\\nfce0289ec1fad9a41cb3d076f84ed79eef57fee72339383485785b80d9d4ef1c  NymVPN_1.13.0-dev_x64.AppImage\\n09d5d4f7ecea8767a32e1396c742bf9c5509b7a78bb1a8e2f3cbfb35c7e67d66  nym-vpn-app_1.13.0-dev_amd64.deb\\nda2c2a19bc3babbb5ab83863cc4cef723bbea3a6699de5a00b91190796dd0943  nym-vpn_1.13.0-dev_linux_x64\\ndb3bdc1fb36eab1bd6def56a94e1f3806dcd2e3b6fc2ae1a5bdb840f919399ca  NymVPN_1.13.0-dev_x64-setup.exe\\n```\\n\",\"short_description_html\":\"<p>🌃 Linux and Windows desktop app, <strong>nightly</strong> build</p>\\n<div class=\\\"snippet-clipboard-content notranslate position-relative overflow-auto\\\" data-snippet-clipboard-copy-content=\\\"App name:      NymVPN\\nVersion:       1.13.0-dev\\nTauri version: 2.7.0\\nRustc version: rustc 1.87.0 (17067e9ac 2025-05-09)\\nBuild profile: release\\nDate:          Wed Jul 23 04:32:19 UTC 2025\\\"><pre class=\\\"notranslate\\\"><code>App name:      NymVPN\\nVersion:       1.13.0-dev\\nTauri version: 2.7.0\\nRustc version: rustc 1.87.0 (17067e9ac 2025-05-09)\\nBuild profile: release\\nDate:  …</code></pre></div>\",\"is_short_description_html_truncated\":true}},\"public\":true,\"created_at\":\"2025-07-23T04:32:49Z\",\"org\":{\"id\":51752891,\"login\":\"nymtech\",\"gravatar_id\":\"\",\"url\":\"https://api.github.com/orgs/nymtech\",\"avatar_url\":\"https://avatars.githubusercontent.com/u/51752891?\"}},{\"id\":\"52424705208\",\"type\":\"CreateEvent\",\"actor\":{\"id\":145617714,\"login\":\"ibo215\",\"display_login\":\"ibo215\",\"gravatar_id\":\"\",\"url\":\"https://api.github.com/users/ibo215\",\"avatar_url\":\"https://avatars.githubusercontent.com/u/145617714?\"},\"repo\":{\"id\":1024668349,\"name\":\"ibo215/zulfikarsolarfrontend\",\"url\":\"https://api.github.com/repos/ibo215/zulfikarsolarfrontend\"},\"payload\":{\"ref\":null,\"ref_type\":\"repository\",\"master_branch\":\"main\",\"description\":null,\"pusher_type\":\"user\"},\"public\":true,\"created_at\":\"2025-07-23T04:32:49Z\"},{\"id\":\"52424705222\",\"type\":\"DeleteEvent\",\"actor\":{\"id\":65933340,\"login\":\"seanpm2001\",\"display_login\":\"seanpm2001\",\"gravatar_id\":\"\",\"url\":\"https://api.github.com/users/seanpm2001\",\"avatar_url\":\"https://avatars.githubusercontent.com/u/65933340?\"},\"repo\":{\"id\":1024665956,\"name\":\"seanpm2001/Learn-M3U\",\"url\":\"https://api.github.com/repos/seanpm2001/Learn-M3U\"},\"payload\":{\"ref\":\"Template-Scheme-Other\",\"ref_type\":\"branch\",\"pusher_type\":\"user\"},\"public\":true,\"created_at\":\"2025-07-23T04:32:49Z\"},{\"id\":\"52424705209\",\"type\":\"ForkEvent\",\"actor\":{\"id\":65332433,\"login\":\"tama-it2\",\"display_login\":\"tama-it2\",\"gravatar_id\":\"\",\"url\":\"https://api.github.com/users/tama-it2\",\"avatar_url\":\"https://avatars.githubusercontent.com/u/65332433?\"},\"repo\":{\"id\":1024312001,\"name\":\"tama-it2/cls2025-simulation-corridor-1\",\"url\":\"https://api.github.com/repos/tama-it2/cls2025-simulation-corridor-1\"},\"payload\":{\"forkee\":{\"id\":1024668353,\"node_id\":\"R_kgDOPRMywQ\",\"name\":\"simulation-hasegawa-syu\",\"full_name\":\"tama-it2/simulation-hasegawa-syu\",\"private\":false,\"owner\":{\"login\":\"tama-it2\",\"id\":65332433,\"node_id\":\"MDEyOk9yZ2FuaXphdGlvbjY1MzMyNDMz\",\"avatar_url\":\"https://avatars.githubusercontent.com/u/65332433?v=4\",\"gravatar_id\":\"\",\"url\":\"https://api.github.com/users/tama-it2\",\"html_url\":\"https://github.com/tama-it2\",\"followers_url\":\"https://api.github.com/users/tama-it2/followers\",\"following_url\":\"https://api.github.com/users/tama-it2/following{/other_user}\",\"gists_url\":\"https://api.github.com/users/tama-it2/gists{/gist_id}\",\"starred_url\":\"https://api.github.com/users/tama-it2/starred{/owner}{/repo}\",\"subscriptions_url\":\"https://api.github.com/users/tama-it2/subscriptions\",\"organizations_url\":\"https://api.github.com/users/tama-it2/orgs\",\"repos_url\":\"https://api.github.com/users/tama-it2/repos\",\"events_url\":\"https://api.github.com/users/tama-it2/events{/privacy}\",\"received_events_url\":\"https://api.github.com/users/tama-it2/received_events\",\"type\":\"Organization\",\"user_view_type\":\"public\",\"site_admin\":false},\"html_url\":\"https://github.com/tama-it2/simulation-hasegawa-syu\",\"description\":\"cls2025-simulation-corridor-1 created by GitHub Classroom\",\"fork\":true,\"url\":\"https://api.github.com/repos/tama-it2/simulation-hasegawa-syu\",\"forks_url\":\"https://api.github.com/repos/tama-it2/simulation-hasegawa-syu/forks\",\"keys_url\":\"https://api.github.com/repos/tama-it2/simulation-hasegawa-syu/keys{/key_id}\",\"collaborators_url\":\"https://api.github.com/repos/tama-it2/simulation-hasegawa-syu/collaborators{/collaborator}\",\"teams_url\":\"https://api.github.com/repos/tama-it2/simulation-hasegawa-syu/teams\",\"hooks_url\":\"https://api.github.com/repos/tama-it2/simulation-hasegawa-syu/hooks\",\"issue_events_url\":\"https://api.github.com/repos/tama-it2/simulation-hasegawa-syu/issues/events{/number}\",\"events_url\":\"https://api.github.com/repos/tama-it2/simulation-hasegawa-syu/events\",\"assignees_url\":\"https://api.github.com/repos/tama-it2/simulation-hasegawa-syu/assignees{/user}\",\"branches_url\":\"https://api.github.com/repos/tama-it2/simulation-hasegawa-syu/branches{/branch}\",\"tags_url\":\"https://api.github.com/repos/tama-it2/simulation-hasegawa-syu/tags\",\"blobs_url\":\"https://api.github.com/repos/tama-it2/simulation-hasegawa-syu/git/blobs{/sha}\",\"git_tags_url\":\"https://api.github.com/repos/tama-it2/simulation-hasegawa-syu/git/tags{/sha}\",\"git_refs_url\":\"https://api.github.com/repos/tama-it2/simulation-hasegawa-syu/git/refs{/sha}\",\"trees_url\":\"https://api.github.com/repos/tama-it2/simulation-hasegawa-syu/git/trees{/sha}\",\"statuses_url\":\"https://api.github.com/repos/tama-it2/simulation-hasegawa-syu/statuses/{sha}\",\"languages_url\":\"https://api.github.com/repos/tama-it2/simulation-hasegawa-syu/languages\",\"stargazers_url\":\"https://api.github.com/repos/tama-it2/simulation-hasegawa-syu/stargazers\",\"contributors_url\":\"https://api.github.com/repos/tama-it2/simulation-hasegawa-syu/contributors\",\"subscribers_url\":\"https://api.github.com/repos/tama-it2/simulation-hasegawa-syu/subscribers\",\"subscription_url\":\"https://api.github.com/repos/tama-it2/simulation-hasegawa-syu/subscription\",\"commits_url\":\"https://api.github.com/repos/tama-it2/simulation-hasegawa-syu/commits{/sha}\",\"git_commits_url\":\"https://api.github.com/repos/tama-it2/simulation-hasegawa-syu/git/commits{/sha}\",\"comments_url\":\"https://api.github.com/repos/tama-it2/simulation-hasegawa-syu/comments{/number}\",\"issue_comment_url\":\"https://api.github.com/repos/tama-it2/simulation-hasegawa-syu/issues/comments{/number}\",\"contents_url\":\"https://api.github.com/repos/tama-it2/simulation-hasegawa-syu/contents/{+path}\",\"compare_url\":\"https://api.github.com/repos/tama-it2/simulation-hasegawa-syu/compare/{base}...{head}\",\"merges_url\":\"https://api.github.com/repos/tama-it2/simulation-hasegawa-syu/merges\",\"archive_url\":\"https://api.github.com/repos/tama-it2/simulation-hasegawa-syu/{archive_format}{/ref}\",\"downloads_url\":\"https://api.github.com/repos/tama-it2/simulation-hasegawa-syu/downloads\",\"issues_url\":\"https://api.github.com/repos/tama-it2/simulation-hasegawa-syu/issues{/number}\",\"pulls_url\":\"https://api.github.com/repos/tama-it2/simulation-hasegawa-syu/pulls{/number}\",\"milestones_url\":\"https://api.github.com/repos/tama-it2/simulation-hasegawa-syu/milestones{/number}\",\"notifications_url\":\"https://api.github.com/repos/tama-it2/simulation-hasegawa-syu/notifications{?since,all,participating}\",\"labels_url\":\"https://api.github.com/repos/tama-it2/simulation-hasegawa-syu/labels{/name}\",\"releases_url\":\"https://api.github.com/repos/tama-it2/simulation-hasegawa-syu/releases{/id}\",\"deployments_url\":\"https://api.github.com/repos/tama-it2/simulation-hasegawa-syu/deployments\",\"created_at\":\"2025-07-23T04:32:48Z\",\"updated_at\":\"2025-07-23T04:32:48Z\",\"pushed_at\":\"2025-07-22T14:37:51Z\",\"git_url\":\"git://github.com/tama-it2/simulation-hasegawa-syu.git\",\"ssh_url\":\"git@github.com:tama-it2/simulation-hasegawa-syu.git\",\"clone_url\":\"https://github.com/tama-it2/simulation-hasegawa-syu.git\",\"svn_url\":\"https://github.com/tama-it2/simulation-hasegawa-syu\",\"homepage\":null,\"size\":1000,\"stargazers_count\":0,\"watchers_count\":0,\"language\":null,\"has_issues\":true,\"has_projects\":true,\"has_downloads\":true,\"has_wiki\":true,\"has_pages\":false,\"has_discussions\":false,\"forks_count\":0,\"mirror_url\":null,\"archived\":false,\"disabled\":false,\"open_issues_count\":0,\"license\":null,\"allow_forking\":true,\"is_template\":false,\"web_commit_signoff_required\":false,\"topics\":[],\"visibility\":\"public\",\"forks\":0,\"open_issues\":0,\"watchers\":0,\"default_branch\":\"main\",\"public\":true}},\"public\":true,\"created_at\":\"2025-07-23T04:32:49Z\",\"org\":{\"id\":65332433,\"login\":\"tama-it2\",\"gravatar_id\":\"\",\"url\":\"https://api.github.com/orgs/tama-it2\",\"avatar_url\":\"https://avatars.githubusercontent.com/u/65332433?\"}},{\"id\":\"52424705185\",\"type\":\"PushEvent\",\"actor\":{\"id\":41898282,\"login\":\"github-actions[bot]\",\"display_login\":\"github-actions\",\"gravatar_id\":\"\",\"url\":\"https://api.github.com/users/github-actions[bot]\",\"avatar_url\":\"https://avatars.githubusercontent.com/u/41898282?\"},\"repo\":{\"id\":892044988,\"name\":\"QianziTech/QianziTech\",\"url\":\"https://api.github.com/repos/QianziTech/QianziTech\"},\"payload\":{\"repository_id\":892044988,\"push_id\":25666155904,\"size\":1,\"distinct_size\":1,\"ref\":\"refs/heads/output\",\"head\":\"c7eff1e67bd04cdeb446dcec2cf5be587273e6c5\",\"before\":\"990ba2c7d08b35431b08fa79f0d6bea479752b08\",\"commits\":[{\"sha\":\"c7eff1e67bd04cdeb446dcec2cf5be587273e6c5\",\"author\":{\"email\":\"41898282+github-actions[bot]@users.noreply.github.com\",\"name\":\"github-actions[bot]\"},\"message\":\"Deploy to GitHub pages\",\"distinct\":true,\"url\":\"https://api.github.com/repos/QianziTech/QianziTech/commits/c7eff1e67bd04cdeb446dcec2cf5be587273e6c5\"}]},\"public\":true,\"created_at\":\"2025-07-23T04:32:49Z\"},{\"id\":\"52424705168\",\"type\":\"PushEvent\",\"actor\":{\"id\":222143971,\"login\":\"doooku109\",\"display_login\":\"doooku109\",\"gravatar_id\":\"\",\"url\":\"https://api.github.com/users/doooku109\",\"avatar_url\":\"https://avatars.githubusercontent.com/u/222143971?\"},\"repo\":{\"id\":1024007957,\"name\":\"doooku109/max-stamp-card\",\"url\":\"https://api.github.com/repos/doooku109/max-stamp-card\"},\"payload\":{\"repository_id\":1024007957,\"push_id\":25666155884,\"size\":1,\"distinct_size\":1,\"ref\":\"refs/heads/main\",\"head\":\"1c565972b21e030033aa2fd4dffd7a3fca60959e\",\"before\":\"f6dff46ff5438320bb7376bb5f10f7217f5bd75a\",\"commits\":[{\"sha\":\"1c565972b21e030033aa2fd4dffd7a3fca60959e\",\"author\":{\"email\":\"max2336max@gmail.com\",\"name\":\"doooku109\"},\"message\":\"Update admin.html\",\"distinct\":true,\"url\":\"https://api.github.com/repos/doooku109/max-stamp-card/commits/1c565972b21e030033aa2fd4dffd7a3fca60959e\"}]},\"public\":true,\"created_at\":\"2025-07-23T04:32:49Z\"},{\"id\":\"52424705178\",\"type\":\"PushEvent\",\"actor\":{\"id\":41898282,\"login\":\"github-actions[bot]\",\"display_login\":\"github-actions\",\"gravatar_id\":\"\",\"url\":\"https://api.github.com/users/github-actions[bot]\",\"avatar_url\":\"https://avatars.githubusercontent.com/u/41898282?\"},\"repo\":{\"id\":979813655,\"name\":\"a99099292/LibreTV\",\"url\":\"https://api.github.com/repos/a99099292/LibreTV\"},\"payload\":{\"repository_id\":979813655,\"push_id\":25666155920,\"size\":3,\"distinct_size\":3,\"ref\":\"refs/heads/main\",\"head\":\"00d391aa1b1f96c80b3be22a9082888653da5a5e\",\"before\":\"182ca7c28d14c3ffd27479206ac23af9abea4181\",\"commits\":[{\"sha\":\"450b940678260cc7b5bf15fe4b6d6803068f41e7\",\"author\":{\"email\":\"hst1189@hotmail.com\",\"name\":\"hst1189\"},\"message\":\"Update config.js\",\"distinct\":true,\"url\":\"https://api.github.com/repos/a99099292/LibreTV/commits/450b940678260cc7b5bf15fe4b6d6803068f41e7\"},{\"sha\":\"4459f9726eaeea21576012ec8bd32d41c1b4a3c2\",\"author\":{\"email\":\"110226580+bestZwei@users.noreply.github.com\",\"name\":\"Zwei\"},\"message\":\"Merge pull request #771 from hst1189/main\\n\\nUpdate config.js  修复小猫咪资源站\",\"distinct\":true,\"url\":\"https://api.github.com/repos/a99099292/LibreTV/commits/4459f9726eaeea21576012ec8bd32d41c1b4a3c2\"},{\"sha\":\"00d391aa1b1f96c80b3be22a9082888653da5a5e\",\"author\":{\"email\":\"github-actions[bot]@users.noreply.github.com\",\"name\":\"github-actions[bot]\"},\"message\":\"Auto Update 2025-07-22 22:10\",\"distinct\":true,\"url\":\"https://api.github.com/repos/a99099292/LibreTV/commits/00d391aa1b1f96c80b3be22a9082888653da5a5e\"}]},\"public\":true,\"created_at\":\"2025-07-23T04:32:49Z\"},{\"id\":\"52424705176\",\"type\":\"PushEvent\",\"actor\":{\"id\":531285,\"login\":\"ikks\",\"display_login\":\"ikks\",\"gravatar_id\":\"\",\"url\":\"https://api.github.com/users/ikks\",\"avatar_url\":\"https://avatars.githubusercontent.com/u/531285?\"},\"repo\":{\"id\":1023241689,\"name\":\"ikks/gimp-stable-diffusion\",\"url\":\"https://api.github.com/repos/ikks/gimp-stable-diffusion\"},\"payload\":{\"repository_id\":1023241689,\"push_id\":25666155928,\"size\":2,\"distinct_size\":2,\"ref\":\"refs/heads/gimp3\",\"head\":\"2bbd5359ace2b896db915d922459430f9f3468d5\",\"before\":\"695b4b90558c40b064617a8c803c4e867c1fab2f\",\"commits\":[{\"sha\":\"c171816aeb6b62d855218cb62227aabcd26ab6b4\",\"author\":{\"email\":\"igor.tamara@gmail.com\",\"name\":\"Igor Támara\"},\"message\":\"Enforce Prompt\\n\\nIf user removes all other parameters, like width and height, those are\\nrestored to defaults.\",\"distinct\":true,\"url\":\"https://api.github.com/repos/ikks/gimp-stable-diffusion/commits/c171816aeb6b62d855218cb62227aabcd26ab6b4\"},{\"sha\":\"2bbd5359ace2b896db915d922459430f9f3468d5\",\"author\":{\"email\":\"igor.tamara@gmail.com\",\"name\":\"Igor Támara\"},\"message\":\"Bump Version\",\"distinct\":true,\"url\":\"https://api.github.com/repos/ikks/gimp-stable-diffusion/commits/2bbd5359ace2b896db915d922459430f9f3468d5\"}]},\"public\":true,\"created_at\":\"2025-07-23T04:32:49Z\"},{\"id\":\"52424705164\",\"type\":\"PushEvent\",\"actor\":{\"id\":162006743,\"login\":\"Decide02\",\"display_login\":\"Decide02\",\"gravatar_id\":\"\",\"url\":\"https://api.github.com/users/Decide02\",\"avatar_url\":\"https://avatars.githubusercontent.com/u/162006743?\"},\"repo\":{\"id\":1024148360,\"name\":\"Decide02/lab_home\",\"url\":\"https://api.github.com/repos/Decide02/lab_home\"},\"payload\":{\"repository_id\":1024148360,\"push_id\":25666155871,\"size\":1,\"distinct_size\":1,\"ref\":\"refs/heads/main\",\"head\":\"db513a1753263f3105f3c963a47bbe389037aa58\",\"before\":\"7558e2158e2518caaf56232cdab09a63a3802fb3\",\"commits\":[{\"sha\":\"db513a1753263f3105f3c963a47bbe389037aa58\",\"author\":{\"email\":\"vmfkcltmzh@gmail.com\",\"name\":\"Decide02\"},\"message\":\"modify title\",\"distinct\":true,\"url\":\"https://api.github.com/repos/Decide02/lab_home/commits/db513a1753263f3105f3c963a47bbe389037aa58\"}]},\"public\":true,\"created_at\":\"2025-07-23T04:32:49Z\"},{\"id\":\"52424705163\",\"type\":\"PushEvent\",\"actor\":{\"id\":194424418,\"login\":\"sennafz\",\"display_login\":\"sennafz\",\"gravatar_id\":\"\",\"url\":\"https://api.github.com/users/sennafz\",\"avatar_url\":\"https://avatars.githubusercontent.com/u/194424418?\"},\"repo\":{\"id\":1017063897,\"name\":\"sennafz/cetidrjosegusmao\",\"url\":\"https://api.github.com/repos/sennafz/cetidrjosegusmao\"},\"payload\":{\"repository_id\":1017063897,\"push_id\":25666155913,\"size\":1,\"distinct_size\":1,\"ref\":\"refs/heads/main\",\"head\":\"b3f2d15c0b9044ae0b6e3dfef4c25743872f60a6\",\"before\":\"a12b3c1bacf2f8a40ec838312921b0b668b0528d\",\"commits\":[{\"sha\":\"b3f2d15c0b9044ae0b6e3dfef4c25743872f60a6\",\"author\":{\"email\":\"matheusynw3@gmail.com\",\"name\":\"sennafz\"},\"message\":\"other\",\"distinct\":true,\"url\":\"https://api.github.com/repos/sennafz/cetidrjosegusmao/commits/b3f2d15c0b9044ae0b6e3dfef4c25743872f60a6\"}]},\"public\":true,\"created_at\":\"2025-07-23T04:32:49Z\"},{\"id\":\"52424705174\",\"type\":\"PullRequestEvent\",\"actor\":{\"id\":31928888,\"login\":\"ricardocirio\",\"display_login\":\"ricardocirio\",\"gravatar_id\":\"\",\"url\":\"https://api.github.com/users/ricardocirio\",\"avatar_url\":\"https://avatars.githubusercontent.com/u/31928888?\"},\"repo\":{\"id\":1021131378,\"name\":\"snipergz/hci-teammate-finder\",\"url\":\"https://api.github.com/repos/snipergz/hci-teammate-finder\"},\"payload\":{\"action\":\"closed\",\"number\":8,\"pull_request\":{\"url\":\"https://api.github.com/repos/snipergz/hci-teammate-finder/pulls/8\",\"id\":2687464545,\"node_id\":\"PR_kwDOPN06cs6gL3Rh\",\"html_url\":\"https://github.com/snipergz/hci-teammate-finder/pull/8\",\"diff_url\":\"https://github.com/snipergz/hci-teammate-finder/pull/8.diff\",\"patch_url\":\"https://github.com/snipergz/hci-teammate-finder/pull/8.patch\",\"issue_url\":\"https://api.github.com/repos/snipergz/hci-teammate-finder/issues/8\",\"number\":8,\"state\":\"closed\",\"locked\":false,\"title\":\"Mobile responsiveness and accessibility improvements.\",\"user\":{\"login\":\"ricardocirio\",\"id\":31928888,\"node_id\":\"MDQ6VXNlcjMxOTI4ODg4\",\"avatar_url\":\"https://avatars.githubusercontent.com/u/31928888?v=4\",\"gravatar_id\":\"\",\"url\":\"https://api.github.com/users/ricardocirio\",\"html_url\":\"https://github.com/ricardocirio\",\"followers_url\":\"https://api.github.com/users/ricardocirio/followers\",\"following_url\":\"https://api.github.com/users/ricardocirio/following{/other_user}\",\"gists_url\":\"https://api.github.com/users/ricardocirio/gists{/gist_id}\",\"starred_url\":\"https://api.github.com/users/ricardocirio/starred{/owner}{/repo}\",\"subscriptions_url\":\"https://api.github.com/users/ricardocirio/subscriptions\",\"organizations_url\":\"https://api.github.com/users/ricardocirio/orgs\",\"repos_url\":\"https://api.github.com/users/ricardocirio/repos\",\"events_url\":\"https://api.github.com/users/ricardocirio/events{/privacy}\",\"received_events_url\":\"https://api.github.com/users/ricardocirio/received_events\",\"type\":\"User\",\"user_view_type\":\"public\",\"site_admin\":false},\"body\":null,\"created_at\":\"2025-07-23T04:32:24Z\",\"updated_at\":\"2025-07-23T04:32:48Z\",\"closed_at\":\"2025-07-23T04:32:48Z\",\"merged_at\":\"2025-07-23T04:32:48Z\",\"merge_commit_sha\":\"570b2131aa86fbdd9daf9ea7ec417c81f5635538\",\"assignee\":null,\"assignees\":[],\"requested_reviewers\":[],\"requested_teams\":[],\"labels\":[],\"milestone\":null,\"draft\":false,\"commits_url\":\"https://api.github.com/repos/snipergz/hci-teammate-finder/pulls/8/commits\",\"review_comments_url\":\"https://api.github.com/repos/snipergz/hci-teammate-finder/pulls/8/comments\",\"review_comment_url\":\"https://api.github.com/repos/snipergz/hci-teammate-finder/pulls/comments{/number}\",\"comments_url\":\"https://api.github.com/repos/snipergz/hci-teammate-finder/issues/8/comments\",\"statuses_url\":\"https://api.github.com/repos/snipergz/hci-teammate-finder/statuses/9949fa578ea028da7a25e2932d0d74ce1331cf31\",\"head\":{\"label\":\"ricardocirio:main\",\"ref\":\"main\",\"sha\":\"9949fa578ea028da7a25e2932d0d74ce1331cf31\",\"user\":{\"login\":\"ricardocirio\",\"id\":31928888,\"node_id\":\"MDQ6VXNlcjMxOTI4ODg4\",\"avatar_url\":\"https://avatars.githubusercontent.com/u/31928888?v=4\",\"gravatar_id\":\"\",\"url\":\"https://api.github.com/users/ricardocirio\",\"html_url\":\"https://github.com/ricardocirio\",\"followers_url\":\"https://api.github.com/users/ricardocirio/followers\",\"following_url\":\"https://api.github.com/users/ricardocirio/following{/other_user}\",\"gists_url\":\"https://api.github.com/users/ricardocirio/gists{/gist_id}\",\"starred_url\":\"https://api.github.com/users/ricardocirio/starred{/owner}{/repo}\",\"subscriptions_url\":\"https://api.github.com/users/ricardocirio/subscriptions\",\"organizations_url\":\"https://api.github.com/users/ricardocirio/orgs\",\"repos_url\":\"https://api.github.com/users/ricardocirio/repos\",\"events_url\":\"https://api.github.com/users/ricardocirio/events{/privacy}\",\"received_events_url\":\"https://api.github.com/users/ricardocirio/received_events\",\"type\":\"User\",\"user_view_type\":\"public\",\"site_admin\":false},\"repo\":{\"id\":1023988086,\"node_id\":\"R_kgDOPQjRdg\",\"name\":\"hci-teammate-finder\",\"full_name\":\"ricardocirio/hci-teammate-finder\",\"private\":false,\"owner\":{\"login\":\"ricardocirio\",\"id\":31928888,\"node_id\":\"MDQ6VXNlcjMxOTI4ODg4\",\"avatar_url\":\"https://avatars.githubusercontent.com/u/31928888?v=4\",\"gravatar_id\":\"\",\"url\":\"https://api.github.com/users/ricardocirio\",\"html_url\":\"https://github.com/ricardocirio\",\"followers_url\":\"https://api.github.com/users/ricardocirio/followers\",\"following_url\":\"https://api.github.com/users/ricardocirio/following{/other_user}\",\"gists_url\":\"https://api.github.com/users/ricardocirio/gists{/gist_id}\",\"starred_url\":\"https://api.github.com/users/ricardocirio/starred{/owner}{/repo}\",\"subscriptions_url\":\"https://api.github.com/users/ricardocirio/subscriptions\",\"organizations_url\":\"https://api.github.com/users/ricardocirio/orgs\",\"repos_url\":\"https://api.github.com/users/ricardocirio/repos\",\"events_url\":\"https://api.github.com/users/ricardocirio/events{/privacy}\",\"received_events_url\":\"https://api.github.com/users/ricardocirio/received_events\",\"type\":\"User\",\"user_view_type\":\"public\",\"site_admin\":false},\"html_url\":\"https://github.com/ricardocirio/hci-teammate-finder\",\"description\":null,\"fork\":true,\"url\":\"https://api.github.com/repos/ricardocirio/hci-teammate-finder\",\"forks_url\":\"https://api.github.com/repos/ricardocirio/hci-teammate-finder/forks\",\"keys_url\":\"https://api.github.com/repos/ricardocirio/hci-teammate-finder/keys{/key_id}\",\"collaborators_url\":\"https://api.github.com/repos/ricardocirio/hci-teammate-finder/collaborators{/collaborator}\",\"teams_url\":\"https://api.github.com/repos/ricardocirio/hci-teammate-finder/teams\",\"hooks_url\":\"https://api.github.com/repos/ricardocirio/hci-teammate-finder/hooks\",\"issue_events_url\":\"https://api.github.com/repos/ricardocirio/hci-teammate-finder/issues/events{/number}\",\"events_url\":\"https://api.github.com/repos/ricardocirio/hci-teammate-finder/events\",\"assignees_url\":\"https://api.github.com/repos/ricardocirio/hci-teammate-finder/assignees{/user}\",\"branches_url\":\"https://api.github.com/repos/ricardocirio/hci-teammate-finder/branches{/branch}\",\"tags_url\":\"https://api.github.com/repos/ricardocirio/hci-teammate-finder/tags\",\"blobs_url\":\"https://api.github.com/repos/ricardocirio/hci-teammate-finder/git/blobs{/sha}\",\"git_tags_url\":\"https://api.github.com/repos/ricardocirio/hci-teammate-finder/git/tags{/sha}\",\"git_refs_url\":\"https://api.github.com/repos/ricardocirio/hci-teammate-finder/git/refs{/sha}\",\"trees_url\":\"https://api.github.com/repos/ricardocirio/hci-teammate-finder/git/trees{/sha}\",\"statuses_url\":\"https://api.github.com/repos/ricardocirio/hci-teammate-finder/statuses/{sha}\",\"languages_url\":\"https://api.github.com/repos/ricardocirio/hci-teammate-finder/languages\",\"stargazers_url\":\"https://api.github.com/repos/ricardocirio/hci-teammate-finder/stargazers\",\"contributors_url\":\"https://api.github.com/repos/ricardocirio/hci-teammate-finder/contributors\",\"subscribers_url\":\"https://api.github.com/repos/ricardocirio/hci-teammate-finder/subscribers\",\"subscription_url\":\"https://api.github.com/repos/ricardocirio/hci-teammate-finder/subscription\",\"commits_url\":\"https://api.github.com/repos/ricardocirio/hci-teammate-finder/commits{/sha}\",\"git_commits_url\":\"https://api.github.com/repos/ricardocirio/hci-teammate-finder/git/commits{/sha}\",\"comments_url\":\"https://api.github.com/repos/ricardocirio/hci-teammate-finder/comments{/number}\",\"issue_comment_url\":\"https://api.github.com/repos/ricardocirio/hci-teammate-finder/issues/comments{/number}\",\"contents_url\":\"https://api.github.com/repos/ricardocirio/hci-teammate-finder/contents/{+path}\",\"compare_url\":\"https://api.github.com/repos/ricardocirio/hci-teammate-finder/compare/{base}...{head}\",\"merges_url\":\"https://api.github.com/repos/ricardocirio/hci-teammate-finder/merges\",\"archive_url\":\"https://api.github.com/repos/ricardocirio/hci-teammate-finder/{archive_format}{/ref}\",\"downloads_url\":\"https://api.github.com/repos/ricardocirio/hci-teammate-finder/downloads\",\"issues_url\":\"https://api.github.com/repos/ricardocirio/hci-teammate-finder/issues{/number}\",\"pulls_url\":\"https://api.github.com/repos/ricardocirio/hci-teammate-finder/pulls{/number}\",\"milestones_url\":\"https://api.github.com/repos/ricardocirio/hci-teammate-finder/milestones{/number}\",\"notifications_url\":\"https://api.github.com/repos/ricardocirio/hci-teammate-finder/notifications{?since,all,participating}\",\"labels_url\":\"https://api.github.com/repos/ricardocirio/hci-teammate-finder/labels{/name}\",\"releases_url\":\"https://api.github.com/repos/ricardocirio/hci-teammate-finder/releases{/id}\",\"deployments_url\":\"https://api.github.com/repos/ricardocirio/hci-teammate-finder/deployments\",\"created_at\":\"2025-07-22T02:54:14Z\",\"updated_at\":\"2025-07-23T04:29:59Z\",\"pushed_at\":\"2025-07-23T04:29:55Z\",\"git_url\":\"git://github.com/ricardocirio/hci-teammate-finder.git\",\"ssh_url\":\"git@github.com:ricardocirio/hci-teammate-finder.git\",\"clone_url\":\"https://github.com/ricardocirio/hci-teammate-finder.git\",\"svn_url\":\"https://github.com/ricardocirio/hci-teammate-finder\",\"homepage\":null,\"size\":96,\"stargazers_count\":0,\"watchers_count\":0,\"language\":\"JavaScript\",\"has_issues\":false,\"has_projects\":true,\"has_downloads\":true,\"has_wiki\":true,\"has_pages\":true,\"has_discussions\":false,\"forks_count\":0,\"mirror_url\":null,\"archived\":false,\"disabled\":false,\"open_issues_count\":0,\"license\":null,\"allow_forking\":true,\"is_template\":false,\"web_commit_signoff_required\":false,\"topics\":[],\"visibility\":\"public\",\"forks\":0,\"open_issues\":0,\"watchers\":0,\"default_branch\":\"main\"}},\"base\":{\"label\":\"snipergz:main\",\"ref\":\"main\",\"sha\":\"74f31b3faa347550bcd6eb274d9fa7b95ba8bc3b\",\"user\":{\"login\":\"snipergz\",\"id\":60069774,\"node_id\":\"MDQ6VXNlcjYwMDY5Nzc0\",\"avatar_url\":\"https://avatars.githubusercontent.com/u/60069774?v=4\",\"gravatar_id\":\"\",\"url\":\"https://api.github.com/users/snipergz\",\"html_url\":\"https://github.com/snipergz\",\"followers_url\":\"https://api.github.com/users/snipergz/followers\",\"following_url\":\"https://api.github.com/users/snipergz/following{/other_user}\",\"gists_url\":\"https://api.github.com/users/snipergz/gists{/gist_id}\",\"starred_url\":\"https://api.github.com/users/snipergz/starred{/owner}{/repo}\",\"subscriptions_url\":\"https://api.github.com/users/snipergz/subscriptions\",\"organizations_url\":\"https://api.github.com/users/snipergz/orgs\",\"repos_url\":\"https://api.github.com/users/snipergz/repos\",\"events_url\":\"https://api.github.com/users/snipergz/events{/privacy}\",\"received_events_url\":\"https://api.github.com/users/snipergz/received_events\",\"type\":\"User\",\"user_view_type\":\"public\",\"site_admin\":false},\"repo\":{\"id\":1021131378,\"node_id\":\"R_kgDOPN06cg\",\"name\":\"hci-teammate-finder\",\"full_name\":\"snipergz/hci-teammate-finder\",\"private\":false,\"owner\":{\"login\":\"snipergz\",\"id\":60069774,\"node_id\":\"MDQ6VXNlcjYwMDY5Nzc0\",\"avatar_url\":\"https://avatars.githubusercontent.com/u/60069774?v=4\",\"gravatar_id\":\"\",\"url\":\"https://api.github.com/users/snipergz\",\"html_url\":\"https://github.com/snipergz\",\"followers_url\":\"https://api.github.com/users/snipergz/followers\",\"following_url\":\"https://api.github.com/users/snipergz/following{/other_user}\",\"gists_url\":\"https://api.github.com/users/snipergz/gists{/gist_id}\",\"starred_url\":\"https://api.github.com/users/snipergz/starred{/owner}{/repo}\",\"subscriptions_url\":\"https://api.github.com/users/snipergz/subscriptions\",\"organizations_url\":\"https://api.github.com/users/snipergz/orgs\",\"repos_url\":\"https://api.github.com/users/snipergz/repos\",\"events_url\":\"https://api.github.com/users/snipergz/events{/privacy}\",\"received_events_url\":\"https://api.github.com/users/snipergz/received_events\",\"type\":\"User\",\"user_view_type\":\"public\",\"site_admin\":false},\"html_url\":\"https://github.com/snipergz/hci-teammate-finder\",\"description\":null,\"fork\":false,\"url\":\"https://api.github.com/repos/snipergz/hci-teammate-finder\",\"forks_url\":\"https://api.github.com/repos/snipergz/hci-teammate-finder/forks\",\"keys_url\":\"https://api.github.com/repos/snipergz/hci-teammate-finder/keys{/key_id}\",\"collaborators_url\":\"https://api.github.com/repos/snipergz/hci-teammate-finder/collaborators{/collaborator}\",\"teams_url\":\"https://api.github.com/repos/snipergz/hci-teammate-finder/teams\",\"hooks_url\":\"https://api.github.com/repos/snipergz/hci-teammate-finder/hooks\",\"issue_events_url\":\"https://api.github.com/repos/snipergz/hci-teammate-finder/issues/events{/number}\",\"events_url\":\"https://api.github.com/repos/snipergz/hci-teammate-finder/events\",\"assignees_url\":\"https://api.github.com/repos/snipergz/hci-teammate-finder/assignees{/user}\",\"branches_url\":\"https://api.github.com/repos/snipergz/hci-teammate-finder/branches{/branch}\",\"tags_url\":\"https://api.github.com/repos/snipergz/hci-teammate-finder/tags\",\"blobs_url\":\"https://api.github.com/repos/snipergz/hci-teammate-finder/git/blobs{/sha}\",\"git_tags_url\":\"https://api.github.com/repos/snipergz/hci-teammate-finder/git/tags{/sha}\",\"git_refs_url\":\"https://api.github.com/repos/snipergz/hci-teammate-finder/git/refs{/sha}\",\"trees_url\":\"https://api.github.com/repos/snipergz/hci-teammate-finder/git/trees{/sha}\",\"statuses_url\":\"https://api.github.com/repos/snipergz/hci-teammate-finder/statuses/{sha}\",\"languages_url\":\"https://api.github.com/repos/snipergz/hci-teammate-finder/languages\",\"stargazers_url\":\"https://api.github.com/repos/snipergz/hci-teammate-finder/stargazers\",\"contributors_url\":\"https://api.github.com/repos/snipergz/hci-teammate-finder/contributors\",\"subscribers_url\":\"https://api.github.com/repos/snipergz/hci-teammate-finder/subscribers\",\"subscription_url\":\"https://api.github.com/repos/snipergz/hci-teammate-finder/subscription\",\"commits_url\":\"https://api.github.com/repos/snipergz/hci-teammate-finder/commits{/sha}\",\"git_commits_url\":\"https://api.github.com/repos/snipergz/hci-teammate-finder/git/commits{/sha}\",\"comments_url\":\"https://api.github.com/repos/snipergz/hci-teammate-finder/comments{/number}\",\"issue_comment_url\":\"https://api.github.com/repos/snipergz/hci-teammate-finder/issues/comments{/number}\",\"contents_url\":\"https://api.github.com/repos/snipergz/hci-teammate-finder/contents/{+path}\",\"compare_url\":\"https://api.github.com/repos/snipergz/hci-teammate-finder/compare/{base}...{head}\",\"merges_url\":\"https://api.github.com/repos/snipergz/hci-teammate-finder/merges\",\"archive_url\":\"https://api.github.com/repos/snipergz/hci-teammate-finder/{archive_format}{/ref}\",\"downloads_url\":\"https://api.github.com/repos/snipergz/hci-teammate-finder/downloads\",\"issues_url\":\"https://api.github.com/repos/snipergz/hci-teammate-finder/issues{/number}\",\"pulls_url\":\"https://api.github.com/repos/snipergz/hci-teammate-finder/pulls{/number}\",\"milestones_url\":\"https://api.github.com/repos/snipergz/hci-teammate-finder/milestones{/number}\",\"notifications_url\":\"https://api.github.com/repos/snipergz/hci-teammate-finder/notifications{?since,all,participating}\",\"labels_url\":\"https://api.github.com/repos/snipergz/hci-teammate-finder/labels{/name}\",\"releases_url\":\"https://api.github.com/repos/snipergz/hci-teammate-finder/releases{/id}\",\"deployments_url\":\"https://api.github.com/repos/snipergz/hci-teammate-finder/deployments\",\"created_at\":\"2025-07-17T00:03:38Z\",\"updated_at\":\"2025-07-23T03:15:08Z\",\"pushed_at\":\"2025-07-23T03:15:04Z\",\"git_url\":\"git://github.com/snipergz/hci-teammate-finder.git\",\"ssh_url\":\"git@github.com:snipergz/hci-teammate-finder.git\",\"clone_url\":\"https://github.com/snipergz/hci-teammate-finder.git\",\"svn_url\":\"https://github.com/snipergz/hci-teammate-finder\",\"homepage\":null,\"size\":89,\"stargazers_count\":0,\"watchers_count\":0,\"language\":\"JavaScript\",\"has_issues\":true,\"has_projects\":true,\"has_downloads\":true,\"has_wiki\":true,\"has_pages\":true,\"has_discussions\":false,\"forks_count\":1,\"mirror_url\":null,\"archived\":false,\"disabled\":false,\"open_issues_count\":0,\"license\":null,\"allow_forking\":true,\"is_template\":false,\"web_commit_signoff_required\":false,\"topics\":[],\"visibility\":\"public\",\"forks\":1,\"open_issues\":0,\"watchers\":0,\"default_branch\":\"main\"}},\"_links\":{\"self\":{\"href\":\"https://api.github.com/repos/snipergz/hci-teammate-finder/pulls/8\"},\"html\":{\"href\":\"https://github.com/snipergz/hci-teammate-finder/pull/8\"},\"issue\":{\"href\":\"https://api.github.com/repos/snipergz/hci-teammate-finder/issues/8\"},\"comments\":{\"href\":\"https://api.github.com/repos/snipergz/hci-teammate-finder/issues/8/comments\"},\"review_comments\":{\"href\":\"https://api.github.com/repos/snipergz/hci-teammate-finder/pulls/8/comments\"},\"review_comment\":{\"href\":\"https://api.github.com/repos/snipergz/hci-teammate-finder/pulls/comments{/number}\"},\"commits\":{\"href\":\"https://api.github.com/repos/snipergz/hci-teammate-finder/pulls/8/commits\"},\"statuses\":{\"href\":\"https://api.github.com/repos/snipergz/hci-teammate-finder/statuses/9949fa578ea028da7a25e2932d0d74ce1331cf31\"}},\"author_association\":\"COLLABORATOR\",\"auto_merge\":null,\"active_lock_reason\":null,\"merged\":true,\"mergeable\":null,\"rebaseable\":null,\"mergeable_state\":\"unknown\",\"merged_by\":{\"login\":\"ricardocirio\",\"id\":31928888,\"node_id\":\"MDQ6VXNlcjMxOTI4ODg4\",\"avatar_url\":\"https://avatars.githubusercontent.com/u/31928888?v=4\",\"gravatar_id\":\"\",\"url\":\"https://api.github.com/users/ricardocirio\",\"html_url\":\"https://github.com/ricardocirio\",\"followers_url\":\"https://api.github.com/users/ricardocirio/followers\",\"following_url\":\"https://api.github.com/users/ricardocirio/following{/other_user}\",\"gists_url\":\"https://api.github.com/users/ricardocirio/gists{/gist_id}\",\"starred_url\":\"https://api.github.com/users/ricardocirio/starred{/owner}{/repo}\",\"subscriptions_url\":\"https://api.github.com/users/ricardocirio/subscriptions\",\"organizations_url\":\"https://api.github.com/users/ricardocirio/orgs\",\"repos_url\":\"https://api.github.com/users/ricardocirio/repos\",\"events_url\":\"https://api.github.com/users/ricardocirio/events{/privacy}\",\"received_events_url\":\"https://api.github.com/users/ricardocirio/received_events\",\"type\":\"User\",\"user_view_type\":\"public\",\"site_admin\":false},\"comments\":0,\"review_comments\":0,\"maintainer_can_modify\":false,\"commits\":7,\"additions\":418,\"deletions\":15,\"changed_files\":2}},\"public\":true,\"created_at\":\"2025-07-23T04:32:49Z\"}]\n"
     ]
    }
   ],
   "source": [
    "import requests\n",
    "import json\n",
    "\n",
    "response = requests.get(\"https://api.github.com/events\")\n",
    "\n",
    "if response.status_code == 200:\n",
    "    print(\"Success!\") \n",
    "    print(response.url)  \n",
    "\n",
    "    if 'application/json' in response.headers.get('Content-Type'):\n",
    "        data = response.json()\n",
    "        print(data)\n",
    "\n",
    "        print(response.text)\n",
    "\n",
    "    else:\n",
    "        print(\"Response is not in JSON format\",response.status_code)\n",
    "\n",
    "else:\n",
    "    print(\"Error:\", response.status_code)    "
   ]
  },
  {
   "cell_type": "code",
   "execution_count": null,
   "metadata": {},
   "outputs": [
    {
     "name": "stdout",
     "output_type": "stream",
     "text": [
      "Login Success!\n",
      "https://httpbin.org/post\n",
      "{\n",
      "  \"args\": {}, \n",
      "  \"data\": \"\", \n",
      "  \"files\": {}, \n",
      "  \"form\": {\n",
      "    \"password\": \"pass\", \n",
      "    \"username\": \"user\"\n",
      "  }, \n",
      "  \"headers\": {\n",
      "    \"Accept\": \"*/*\", \n",
      "    \"Accept-Encoding\": \"gzip, deflate\", \n",
      "    \"Content-Length\": \"27\", \n",
      "    \"Content-Type\": \"application/x-www-form-urlencoded\", \n",
      "    \"Host\": \"httpbin.org\", \n",
      "    \"User-Agent\": \"python-requests/2.32.4\", \n",
      "    \"X-Amzn-Trace-Id\": \"Root=1-68806a66-2ec38e6773fa7dc4347731f6\"\n",
      "  }, \n",
      "  \"json\": null, \n",
      "  \"origin\": \"175.157.241.106\", \n",
      "  \"url\": \"https://httpbin.org/post\"\n",
      "}\n",
      "\n"
     ]
    }
   ],
   "source": [
    "import requests\n",
    "\n",
    "url = \"https://httpbin.org/post\"\n",
    "data = { 'username': 'user', 'password': 'pass' }\n",
    "response = requests.post(url, data=data)\n",
    "\n",
    "if response.status_code == 200:\n",
    "    print(\"Login Success!\")\n",
    "    print(response.url)\n",
    "    print(response.text)\n",
    "else:\n",
    "    print(\"Error:\", response.status_code)"
   ]
  },
  {
   "cell_type": "code",
   "execution_count": null,
   "metadata": {},
   "outputs": [
    {
     "name": "stdout",
     "output_type": "stream",
     "text": [
      "http://jsonplaceholder.typicode.com/posts?userId=1&id=2\n",
      "200\n",
      "[\n",
      "  {\n",
      "    \"userId\": 1,\n",
      "    \"id\": 2,\n",
      "    \"title\": \"qui est esse\",\n",
      "    \"body\": \"est rerum tempore vitae\\nsequi sint nihil reprehenderit dolor beatae ea dolores neque\\nfugiat blanditiis voluptate porro vel nihil molestiae ut reiciendis\\nqui aperiam non debitis possimus qui neque nisi nulla\"\n",
      "  }\n",
      "]\n"
     ]
    }
   ],
   "source": [
    "#url parameters\n",
    "\n",
    "import requests\n",
    "\n",
    "url = \"http://jsonplaceholder.typicode.com/posts\"\n",
    "params = {'userId': 1, 'id': 2}\n",
    "response = requests.get(url, params=params)\n",
    "\n",
    "print(response.url)  # Printing the URL with parameters\n",
    "print(response.status_code)  # Checking the status code of the response \n",
    "print(response.text)"
   ]
  },
  {
   "cell_type": "code",
   "execution_count": null,
   "metadata": {},
   "outputs": [
    {
     "name": "stdout",
     "output_type": "stream",
     "text": [
      "Authentication Success!\n",
      "{\n",
      "  \"args\": {}, \n",
      "  \"headers\": {\n",
      "    \"Accept\": \"*/*\", \n",
      "    \"Accept-Encoding\": \"gzip, deflate\", \n",
      "    \"Authorization\": \"Basic a2F2aW5kdToxMjM0\", \n",
      "    \"Host\": \"httpbin.org\", \n",
      "    \"User-Agent\": \"python-requests/2.32.4\", \n",
      "    \"X-Amzn-Trace-Id\": \"Root=1-68807141-65ec8dc264c967037d52380d\"\n",
      "  }, \n",
      "  \"origin\": \"175.157.241.106\", \n",
      "  \"url\": \"http://httpbin.org/get\"\n",
      "}\n",
      "\n"
     ]
    }
   ],
   "source": [
    "import requests\n",
    "\n",
    "url = 'http://httpbin.org/get'\n",
    "\n",
    "username = 'kavindu'\n",
    "password = '1234'\n",
    "\n",
    "response = requests.get(url, auth=(username, password))\n",
    "\n",
    "if response.status_code == 200:\n",
    "    print(\"Authentication Success!\")\n",
    "    print(response.text)\n",
    "else:\n",
    "    print(\"Authentication Failed:\", response.status_code)"
   ]
  },
  {
   "cell_type": "code",
   "execution_count": null,
   "metadata": {},
   "outputs": [
    {
     "name": "stdout",
     "output_type": "stream",
     "text": [
      "<title>The Dormouse's story</title>\n",
      "<p class=\"title\"><b>The Dormouse's story</b></p>\n",
      "<a href='http://example.com/elsie\" class=' id=\"link1\" sister\"=\"\">Elsie</a>\n",
      "\n",
      "<p class=\"title\"><b>The Dormouse's story</b></p>\n",
      "\n",
      "[<p class=\"title\"><b>The Dormouse's story</b></p>, <p class=\"story\">Once upon a time there were three little sisters; and their names were\n",
      "<a href='http://example.com/elsie\" class=' id=\"link1\" sister\"=\"\">Elsie</a>,\n",
      "<a href='http://example.com/lacie\" class=' id=\"link2\" sister\"=\"\">Lacie</a> and\n",
      "<a href='http://example.com/tillie\" class=' id=\"link3\" sister\"=\"\">Tillie</a>;\n",
      "and they lived at the bottom of a well.</p>, <p class=\"story\">...</p>]\n"
     ]
    }
   ],
   "source": [
    "from bs4 import BeautifulSoup\n",
    "\n",
    "html_doc = \"\"\"<html><head><title>The Dormouse's story</title></head>\n",
    "<body>\n",
    "<p class=\"title\"><b>The Dormouse's story</b></p>\n",
    "<p class=\"story\">Once upon a time there were three little sisters; and their names were\n",
    "<a href=\"http://example.com/elsie&quot; class=\"sister\" id=\"link1\">Elsie</a>,\n",
    "<a href=\"http://example.com/lacie&quot; class=\"sister\" id=\"link2\">Lacie</a> and\n",
    "<a href=\"http://example.com/tillie&quot; class=\"sister\" id=\"link3\">Tillie</a>;\n",
    "and they lived at the bottom of a well.</p>\n",
    "<p class=\"story\">...</p>\n",
    "</body>\n",
    "</html>\"\"\"\n",
    "\n",
    "soup = BeautifulSoup(html_doc, 'html.parser')\n",
    "\n",
    "print(soup.title)\n",
    "print(soup.p)\n",
    "print(soup.a)\n",
    "print()\n",
    "\n",
    "P_tag = soup.find('p')\n",
    "print(P_tag)  # Printing the first <p> tag found in the HTML document\n",
    "print()\n",
    "\n",
    "P_tags = soup.find_all('p')\n",
    "print(P_tags)  # Printing all <p> tags found in the HTML document"
   ]
  },
  {
   "cell_type": "code",
   "execution_count": null,
   "metadata": {},
   "outputs": [
    {
     "name": "stdout",
     "output_type": "stream",
     "text": [
      "Request was successful!\n",
      "Main Heading: Example Domain\n"
     ]
    }
   ],
   "source": [
    "# fetch the web page ,check if the request was successful,and extract the main heading text from the page's content.you can assume that the base url is'http://example.com'\n",
    "\n",
    "import  requests\n",
    "from bs4 import BeautifulSoup\n",
    "\n",
    "url = \"http://example.com\"\n",
    "response = requests.get(url)\n",
    "\n",
    "if response.status_code == 200:\n",
    "    print(\"Request was successful!\")\n",
    "    \n",
    "    soup = BeautifulSoup(response.text, 'html.parser')\n",
    "    main_heading = soup.find('h1') \n",
    "\n",
    "    if main_heading:\n",
    "        print(\"Main Heading:\", main_heading.text)\n",
    "\n",
    "    else:\n",
    "        print(\"main heading not found\")\n",
    "else:\n",
    "    print(\"Request failed with status code:\", response.status_code)\n"
   ]
  },
  {
   "cell_type": "code",
   "execution_count": null,
   "metadata": {},
   "outputs": [
    {
     "name": "stdout",
     "output_type": "stream",
     "text": [
      "Temperature: 18.1°C\n",
      "Windspeed: 18.9 km/h\n",
      "{'time': '2025-07-23T09:15', 'interval': 900, 'temperature': 18.1, 'windspeed': 18.9, 'winddirection': 235, 'is_day': 1, 'weathercode': 61}\n"
     ]
    }
   ],
   "source": [
    "#API Integration\n",
    "\n",
    "import requests\n",
    "\n",
    "url = \"https://api.open-meteo.com/v1/forecast?\"\n",
    "\n",
    "params = {\n",
    "    \"latitude\": 52.52,\n",
    "    \"longitude\": 13.41,\n",
    "    \"current_weather\": \"true\",\n",
    "}\n",
    "\n",
    "response = requests.get(url, params)\n",
    "\n",
    "if response.status_code == 200:\n",
    "    data = response.json()\n",
    "    current_weather = data[\"current_weather\"]\n",
    "    \n",
    "    temperature = current_weather[\"temperature\"]\n",
    "    windspeed = current_weather[\"windspeed\"]\n",
    "\n",
    "    print(f\"Temperature: {temperature}°C\")\n",
    "    print(f\"Windspeed: {windspeed} km/h\")\n",
    "    print(current_weather)\n"
   ]
  },
  {
   "cell_type": "code",
   "execution_count": null,
   "metadata": {},
   "outputs": [
    {
     "name": "stdout",
     "output_type": "stream",
     "text": [
      "18.1\n",
      "18.9\n"
     ]
    }
   ],
   "source": [
    "import requests\n",
    "\n",
    "def fetch_weather(latitude, longitude,current_weather):\n",
    "\n",
    "    url = \"https://api.open-meteo.com/v1/forecast?\"\n",
    "    params = {\n",
    "        \"latitude\": latitude,\n",
    "        \"longitude\": longitude,\n",
    "        \"current_weather\": current_weather\n",
    "    }\n",
    "        \n",
    "    if response.status_code == 200:\n",
    "        return response.json()\n",
    "    else:\n",
    "        print(\"Error fetching weather data:\", response.status_code)\n",
    "        return None\n",
    "    3.\n",
    "def parsing_weather_data(weather_data):\n",
    "    if weather_data:\n",
    "     temperature = weather_data[\"current_weather\"][\"temperature\"]\n",
    "     windspeed = weather_data[\"current_weather\"][\"windspeed\"]\n",
    "     \n",
    "     print(temperature)\n",
    "     print(windspeed)\n",
    "\n",
    "    else:\n",
    "       return None   \n",
    "     \n",
    "weather_data =  fetch_weather(52.52, 13.41,\"temperature_2m,wind_speed_10m\")       \n",
    "parsing_weather_data(weather_data)\n",
    "\n"
   ]
  },
  {
   "cell_type": "code",
   "execution_count": 1,
   "metadata": {},
   "outputs": [],
   "source": [
    "#Debugging Functions\n",
    "\n",
    "# 1.Syntax error\n",
    "# 2.Runtime error\n",
    "# 3.Logical error\n"
   ]
  }
 ],
 "metadata": {
  "kernelspec": {
   "display_name": "Python 3",
   "language": "python",
   "name": "python3"
  },
  "language_info": {
   "codemirror_mode": {
    "name": "ipython",
    "version": 3
   },
   "file_extension": ".py",
   "mimetype": "text/x-python",
   "name": "python",
   "nbconvert_exporter": "python",
   "pygments_lexer": "ipython3",
   "version": "3.13.3"
  }
 },
 "nbformat": 4,
 "nbformat_minor": 2
}
