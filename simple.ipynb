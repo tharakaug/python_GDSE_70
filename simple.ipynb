{
 "cells": [
  {
   "cell_type": "code",
   "execution_count": 1,
   "metadata": {},
   "outputs": [
    {
     "name": "stdout",
     "output_type": "stream",
     "text": [
      "30\n"
     ]
    }
   ],
   "source": [
    "a = 10\n",
    "b = 20\n",
    "\n",
    "print(a+b)"
   ]
  },
  {
   "cell_type": "code",
   "execution_count": null,
   "metadata": {},
   "outputs": [],
   "source": [
    "a = 2\n",
    "b = 67\n",
    "\n",
    "print (a+b)"
   ]
  },
  {
   "cell_type": "code",
   "execution_count": null,
   "metadata": {},
   "outputs": [],
   "source": [
    "num = 25\n",
    "print(num)\n",
    "print(type(num))"
   ]
  },
  {
   "cell_type": "code",
   "execution_count": null,
   "metadata": {},
   "outputs": [],
   "source": [
    "num_2 = 20.5\n",
    "print(type(num_2))"
   ]
  },
  {
   "cell_type": "code",
   "execution_count": null,
   "metadata": {},
   "outputs": [],
   "source": [
    "num_1 = 2.5e12\n",
    "print(num_1)\n",
    "print(type(num_1))"
   ]
  },
  {
   "cell_type": "code",
   "execution_count": 2,
   "metadata": {},
   "outputs": [
    {
     "name": "stdout",
     "output_type": "stream",
     "text": [
      "7 <class 'int'>\n",
      "7.0 <class 'float'>\n"
     ]
    }
   ],
   "source": [
    "x = 7\n",
    "a = float(x)\n",
    "\n",
    "print (x , type(x))\n",
    "print (a , type(a))"
   ]
  },
  {
   "cell_type": "code",
   "execution_count": 15,
   "metadata": {},
   "outputs": [
    {
     "name": "stdout",
     "output_type": "stream",
     "text": [
      "20.8 <class 'float'>\n",
      "20 <class 'int'>\n"
     ]
    }
   ],
   "source": [
    "y = 20.8\n",
    "b = int(y)\n",
    "\n",
    "print ( y ,type(y))\n",
    "print ( b , type(b))"
   ]
  },
  {
   "cell_type": "code",
   "execution_count": 16,
   "metadata": {},
   "outputs": [
    {
     "name": "stdout",
     "output_type": "stream",
     "text": [
      "[10, 'kavindu', 5.7, True, 40]\n",
      "<class 'list'>\n",
      "5.7\n",
      "40\n",
      "['kavindu', 5.7, True]\n",
      "[10, 'kavindu', 5.7, True]\n",
      "[5.7, True, 40]\n",
      "[10, 'gamage', 5.7, True, 40]\n"
     ]
    }
   ],
   "source": [
    "my_list = [10 , \"kavindu\" , 5.7 , True , 40]\n",
    "\n",
    "print(my_list)\n",
    "print(type(my_list))\n",
    "print(my_list[2])\n",
    "print(my_list[-1])\n",
    "print(my_list[1:4])\n",
    "print(my_list[:4])\n",
    "print(my_list[2:])\n",
    "\n",
    "my_list[1] = \"gamage\"\n",
    "\n",
    "print(my_list)"
   ]
  },
  {
   "cell_type": "code",
   "execution_count": null,
   "metadata": {},
   "outputs": [],
   "source": [
    "my_list_2 = [50 , \"tharaka\" , 1.2 , False , 50]\n",
    "\n",
    "print(my_list_2)\n"
   ]
  },
  {
   "cell_type": "code",
   "execution_count": 4,
   "metadata": {},
   "outputs": [
    {
     "name": "stdout",
     "output_type": "stream",
     "text": [
      "[10, 5, 'gamage', 4.2, True, 50]\n",
      "[10, 5, 'gamage', 4.2, True, 50, 'dog']\n",
      "[10, 5, 'nimal', 'gamage', 4.2, True, 50, 'dog']\n",
      "[10, 5, 'gamage', 4.2, True, 50, 'dog']\n"
     ]
    }
   ],
   "source": [
    "my_list_3 = [10 , 5 , \"tharaka\" , 1.2 , False , 50]\n",
    "\n",
    "my_list_3[2:5] = [\"gamage\" , 4.2 , True]\n",
    "print(my_list_3)\n",
    "\n",
    "my_list_3.append(\"dog\")\n",
    "print(my_list_3)\n",
    "\n",
    "my_list_3.insert(2 , \"nimal\")\n",
    "print(my_list_3)\n",
    "\n",
    "my_list_3.remove (\"nimal\")\n",
    "print(my_list_3)\n"
   ]
  },
  {
   "cell_type": "code",
   "execution_count": 6,
   "metadata": {},
   "outputs": [
    {
     "name": "stdout",
     "output_type": "stream",
     "text": [
      "[1, 2, 3, 4, 5, 10, 11, 12, 13]\n",
      "[2, 3, 4, 5, 10, 11, 12, 13]\n",
      "[2, 4, 5, 10, 11, 12, 13]\n",
      "7\n",
      "[2, 4, 5, 11, 12, 13]\n"
     ]
    }
   ],
   "source": [
    "my_list_4 = [1,2,3,4,5]\n",
    "my_list_5 = [10,11,12,13]\n",
    "\n",
    "my_list_4.extend (my_list_5)\n",
    "print(my_list_4)\n",
    "\n",
    "my_list_4.remove (1)\n",
    "print(my_list_4)\n",
    "\n",
    "my_list_4.pop (1)\n",
    "print(my_list_4)\n",
    "\n",
    "print(len(my_list_4))\n",
    "\n",
    "del my_list_4[3]\n",
    "print(my_list_4)\n",
    "\n",
    "\n"
   ]
  },
  {
   "cell_type": "code",
   "execution_count": 7,
   "metadata": {},
   "outputs": [
    {
     "name": "stdout",
     "output_type": "stream",
     "text": [
      "['Amal', 'Binu', 'Chamara', 'Dilum']\n",
      "['Amal', 'Binu', 'Ishan', 'Chamara', 'Dilum']\n",
      "['Binu', 'Ishan', 'Chamara', 'Dilum']\n",
      "['farha', 'Binu', 'Ishan', 'Chamara', 'Dilum']\n"
     ]
    }
   ],
   "source": [
    "students = [\"Amal\" , \"Binu\" , \"Chamara\"]\n",
    "\n",
    "students.append(\"Dilum\")\n",
    "print(students)\n",
    "\n",
    "students.insert(2,\"Ishan\")\n",
    "print(students)\n",
    "\n",
    "students.remove(\"Amal\")\n",
    "print(students)\n",
    "\n",
    "students.insert(0, \"farha\")\n",
    "print(students)\n"
   ]
  },
  {
   "cell_type": "code",
   "execution_count": 8,
   "metadata": {},
   "outputs": [
    {
     "name": "stdout",
     "output_type": "stream",
     "text": [
      "[]\n"
     ]
    }
   ],
   "source": [
    "my_list_6 = [1,2,3,4,5,6,7,8]\n",
    "\n",
    "my_list_6.clear()\n",
    "print(my_list_6)"
   ]
  },
  {
   "cell_type": "code",
   "execution_count": 9,
   "metadata": {},
   "outputs": [
    {
     "name": "stdout",
     "output_type": "stream",
     "text": [
      "['apple', 'banana', 'bird', 'cat', 'mango']\n",
      "['Dog', 'apple', 'banana', 'bird', 'cat', 'mango']\n"
     ]
    }
   ],
   "source": [
    "my_list_7 = [\"banana\" , \"apple\" , \"mango\" , \"cat\" , \"bird\"]\n",
    "my_list_7.sort()\n",
    "print(my_list_7)\n",
    "\n",
    "my_list_7 = [\"banana\" , \"apple\" , \"mango\" , \"cat\" , \"bird\" , \"Dog\"]\n",
    "my_list_7.sort()\n",
    "print(my_list_7)"
   ]
  },
  {
   "cell_type": "code",
   "execution_count": 12,
   "metadata": {},
   "outputs": [
    {
     "name": "stdout",
     "output_type": "stream",
     "text": [
      "[80, 58, 31, 15, 10, 8, 7, 5]\n"
     ]
    }
   ],
   "source": [
    "num_list = [10,8,5,31,15,7,80,58]\n",
    "num_list.sort(reverse=True)\n",
    "print(num_list)"
   ]
  },
  {
   "cell_type": "code",
   "execution_count": 13,
   "metadata": {},
   "outputs": [
    {
     "name": "stdout",
     "output_type": "stream",
     "text": [
      "[0, 5, 7, 11, 6, 9]\n",
      "[0, 5, 7, 11, 6, 9]\n",
      "[0, 15, 7, 11, 6, 9]\n",
      "[0, 5, 7, 11, 6, 9]\n",
      "[9, 6, 11, 7, 15, 0]\n",
      "[9, 6, 11, 7, 15, 0, 0, 5, 7, 11, 6, 9]\n"
     ]
    }
   ],
   "source": [
    "my_list_8 = [0,5,7,11,6,9]\n",
    "\n",
    "my_list_9 = my_list_8.copy()\n",
    "\n",
    "print(my_list_8)\n",
    "print(my_list_9)\n",
    "\n",
    "my_list_8 [1] = 15 \n",
    "\n",
    "print(my_list_8)\n",
    "print(my_list_9)\n",
    "\n",
    "my_list_8.reverse()\n",
    "print(my_list_8)\n",
    "\n",
    "new_list = my_list_8 + my_list_9\n",
    "print(new_list)"
   ]
  },
  {
   "cell_type": "code",
   "execution_count": 14,
   "metadata": {},
   "outputs": [
    {
     "name": "stdout",
     "output_type": "stream",
     "text": [
      "('tennis', 'cricket', 'football')\n",
      "<class 'tuple'>\n",
      "3\n",
      "cricket\n"
     ]
    }
   ],
   "source": [
    "sports = (\"tennis\" , \"cricket\" , \"football\")\n",
    "\n",
    "print(sports)\n",
    "print(type(sports))\n",
    "print(len(sports))\n",
    "print(sports[1])"
   ]
  },
  {
   "cell_type": "code",
   "execution_count": 17,
   "metadata": {},
   "outputs": [
    {
     "name": "stdout",
     "output_type": "stream",
     "text": [
      "('monday',)\n",
      "<class 'tuple'>\n"
     ]
    }
   ],
   "source": [
    "days = (\"monday\" ,)\n",
    "\n",
    "print(days)\n",
    "print(type(days))"
   ]
  },
  {
   "cell_type": "code",
   "execution_count": 18,
   "metadata": {},
   "outputs": [
    {
     "name": "stdout",
     "output_type": "stream",
     "text": [
      "<class 'list'>\n",
      "['apple', 'grates', 'orange']\n",
      "('apple', 'grates', 'orange') <class 'tuple'>\n"
     ]
    }
   ],
   "source": [
    "fruits = (\"apple\" , \"banana\" , \"orange\")\n",
    "\n",
    "x = list(fruits)\n",
    "\n",
    "print(type(x))\n",
    "\n",
    "x[1] = \"grates\"\n",
    "\n",
    "print(x)\n",
    "\n",
    "fruits = tuple(x)\n",
    "print(fruits , type(fruits))"
   ]
  },
  {
   "cell_type": "code",
   "execution_count": 19,
   "metadata": {},
   "outputs": [
    {
     "name": "stdout",
     "output_type": "stream",
     "text": [
      "b\n",
      "True\n"
     ]
    }
   ],
   "source": [
    "nested_tuple = (1 , 2 , 3) , (\"a\" , \"b\" , \"c\") , (True , False)\n",
    "\n",
    "print(nested_tuple[1][1])\n",
    "print(nested_tuple[2][0])"
   ]
  },
  {
   "cell_type": "code",
   "execution_count": 20,
   "metadata": {},
   "outputs": [
    {
     "name": "stdout",
     "output_type": "stream",
     "text": [
      "{'football', 'tennis', 'cricket'}\n",
      "<class 'set'>\n",
      "{'football', 'vollyball', 'tennis', 'cricket'}\n"
     ]
    }
   ],
   "source": [
    "sports = {\"tennis\" , \"cricket\" , \"football\"}\n",
    "\n",
    "print(sports)\n",
    "print(type(sports))\n",
    "\n",
    "sports.add(\"vollyball\")\n",
    "\n",
    "print(sports)\n"
   ]
  },
  {
   "cell_type": "code",
   "execution_count": 21,
   "metadata": {},
   "outputs": [
    {
     "name": "stdout",
     "output_type": "stream",
     "text": [
      "{'banana', 'tennis', 'apple', 'football', 'cricket'}\n"
     ]
    }
   ],
   "source": [
    "set_1 = {\"tennis\" , \"cricket\" , \"football\"}\n",
    "set_2 = {\"apple\" , \"banana\"}\n",
    "\n",
    "set_1.update(set_2)\n",
    "\n",
    "print(set_1)\n"
   ]
  },
  {
   "cell_type": "code",
   "execution_count": 22,
   "metadata": {},
   "outputs": [
    {
     "name": "stdout",
     "output_type": "stream",
     "text": [
      "{'c', 'a', 'tennis', 'b', 'football', 'cricket'}\n"
     ]
    }
   ],
   "source": [
    "set_1 = {\"tennis\" , \"cricket\" , \"football\"}\n",
    "\n",
    "list_1 = [\"a\" , \"b\" , \"c\"]\n",
    "\n",
    "set_1.update(list_1)\n",
    "\n",
    "print(set_1)\n"
   ]
  },
  {
   "cell_type": "code",
   "execution_count": 23,
   "metadata": {},
   "outputs": [
    {
     "name": "stdout",
     "output_type": "stream",
     "text": [
      "{40, 50, 25, 60, 30}\n",
      "[25, 30, 40, 50, 60]\n"
     ]
    }
   ],
   "source": [
    "list_1 = [50,60,30,40,50,25,60,30,40]\n",
    "\n",
    "set_1 = set(list_1)\n",
    "\n",
    "print(set_1)\n",
    "\n",
    "list_1 = list(set_1)\n",
    "\n",
    "list_1.sort()\n",
    "\n",
    "print(list_1)"
   ]
  },
  {
   "cell_type": "code",
   "execution_count": 28,
   "metadata": {},
   "outputs": [
    {
     "name": "stdout",
     "output_type": "stream",
     "text": [
      "range(1, 7)\n",
      "range(1, 12, 2)\n",
      "<class 'range'>\n",
      "3\n"
     ]
    }
   ],
   "source": [
    "x = range(1,7,1)\n",
    "\n",
    "y = range(1,12,2)\n",
    "\n",
    "z = range(3,24,4)\n",
    "\n",
    "print(x)\n",
    "print(y)\n",
    "print(type(x))\n",
    "\n",
    "print(x[2])\n",
    "\n",
    "\n",
    "\n"
   ]
  },
  {
   "cell_type": "code",
   "execution_count": 29,
   "metadata": {},
   "outputs": [
    {
     "name": "stdout",
     "output_type": "stream",
     "text": [
      "{'name': 'sugar', 'weight': '1Kg', 'price': 130.35}\n",
      "<class 'dict'>\n",
      "1Kg\n",
      "1Kg\n",
      "3\n",
      "{'name': 'sugar', 'weight': '1Kg', 'price': 140.0}\n",
      "{'name': 'sugar', 'weight': '1Kg', 'price': 140.0, 'color': 'brown'}\n",
      "{'name': 'sugar', 'weight': '1Kg', 'price': '200.50', 'color': 'brown', 'exp': 'jan 2026'}\n",
      "{'name': 'sugar', 'weight': '1Kg', 'color': 'brown', 'exp': 'jan 2026'}\n",
      "{'name': 'sugar', 'weight': '1Kg', 'color': 'brown'}\n",
      "{'name': 'sugar', 'weight': '1Kg'}\n",
      "{}\n"
     ]
    }
   ],
   "source": [
    "this_dict = {\n",
    "    \"name\" : \"sugar\",\n",
    "    \"weight\" : \"1Kg\",\n",
    "    \"price\" : 130.35\n",
    "}\n",
    "\n",
    "print(this_dict)\n",
    "print(type(this_dict))\n",
    "\n",
    "print(this_dict[\"weight\"])\n",
    "\n",
    "print(this_dict.get(\"weight\"))\n",
    "\n",
    "print(len(this_dict))\n",
    "\n",
    "this_dict[\"price\"] = 140.00\n",
    "print(this_dict)\n",
    "\n",
    "this_dict[\"color\"] = \"brown\"\n",
    "print(this_dict)\n",
    "\n",
    "this_dict.update({\"exp\" : \"jan 2026\" , \"price\" : \"200.50\"})\n",
    "print(this_dict)\n",
    "\n",
    "this_dict.pop(\"price\")\n",
    "print(this_dict)\n",
    "\n",
    "this_dict.popitem()\n",
    "print(this_dict)\n",
    "\n",
    "del this_dict[\"color\"]\n",
    "print(this_dict)\n",
    "\n",
    "this_dict.clear()\n",
    "print(this_dict)"
   ]
  },
  {
   "cell_type": "code",
   "execution_count": 30,
   "metadata": {},
   "outputs": [
    {
     "name": "stdout",
     "output_type": "stream",
     "text": [
      "{'name': 'sugar', 'weight': '1Kg', 'price': 130.35}\n",
      "{'name': 'sugar', 'weight': '1Kg', 'price': 130.35}\n",
      "{'name': 'sugar', 'weight': '1Kg', 'price': '200.50', 'exp': 'jan 2026'}\n",
      "{'name': 'sugar', 'weight': '1Kg', 'price': 130.35}\n"
     ]
    }
   ],
   "source": [
    "this_dict = {\n",
    "    \"name\" : \"sugar\",\n",
    "    \"weight\" : \"1Kg\",\n",
    "    \"price\" : 130.35\n",
    "}\n",
    "\n",
    "print(this_dict)\n",
    "\n",
    "copy = this_dict.copy()\n",
    "print(copy)\n",
    "\n",
    "this_dict.update({\"exp\" : \"jan 2026\" , \"price\" : \"200.50\"})\n",
    "print(this_dict)\n",
    "print(copy)\n"
   ]
  },
  {
   "cell_type": "code",
   "execution_count": null,
   "metadata": {},
   "outputs": [],
   "source": [
    "#assignment operators\n",
    "\n",
    "x = 5 # assignment\n",
    "x += 3 # add and assign\n",
    "x -= 3 #subtract assign\n",
    "x *= 3 # multiply amd assign\n",
    "x /= 3 # devison amd assign"
   ]
  },
  {
   "cell_type": "code",
   "execution_count": null,
   "metadata": {},
   "outputs": [],
   "source": [
    "#comparison operatorss\n",
    "x,y = 5,8\n",
    "\n",
    "print(x == y)\n",
    "print(x < y)\n",
    "print(x > y)\n",
    "print(x <= y)\n",
    "print(x >= y)\n",
    "print(x != y)"
   ]
  },
  {
   "cell_type": "code",
   "execution_count": null,
   "metadata": {},
   "outputs": [],
   "source": [
    "#logical operators\n",
    "\n",
    "# And , Or , Not"
   ]
  },
  {
   "cell_type": "code",
   "execution_count": 31,
   "metadata": {},
   "outputs": [
    {
     "name": "stdout",
     "output_type": "stream",
     "text": [
      "False\n",
      "True\n",
      "True\n"
     ]
    }
   ],
   "source": [
    "x , y = 5, 6\n",
    "\n",
    "print(x is y)\n",
    "\n",
    "x = 5\n",
    "y = x\n",
    "\n",
    "print(x is y)\n",
    "\n",
    "x = 5\n",
    "y = 5\n",
    "\n",
    "print(x is y)\n"
   ]
  },
  {
   "cell_type": "code",
   "execution_count": 32,
   "metadata": {},
   "outputs": [
    {
     "name": "stdout",
     "output_type": "stream",
     "text": [
      "0\n"
     ]
    }
   ],
   "source": [
    "x , y = 5, 10\n",
    "\n",
    "x = x & y\n",
    "\n",
    "print(x)"
   ]
  },
  {
   "cell_type": "code",
   "execution_count": 33,
   "metadata": {},
   "outputs": [
    {
     "name": "stdout",
     "output_type": "stream",
     "text": [
      "n is odd\n"
     ]
    }
   ],
   "source": [
    "n = 15\n",
    "\n",
    "if n % 2 == 0:\n",
    "    print(\"n is even\")\n",
    "else:\n",
    "    print(\"n is odd\")"
   ]
  },
  {
   "cell_type": "code",
   "execution_count": null,
   "metadata": {},
   "outputs": [],
   "source": [
    "list = [1,2,3,4,5,6,7]\n",
    "\n",
    "# x = len(list)\n",
    "\n",
    "# if x == 0:\n",
    "#     print(\"empty list\")\n",
    "# else:\n",
    "#     print(\"non empty list\")\n",
    "\n",
    "if list:\n",
    "    print(\"non empty list\")\n",
    "else:\n",
    "    print(\"empty list\")"
   ]
  },
  {
   "cell_type": "code",
   "execution_count": 34,
   "metadata": {},
   "outputs": [
    {
     "name": "stdout",
     "output_type": "stream",
     "text": [
      "43.96\n"
     ]
    }
   ],
   "source": [
    "r = 7\n",
    "P = 3.14\n",
    "\n",
    "if r <= 0 :\n",
    "    print(\"r is not valid\")\n",
    "else:\n",
    "    circumference = 2 * P * r\n",
    "    print(circumference)"
   ]
  },
  {
   "cell_type": "code",
   "execution_count": null,
   "metadata": {},
   "outputs": [],
   "source": [
    "a = 3\n",
    "b = 4\n",
    "\n",
    "if a <= 0 or b <=0 :\n",
    "    print(\" give positive value \")\n",
    "else:\n",
    "    c = (a ** 2 + b ** 2) ** 0.5\n",
    "    print(c)"
   ]
  },
  {
   "cell_type": "code",
   "execution_count": null,
   "metadata": {},
   "outputs": [],
   "source": [
    "num_1 = 1\n",
    "num_2 = 3\n",
    "num_3 = 4\n",
    "\n",
    "if num_1 > num_2 and num_1 > num_3 :\n",
    "    print (\"largest :\",num_1)\n",
    "elif num_2 > num_1 and num_2 > num_3 :\n",
    "    print (\"largest :\",num_2)\n",
    "\n",
    "else :\n",
    "    print(\"largest :\",num_3)\n",
    "\n"
   ]
  },
  {
   "cell_type": "code",
   "execution_count": null,
   "metadata": {},
   "outputs": [],
   "source": [
    "#slide change the to about program to display number in dicending order\n",
    "\n",
    "num_1 = 1\n",
    "num_2 = 8\n",
    "num_3 = 4\n",
    "\n",
    "if num_1 > num_2 and num_1 > num_3 :\n",
    "    if num_2 > num_3 :\n",
    "        print(\"num_1,num_2,num_3\")\n",
    "    else:\n",
    "        print(\"num_1,num_3,num_2\")\n",
    "elif num_2 > num_1 and num_2 > num_3 :\n",
    "    if num_1 > num_3 :\n",
    "        print(\"num_2,num_1,num_3\")\n",
    "    else:\n",
    "        print(\"num_2,num_3,num_1\")\n",
    "\n",
    "else :\n",
    "    if num_1 > num_2 :\n",
    "        print(\"num_3,num_1,num_2\")\n",
    "    else:\n",
    "        print(\"num_3,num_2,num_1\")"
   ]
  },
  {
   "cell_type": "code",
   "execution_count": null,
   "metadata": {},
   "outputs": [],
   "source": [
    "a = 11\n",
    "\n",
    "r = \"even\" if a % 2 == 0 else \"odd\"\n",
    "\n",
    "print(r)"
   ]
  },
  {
   "cell_type": "code",
   "execution_count": 35,
   "metadata": {},
   "outputs": [
    {
     "name": "stdout",
     "output_type": "stream",
     "text": [
      "28\n"
     ]
    }
   ],
   "source": [
    "#given any intiger n ,print the abslute value using a ternary operator (without using abs() function)\n",
    "\n",
    "n = -28\n",
    "\n",
    "r = n if n >= 0 else -n\n",
    "\n",
    "print(r)"
   ]
  },
  {
   "cell_type": "code",
   "execution_count": 36,
   "metadata": {},
   "outputs": [
    {
     "name": "stdout",
     "output_type": "stream",
     "text": [
      "default value\n"
     ]
    }
   ],
   "source": [
    "v = 12\n",
    "\n",
    "match v:\n",
    "    case 10:\n",
    "        print(\"value is 10\")\n",
    "    case 11:\n",
    "        print(\"value is 11\")\n",
    "    case _:\n",
    "        print(\"default value\") "
   ]
  },
  {
   "cell_type": "code",
   "execution_count": 37,
   "metadata": {},
   "outputs": [
    {
     "name": "stdout",
     "output_type": "stream",
     "text": [
      "tuesday\n"
     ]
    }
   ],
   "source": [
    "#write a python program that take integer input from the user represent the week day numbers (1-7) and print the horresponding weekdays name using match case statement\n",
    "\n",
    "num_1 = int(input(\"enter the number :\"))\n",
    "\n",
    "match num_1:\n",
    "    case 1:\n",
    "        print(\"moday\")\n",
    "    case 2:\n",
    "        print(\"tuesday\")\n",
    "    case 3:\n",
    "        print(\"wednesday\")\n",
    "    case 4:\n",
    "        print(\"thursday\")\n",
    "    case 5:\n",
    "        print(\"friday\")\n",
    "    case 6:\n",
    "        print(\"saturday\")\n",
    "    case 7:\n",
    "        print(\"sunday\")\n",
    "    case _:\n",
    "        print(\"inavalid number enter number between 1 to 7\")"
   ]
  },
  {
   "cell_type": "code",
   "execution_count": null,
   "metadata": {},
   "outputs": [],
   "source": [
    "#write a python program that takes and input string representing a traffic light colors\n",
    "#red , yellow , green or blinking\n",
    "#use structurel patten matching to print the following \n",
    "# print stop if color is red or blinking\n",
    "# print slow down if color is yellow\n",
    "# print go if color is green\n",
    "# print invalid color any other input\n",
    "\n",
    "color = input(\"enter color\")\n",
    "\n",
    "match color:\n",
    "    case \"red\" | \"blinking\":\n",
    "        print(\"stop\")\n",
    "    case \"yellow\":\n",
    "        print(\"slow down\")\n",
    "    case \"green\":\n",
    "        print(\"go\")\n",
    "    case _:\n",
    "        print(\"invalid color\")"
   ]
  },
  {
   "cell_type": "code",
   "execution_count": 38,
   "metadata": {},
   "outputs": [
    {
     "name": "stdout",
     "output_type": "stream",
     "text": [
      "12\n"
     ]
    }
   ],
   "source": [
    "numbers = [4,3]\n",
    "\n",
    "match numbers:\n",
    "    case (x,y):\n",
    "        print(x*y)\n",
    "    case (x,y,z):\n",
    "        print(x*y*z)\n",
    "    case _ :\n",
    "        print(\"invalid\")"
   ]
  },
  {
   "cell_type": "code",
   "execution_count": null,
   "metadata": {},
   "outputs": [],
   "source": [
    "#write a python programe that read a list of tempresure readings :\n",
    "#if the list has excatly two elments,print there averrage\n",
    "#if the list has excatly four elements, clculate and print the diffrent between the sum of the frist two reading and sum the last two reading\n",
    "#for any other list length , print unsupported number of reading\n",
    "\n",
    "num = [7,8,3,6]\n",
    "\n",
    "match num:\n",
    "    case (x,y):\n",
    "        print((x+y)/2)\n",
    "    case(x,y,z,r):\n",
    "        print((x+y) - (z+r))\n",
    "    case _:\n",
    "        print(\"unsupported number\")"
   ]
  },
  {
   "cell_type": "code",
   "execution_count": null,
   "metadata": {},
   "outputs": [],
   "source": [
    "my_list = [11,8,6,9,18]\n",
    "\n",
    "for item in my_list:\n",
    "\n",
    "    if item%2 == 0:\n",
    "        print (item)"
   ]
  },
  {
   "cell_type": "code",
   "execution_count": null,
   "metadata": {},
   "outputs": [],
   "source": [
    "#write a python programm to display squre value of firt ten intiger\n",
    "\n",
    "num = range(1,11)\n",
    "\n",
    "for item in num:\n",
    "    print(item**2)\n",
    "\n",
    "# ================\n",
    "\n",
    "# for item in range(1,11):\n",
    "#     print(item**2)\n"
   ]
  },
  {
   "cell_type": "code",
   "execution_count": null,
   "metadata": {},
   "outputs": [],
   "source": [
    "#get a positive intiger as a user input. then display all squre numbers witch are bellow than the input number\n",
    "\n",
    "num = int(input (\"enter the number\"))\n",
    "\n",
    "for item in range(1,num):\n",
    "    if item**2 < num:\n",
    "        print(item**2)\n",
    "    else:\n",
    "        break\n"
   ]
  },
  {
   "cell_type": "code",
   "execution_count": null,
   "metadata": {},
   "outputs": [],
   "source": [
    "#write a python code to demostrate the lenear search\n",
    "\n",
    "list = [1,2,3,4,5,6,7,8,9,10]\n",
    "\n",
    "found = False\n",
    "\n",
    "num = int(input(\"enter the number\"))\n",
    "\n",
    "for item in list:\n",
    "    if item == num:\n",
    "        print(\"number found\")\n",
    "        found = True\n",
    "if not found:\n",
    "        print(\"number not found\")\n",
    "\n",
    "# ======================================\n",
    "\n",
    "# list = [1,2,3,4,5,6,7,8,9,10]\n",
    "# num = int(input(\"enter the number\"))\n",
    "# for item in list:\n",
    "#     if item == num:\n",
    "#         print(\"number found\")\n",
    "#         break\n",
    "# else:\n",
    "#       print(\"number not found\")\n",
    "    "
   ]
  },
  {
   "cell_type": "code",
   "execution_count": null,
   "metadata": {},
   "outputs": [],
   "source": [
    "list = [10,0,30,40,50]\n",
    "\n",
    "num = list[0]\n",
    "\n",
    "for item in list:\n",
    "    if item > num:\n",
    "       num = item\n",
    "print(num)"
   ]
  },
  {
   "cell_type": "code",
   "execution_count": null,
   "metadata": {},
   "outputs": [],
   "source": [
    "my_list = [5,10,4,6,9,7,2]\n",
    "\n",
    "result = [item ** 2 for item in my_list]\n",
    "\n",
    "print(result)"
   ]
  },
  {
   "cell_type": "code",
   "execution_count": null,
   "metadata": {},
   "outputs": [],
   "source": [
    "#create the list with the squers of even numbers between 1 to 10 (include) using list combination\n",
    "\n",
    "result = [item ** 2 for item in range(1,11) if item % 2 == 0]\n",
    "\n",
    "print(result)"
   ]
  },
  {
   "cell_type": "code",
   "execution_count": null,
   "metadata": {},
   "outputs": [],
   "source": [
    "#write a python program using a while loop to display all positive integers which are bellow than the user input n (you check the input validity)\n",
    "\n",
    "num = int(input(\"enter the number\"))\n",
    "\n",
    "if num <= 0:\n",
    "    print(\"Enter positive number\")\n",
    "\n",
    "count = 1\n",
    "\n",
    "while num != count:\n",
    "        print(count)\n",
    "        count += 1\n",
    "\n",
    "\n",
    "#in both for loop and while loop if you need \"continue\" key word it will exit from the current iteration\n"
   ]
  },
  {
   "cell_type": "code",
   "execution_count": null,
   "metadata": {},
   "outputs": [],
   "source": [
    "# write a python programme to reverse the digits of and given integer using a while loop\n",
    "\n",
    "# ex : input = 9725\n",
    "#      output = 5279\n",
    "\n",
    "num = int(input(\"input number\"))\n",
    "rev = 0 \n",
    "\n",
    "while num > 0:\n",
    "    digits = num % 10\n",
    "    rev = rev * 10 + digits\n",
    "    num = num // 10\n",
    "\n",
    "print(rev)"
   ]
  },
  {
   "cell_type": "code",
   "execution_count": null,
   "metadata": {},
   "outputs": [],
   "source": [
    "def max_value(list):\n",
    "    list =[2,4,5,6,7,8,9,20]\n",
    "    max_value =list[0]\n",
    "    for num in list:\n",
    "        if num > max_value :\n",
    "            max_value= num\n",
    "            \n",
    "    return max_value\n",
    "print(\"maximum value of in the list:\",max_value(list))"
   ]
  },
  {
   "cell_type": "code",
   "execution_count": null,
   "metadata": {},
   "outputs": [],
   "source": [
    "def count(list):\n",
    "    list =[2,4,5,6,7,8,9,20]\n",
    "    count=0\n",
    "    for num in list:\n",
    "        if num % 2 == 0:\n",
    "            count += 1\n",
    "    return count\n",
    "print( \"even num count:\",count(list))"
   ]
  },
  {
   "cell_type": "code",
   "execution_count": null,
   "metadata": {},
   "outputs": [],
   "source": [
    "#write a function name \"remove_duplicate(list)\" that return a list with duplicate remove (reserving the original order)\n",
    "\n",
    "def remove_duplicate(list):\n",
    "\n",
    "    list = [1,5,6,5,3,1,4]\n",
    "    new_list = []\n",
    "\n",
    "    for item in list:\n",
    "        if item not in new_list:\n",
    "            new_list.append(item)\n",
    "\n",
    "    return new_list\n",
    "        \n",
    "print(remove_duplicate(list))"
   ]
  },
  {
   "cell_type": "code",
   "execution_count": null,
   "metadata": {},
   "outputs": [],
   "source": [
    "#write a function \"factorial(n)\" that returns the factorial of a given number n\n",
    "\n",
    "def factorial(n):\n",
    "    result = 1\n",
    "    if n == 0:\n",
    "        return result\n",
    "    \n",
    "    for item in range(1,n+1):\n",
    "        result *= item\n",
    "\n",
    "    return result\n",
    "\n",
    "print(factorial(5))"
   ]
  },
  {
   "cell_type": "code",
   "execution_count": null,
   "metadata": {},
   "outputs": [],
   "source": [
    "#default argument\n",
    "def add_num(a,b=2):\n",
    "    return a+b\n",
    "    \n",
    "print(add_num(9))"
   ]
  },
  {
   "cell_type": "code",
   "execution_count": null,
   "metadata": {},
   "outputs": [],
   "source": [
    "#write a function that calculate and  returns the value of a number race to a sertain power. the function should accept two arguments : the number and exponent. if the exponent is nt provided it should calculate squre of the number\n",
    "\n",
    "def number(num,exponent=2):\n",
    "    return num ** exponent\n",
    "\n",
    "print(number(2))\n",
    "print(number(2,3))"
   ]
  },
  {
   "cell_type": "code",
   "execution_count": null,
   "metadata": {},
   "outputs": [],
   "source": [
    "#keyword argument\n",
    "\n",
    "def number(a,b):\n",
    "    print(a)\n",
    "    print(b)\n",
    "\n",
    "number(b=2,a=5)\n",
    "number(a=3,b=9)"
   ]
  },
  {
   "cell_type": "code",
   "execution_count": null,
   "metadata": {},
   "outputs": [],
   "source": [
    "\n",
    "#write a function that calculate and employes next salary. the function should accept based sallry, bonus(default to 0), and tax rate(default to 10%). the next sallry is calculated by adding the bonus to the based sallry and subtraction the tax. demostarte difrent wayes of calling this function using possitional and keyword argument\n",
    "\n",
    "def sallry(based_sallry,bonus,tax_rate):\n",
    "    return (based_sallry+bonus) - (based_sallry+bonus) * tax_rate\n",
    "\n",
    "print(sallry(based_sallry=30000, bonus=5000, tax_rate=0.1))"
   ]
  },
  {
   "cell_type": "code",
   "execution_count": null,
   "metadata": {},
   "outputs": [],
   "source": [
    "#arbitrary position argument\n",
    "\n",
    "def arbitarrary_position(*args):\n",
    "    print(args)\n",
    "    print(type(args))\n",
    "\n",
    "    for arg in args:\n",
    "        print(arg)\n",
    "\n",
    "arbitarrary_position(1,2,3,4)"
   ]
  },
  {
   "cell_type": "code",
   "execution_count": null,
   "metadata": {},
   "outputs": [],
   "source": [
    "#write a function multifly all that accepts any number of numbers and returns therir products. if no numbers are provided return 1\n",
    "\n",
    "def multifly(*args):\n",
    "    count = 1\n",
    "    for arg in args:\n",
    "        count *= arg\n",
    "    return count\n",
    "\n",
    "print(multifly(1,2,3,4))"
   ]
  },
  {
   "cell_type": "code",
   "execution_count": null,
   "metadata": {},
   "outputs": [],
   "source": [
    "dict = {\n",
    "    \"name\" : \"Jone\",\n",
    "    \"age\" : 28,\n",
    "    \"city\" : \"colombo\"\n",
    "}\n",
    "\n",
    "for key in dict.keys():\n",
    " print(key)\n",
    "\n",
    "for value in dict.values():\n",
    " print(value)\n",
    "\n",
    "for key,value in dict.items():\n",
    " print(\"key :\",key,\",value :\",value)"
   ]
  },
  {
   "cell_type": "code",
   "execution_count": null,
   "metadata": {},
   "outputs": [],
   "source": [
    "def arbitrary_keyword_args(**kwargs):\n",
    "    print(kwargs)\n",
    "    print(type(kwargs))\n",
    "\n",
    "arbitrary_keyword_args(name=\"kavindu\",age=28,city=\"galle\")"
   ]
  },
  {
   "cell_type": "code",
   "execution_count": null,
   "metadata": {},
   "outputs": [],
   "source": [
    "def arbitrary_keyword_args(**kwargs):\n",
    "    print(kwargs)\n",
    "    print(type(kwargs))\n",
    "\n",
    "    for key,value in kwargs.items():\n",
    "        print(\"key :\",key,\",value :\",value)\n",
    "\n",
    "arbitrary_keyword_args(name=\"kavindu\",age=28,city=\"galle\")"
   ]
  },
  {
   "cell_type": "code",
   "execution_count": null,
   "metadata": {},
   "outputs": [],
   "source": [
    "#you are developing a student management system \n",
    "#   1.write a function add_student() with access any number of keyword argument where keys are student id's and values are student's name\n",
    "#   2.the function should store all student into a dictonary \n",
    "#   3.write another function display_student which acccept the dictonary and prints all students id's and names in a need format\n",
    "#   4.demostarte your function by adding at least 5 student using key word argument and disply them\n",
    "\n",
    "#======================\n",
    "def add_student(**kwargs):\n",
    "    students = {}\n",
    "\n",
    "    for s_id , s_name in kwargs.items():\n",
    "        students[s_id] = s_name\n",
    "        \n",
    "    return students\n",
    "\n",
    "#=====================\n",
    "def display_student(students):\n",
    "    for s_id , s_name in students.items():\n",
    "        print(\"student_id :\" , s_id,\", student_name :\", s_name)\n",
    "\n",
    "#=====================\n",
    "students = add_student(\n",
    "    S001=\"Kavindu Tharaka\",\n",
    "    S002=\"Kavindu Tharaka\",\n",
    "    S003=\"Kavindu Tharaka\",\n",
    "    S004=\"Kavindu Tharaka\",\n",
    "    S005=\"Kavindu Tharaka\"\n",
    ")\n",
    "\n",
    "#=====================\n",
    "display_student(students)"
   ]
  },
  {
   "cell_type": "code",
   "execution_count": 2,
   "metadata": {},
   "outputs": [
    {
     "name": "stdout",
     "output_type": "stream",
     "text": [
      "<map object at 0x000002851B6D0CD0>\n",
      "[1, 4, 9, 16, 25]\n"
     ]
    }
   ],
   "source": [
    "#python built in function (https://docs.python.org/3/library/functions.html#func-range)\n",
    "\n",
    "#map(function,iterable)\n",
    "\n",
    "def find_squre(x):\n",
    "    return x**2\n",
    "\n",
    "my_list = [1,2,3,4,5]\n",
    "\n",
    "squre_value = map(find_squre,my_list)\n",
    "\n",
    "print(squre_value)\n",
    "print(list(squre_value))\n",
    "\n"
   ]
  },
  {
   "cell_type": "code",
   "execution_count": null,
   "metadata": {},
   "outputs": [
    {
     "name": "stdout",
     "output_type": "stream",
     "text": [
      "[32.0, 68.0, 98.6, 212.0, 14.0]\n",
      "[32.0, 68.0, 98.6, 212.0, 14.0]\n"
     ]
    }
   ],
   "source": [
    "#your are given a list of tempresures in celsius \n",
    "#celsius_value = [0,20,37,100,-10]\n",
    "#write a python function that convert dis list into fahrenheit using a formula \"f = c*9%5 +32\" \n",
    "#use the map function to perform the conversion \n",
    "#return the list of fehrenheit value\n",
    "\n",
    "# def convert_to_fahrenheit(celsius):\n",
    "#     return celsius * 9/5 + 32\n",
    "\n",
    "# celsius_value = [0,20,37,100,-10]\n",
    "\n",
    "# fahrenheit_value = map(convert_to_fahrenheit,celsius_value)\n",
    "\n",
    "# print(list(fahrenheit_value))\n",
    "\n",
    "def fahrenheit(celsius_value):\n",
    "    return map(convert_to_fahrenheit, celsius_value)\n",
    "\n",
    "def convert_to_fahrenheit(celsius):\n",
    "    return (celsius * 9 / 5) + 32\n",
    "\n",
    "celsius_value = [0, 20, 37, 100, -10]\n",
    "\n",
    "print(list(fahrenheit(celsius_value)))\n",
    "\n",
    "\n",
    "\n",
    "\n"
   ]
  },
  {
   "cell_type": "code",
   "execution_count": 5,
   "metadata": {},
   "outputs": [
    {
     "name": "stdout",
     "output_type": "stream",
     "text": [
      "<filter object at 0x000001918DC23A90>\n",
      "[2, 4, 6, 8, 10]\n"
     ]
    }
   ],
   "source": [
    "#filter(function,iterable) return boolean value \n",
    "\n",
    "def is_even(x):\n",
    "    return x%2 == 0\n",
    "\n",
    "my_list = [1,2,3,4,5,6,7,8,9,10]\n",
    "\n",
    "even_value = filter(is_even,my_list)\n",
    "\n",
    "print(even_value)\n",
    "print(list(even_value))"
   ]
  },
  {
   "cell_type": "code",
   "execution_count": 6,
   "metadata": {},
   "outputs": [
    {
     "name": "stdout",
     "output_type": "stream",
     "text": [
      "7\n"
     ]
    }
   ],
   "source": [
    "#lambda function\n",
    "\n",
    "add = lambda x,y : x+y\n",
    "print(add(4,3))"
   ]
  },
  {
   "cell_type": "code",
   "execution_count": 8,
   "metadata": {},
   "outputs": [
    {
     "name": "stdout",
     "output_type": "stream",
     "text": [
      "11\n"
     ]
    }
   ],
   "source": [
    "print((lambda x,y : x+y)(5,6))"
   ]
  },
  {
   "cell_type": "code",
   "execution_count": 2,
   "metadata": {},
   "outputs": [
    {
     "name": "stdout",
     "output_type": "stream",
     "text": [
      "[2, 4, 6, 8, 10, 12]\n"
     ]
    }
   ],
   "source": [
    "#given a list of integers, used map() with a lamda() to create a new list where each number id double\n",
    "\n",
    "my_list = [1,2,3,4,5,6]\n",
    "\n",
    "print(list((map(lambda number:number*2 , my_list))))"
   ]
  },
  {
   "cell_type": "code",
   "execution_count": 1,
   "metadata": {},
   "outputs": [
    {
     "name": "stdout",
     "output_type": "stream",
     "text": [
      "[12, 18, 22, 16]\n"
     ]
    }
   ],
   "source": [
    "#you are given  the following list of integers \n",
    "#[12,18,17,15,22,23,16]\n",
    "#write a python program that use the filter function with a lamda function to remore all odd numbers from the list\n",
    "\n",
    "numbers = [12,18,17,15,22,23,16]\n",
    "\n",
    "even_value = filter(lambda x :x % 2 == 0 , numbers )\n",
    "\n",
    "print(list(even_value))"
   ]
  },
  {
   "cell_type": "code",
   "execution_count": 9,
   "metadata": {},
   "outputs": [
    {
     "name": "stdout",
     "output_type": "stream",
     "text": [
      "10\n"
     ]
    }
   ],
   "source": [
    "#write a python program with a lmbda function to decide the largest between two numbers \n",
    "\n",
    "max = lambda x,y : x if x >y else y\n",
    "\n",
    "print(max(10,2))"
   ]
  },
  {
   "cell_type": "code",
   "execution_count": 40,
   "metadata": {},
   "outputs": [
    {
     "name": "stdout",
     "output_type": "stream",
     "text": [
      "16\n",
      "26\n"
     ]
    }
   ],
   "source": [
    "my_list = [4,5,6,1]\n",
    "\n",
    "print(sum(my_list))\n",
    "print(sum(my_list,10))"
   ]
  },
  {
   "cell_type": "code",
   "execution_count": 44,
   "metadata": {},
   "outputs": [
    {
     "name": "stdout",
     "output_type": "stream",
     "text": [
      "True\n",
      "True\n"
     ]
    }
   ],
   "source": [
    "#isinstance()   difine a class of object\n",
    "\n",
    "x = 10\n",
    "print(isinstance(x,int))\n",
    "\n",
    "x = 10.5\n",
    "print(isinstance(x,(int,float)))"
   ]
  },
  {
   "cell_type": "code",
   "execution_count": 45,
   "metadata": {},
   "outputs": [
    {
     "name": "stdout",
     "output_type": "stream",
     "text": [
      "my name is kavindu and my age is 22\n"
     ]
    }
   ],
   "source": [
    "name = \"kavindu\"\n",
    "age = 22\n",
    "\n",
    "print(f\"my name is {name} and my age is {age}\")"
   ]
  },
  {
   "cell_type": "code",
   "execution_count": null,
   "metadata": {},
   "outputs": [
    {
     "name": "stdout",
     "output_type": "stream",
     "text": [
      "\n",
      "0\n"
     ]
    }
   ],
   "source": [
    "class Student:\n",
    "    name = \"\"\n",
    "    age = 0\n",
    "\n",
    "    student_1 = Student()\n",
    "    print(student_1.name)\n",
    "    print(student_1.age)"
   ]
  },
  {
   "cell_type": "code",
   "execution_count": null,
   "metadata": {},
   "outputs": [
    {
     "name": "stdout",
     "output_type": "stream",
     "text": [
      "car has 4 wheels\n",
      "car driving to colombo on 4 wheels\n"
     ]
    }
   ],
   "source": [
    "class Car:\n",
    "    wheels = 4\n",
    "\n",
    "    def display_info(self): #parameter ekk nthnm \"self\" danwa\n",
    "        print(f\"car has {self.wheels} wheels\")\n",
    "\n",
    "    def drive_to(self,location):\n",
    "        print(f\"car driving to {location} on {self.wheels} wheels\")\n",
    "\n",
    "car_1 = Car()\n",
    "car_1.display_info()\n",
    "car_1.drive_to(\"colombo\")"
   ]
  },
  {
   "cell_type": "code",
   "execution_count": null,
   "metadata": {},
   "outputs": [
    {
     "name": "stdout",
     "output_type": "stream",
     "text": [
      "Animal Speaking\n"
     ]
    }
   ],
   "source": [
    "# Inheritance in python\n",
    "\n",
    "class Animal:\n",
    "    def speak(self):\n",
    "        print(\"Animal Speaking\")\n",
    "\n",
    "class Parrot(Animal):  #Inheritance\n",
    "    def display_info(self):\n",
    "        print(\"somthing\")\n",
    "\n",
    "Parrot_1 = Parrot()\n",
    "Parrot_1.speak()"
   ]
  },
  {
   "cell_type": "code",
   "execution_count": null,
   "metadata": {},
   "outputs": [
    {
     "name": "stdout",
     "output_type": "stream",
     "text": [
      "Animal Speaking\n"
     ]
    }
   ],
   "source": [
    "class Animal:\n",
    "    def speak(self):\n",
    "        print(\"Animal Speaking\")\n",
    "\n",
    "class Parrot(Animal):\n",
    "    def speak(self):   #method overriding\n",
    "        print(\"parrot speaking\")\n",
    "\n",
    "Parrot_1 = Parrot()\n",
    "Parrot_1.speak()"
   ]
  },
  {
   "cell_type": "code",
   "execution_count": null,
   "metadata": {},
   "outputs": [
    {
     "name": "stdout",
     "output_type": "stream",
     "text": [
      "parrot speaking ('age', 'kavindu')\n"
     ]
    }
   ],
   "source": [
    "class Animal:\n",
    "    def speak(self):\n",
    "        print(\"Animal Speaking\")\n",
    "\n",
    "class Parrot(Animal):\n",
    "    def speak(self,*name):   #method overloading\n",
    "        print(\"parrot speaking\",name)\n",
    "\n",
    "Parrot_1 = Parrot()\n",
    "Parrot_1.speak(\"age\",\"kavindu\")\n",
    "\n",
    "# class Animal:\n",
    "#     def speak(self):\n",
    "#         print(\"Animal Speaking\")\n",
    "\n",
    "# class Parrot(Animal):\n",
    "#     def speak(self, *args):  # accepts variable number of arguments\n",
    "#         print(\"parrot speaking\", args)\n",
    "\n",
    "# Parrot_1 = Parrot()\n",
    "# Parrot_1.speak(\"age\", \"kavindu\")\n"
   ]
  },
  {
   "cell_type": "code",
   "execution_count": null,
   "metadata": {},
   "outputs": [
    {
     "name": "stdout",
     "output_type": "stream",
     "text": [
      "kavindu\n"
     ]
    }
   ],
   "source": [
    "class Animal:\n",
    "    def __init__(self,name):\n",
    "        self.name = name\n",
    "\n",
    "class Parrot(Animal):\n",
    "    def speak(self):\n",
    "        print(\"parrot speaking\")\n",
    "\n",
    "parrot_1 = Parrot(\"kavindu\")\n",
    "print(Parrot_1.name)"
   ]
  },
  {
   "cell_type": "code",
   "execution_count": 49,
   "metadata": {},
   "outputs": [
    {
     "name": "stdout",
     "output_type": "stream",
     "text": [
      "kavindu\n",
      "red\n"
     ]
    }
   ],
   "source": [
    "# class Animal:\n",
    "#     def __init__(self,name):\n",
    "#         self.name = name\n",
    "\n",
    "# class Parrot(Animal):\n",
    "#     def speak(self,name,color):\n",
    "#         super().__init__(name)\n",
    "\n",
    "#         self.color = color\n",
    "        \n",
    "#     def speak(self):\n",
    "#         print(\"parrot speaking\")\n",
    "\n",
    "# parrot_1 = Parrot(\"kavindu\",\"red\")\n",
    "# print(parrot_1.name)\n",
    "# print(parrot_1.color)\n",
    "\n",
    "class Animal:\n",
    "    def __init__(self, name):\n",
    "        self.name = name\n",
    "\n",
    "class Parrot(Animal):\n",
    "    def __init__(self, name, color):  # Constructor with 2 arguments\n",
    "        super().__init__(name)        # Call Animal's constructor\n",
    "        self.color = color\n",
    "\n",
    "    def speak(self):\n",
    "        print(\"parrot speaking\")\n",
    "\n",
    "parrot_1 = Parrot(\"kavindu\", \"red\")\n",
    "print(parrot_1.name)   # Output: kavindu\n",
    "print(parrot_1.color)  # Output: red\n"
   ]
  },
  {
   "cell_type": "code",
   "execution_count": null,
   "metadata": {},
   "outputs": [],
   "source": [
    "#define a base class called employee that has attributes name and salary. it should have a method called display_info that prints the name and salary of the employee. then create a subclass called manager \n",
    "#that inherits from employee and adds an extra atributes called department. override the display_info method in the manager class to include the department information as well.final write a python program to\n",
    "#1. create and object of the manager class\n",
    "#2. call the display_info method using that object\n",
    "\n",
    "class Employee:\n",
    "    def __init__(self,name,sallary):\n",
    "        self.name = name\n",
    "        self.sallary = sallary\n",
    "\n",
    "    def display_info(self):\n",
    "        print(\"name :\",self.name)\n",
    "        print(\"sallary :\",self.sallary)\n",
    "\n",
    "class Manager(Employee):\n",
    "    def __init__(self,name,sallary,department):\n",
    "        super().__init__(name,sallary)\n",
    "        self.department = department\n",
    "\n",
    "    def display_info(self):\n",
    "        super().display_info()\n",
    "        print(\"department :\",self.department)\n",
    "\n",
    "manager = Manager(\"kavindu\" , 100000 , \"IT\")\n",
    "manager.display_info()\n",
    "        \n",
    "\n"
   ]
  },
  {
   "cell_type": "code",
   "execution_count": null,
   "metadata": {},
   "outputs": [],
   "source": [
    "#polymorphism in python"
   ]
  },
  {
   "cell_type": "code",
   "execution_count": 61,
   "metadata": {},
   "outputs": [
    {
     "name": "stdout",
     "output_type": "stream",
     "text": [
      "gamage\n",
      "28\n",
      "kavindu\n",
      "tharaka\n"
     ]
    }
   ],
   "source": [
    "#encapsulation\n",
    "\n",
    "#public attributes\n",
    "class Person:\n",
    "    def __init__(self):\n",
    "        self.name = \"gamage\"\n",
    "        self.age = 28\n",
    "\n",
    "class Employee(Person):\n",
    "    def display(self):\n",
    "        print(self.name)\n",
    "        print(self.age)\n",
    "\n",
    "employee = Employee()\n",
    "print(employee.name)\n",
    "print(employee.age)\n",
    "\n",
    "#================================================================\n",
    "\n",
    "#protected attributes\n",
    "class Person:\n",
    "    def __init__(self):\n",
    "        self._name = \"kavindu\"\n",
    "\n",
    "class Employee(Person):\n",
    "    def display(self):\n",
    "        print(self._name)\n",
    "\n",
    "employee = Employee()\n",
    "print(employee._name)\n",
    "\n",
    "#================================================================\n",
    "\n",
    "#private attributes\n",
    "class Person:\n",
    "    def __init__(self):\n",
    "        self.__name = \"tharaka\"\n",
    "\n",
    "    def get_name(self):\n",
    "        return self.__name\n",
    "\n",
    "person  = Person()  \n",
    "print(person.get_name())"
   ]
  },
  {
   "cell_type": "code",
   "execution_count": 87,
   "metadata": {},
   "outputs": [
    {
     "name": "stdout",
     "output_type": "stream",
     "text": [
      "Owner Name: Kavindu\n",
      "Balance: 0.0\n",
      "Owner Name: Kavindu\n",
      "Balance: 1000.0\n",
      "Owner Name: Kavindu\n",
      "Balance: 2000.0\n",
      "Owner Name: Kavindu\n",
      "Balance: 1500.0\n"
     ]
    }
   ],
   "source": [
    "#desine a python class called bank account that models a basic bank account using a consept of encapsulation \n",
    "# 1. use private attributes for acc_num , owner_name , balance(should start at 0.0 by default)\n",
    "# 2. provide a constructer that accept only acc_num and owner_name the  balance should start at 0.0 inside the constructer\n",
    "# 3. include the following public method \n",
    "#         *display account - prints the owners name and current balance (but not the account number)\n",
    "#         *deposite(amount) - adds money to the account only if the amount is valid \n",
    "#         *withdraw(amount) - deducts money only if there is enough balance\n",
    "#         *get_balance() - returns the current balance\n",
    "#\n",
    "# 4. implement a privet method call validate_amount (amount) that \n",
    "#         *returns true if the amount is a possitive number\n",
    "#         *is used internally by both deposite() and withdraw() to validate input\n",
    "\n",
    "class BankAccount:\n",
    "    def __init__(self, acc_num, owner_name):\n",
    "        self.__acc_num = acc_num\n",
    "        self.__owner_name = owner_name\n",
    "        self.__balance = 0.0\n",
    "\n",
    "    def display_account(self):\n",
    "        print(f\"Owner Name: {self.__owner_name}\")\n",
    "        print(f\"Balance: {self.__balance}\")\n",
    "\n",
    "    def validate_amount(self, amount):\n",
    "        if amount > 0 :\n",
    "            return True\n",
    "        else:\n",
    "            return False\n",
    "    \n",
    "    def deposite(self,amount):\n",
    "        if self.validate_amount(amount):\n",
    "            self.__balance += amount\n",
    "        else:\n",
    "            print(\"Invalid amount\")\n",
    "\n",
    "    def withdraw(self,amount):\n",
    "        if self.validate_amount(amount):\n",
    "            if self.__balance >= amount:\n",
    "                self.__balance -= amount\n",
    "            else:\n",
    "                print(\"Insufficient balance\")\n",
    "        else:\n",
    "            print(\"Invalid amount\")\n",
    "\n",
    "account = BankAccount(\"12345\", \"Kavindu\")\n",
    "account.display_account()\n",
    "account.deposite(1000)\n",
    "account.display_account()\n",
    "account.deposite(1000)\n",
    "account.display_account()\n",
    "account.withdraw(500)\n",
    "account.display_account()\n",
    "\n",
    "\n",
    "\n"
   ]
  },
  {
   "cell_type": "code",
   "execution_count": 1,
   "metadata": {},
   "outputs": [
    {
     "name": "stdout",
     "output_type": "stream",
     "text": [
      "Hi Guys! Hope everthing is good. I'm fine too.\n",
      "This is much better.\n",
      "This is even better.\n",
      "I love AI.\n"
     ]
    },
    {
     "data": {
      "text/plain": [
       "<function TextIOWrapper.close()>"
      ]
     },
     "execution_count": 1,
     "metadata": {},
     "output_type": "execute_result"
    }
   ],
   "source": [
    "#open a file\n",
    "file_1 = open(\"my_file.txt\")\n",
    "\n",
    "#read a file\n",
    "file_1 = open(\"my_file.txt\", \"r\") \n",
    "read_content = file_1.read()\n",
    "print(read_content)\n",
    "\n",
    "#close a file\n",
    "file_1.close\n"
   ]
  },
  {
   "cell_type": "code",
   "execution_count": 6,
   "metadata": {},
   "outputs": [
    {
     "name": "stdout",
     "output_type": "stream",
     "text": [
      "Hi Guys! Hope everthing is good. I'm fine too.\n",
      "\n",
      "This is much better.\n",
      "\n"
     ]
    },
    {
     "data": {
      "text/plain": [
       "<function TextIOWrapper.close()>"
      ]
     },
     "execution_count": 6,
     "metadata": {},
     "output_type": "execute_result"
    }
   ],
   "source": [
    "file_1 = open(\"my_file.txt\")\n",
    "\n",
    "line_1 = file_1.readline()\n",
    "print(line_1)\n",
    "\n",
    "line_2 = file_1.readline()\n",
    "print(line_2)\n",
    "\n",
    "file_1.close"
   ]
  },
  {
   "cell_type": "code",
   "execution_count": 10,
   "metadata": {},
   "outputs": [
    {
     "name": "stdout",
     "output_type": "stream",
     "text": [
      "Hi Guys! Hope everthing is good. I'm fine too.\n",
      "This is much better.\n",
      "This is even better.\n",
      "I love AI.\n"
     ]
    },
    {
     "data": {
      "text/plain": [
       "<function TextIOWrapper.close()>"
      ]
     },
     "execution_count": 10,
     "metadata": {},
     "output_type": "execute_result"
    }
   ],
   "source": [
    "file_1 = open(\"my_file.txt\")\n",
    "\n",
    "while True:\n",
    "    line = file_1.readline()\n",
    "    if not line:\n",
    "        break\n",
    "    print(line.strip())\n",
    "\n",
    "file_1.close"
   ]
  },
  {
   "cell_type": "code",
   "execution_count": 19,
   "metadata": {},
   "outputs": [
    {
     "name": "stdout",
     "output_type": "stream",
     "text": [
      "[\"Hi Guys! Hope everthing is good. I'm fine too.\\n\", 'This is much better.\\n', 'This is even better.\\n', 'I love AI.']\n",
      "<class 'list'>\n",
      "Hi Guys! Hope everthing is good. I'm fine too.\n",
      "\n",
      "Hi Guys! Hope everthing is good. I'm fine too.\n",
      "This is much better.\n",
      "This is even better.\n",
      "I love AI.\n"
     ]
    },
    {
     "data": {
      "text/plain": [
       "<function TextIOWrapper.close()>"
      ]
     },
     "execution_count": 19,
     "metadata": {},
     "output_type": "execute_result"
    }
   ],
   "source": [
    "file_1 = open(\"my_file.txt\")\n",
    "\n",
    "lines =  file_1.readlines()\n",
    "print(lines)\n",
    "print(type(lines))\n",
    "print(lines[0])\n",
    "\n",
    "for line in lines:\n",
    "    print(line.strip())\n",
    "\n",
    "file_1.close"
   ]
  },
  {
   "cell_type": "code",
   "execution_count": null,
   "metadata": {},
   "outputs": [
    {
     "name": "stdout",
     "output_type": "stream",
     "text": [
      "Hi Guys! Hope everthing is good. I'm fine too.\n",
      "This is much better.\n",
      "This is even better.\n",
      "I love AI.\n"
     ]
    }
   ],
   "source": [
    "with open (\"my_file.txt\",\"r\") as file_1:\n",
    "    lines = file_1.read()\n",
    "    print(lines)\n"
   ]
  },
  {
   "cell_type": "code",
   "execution_count": 26,
   "metadata": {},
   "outputs": [],
   "source": [
    "with open(\"my_file_1.txt\", \"w\") as file_1:\n",
    "    file_1.write(\"Hello World.\\n\")\n",
    "    file_1.write(\"Programming is fun.\\n\")"
   ]
  },
  {
   "cell_type": "code",
   "execution_count": 27,
   "metadata": {},
   "outputs": [],
   "source": [
    "with open(\"my_file_1.txt\", \"w\") as file_1:\n",
    "    file_1.write(\"My name is kavindu.\\n\")\n",
    "    "
   ]
  },
  {
   "cell_type": "code",
   "execution_count": 31,
   "metadata": {},
   "outputs": [],
   "source": [
    "with open (\"my_file.txt\",\"w\") as file_1:\n",
    "    lines = [\"this is new line\\n\", \"this is another new line\\n\"]\n",
    "    file_1.writelines(lines)\n",
    "\n",
    "#append\n",
    "with open (\"my_file.txt\",\"a\") as file_1:\n",
    "    file_1.write(\"this is append line\")\n",
    "    "
   ]
  },
  {
   "cell_type": "code",
   "execution_count": 34,
   "metadata": {},
   "outputs": [
    {
     "name": "stdout",
     "output_type": "stream",
     "text": [
      "<class 'dict'>\n",
      "{'name': 'John Doe', 'age': 30, 'isStudent': False, 'hobbies': ['reading', 'gardening', 'swimming']}\n"
     ]
    }
   ],
   "source": [
    "import json\n",
    "\n",
    "with open(\"test.json\", \"r\") as json_file:\n",
    "    data = json.load(json_file)\n",
    "    print(type(data))\n",
    "    print(data)\n",
    "    "
   ]
  },
  {
   "cell_type": "code",
   "execution_count": 35,
   "metadata": {},
   "outputs": [],
   "source": [
    "import json\n",
    "\n",
    "data = {\n",
    "    \"name\": \"kavindu\",\n",
    "    \"age\": 22,\n",
    "    \"city\": \"galle\"\n",
    "}\n",
    "\n",
    "with open(\"my_json.json\", \"w\") as json_file:\n",
    "    json.dump(data, json_file, indent=4)"
   ]
  },
  {
   "cell_type": "code",
   "execution_count": 38,
   "metadata": {},
   "outputs": [
    {
     "name": "stdout",
     "output_type": "stream",
     "text": [
      "<class '_csv.reader'>\n",
      "['Name', 'Age', 'Occupation']\n",
      "['John Doe', '30', 'Engineer']\n",
      "['Jane Smith', '25', 'Teacher']\n",
      "['Bob Johnson', '40', 'Doctor']\n",
      "['Alice Brown', '35', 'Artist']\n"
     ]
    }
   ],
   "source": [
    "import csv\n",
    "\n",
    "with open(\"test.csv\", \"r\",newline=\"\") as csv_file:\n",
    "    csv_reader = csv.reader(csv_file)\n",
    "    print(type(csv_reader))\n",
    "    for row in csv_reader:\n",
    "        print(row)"
   ]
  },
  {
   "cell_type": "code",
   "execution_count": 39,
   "metadata": {},
   "outputs": [
    {
     "name": "stdout",
     "output_type": "stream",
     "text": [
      "<class 'csv.DictReader'>\n",
      "{'Name': 'John Doe', 'Age': '30', 'Occupation': 'Engineer'}\n",
      "{'Name': 'Jane Smith', 'Age': '25', 'Occupation': 'Teacher'}\n",
      "{'Name': 'Bob Johnson', 'Age': '40', 'Occupation': 'Doctor'}\n",
      "{'Name': 'Alice Brown', 'Age': '35', 'Occupation': 'Artist'}\n"
     ]
    }
   ],
   "source": [
    "import csv\n",
    "\n",
    "with open(\"test.csv\", \"r\",newline=\"\") as csv_file:\n",
    "    csv_reader = csv.DictReader(csv_file)\n",
    "    print(type(csv_reader))\n",
    "    for row in csv_reader:\n",
    "        print(row)"
   ]
  },
  {
   "cell_type": "code",
   "execution_count": 44,
   "metadata": {},
   "outputs": [],
   "source": [
    "import csv\n",
    "\n",
    "data = [\n",
    "    {\"name\": \"kavindu\", \"age\": 22, \"city\": \"galle\"},\n",
    "    {\"name\": \"tharaka\", \"age\": 18, \"city\": \"matara\"},\n",
    "    {\"name\": \"gamagae\", \"age\": 28, \"city\": \"colombo\"},\n",
    "]\n",
    "\n",
    "with open(\"test.csv\", \"w\",newline=\"\") as csv_file:\n",
    "    fieldnames = [\"name\", \"age\", \"city\"]\n",
    "    csv_writer = csv.DictWriter(csv_file, fieldnames=fieldnames)\n",
    "    \n",
    "    csv_writer.writeheader()\n",
    "    csv_writer.writerows(data)\n"
   ]
  }
 ],
 "metadata": {
  "kernelspec": {
   "display_name": "Python 3",
   "language": "python",
   "name": "python3"
  },
  "language_info": {
   "codemirror_mode": {
    "name": "ipython",
    "version": 3
   },
   "file_extension": ".py",
   "mimetype": "text/x-python",
   "name": "python",
   "nbconvert_exporter": "python",
   "pygments_lexer": "ipython3",
   "version": "3.13.3"
  }
 },
 "nbformat": 4,
 "nbformat_minor": 2
}
